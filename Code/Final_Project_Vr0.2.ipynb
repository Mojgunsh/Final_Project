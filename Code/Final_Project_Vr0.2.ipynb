{
 "cells": [
  {
   "cell_type": "markdown",
   "id": "4bab0cd5",
   "metadata": {
    "id": "4bab0cd5"
   },
   "source": [
    "# Import Libaraies"
   ]
  },
  {
   "cell_type": "code",
   "execution_count": 1,
   "id": "51ca42a5",
   "metadata": {
    "colab": {
     "base_uri": "https://localhost:8080/"
    },
    "executionInfo": {
     "elapsed": 13126,
     "status": "ok",
     "timestamp": 1656491898952,
     "user": {
      "displayName": "mojgun shabani",
      "userId": "06361705429287830778"
     },
     "user_tz": -120
    },
    "id": "51ca42a5",
    "outputId": "024da389-56be-4175-fc76-0b86f3e6a1cf"
   },
   "outputs": [],
   "source": [
    "import pandas as pd\n",
    "import numpy as np\n",
    "from statsmodels.stats.outliers_influence import variance_inflation_factor\n",
    "import matplotlib.pyplot as plt\n",
    "%matplotlib inline\n",
    "import seaborn as sns\n",
    "from sklearn.model_selection import train_test_split\n",
    "from sklearn.preprocessing import OneHotEncoder\n",
    "from sklearn.preprocessing import MinMaxScaler,PowerTransformer,StandardScaler\n",
    "from sklearn.model_selection import RandomizedSearchCV,GridSearchCV\n",
    "from sklearn.metrics import confusion_matrix, accuracy_score, precision_score, recall_score, ConfusionMatrixDisplay,cohen_kappa_score\n",
    "from sklearn.metrics import make_scorer\n",
    "from sklearn.ensemble import RandomForestClassifier\n",
    "from tensorflow.keras.callbacks import EarlyStopping # This callback allows you to stop the training if the validation error increases\n",
    "from tensorflow.keras.callbacks import ModelCheckpoint\n",
    "import tensorflow as tf # Library to construct neural newtorks. Low level library\n",
    "from tensorflow import keras # High level library to handle tensorflow.\n",
    "from tensorflow.keras.layers import Flatten, Dense, Dropout # Types of layers to use in our neural network.\n"
   ]
  },
  {
   "cell_type": "markdown",
   "id": "c8b30fea",
   "metadata": {
    "colab": {
     "base_uri": "https://localhost:8080/"
    },
    "executionInfo": {
     "elapsed": 26509,
     "status": "ok",
     "timestamp": 1656491928643,
     "user": {
      "displayName": "mojgun shabani",
      "userId": "06361705429287830778"
     },
     "user_tz": -120
    },
    "id": "nxIGRm7LZE3l",
    "outputId": "b5912f2f-6d07-4b39-eba4-ef787ac72040"
   },
   "source": [
    "from google.colab import drive\n",
    "drive.mount('/content/drive')"
   ]
  },
  {
   "cell_type": "markdown",
   "id": "b7aff2b2",
   "metadata": {
    "id": "b7aff2b2"
   },
   "source": [
    "# Reading and Exploring Data"
   ]
  },
  {
   "cell_type": "code",
   "execution_count": 2,
   "id": "3b2737ab",
   "metadata": {
    "executionInfo": {
     "elapsed": 640,
     "status": "ok",
     "timestamp": 1656491934049,
     "user": {
      "displayName": "mojgun shabani",
      "userId": "06361705429287830778"
     },
     "user_tz": -120
    },
    "id": "3b2737ab"
   },
   "outputs": [],
   "source": [
    "data=pd.read_csv('/Users/mojgun/Documents/IRONHACK/Final_Project/Dropout_or_Academic_Success/Data/Data_Base(Modeified).csv')"
   ]
  },
  {
   "cell_type": "code",
   "execution_count": 3,
   "id": "757adb5c",
   "metadata": {
    "colab": {
     "base_uri": "https://localhost:8080/",
     "height": 352
    },
    "executionInfo": {
     "elapsed": 81,
     "status": "ok",
     "timestamp": 1656491940138,
     "user": {
      "displayName": "mojgun shabani",
      "userId": "06361705429287830778"
     },
     "user_tz": -120
    },
    "id": "757adb5c",
    "outputId": "d71dc92e-95f6-45d7-fe49-949e3a0fb302"
   },
   "outputs": [
    {
     "data": {
      "text/html": [
       "<div>\n",
       "<style scoped>\n",
       "    .dataframe tbody tr th:only-of-type {\n",
       "        vertical-align: middle;\n",
       "    }\n",
       "\n",
       "    .dataframe tbody tr th {\n",
       "        vertical-align: top;\n",
       "    }\n",
       "\n",
       "    .dataframe thead th {\n",
       "        text-align: right;\n",
       "    }\n",
       "</style>\n",
       "<table border=\"1\" class=\"dataframe\">\n",
       "  <thead>\n",
       "    <tr style=\"text-align: right;\">\n",
       "      <th></th>\n",
       "      <th>Marital status</th>\n",
       "      <th>Application mode</th>\n",
       "      <th>Application order</th>\n",
       "      <th>Course</th>\n",
       "      <th>Daytime/evening attendance</th>\n",
       "      <th>Previous qualification</th>\n",
       "      <th>Previous qualification (grade)</th>\n",
       "      <th>Nacionality</th>\n",
       "      <th>Mother's qualification</th>\n",
       "      <th>Father's qualification</th>\n",
       "      <th>...</th>\n",
       "      <th>Curricular units 2nd sem (credited)</th>\n",
       "      <th>Curricular units 2nd sem (enrolled)</th>\n",
       "      <th>Curricular units 2nd sem (evaluations)</th>\n",
       "      <th>Curricular units 2nd sem (approved)</th>\n",
       "      <th>Curricular units 2nd sem (grade)</th>\n",
       "      <th>Curricular units 2nd sem (without evaluations)</th>\n",
       "      <th>Unemployment rate</th>\n",
       "      <th>Inflation rate</th>\n",
       "      <th>GDP</th>\n",
       "      <th>Target</th>\n",
       "    </tr>\n",
       "  </thead>\n",
       "  <tbody>\n",
       "    <tr>\n",
       "      <th>4419</th>\n",
       "      <td>1</td>\n",
       "      <td>1</td>\n",
       "      <td>6</td>\n",
       "      <td>9773</td>\n",
       "      <td>1</td>\n",
       "      <td>1</td>\n",
       "      <td>125.0</td>\n",
       "      <td>1</td>\n",
       "      <td>1</td>\n",
       "      <td>1</td>\n",
       "      <td>...</td>\n",
       "      <td>0</td>\n",
       "      <td>6</td>\n",
       "      <td>8</td>\n",
       "      <td>5</td>\n",
       "      <td>12.666667</td>\n",
       "      <td>0</td>\n",
       "      <td>15.5</td>\n",
       "      <td>2.8</td>\n",
       "      <td>-4.06</td>\n",
       "      <td>Graduate</td>\n",
       "    </tr>\n",
       "    <tr>\n",
       "      <th>4420</th>\n",
       "      <td>1</td>\n",
       "      <td>1</td>\n",
       "      <td>2</td>\n",
       "      <td>9773</td>\n",
       "      <td>1</td>\n",
       "      <td>1</td>\n",
       "      <td>120.0</td>\n",
       "      <td>105</td>\n",
       "      <td>1</td>\n",
       "      <td>1</td>\n",
       "      <td>...</td>\n",
       "      <td>0</td>\n",
       "      <td>6</td>\n",
       "      <td>6</td>\n",
       "      <td>2</td>\n",
       "      <td>11.000000</td>\n",
       "      <td>0</td>\n",
       "      <td>11.1</td>\n",
       "      <td>0.6</td>\n",
       "      <td>2.02</td>\n",
       "      <td>Dropout</td>\n",
       "    </tr>\n",
       "    <tr>\n",
       "      <th>4421</th>\n",
       "      <td>1</td>\n",
       "      <td>1</td>\n",
       "      <td>1</td>\n",
       "      <td>9500</td>\n",
       "      <td>1</td>\n",
       "      <td>1</td>\n",
       "      <td>154.0</td>\n",
       "      <td>1</td>\n",
       "      <td>37</td>\n",
       "      <td>37</td>\n",
       "      <td>...</td>\n",
       "      <td>0</td>\n",
       "      <td>8</td>\n",
       "      <td>9</td>\n",
       "      <td>1</td>\n",
       "      <td>13.500000</td>\n",
       "      <td>0</td>\n",
       "      <td>13.9</td>\n",
       "      <td>-0.3</td>\n",
       "      <td>0.79</td>\n",
       "      <td>Dropout</td>\n",
       "    </tr>\n",
       "    <tr>\n",
       "      <th>4422</th>\n",
       "      <td>1</td>\n",
       "      <td>1</td>\n",
       "      <td>1</td>\n",
       "      <td>9147</td>\n",
       "      <td>1</td>\n",
       "      <td>1</td>\n",
       "      <td>180.0</td>\n",
       "      <td>1</td>\n",
       "      <td>37</td>\n",
       "      <td>37</td>\n",
       "      <td>...</td>\n",
       "      <td>0</td>\n",
       "      <td>5</td>\n",
       "      <td>6</td>\n",
       "      <td>5</td>\n",
       "      <td>12.000000</td>\n",
       "      <td>0</td>\n",
       "      <td>9.4</td>\n",
       "      <td>-0.8</td>\n",
       "      <td>-3.12</td>\n",
       "      <td>Graduate</td>\n",
       "    </tr>\n",
       "    <tr>\n",
       "      <th>4423</th>\n",
       "      <td>1</td>\n",
       "      <td>10</td>\n",
       "      <td>1</td>\n",
       "      <td>9773</td>\n",
       "      <td>1</td>\n",
       "      <td>1</td>\n",
       "      <td>152.0</td>\n",
       "      <td>22</td>\n",
       "      <td>38</td>\n",
       "      <td>37</td>\n",
       "      <td>...</td>\n",
       "      <td>0</td>\n",
       "      <td>6</td>\n",
       "      <td>6</td>\n",
       "      <td>6</td>\n",
       "      <td>13.000000</td>\n",
       "      <td>0</td>\n",
       "      <td>12.7</td>\n",
       "      <td>3.7</td>\n",
       "      <td>-1.70</td>\n",
       "      <td>Graduate</td>\n",
       "    </tr>\n",
       "  </tbody>\n",
       "</table>\n",
       "<p>5 rows × 37 columns</p>\n",
       "</div>"
      ],
      "text/plain": [
       "      Marital status  Application mode  Application order  Course  \\\n",
       "4419               1                 1                  6    9773   \n",
       "4420               1                 1                  2    9773   \n",
       "4421               1                 1                  1    9500   \n",
       "4422               1                 1                  1    9147   \n",
       "4423               1                10                  1    9773   \n",
       "\n",
       "      Daytime/evening attendance  Previous qualification  \\\n",
       "4419                           1                       1   \n",
       "4420                           1                       1   \n",
       "4421                           1                       1   \n",
       "4422                           1                       1   \n",
       "4423                           1                       1   \n",
       "\n",
       "      Previous qualification (grade)  Nacionality  Mother's qualification  \\\n",
       "4419                           125.0            1                       1   \n",
       "4420                           120.0          105                       1   \n",
       "4421                           154.0            1                      37   \n",
       "4422                           180.0            1                      37   \n",
       "4423                           152.0           22                      38   \n",
       "\n",
       "      Father's qualification  ...  Curricular units 2nd sem (credited)  \\\n",
       "4419                       1  ...                                    0   \n",
       "4420                       1  ...                                    0   \n",
       "4421                      37  ...                                    0   \n",
       "4422                      37  ...                                    0   \n",
       "4423                      37  ...                                    0   \n",
       "\n",
       "      Curricular units 2nd sem (enrolled)  \\\n",
       "4419                                    6   \n",
       "4420                                    6   \n",
       "4421                                    8   \n",
       "4422                                    5   \n",
       "4423                                    6   \n",
       "\n",
       "      Curricular units 2nd sem (evaluations)  \\\n",
       "4419                                       8   \n",
       "4420                                       6   \n",
       "4421                                       9   \n",
       "4422                                       6   \n",
       "4423                                       6   \n",
       "\n",
       "      Curricular units 2nd sem (approved)  Curricular units 2nd sem (grade)  \\\n",
       "4419                                    5                         12.666667   \n",
       "4420                                    2                         11.000000   \n",
       "4421                                    1                         13.500000   \n",
       "4422                                    5                         12.000000   \n",
       "4423                                    6                         13.000000   \n",
       "\n",
       "      Curricular units 2nd sem (without evaluations)  Unemployment rate  \\\n",
       "4419                                               0               15.5   \n",
       "4420                                               0               11.1   \n",
       "4421                                               0               13.9   \n",
       "4422                                               0                9.4   \n",
       "4423                                               0               12.7   \n",
       "\n",
       "      Inflation rate   GDP    Target  \n",
       "4419             2.8 -4.06  Graduate  \n",
       "4420             0.6  2.02   Dropout  \n",
       "4421            -0.3  0.79   Dropout  \n",
       "4422            -0.8 -3.12  Graduate  \n",
       "4423             3.7 -1.70  Graduate  \n",
       "\n",
       "[5 rows x 37 columns]"
      ]
     },
     "execution_count": 3,
     "metadata": {},
     "output_type": "execute_result"
    }
   ],
   "source": [
    "data.tail()"
   ]
  },
  {
   "cell_type": "code",
   "execution_count": 4,
   "id": "3bb41259",
   "metadata": {
    "colab": {
     "base_uri": "https://localhost:8080/"
    },
    "executionInfo": {
     "elapsed": 57,
     "status": "ok",
     "timestamp": 1656335588131,
     "user": {
      "displayName": "mojgun shabani",
      "userId": "06361705429287830778"
     },
     "user_tz": -120
    },
    "id": "3bb41259",
    "outputId": "149dea46-e35d-4e65-ac89-9070fc4b61eb"
   },
   "outputs": [
    {
     "data": {
      "text/plain": [
       "(4424, 37)"
      ]
     },
     "execution_count": 4,
     "metadata": {},
     "output_type": "execute_result"
    }
   ],
   "source": [
    "data.shape"
   ]
  },
  {
   "cell_type": "code",
   "execution_count": 5,
   "id": "7f1d4306",
   "metadata": {
    "colab": {
     "base_uri": "https://localhost:8080/"
    },
    "executionInfo": {
     "elapsed": 308,
     "status": "ok",
     "timestamp": 1656403517520,
     "user": {
      "displayName": "mojgun shabani",
      "userId": "06361705429287830778"
     },
     "user_tz": -120
    },
    "id": "7f1d4306",
    "outputId": "d1111273-ec63-4734-b0cb-c8ec4357cc97"
   },
   "outputs": [
    {
     "data": {
      "text/plain": [
       "Marital status                                    0\n",
       "Application mode                                  0\n",
       "Application order                                 0\n",
       "Course                                            0\n",
       "Daytime/evening attendance                        0\n",
       "Previous qualification                            0\n",
       "Previous qualification (grade)                    0\n",
       "Nacionality                                       0\n",
       "Mother's qualification                            0\n",
       "Father's qualification                            0\n",
       "Mother's occupation                               0\n",
       "Father's occupation                               0\n",
       "Admission grade                                   0\n",
       "Displaced                                         0\n",
       "Educational special needs                         0\n",
       "Debtor                                            0\n",
       "Tuition fees up to date                           0\n",
       "Gender                                            0\n",
       "Scholarship holder                                0\n",
       "Age at enrollment                                 0\n",
       "International                                     0\n",
       "Curricular units 1st sem (credited)               0\n",
       "Curricular units 1st sem (enrolled)               0\n",
       "Curricular units 1st sem (evaluations)            0\n",
       "Curricular units 1st sem (approved)               0\n",
       "Curricular units 1st sem (grade)                  0\n",
       "Curricular units 1st sem (without evaluations)    0\n",
       "Curricular units 2nd sem (credited)               0\n",
       "Curricular units 2nd sem (enrolled)               0\n",
       "Curricular units 2nd sem (evaluations)            0\n",
       "Curricular units 2nd sem (approved)               0\n",
       "Curricular units 2nd sem (grade)                  0\n",
       "Curricular units 2nd sem (without evaluations)    0\n",
       "Unemployment rate                                 0\n",
       "Inflation rate                                    0\n",
       "GDP                                               0\n",
       "Target                                            0\n",
       "dtype: int64"
      ]
     },
     "execution_count": 5,
     "metadata": {},
     "output_type": "execute_result"
    }
   ],
   "source": [
    "#looking fo Nan Values\n",
    "data.isna().sum()"
   ]
  },
  {
   "cell_type": "code",
   "execution_count": 6,
   "id": "f214f670",
   "metadata": {
    "executionInfo": {
     "elapsed": 41,
     "status": "ok",
     "timestamp": 1656491943459,
     "user": {
      "displayName": "mojgun shabani",
      "userId": "06361705429287830778"
     },
     "user_tz": -120
    },
    "id": "f214f670"
   },
   "outputs": [],
   "source": [
    "#Modifiying Column names\n",
    "data.columns = list(map(lambda x: x.lower(), data.columns))\n",
    "data.columns = data.columns.str.replace(\" \",\"_\")\n",
    "data.columns = data.columns.str.replace(\"'s\",\"\")"
   ]
  },
  {
   "cell_type": "markdown",
   "id": "ce9785f1",
   "metadata": {
    "id": "ce9785f1"
   },
   "source": [
    "# Dividing Categorical and Numerical "
   ]
  },
  {
   "cell_type": "code",
   "execution_count": 7,
   "id": "d0df796d",
   "metadata": {
    "colab": {
     "base_uri": "https://localhost:8080/"
    },
    "executionInfo": {
     "elapsed": 248,
     "status": "ok",
     "timestamp": 1656403521878,
     "user": {
      "displayName": "mojgun shabani",
      "userId": "06361705429287830778"
     },
     "user_tz": -120
    },
    "id": "d0df796d",
    "outputId": "ce212255-2450-41a8-921c-1030c4280097"
   },
   "outputs": [
    {
     "name": "stdout",
     "output_type": "stream",
     "text": [
      "<class 'pandas.core.frame.DataFrame'>\n",
      "RangeIndex: 4424 entries, 0 to 4423\n",
      "Data columns (total 37 columns):\n",
      " #   Column                                          Non-Null Count  Dtype  \n",
      "---  ------                                          --------------  -----  \n",
      " 0   marital_status                                  4424 non-null   int64  \n",
      " 1   application_mode                                4424 non-null   int64  \n",
      " 2   application_order                               4424 non-null   int64  \n",
      " 3   course                                          4424 non-null   int64  \n",
      " 4   daytime/evening_attendance                      4424 non-null   int64  \n",
      " 5   previous_qualification                          4424 non-null   int64  \n",
      " 6   previous_qualification_(grade)                  4424 non-null   float64\n",
      " 7   nacionality                                     4424 non-null   int64  \n",
      " 8   mother_qualification                            4424 non-null   int64  \n",
      " 9   father_qualification                            4424 non-null   int64  \n",
      " 10  mother_occupation                               4424 non-null   int64  \n",
      " 11  father_occupation                               4424 non-null   int64  \n",
      " 12  admission_grade                                 4424 non-null   float64\n",
      " 13  displaced                                       4424 non-null   int64  \n",
      " 14  educational_special_needs                       4424 non-null   int64  \n",
      " 15  debtor                                          4424 non-null   int64  \n",
      " 16  tuition_fees_up_to_date                         4424 non-null   int64  \n",
      " 17  gender                                          4424 non-null   int64  \n",
      " 18  scholarship_holder                              4424 non-null   int64  \n",
      " 19  age_at_enrollment                               4424 non-null   int64  \n",
      " 20  international                                   4424 non-null   int64  \n",
      " 21  curricular_units_1st_sem_(credited)             4424 non-null   int64  \n",
      " 22  curricular_units_1st_sem_(enrolled)             4424 non-null   int64  \n",
      " 23  curricular_units_1st_sem_(evaluations)          4424 non-null   int64  \n",
      " 24  curricular_units_1st_sem_(approved)             4424 non-null   int64  \n",
      " 25  curricular_units_1st_sem_(grade)                4424 non-null   float64\n",
      " 26  curricular_units_1st_sem_(without_evaluations)  4424 non-null   int64  \n",
      " 27  curricular_units_2nd_sem_(credited)             4424 non-null   int64  \n",
      " 28  curricular_units_2nd_sem_(enrolled)             4424 non-null   int64  \n",
      " 29  curricular_units_2nd_sem_(evaluations)          4424 non-null   int64  \n",
      " 30  curricular_units_2nd_sem_(approved)             4424 non-null   int64  \n",
      " 31  curricular_units_2nd_sem_(grade)                4424 non-null   float64\n",
      " 32  curricular_units_2nd_sem_(without_evaluations)  4424 non-null   int64  \n",
      " 33  unemployment_rate                               4424 non-null   float64\n",
      " 34  inflation_rate                                  4424 non-null   float64\n",
      " 35  gdp                                             4424 non-null   float64\n",
      " 36  target                                          4424 non-null   object \n",
      "dtypes: float64(7), int64(29), object(1)\n",
      "memory usage: 1.2+ MB\n"
     ]
    }
   ],
   "source": [
    "data.info()"
   ]
  },
  {
   "cell_type": "code",
   "execution_count": 8,
   "id": "34c1dd95",
   "metadata": {
    "colab": {
     "base_uri": "https://localhost:8080/"
    },
    "executionInfo": {
     "elapsed": 333,
     "status": "ok",
     "timestamp": 1656491947721,
     "user": {
      "displayName": "mojgun shabani",
      "userId": "06361705429287830778"
     },
     "user_tz": -120
    },
    "id": "34c1dd95",
    "outputId": "d9ac257a-2e34-4ce5-d77a-31a0384c7077"
   },
   "outputs": [
    {
     "name": "stdout",
     "output_type": "stream",
     "text": [
      "marital_status\n",
      "1                 3919\n",
      "2                  379\n",
      "4                   91\n",
      "5                   25\n",
      "6                    6\n",
      "3                    4\n",
      "dtype: int64\n",
      "**************************************************\n",
      "application_mode\n",
      "1                   1708\n",
      "17                   872\n",
      "39                   785\n",
      "43                   312\n",
      "44                   213\n",
      "7                    139\n",
      "18                   124\n",
      "42                    77\n",
      "51                    59\n",
      "16                    38\n",
      "53                    35\n",
      "15                    30\n",
      "5                     16\n",
      "10                    10\n",
      "2                      3\n",
      "26                     1\n",
      "27                     1\n",
      "57                     1\n",
      "dtype: int64\n",
      "**************************************************\n",
      "application_order\n",
      "1                    3026\n",
      "2                     547\n",
      "3                     309\n",
      "4                     249\n",
      "5                     154\n",
      "6                     137\n",
      "0                       1\n",
      "9                       1\n",
      "dtype: int64\n",
      "**************************************************\n",
      "course\n",
      "9500      766\n",
      "9147      380\n",
      "9238      355\n",
      "9085      337\n",
      "9773      331\n",
      "9670      268\n",
      "9991      268\n",
      "9254      252\n",
      "9070      226\n",
      "171       215\n",
      "8014      215\n",
      "9003      210\n",
      "9853      192\n",
      "9119      170\n",
      "9130      141\n",
      "9556       86\n",
      "33         12\n",
      "dtype: int64\n",
      "**************************************************\n",
      "daytime/evening_attendance\n",
      "1                             3941\n",
      "0                              483\n",
      "dtype: int64\n",
      "**************************************************\n",
      "previous_qualification\n",
      "1                         3717\n",
      "39                         219\n",
      "19                         162\n",
      "3                          126\n",
      "12                          45\n",
      "40                          40\n",
      "42                          36\n",
      "2                           23\n",
      "6                           16\n",
      "9                           11\n",
      "4                            8\n",
      "38                           7\n",
      "43                           6\n",
      "10                           4\n",
      "15                           2\n",
      "14                           1\n",
      "5                            1\n",
      "dtype: int64\n",
      "**************************************************\n",
      "previous_qualification_(grade)\n",
      "133.1                             491\n",
      "130.0                             375\n",
      "140.0                             336\n",
      "120.0                             278\n",
      "150.0                             162\n",
      "                                 ... \n",
      "119.1                               1\n",
      "118.9                               1\n",
      "117.4                               1\n",
      "97.0                                1\n",
      "138.6                               1\n",
      "Length: 101, dtype: int64\n",
      "**************************************************\n",
      "nacionality\n",
      "1              4314\n",
      "41               38\n",
      "26               14\n",
      "6                13\n",
      "22               13\n",
      "24                5\n",
      "11                3\n",
      "103               3\n",
      "100               3\n",
      "105               2\n",
      "101               2\n",
      "62                2\n",
      "25                2\n",
      "2                 2\n",
      "21                2\n",
      "32                1\n",
      "17                1\n",
      "14                1\n",
      "13                1\n",
      "108               1\n",
      "109               1\n",
      "dtype: int64\n",
      "**************************************************\n",
      "mother_qualification\n",
      "1                       1069\n",
      "37                      1009\n",
      "19                       953\n",
      "38                       562\n",
      "3                        438\n",
      "34                       130\n",
      "2                         83\n",
      "4                         49\n",
      "12                        42\n",
      "5                         21\n",
      "40                         9\n",
      "39                         8\n",
      "9                          8\n",
      "41                         6\n",
      "43                         4\n",
      "6                          4\n",
      "42                         4\n",
      "11                         3\n",
      "29                         3\n",
      "30                         3\n",
      "10                         3\n",
      "35                         3\n",
      "36                         3\n",
      "14                         2\n",
      "26                         1\n",
      "27                         1\n",
      "22                         1\n",
      "18                         1\n",
      "44                         1\n",
      "dtype: int64\n",
      "**************************************************\n",
      "father_qualification\n",
      "37                      1209\n",
      "19                       968\n",
      "1                        904\n",
      "38                       702\n",
      "3                        282\n",
      "34                       112\n",
      "2                         68\n",
      "4                         39\n",
      "12                        38\n",
      "39                        20\n",
      "5                         18\n",
      "11                        10\n",
      "36                         8\n",
      "9                          5\n",
      "40                         5\n",
      "30                         4\n",
      "14                         4\n",
      "22                         4\n",
      "29                         3\n",
      "41                         2\n",
      "43                         2\n",
      "35                         2\n",
      "26                         2\n",
      "10                         2\n",
      "6                          2\n",
      "33                         1\n",
      "31                         1\n",
      "27                         1\n",
      "25                         1\n",
      "20                         1\n",
      "18                         1\n",
      "13                         1\n",
      "42                         1\n",
      "44                         1\n",
      "dtype: int64\n",
      "**************************************************\n",
      "mother_occupation\n",
      "9                    1577\n",
      "4                     817\n",
      "5                     530\n",
      "3                     351\n",
      "2                     318\n",
      "7                     272\n",
      "0                     144\n",
      "1                     102\n",
      "6                      91\n",
      "90                     70\n",
      "8                      36\n",
      "191                    26\n",
      "99                     17\n",
      "194                    11\n",
      "141                     8\n",
      "123                     7\n",
      "144                     6\n",
      "175                     5\n",
      "192                     5\n",
      "193                     4\n",
      "134                     4\n",
      "10                      4\n",
      "132                     3\n",
      "143                     3\n",
      "151                     3\n",
      "152                     2\n",
      "153                     2\n",
      "122                     2\n",
      "173                     1\n",
      "171                     1\n",
      "125                     1\n",
      "131                     1\n",
      "dtype: int64\n",
      "**************************************************\n",
      "father_occupation\n",
      "9                    1010\n",
      "7                     666\n",
      "5                     516\n",
      "4                     386\n",
      "3                     384\n",
      "8                     318\n",
      "10                    266\n",
      "6                     242\n",
      "2                     197\n",
      "1                     134\n",
      "0                     128\n",
      "90                     65\n",
      "99                     19\n",
      "193                    15\n",
      "144                     8\n",
      "171                     8\n",
      "192                     6\n",
      "163                     5\n",
      "103                     4\n",
      "175                     4\n",
      "152                     3\n",
      "135                     3\n",
      "181                     3\n",
      "183                     3\n",
      "123                     3\n",
      "102                     2\n",
      "182                     2\n",
      "194                     2\n",
      "151                     2\n",
      "122                     2\n",
      "172                     2\n",
      "112                     2\n",
      "174                     1\n",
      "132                     1\n",
      "161                     1\n",
      "154                     1\n",
      "153                     1\n",
      "143                     1\n",
      "141                     1\n",
      "134                     1\n",
      "131                     1\n",
      "124                     1\n",
      "121                     1\n",
      "114                     1\n",
      "101                     1\n",
      "195                     1\n",
      "dtype: int64\n",
      "**************************************************\n",
      "admission_grade\n",
      "130.0              162\n",
      "140.0              153\n",
      "120.0              145\n",
      "100.0              116\n",
      "150.0               81\n",
      "                  ... \n",
      "107.6                1\n",
      "151.2                1\n",
      "97.4                 1\n",
      "151.5                1\n",
      "138.2                1\n",
      "Length: 620, dtype: int64\n",
      "**************************************************\n",
      "displaced\n",
      "1            2426\n",
      "0            1998\n",
      "dtype: int64\n",
      "**************************************************\n",
      "educational_special_needs\n",
      "0                            4373\n",
      "1                              51\n",
      "dtype: int64\n",
      "**************************************************\n",
      "debtor\n",
      "0         3921\n",
      "1          503\n",
      "dtype: int64\n",
      "**************************************************\n",
      "tuition_fees_up_to_date\n",
      "1                          3896\n",
      "0                           528\n",
      "dtype: int64\n",
      "**************************************************\n",
      "gender\n",
      "0         2868\n",
      "1         1556\n",
      "dtype: int64\n",
      "**************************************************\n",
      "scholarship_holder\n",
      "0                     3325\n",
      "1                     1099\n",
      "dtype: int64\n",
      "**************************************************\n",
      "age_at_enrollment\n",
      "18                   1036\n",
      "19                    911\n",
      "20                    599\n",
      "21                    322\n",
      "22                    174\n",
      "24                    131\n",
      "23                    108\n",
      "26                     94\n",
      "25                     93\n",
      "27                     91\n",
      "28                     83\n",
      "29                     66\n",
      "32                     61\n",
      "34                     60\n",
      "31                     55\n",
      "30                     49\n",
      "35                     49\n",
      "33                     45\n",
      "37                     42\n",
      "39                     38\n",
      "36                     35\n",
      "41                     31\n",
      "38                     29\n",
      "43                     25\n",
      "40                     23\n",
      "45                     22\n",
      "44                     21\n",
      "47                     18\n",
      "50                     16\n",
      "42                     13\n",
      "49                     13\n",
      "46                     12\n",
      "48                     11\n",
      "54                      7\n",
      "51                      7\n",
      "53                      7\n",
      "55                      5\n",
      "17                      5\n",
      "52                      4\n",
      "58                      3\n",
      "59                      3\n",
      "57                      2\n",
      "60                      2\n",
      "61                      1\n",
      "62                      1\n",
      "70                      1\n",
      "dtype: int64\n",
      "**************************************************\n",
      "international\n",
      "0                4314\n",
      "1                 110\n",
      "dtype: int64\n",
      "**************************************************\n",
      "curricular_units_1st_sem_(credited)\n",
      "0                                      3847\n",
      "2                                        94\n",
      "1                                        85\n",
      "3                                        69\n",
      "6                                        51\n",
      "4                                        47\n",
      "5                                        41\n",
      "7                                        41\n",
      "8                                        31\n",
      "9                                        27\n",
      "11                                       17\n",
      "14                                       15\n",
      "10                                       15\n",
      "13                                       13\n",
      "12                                       12\n",
      "15                                        5\n",
      "18                                        4\n",
      "16                                        3\n",
      "17                                        3\n",
      "19                                        2\n",
      "20                                        2\n",
      "dtype: int64\n",
      "**************************************************\n",
      "curricular_units_1st_sem_(enrolled)\n",
      "6                                      1910\n",
      "5                                      1010\n",
      "7                                       656\n",
      "8                                       296\n",
      "0                                       180\n",
      "12                                       66\n",
      "10                                       52\n",
      "11                                       45\n",
      "9                                        36\n",
      "15                                       25\n",
      "14                                       22\n",
      "4                                        21\n",
      "13                                       20\n",
      "18                                       19\n",
      "17                                       16\n",
      "16                                       13\n",
      "3                                        10\n",
      "2                                         9\n",
      "1                                         7\n",
      "21                                        6\n",
      "19                                        2\n",
      "23                                        2\n",
      "26                                        1\n",
      "dtype: int64\n",
      "**************************************************\n",
      "curricular_units_1st_sem_(evaluations)\n",
      "8                                         791\n",
      "7                                         703\n",
      "6                                         598\n",
      "9                                         402\n",
      "0                                         349\n",
      "10                                        340\n",
      "11                                        239\n",
      "12                                        223\n",
      "5                                         220\n",
      "13                                        140\n",
      "14                                        105\n",
      "15                                         70\n",
      "16                                         47\n",
      "17                                         33\n",
      "18                                         30\n",
      "19                                         23\n",
      "4                                          19\n",
      "21                                         17\n",
      "20                                         12\n",
      "22                                         10\n",
      "23                                          9\n",
      "2                                           8\n",
      "3                                           6\n",
      "24                                          6\n",
      "1                                           6\n",
      "26                                          4\n",
      "25                                          3\n",
      "27                                          2\n",
      "29                                          2\n",
      "45                                          2\n",
      "28                                          1\n",
      "31                                          1\n",
      "32                                          1\n",
      "33                                          1\n",
      "36                                          1\n",
      "dtype: int64\n",
      "**************************************************\n",
      "curricular_units_1st_sem_(approved)\n",
      "6                                      1171\n",
      "5                                       723\n",
      "0                                       718\n",
      "7                                       471\n",
      "4                                       433\n",
      "3                                       269\n",
      "2                                       160\n",
      "1                                       127\n",
      "8                                       108\n",
      "11                                       49\n",
      "12                                       44\n",
      "9                                        40\n",
      "13                                       26\n",
      "10                                       24\n",
      "18                                       15\n",
      "14                                       14\n",
      "17                                       10\n",
      "15                                        7\n",
      "16                                        5\n",
      "21                                        4\n",
      "20                                        3\n",
      "19                                        2\n",
      "26                                        1\n",
      "dtype: int64\n",
      "**************************************************\n",
      "curricular_units_1st_sem_(grade)\n",
      "0.000000                            718\n",
      "12.000000                           205\n",
      "13.000000                           147\n",
      "11.000000                           138\n",
      "11.500000                            89\n",
      "                                   ... \n",
      "13.071429                             1\n",
      "13.072857                             1\n",
      "13.073750                             1\n",
      "13.075714                             1\n",
      "18.875000                             1\n",
      "Length: 797, dtype: int64\n",
      "**************************************************\n",
      "curricular_units_1st_sem_(without_evaluations)\n",
      "0                                                 4130\n",
      "1                                                  153\n",
      "2                                                   79\n",
      "3                                                   23\n",
      "4                                                   15\n",
      "6                                                    6\n",
      "7                                                    6\n",
      "5                                                    5\n",
      "8                                                    4\n",
      "12                                                   2\n",
      "10                                                   1\n",
      "dtype: int64\n",
      "**************************************************\n",
      "curricular_units_2nd_sem_(credited)\n",
      "0                                      3894\n",
      "1                                       107\n",
      "2                                        92\n",
      "4                                        78\n",
      "5                                        68\n",
      "3                                        49\n",
      "6                                        26\n",
      "11                                       20\n",
      "7                                        16\n",
      "9                                        15\n",
      "12                                       14\n",
      "10                                       13\n",
      "8                                        12\n",
      "13                                        9\n",
      "14                                        4\n",
      "15                                        2\n",
      "16                                        2\n",
      "18                                        2\n",
      "19                                        1\n",
      "dtype: int64\n",
      "**************************************************\n",
      "curricular_units_2nd_sem_(enrolled)\n",
      "6                                      1913\n",
      "5                                      1054\n",
      "8                                       661\n",
      "7                                       304\n",
      "0                                       180\n",
      "11                                       60\n",
      "9                                        50\n",
      "10                                       48\n",
      "12                                       44\n",
      "13                                       37\n",
      "14                                       22\n",
      "4                                        17\n",
      "17                                       12\n",
      "2                                         5\n",
      "3                                         3\n",
      "1                                         3\n",
      "19                                        3\n",
      "15                                        2\n",
      "18                                        2\n",
      "23                                        2\n",
      "16                                        1\n",
      "21                                        1\n",
      "dtype: int64\n",
      "**************************************************\n"
     ]
    },
    {
     "name": "stdout",
     "output_type": "stream",
     "text": [
      "curricular_units_2nd_sem_(evaluations)\n",
      "8                                         792\n",
      "6                                         614\n",
      "7                                         563\n",
      "9                                         456\n",
      "0                                         401\n",
      "10                                        355\n",
      "5                                         288\n",
      "11                                        255\n",
      "12                                        226\n",
      "13                                        126\n",
      "14                                         98\n",
      "15                                         73\n",
      "16                                         49\n",
      "17                                         25\n",
      "18                                         22\n",
      "19                                         19\n",
      "4                                          10\n",
      "22                                         10\n",
      "21                                         10\n",
      "20                                          8\n",
      "2                                           4\n",
      "23                                          4\n",
      "1                                           3\n",
      "24                                          3\n",
      "26                                          3\n",
      "3                                           2\n",
      "27                                          2\n",
      "25                                          1\n",
      "28                                          1\n",
      "33                                          1\n",
      "dtype: int64\n",
      "**************************************************\n",
      "curricular_units_2nd_sem_(approved)\n",
      "6                                      965\n",
      "0                                      870\n",
      "5                                      726\n",
      "4                                      414\n",
      "7                                      331\n",
      "8                                      321\n",
      "3                                      285\n",
      "2                                      198\n",
      "1                                      114\n",
      "11                                      48\n",
      "10                                      38\n",
      "9                                       36\n",
      "12                                      34\n",
      "13                                      21\n",
      "17                                       8\n",
      "14                                       6\n",
      "19                                       3\n",
      "16                                       2\n",
      "18                                       2\n",
      "20                                       2\n",
      "dtype: int64\n",
      "**************************************************\n",
      "curricular_units_2nd_sem_(grade)\n",
      "0.000000                            870\n",
      "12.000000                           170\n",
      "11.000000                           165\n",
      "13.000000                           150\n",
      "11.500000                            86\n",
      "                                   ... \n",
      "13.053750                             1\n",
      "13.058571                             1\n",
      "13.058750                             1\n",
      "13.063636                             1\n",
      "18.571429                             1\n",
      "Length: 782, dtype: int64\n",
      "**************************************************\n",
      "curricular_units_2nd_sem_(without_evaluations)\n",
      "0                                                 4142\n",
      "1                                                  140\n",
      "2                                                   48\n",
      "3                                                   35\n",
      "4                                                   21\n",
      "5                                                   17\n",
      "6                                                    8\n",
      "8                                                    6\n",
      "7                                                    5\n",
      "12                                                   2\n",
      "dtype: int64\n",
      "**************************************************\n",
      "unemployment_rate\n",
      "7.6                  571\n",
      "9.4                  533\n",
      "10.8                 525\n",
      "12.4                 445\n",
      "12.7                 419\n",
      "11.1                 414\n",
      "15.5                 397\n",
      "13.9                 390\n",
      "8.9                  368\n",
      "16.2                 362\n",
      "dtype: int64\n",
      "**************************************************\n",
      "inflation_rate\n",
      " 1.4              893\n",
      " 2.6              571\n",
      "-0.8              533\n",
      " 0.5              445\n",
      " 3.7              419\n",
      " 0.6              414\n",
      " 2.8              397\n",
      "-0.3              390\n",
      " 0.3              362\n",
      "dtype: int64\n",
      "**************************************************\n",
      "gdp  \n",
      " 0.32    571\n",
      "-3.12    533\n",
      " 1.74    525\n",
      " 1.79    445\n",
      "-1.70    419\n",
      " 2.02    414\n",
      "-4.06    397\n",
      " 0.79    390\n",
      " 3.51    368\n",
      "-0.92    362\n",
      "dtype: int64\n",
      "**************************************************\n",
      "target  \n",
      "Graduate    3003\n",
      "Dropout     1421\n",
      "dtype: int64\n",
      "**************************************************\n"
     ]
    }
   ],
   "source": [
    "# find out the number of value for each fild based on the meta data of data base most of these features are Categorical Nominal\n",
    "for i in range (len(data.columns)):\n",
    "    print(data.iloc[:,[i]].value_counts())\n",
    "    print('*'*50)\n"
   ]
  },
  {
   "cell_type": "markdown",
   "id": "cb6b646c",
   "metadata": {
    "id": "cb6b646c"
   },
   "source": [
    "''' \n",
    "Based On EXploring data These features are numercial \n",
    "gdp\n",
    "inflation_rate,\n",
    "unemployment_rate,\n",
    "curricular_units_2nd_sem_(without_evaluations\n",
    "curricular_units_2nd_sem_(grade)\n",
    "curricular_units_2nd_sem_(approved)\n",
    "curricular_units_2nd_sem_(evaluations)\n",
    "curricular_units_2nd_sem_(enrolled)\n",
    "curricular_units_2nd_sem_(credited)\n",
    "curricular_units_1st_sem_(without_evaluations)\n",
    "curricular_units_1st_sem_(without_evaluations)\n",
    "curricular_units_1st_sem_(grade)\n",
    "curricular_units_1st_sem_(approved)\n",
    "curricular_units_1st_sem_(evaluations)\n",
    "curricular_units_1st_sem_(enrolled)\n",
    "curricular_units_1st_sem_(credited)\n",
    "age_at_enrollment\n",
    "admission_grade\n",
    "previous_qualification_(grade)\n",
    "previous_qualification"
   ]
  },
  {
   "cell_type": "code",
   "execution_count": 9,
   "id": "2b338161",
   "metadata": {
    "colab": {
     "base_uri": "https://localhost:8080/"
    },
    "executionInfo": {
     "elapsed": 38,
     "status": "ok",
     "timestamp": 1656335588138,
     "user": {
      "displayName": "mojgun shabani",
      "userId": "06361705429287830778"
     },
     "user_tz": -120
    },
    "id": "2b338161",
    "outputId": "39745553-ecec-4bbd-c75a-949073499aee"
   },
   "outputs": [
    {
     "data": {
      "text/plain": [
       "Index(['marital_status', 'application_mode', 'application_order', 'course',\n",
       "       'daytime/evening_attendance', 'previous_qualification',\n",
       "       'previous_qualification_(grade)', 'nacionality', 'mother_qualification',\n",
       "       'father_qualification', 'mother_occupation', 'father_occupation',\n",
       "       'admission_grade', 'displaced', 'educational_special_needs', 'debtor',\n",
       "       'tuition_fees_up_to_date', 'gender', 'scholarship_holder',\n",
       "       'age_at_enrollment', 'international',\n",
       "       'curricular_units_1st_sem_(credited)',\n",
       "       'curricular_units_1st_sem_(enrolled)',\n",
       "       'curricular_units_1st_sem_(evaluations)',\n",
       "       'curricular_units_1st_sem_(approved)',\n",
       "       'curricular_units_1st_sem_(grade)',\n",
       "       'curricular_units_1st_sem_(without_evaluations)',\n",
       "       'curricular_units_2nd_sem_(credited)',\n",
       "       'curricular_units_2nd_sem_(enrolled)',\n",
       "       'curricular_units_2nd_sem_(evaluations)',\n",
       "       'curricular_units_2nd_sem_(approved)',\n",
       "       'curricular_units_2nd_sem_(grade)',\n",
       "       'curricular_units_2nd_sem_(without_evaluations)', 'unemployment_rate',\n",
       "       'inflation_rate', 'gdp', 'target'],\n",
       "      dtype='object')"
      ]
     },
     "execution_count": 9,
     "metadata": {},
     "output_type": "execute_result"
    }
   ],
   "source": [
    "data.columns"
   ]
  },
  {
   "cell_type": "code",
   "execution_count": 10,
   "id": "1cbe6de1",
   "metadata": {
    "executionInfo": {
     "elapsed": 452,
     "status": "ok",
     "timestamp": 1656491951680,
     "user": {
      "displayName": "mojgun shabani",
      "userId": "06361705429287830778"
     },
     "user_tz": -120
    },
    "id": "1cbe6de1"
   },
   "outputs": [],
   "source": [
    "# Change Type of Others to Objects\n",
    "data[['marital_status', 'application_mode', 'application_order', 'course',\n",
    "       'daytime/evening_attendance','nacionality', 'mother_qualification',\n",
    "       'father_qualification', 'mother_occupation', 'father_occupation',\n",
    "        'displaced', 'educational_special_needs', 'debtor','tuition_fees_up_to_date',\n",
    "        'gender', 'scholarship_holder', 'international']] = data[['marital_status', 'application_mode', 'application_order', 'course',\n",
    "       'daytime/evening_attendance','nacionality', 'mother_qualification',\n",
    "       'father_qualification', 'mother_occupation', 'father_occupation',\n",
    "        'displaced', 'educational_special_needs', 'debtor','tuition_fees_up_to_date',\n",
    "        'gender', 'scholarship_holder', 'international']].astype('object')\n"
   ]
  },
  {
   "cell_type": "code",
   "execution_count": 11,
   "id": "8d00cea3",
   "metadata": {
    "colab": {
     "base_uri": "https://localhost:8080/"
    },
    "executionInfo": {
     "elapsed": 372,
     "status": "ok",
     "timestamp": 1656403531534,
     "user": {
      "displayName": "mojgun shabani",
      "userId": "06361705429287830778"
     },
     "user_tz": -120
    },
    "id": "8d00cea3",
    "outputId": "9303823c-49e0-4b05-8fe2-2390e2fffdb8"
   },
   "outputs": [
    {
     "name": "stdout",
     "output_type": "stream",
     "text": [
      "<class 'pandas.core.frame.DataFrame'>\n",
      "RangeIndex: 4424 entries, 0 to 4423\n",
      "Data columns (total 37 columns):\n",
      " #   Column                                          Non-Null Count  Dtype  \n",
      "---  ------                                          --------------  -----  \n",
      " 0   marital_status                                  4424 non-null   object \n",
      " 1   application_mode                                4424 non-null   object \n",
      " 2   application_order                               4424 non-null   object \n",
      " 3   course                                          4424 non-null   object \n",
      " 4   daytime/evening_attendance                      4424 non-null   object \n",
      " 5   previous_qualification                          4424 non-null   int64  \n",
      " 6   previous_qualification_(grade)                  4424 non-null   float64\n",
      " 7   nacionality                                     4424 non-null   object \n",
      " 8   mother_qualification                            4424 non-null   object \n",
      " 9   father_qualification                            4424 non-null   object \n",
      " 10  mother_occupation                               4424 non-null   object \n",
      " 11  father_occupation                               4424 non-null   object \n",
      " 12  admission_grade                                 4424 non-null   float64\n",
      " 13  displaced                                       4424 non-null   object \n",
      " 14  educational_special_needs                       4424 non-null   object \n",
      " 15  debtor                                          4424 non-null   object \n",
      " 16  tuition_fees_up_to_date                         4424 non-null   object \n",
      " 17  gender                                          4424 non-null   object \n",
      " 18  scholarship_holder                              4424 non-null   object \n",
      " 19  age_at_enrollment                               4424 non-null   int64  \n",
      " 20  international                                   4424 non-null   object \n",
      " 21  curricular_units_1st_sem_(credited)             4424 non-null   int64  \n",
      " 22  curricular_units_1st_sem_(enrolled)             4424 non-null   int64  \n",
      " 23  curricular_units_1st_sem_(evaluations)          4424 non-null   int64  \n",
      " 24  curricular_units_1st_sem_(approved)             4424 non-null   int64  \n",
      " 25  curricular_units_1st_sem_(grade)                4424 non-null   float64\n",
      " 26  curricular_units_1st_sem_(without_evaluations)  4424 non-null   int64  \n",
      " 27  curricular_units_2nd_sem_(credited)             4424 non-null   int64  \n",
      " 28  curricular_units_2nd_sem_(enrolled)             4424 non-null   int64  \n",
      " 29  curricular_units_2nd_sem_(evaluations)          4424 non-null   int64  \n",
      " 30  curricular_units_2nd_sem_(approved)             4424 non-null   int64  \n",
      " 31  curricular_units_2nd_sem_(grade)                4424 non-null   float64\n",
      " 32  curricular_units_2nd_sem_(without_evaluations)  4424 non-null   int64  \n",
      " 33  unemployment_rate                               4424 non-null   float64\n",
      " 34  inflation_rate                                  4424 non-null   float64\n",
      " 35  gdp                                             4424 non-null   float64\n",
      " 36  target                                          4424 non-null   object \n",
      "dtypes: float64(7), int64(12), object(18)\n",
      "memory usage: 1.2+ MB\n"
     ]
    }
   ],
   "source": [
    "data.info()"
   ]
  },
  {
   "cell_type": "markdown",
   "id": "d711db02",
   "metadata": {
    "id": "d711db02"
   },
   "source": [
    "# Divide Numercial and Categorical"
   ]
  },
  {
   "cell_type": "code",
   "execution_count": 12,
   "id": "ea5d1339",
   "metadata": {
    "executionInfo": {
     "elapsed": 419,
     "status": "ok",
     "timestamp": 1656491956365,
     "user": {
      "displayName": "mojgun shabani",
      "userId": "06361705429287830778"
     },
     "user_tz": -120
    },
    "id": "ea5d1339"
   },
   "outputs": [],
   "source": [
    "num=data.select_dtypes(np.number)\n",
    "cat=data.select_dtypes('object')\n"
   ]
  },
  {
   "cell_type": "code",
   "execution_count": 13,
   "id": "aca3d547",
   "metadata": {
    "colab": {
     "base_uri": "https://localhost:8080/"
    },
    "executionInfo": {
     "elapsed": 4,
     "status": "ok",
     "timestamp": 1656403539236,
     "user": {
      "displayName": "mojgun shabani",
      "userId": "06361705429287830778"
     },
     "user_tz": -120
    },
    "id": "aca3d547",
    "outputId": "6aac0429-4d85-4e8f-ef69-4b55492dbd61"
   },
   "outputs": [
    {
     "data": {
      "text/plain": [
       "(4424, 19)"
      ]
     },
     "execution_count": 13,
     "metadata": {},
     "output_type": "execute_result"
    }
   ],
   "source": [
    "num.shape"
   ]
  },
  {
   "cell_type": "code",
   "execution_count": 14,
   "id": "3ba130e2",
   "metadata": {
    "colab": {
     "base_uri": "https://localhost:8080/"
    },
    "executionInfo": {
     "elapsed": 8,
     "status": "ok",
     "timestamp": 1656403540947,
     "user": {
      "displayName": "mojgun shabani",
      "userId": "06361705429287830778"
     },
     "user_tz": -120
    },
    "id": "3ba130e2",
    "outputId": "c08d8c21-7856-4263-b265-07f722662427"
   },
   "outputs": [
    {
     "data": {
      "text/plain": [
       "(4424, 18)"
      ]
     },
     "execution_count": 14,
     "metadata": {},
     "output_type": "execute_result"
    }
   ],
   "source": [
    "cat.shape"
   ]
  },
  {
   "cell_type": "code",
   "execution_count": 15,
   "id": "384ddd75",
   "metadata": {
    "colab": {
     "base_uri": "https://localhost:8080/"
    },
    "executionInfo": {
     "elapsed": 4,
     "status": "ok",
     "timestamp": 1656403543272,
     "user": {
      "displayName": "mojgun shabani",
      "userId": "06361705429287830778"
     },
     "user_tz": -120
    },
    "id": "384ddd75",
    "outputId": "3442f3e2-6541-4d9a-ef2d-708c01a67c66"
   },
   "outputs": [
    {
     "data": {
      "text/plain": [
       "['previous_qualification',\n",
       " 'previous_qualification_(grade)',\n",
       " 'admission_grade',\n",
       " 'age_at_enrollment',\n",
       " 'curricular_units_1st_sem_(credited)',\n",
       " 'curricular_units_1st_sem_(enrolled)',\n",
       " 'curricular_units_1st_sem_(evaluations)',\n",
       " 'curricular_units_1st_sem_(approved)',\n",
       " 'curricular_units_1st_sem_(grade)',\n",
       " 'curricular_units_1st_sem_(without_evaluations)',\n",
       " 'curricular_units_2nd_sem_(credited)',\n",
       " 'curricular_units_2nd_sem_(enrolled)',\n",
       " 'curricular_units_2nd_sem_(evaluations)',\n",
       " 'curricular_units_2nd_sem_(approved)',\n",
       " 'curricular_units_2nd_sem_(grade)',\n",
       " 'curricular_units_2nd_sem_(without_evaluations)',\n",
       " 'unemployment_rate',\n",
       " 'inflation_rate',\n",
       " 'gdp']"
      ]
     },
     "execution_count": 15,
     "metadata": {},
     "output_type": "execute_result"
    }
   ],
   "source": [
    "list(num.columns)"
   ]
  },
  {
   "cell_type": "markdown",
   "id": "9c545692",
   "metadata": {
    "id": "9c545692"
   },
   "source": [
    "# Numericals"
   ]
  },
  {
   "cell_type": "markdown",
   "id": "5d73c38f",
   "metadata": {
    "id": "5d73c38f"
   },
   "source": [
    "## Find Multicollinearity in Numricals"
   ]
  },
  {
   "cell_type": "code",
   "execution_count": 16,
   "id": "85d48cfa",
   "metadata": {
    "colab": {
     "base_uri": "https://localhost:8080/",
     "height": 645
    },
    "executionInfo": {
     "elapsed": 779,
     "status": "ok",
     "timestamp": 1656491962685,
     "user": {
      "displayName": "mojgun shabani",
      "userId": "06361705429287830778"
     },
     "user_tz": -120
    },
    "id": "85d48cfa",
    "outputId": "bf4ad8c1-21ad-4411-d28d-eb36743ae92f",
    "scrolled": true
   },
   "outputs": [
    {
     "data": {
      "text/html": [
       "<div>\n",
       "<style scoped>\n",
       "    .dataframe tbody tr th:only-of-type {\n",
       "        vertical-align: middle;\n",
       "    }\n",
       "\n",
       "    .dataframe tbody tr th {\n",
       "        vertical-align: top;\n",
       "    }\n",
       "\n",
       "    .dataframe thead th {\n",
       "        text-align: right;\n",
       "    }\n",
       "</style>\n",
       "<table border=\"1\" class=\"dataframe\">\n",
       "  <thead>\n",
       "    <tr style=\"text-align: right;\">\n",
       "      <th></th>\n",
       "      <th>Variable</th>\n",
       "      <th>VIF</th>\n",
       "    </tr>\n",
       "  </thead>\n",
       "  <tbody>\n",
       "    <tr>\n",
       "      <th>5</th>\n",
       "      <td>curricular_units_1st_sem_(enrolled)</td>\n",
       "      <td>23.528216</td>\n",
       "    </tr>\n",
       "    <tr>\n",
       "      <th>11</th>\n",
       "      <td>curricular_units_2nd_sem_(enrolled)</td>\n",
       "      <td>16.442303</td>\n",
       "    </tr>\n",
       "    <tr>\n",
       "      <th>4</th>\n",
       "      <td>curricular_units_1st_sem_(credited)</td>\n",
       "      <td>15.747238</td>\n",
       "    </tr>\n",
       "    <tr>\n",
       "      <th>7</th>\n",
       "      <td>curricular_units_1st_sem_(approved)</td>\n",
       "      <td>12.676006</td>\n",
       "    </tr>\n",
       "    <tr>\n",
       "      <th>10</th>\n",
       "      <td>curricular_units_2nd_sem_(credited)</td>\n",
       "      <td>12.399341</td>\n",
       "    </tr>\n",
       "    <tr>\n",
       "      <th>13</th>\n",
       "      <td>curricular_units_2nd_sem_(approved)</td>\n",
       "      <td>10.154983</td>\n",
       "    </tr>\n",
       "    <tr>\n",
       "      <th>14</th>\n",
       "      <td>curricular_units_2nd_sem_(grade)</td>\n",
       "      <td>5.479099</td>\n",
       "    </tr>\n",
       "    <tr>\n",
       "      <th>8</th>\n",
       "      <td>curricular_units_1st_sem_(grade)</td>\n",
       "      <td>4.980663</td>\n",
       "    </tr>\n",
       "    <tr>\n",
       "      <th>6</th>\n",
       "      <td>curricular_units_1st_sem_(evaluations)</td>\n",
       "      <td>3.976740</td>\n",
       "    </tr>\n",
       "    <tr>\n",
       "      <th>12</th>\n",
       "      <td>curricular_units_2nd_sem_(evaluations)</td>\n",
       "      <td>3.330090</td>\n",
       "    </tr>\n",
       "    <tr>\n",
       "      <th>9</th>\n",
       "      <td>curricular_units_1st_sem_(without_evaluations)</td>\n",
       "      <td>1.677949</td>\n",
       "    </tr>\n",
       "    <tr>\n",
       "      <th>2</th>\n",
       "      <td>admission_grade</td>\n",
       "      <td>1.603092</td>\n",
       "    </tr>\n",
       "    <tr>\n",
       "      <th>15</th>\n",
       "      <td>curricular_units_2nd_sem_(without_evaluations)</td>\n",
       "      <td>1.570265</td>\n",
       "    </tr>\n",
       "    <tr>\n",
       "      <th>1</th>\n",
       "      <td>previous_qualification_(grade)</td>\n",
       "      <td>1.544868</td>\n",
       "    </tr>\n",
       "    <tr>\n",
       "      <th>18</th>\n",
       "      <td>gdp</td>\n",
       "      <td>1.232509</td>\n",
       "    </tr>\n",
       "    <tr>\n",
       "      <th>16</th>\n",
       "      <td>unemployment_rate</td>\n",
       "      <td>1.201697</td>\n",
       "    </tr>\n",
       "    <tr>\n",
       "      <th>3</th>\n",
       "      <td>age_at_enrollment</td>\n",
       "      <td>1.188995</td>\n",
       "    </tr>\n",
       "    <tr>\n",
       "      <th>0</th>\n",
       "      <td>previous_qualification</td>\n",
       "      <td>1.159033</td>\n",
       "    </tr>\n",
       "    <tr>\n",
       "      <th>17</th>\n",
       "      <td>inflation_rate</td>\n",
       "      <td>1.038828</td>\n",
       "    </tr>\n",
       "  </tbody>\n",
       "</table>\n",
       "</div>"
      ],
      "text/plain": [
       "                                          Variable        VIF\n",
       "5              curricular_units_1st_sem_(enrolled)  23.528216\n",
       "11             curricular_units_2nd_sem_(enrolled)  16.442303\n",
       "4              curricular_units_1st_sem_(credited)  15.747238\n",
       "7              curricular_units_1st_sem_(approved)  12.676006\n",
       "10             curricular_units_2nd_sem_(credited)  12.399341\n",
       "13             curricular_units_2nd_sem_(approved)  10.154983\n",
       "14                curricular_units_2nd_sem_(grade)   5.479099\n",
       "8                 curricular_units_1st_sem_(grade)   4.980663\n",
       "6           curricular_units_1st_sem_(evaluations)   3.976740\n",
       "12          curricular_units_2nd_sem_(evaluations)   3.330090\n",
       "9   curricular_units_1st_sem_(without_evaluations)   1.677949\n",
       "2                                  admission_grade   1.603092\n",
       "15  curricular_units_2nd_sem_(without_evaluations)   1.570265\n",
       "1                   previous_qualification_(grade)   1.544868\n",
       "18                                             gdp   1.232509\n",
       "16                               unemployment_rate   1.201697\n",
       "3                                age_at_enrollment   1.188995\n",
       "0                           previous_qualification   1.159033\n",
       "17                                  inflation_rate   1.038828"
      ]
     },
     "execution_count": 16,
     "metadata": {},
     "output_type": "execute_result"
    }
   ],
   "source": [
    "considered_features = list(num.columns)\n",
    "def compute_vif(considered_features):\n",
    "    X = num[considered_features]\n",
    "    X['intercept'] = 1\n",
    "    vif = pd.DataFrame()\n",
    "    vif[\"Variable\"] = X.columns\n",
    "    vif[\"VIF\"] = [variance_inflation_factor(X.values, i) for i in range(X.shape[1])]\n",
    "    vif = vif[vif['Variable']!='intercept']\n",
    "    return vif\n",
    "compute_vif(considered_features)\n",
    "compute_vif(considered_features).sort_values('VIF', ascending=False)"
   ]
  },
  {
   "cell_type": "markdown",
   "id": "b8c6af2e",
   "metadata": {
    "id": "b8c6af2e"
   },
   "source": [
    "## Removing Multicollinearity"
   ]
  },
  {
   "cell_type": "code",
   "execution_count": 17,
   "id": "e84698c0",
   "metadata": {
    "colab": {
     "base_uri": "https://localhost:8080/",
     "height": 0
    },
    "executionInfo": {
     "elapsed": 1297,
     "status": "ok",
     "timestamp": 1656491968231,
     "user": {
      "displayName": "mojgun shabani",
      "userId": "06361705429287830778"
     },
     "user_tz": -120
    },
    "id": "e84698c0",
    "outputId": "e4f2a253-c747-43fd-9931-76bf069df89d"
   },
   "outputs": [
    {
     "data": {
      "text/html": [
       "<div>\n",
       "<style scoped>\n",
       "    .dataframe tbody tr th:only-of-type {\n",
       "        vertical-align: middle;\n",
       "    }\n",
       "\n",
       "    .dataframe tbody tr th {\n",
       "        vertical-align: top;\n",
       "    }\n",
       "\n",
       "    .dataframe thead th {\n",
       "        text-align: right;\n",
       "    }\n",
       "</style>\n",
       "<table border=\"1\" class=\"dataframe\">\n",
       "  <thead>\n",
       "    <tr style=\"text-align: right;\">\n",
       "      <th></th>\n",
       "      <th>Variable</th>\n",
       "      <th>VIF</th>\n",
       "    </tr>\n",
       "  </thead>\n",
       "  <tbody>\n",
       "    <tr>\n",
       "      <th>4</th>\n",
       "      <td>curricular_units_1st_sem_(credited)</td>\n",
       "      <td>12.656257</td>\n",
       "    </tr>\n",
       "    <tr>\n",
       "      <th>9</th>\n",
       "      <td>curricular_units_2nd_sem_(credited)</td>\n",
       "      <td>11.405488</td>\n",
       "    </tr>\n",
       "    <tr>\n",
       "      <th>6</th>\n",
       "      <td>curricular_units_1st_sem_(approved)</td>\n",
       "      <td>11.223404</td>\n",
       "    </tr>\n",
       "    <tr>\n",
       "      <th>12</th>\n",
       "      <td>curricular_units_2nd_sem_(approved)</td>\n",
       "      <td>9.615539</td>\n",
       "    </tr>\n",
       "    <tr>\n",
       "      <th>13</th>\n",
       "      <td>curricular_units_2nd_sem_(grade)</td>\n",
       "      <td>5.453835</td>\n",
       "    </tr>\n",
       "    <tr>\n",
       "      <th>7</th>\n",
       "      <td>curricular_units_1st_sem_(grade)</td>\n",
       "      <td>4.884174</td>\n",
       "    </tr>\n",
       "    <tr>\n",
       "      <th>10</th>\n",
       "      <td>curricular_units_2nd_sem_(enrolled)</td>\n",
       "      <td>3.529162</td>\n",
       "    </tr>\n",
       "    <tr>\n",
       "      <th>5</th>\n",
       "      <td>curricular_units_1st_sem_(evaluations)</td>\n",
       "      <td>3.432251</td>\n",
       "    </tr>\n",
       "    <tr>\n",
       "      <th>11</th>\n",
       "      <td>curricular_units_2nd_sem_(evaluations)</td>\n",
       "      <td>3.177420</td>\n",
       "    </tr>\n",
       "    <tr>\n",
       "      <th>8</th>\n",
       "      <td>curricular_units_1st_sem_(without_evaluations)</td>\n",
       "      <td>1.677744</td>\n",
       "    </tr>\n",
       "    <tr>\n",
       "      <th>2</th>\n",
       "      <td>admission_grade</td>\n",
       "      <td>1.602614</td>\n",
       "    </tr>\n",
       "    <tr>\n",
       "      <th>14</th>\n",
       "      <td>curricular_units_2nd_sem_(without_evaluations)</td>\n",
       "      <td>1.568715</td>\n",
       "    </tr>\n",
       "    <tr>\n",
       "      <th>1</th>\n",
       "      <td>previous_qualification_(grade)</td>\n",
       "      <td>1.544666</td>\n",
       "    </tr>\n",
       "    <tr>\n",
       "      <th>17</th>\n",
       "      <td>gdp</td>\n",
       "      <td>1.231894</td>\n",
       "    </tr>\n",
       "    <tr>\n",
       "      <th>15</th>\n",
       "      <td>unemployment_rate</td>\n",
       "      <td>1.190880</td>\n",
       "    </tr>\n",
       "    <tr>\n",
       "      <th>3</th>\n",
       "      <td>age_at_enrollment</td>\n",
       "      <td>1.184046</td>\n",
       "    </tr>\n",
       "    <tr>\n",
       "      <th>0</th>\n",
       "      <td>previous_qualification</td>\n",
       "      <td>1.156986</td>\n",
       "    </tr>\n",
       "    <tr>\n",
       "      <th>16</th>\n",
       "      <td>inflation_rate</td>\n",
       "      <td>1.034396</td>\n",
       "    </tr>\n",
       "  </tbody>\n",
       "</table>\n",
       "</div>"
      ],
      "text/plain": [
       "                                          Variable        VIF\n",
       "4              curricular_units_1st_sem_(credited)  12.656257\n",
       "9              curricular_units_2nd_sem_(credited)  11.405488\n",
       "6              curricular_units_1st_sem_(approved)  11.223404\n",
       "12             curricular_units_2nd_sem_(approved)   9.615539\n",
       "13                curricular_units_2nd_sem_(grade)   5.453835\n",
       "7                 curricular_units_1st_sem_(grade)   4.884174\n",
       "10             curricular_units_2nd_sem_(enrolled)   3.529162\n",
       "5           curricular_units_1st_sem_(evaluations)   3.432251\n",
       "11          curricular_units_2nd_sem_(evaluations)   3.177420\n",
       "8   curricular_units_1st_sem_(without_evaluations)   1.677744\n",
       "2                                  admission_grade   1.602614\n",
       "14  curricular_units_2nd_sem_(without_evaluations)   1.568715\n",
       "1                   previous_qualification_(grade)   1.544666\n",
       "17                                             gdp   1.231894\n",
       "15                               unemployment_rate   1.190880\n",
       "3                                age_at_enrollment   1.184046\n",
       "0                           previous_qualification   1.156986\n",
       "16                                  inflation_rate   1.034396"
      ]
     },
     "execution_count": 17,
     "metadata": {},
     "output_type": "execute_result"
    }
   ],
   "source": [
    "considered_features.remove('curricular_units_1st_sem_(enrolled)')\n",
    "compute_vif(considered_features)\n",
    "compute_vif(considered_features).sort_values('VIF', ascending=False)"
   ]
  },
  {
   "cell_type": "code",
   "execution_count": 18,
   "id": "5935e142",
   "metadata": {
    "colab": {
     "base_uri": "https://localhost:8080/",
     "height": 0
    },
    "executionInfo": {
     "elapsed": 219,
     "status": "ok",
     "timestamp": 1656491968238,
     "user": {
      "displayName": "mojgun shabani",
      "userId": "06361705429287830778"
     },
     "user_tz": -120
    },
    "id": "5935e142",
    "outputId": "c45ca999-098e-4ae7-9c35-1a81f7fb2a74"
   },
   "outputs": [
    {
     "name": "stderr",
     "output_type": "stream",
     "text": [
      "/var/folders/_z/gw3f_k0d08zctss1m54yb4pc0000gn/T/ipykernel_96848/3876592948.py:4: SettingWithCopyWarning: \n",
      "A value is trying to be set on a copy of a slice from a DataFrame.\n",
      "Try using .loc[row_indexer,col_indexer] = value instead\n",
      "\n",
      "See the caveats in the documentation: https://pandas.pydata.org/pandas-docs/stable/user_guide/indexing.html#returning-a-view-versus-a-copy\n",
      "  X['intercept'] = 1\n"
     ]
    },
    {
     "data": {
      "text/html": [
       "<div>\n",
       "<style scoped>\n",
       "    .dataframe tbody tr th:only-of-type {\n",
       "        vertical-align: middle;\n",
       "    }\n",
       "\n",
       "    .dataframe tbody tr th {\n",
       "        vertical-align: top;\n",
       "    }\n",
       "\n",
       "    .dataframe thead th {\n",
       "        text-align: right;\n",
       "    }\n",
       "</style>\n",
       "<table border=\"1\" class=\"dataframe\">\n",
       "  <thead>\n",
       "    <tr style=\"text-align: right;\">\n",
       "      <th></th>\n",
       "      <th>Variable</th>\n",
       "      <th>VIF</th>\n",
       "    </tr>\n",
       "  </thead>\n",
       "  <tbody>\n",
       "    <tr>\n",
       "      <th>11</th>\n",
       "      <td>curricular_units_2nd_sem_(approved)</td>\n",
       "      <td>8.773690</td>\n",
       "    </tr>\n",
       "    <tr>\n",
       "      <th>5</th>\n",
       "      <td>curricular_units_1st_sem_(approved)</td>\n",
       "      <td>8.762912</td>\n",
       "    </tr>\n",
       "    <tr>\n",
       "      <th>12</th>\n",
       "      <td>curricular_units_2nd_sem_(grade)</td>\n",
       "      <td>5.430531</td>\n",
       "    </tr>\n",
       "    <tr>\n",
       "      <th>6</th>\n",
       "      <td>curricular_units_1st_sem_(grade)</td>\n",
       "      <td>4.650342</td>\n",
       "    </tr>\n",
       "    <tr>\n",
       "      <th>9</th>\n",
       "      <td>curricular_units_2nd_sem_(enrolled)</td>\n",
       "      <td>3.509112</td>\n",
       "    </tr>\n",
       "    <tr>\n",
       "      <th>4</th>\n",
       "      <td>curricular_units_1st_sem_(evaluations)</td>\n",
       "      <td>3.285054</td>\n",
       "    </tr>\n",
       "    <tr>\n",
       "      <th>8</th>\n",
       "      <td>curricular_units_2nd_sem_(credited)</td>\n",
       "      <td>3.211705</td>\n",
       "    </tr>\n",
       "    <tr>\n",
       "      <th>10</th>\n",
       "      <td>curricular_units_2nd_sem_(evaluations)</td>\n",
       "      <td>3.139909</td>\n",
       "    </tr>\n",
       "    <tr>\n",
       "      <th>7</th>\n",
       "      <td>curricular_units_1st_sem_(without_evaluations)</td>\n",
       "      <td>1.677152</td>\n",
       "    </tr>\n",
       "    <tr>\n",
       "      <th>2</th>\n",
       "      <td>admission_grade</td>\n",
       "      <td>1.602561</td>\n",
       "    </tr>\n",
       "    <tr>\n",
       "      <th>13</th>\n",
       "      <td>curricular_units_2nd_sem_(without_evaluations)</td>\n",
       "      <td>1.567868</td>\n",
       "    </tr>\n",
       "    <tr>\n",
       "      <th>1</th>\n",
       "      <td>previous_qualification_(grade)</td>\n",
       "      <td>1.543831</td>\n",
       "    </tr>\n",
       "    <tr>\n",
       "      <th>16</th>\n",
       "      <td>gdp</td>\n",
       "      <td>1.231772</td>\n",
       "    </tr>\n",
       "    <tr>\n",
       "      <th>14</th>\n",
       "      <td>unemployment_rate</td>\n",
       "      <td>1.189266</td>\n",
       "    </tr>\n",
       "    <tr>\n",
       "      <th>3</th>\n",
       "      <td>age_at_enrollment</td>\n",
       "      <td>1.173691</td>\n",
       "    </tr>\n",
       "    <tr>\n",
       "      <th>0</th>\n",
       "      <td>previous_qualification</td>\n",
       "      <td>1.145658</td>\n",
       "    </tr>\n",
       "    <tr>\n",
       "      <th>15</th>\n",
       "      <td>inflation_rate</td>\n",
       "      <td>1.033722</td>\n",
       "    </tr>\n",
       "  </tbody>\n",
       "</table>\n",
       "</div>"
      ],
      "text/plain": [
       "                                          Variable       VIF\n",
       "11             curricular_units_2nd_sem_(approved)  8.773690\n",
       "5              curricular_units_1st_sem_(approved)  8.762912\n",
       "12                curricular_units_2nd_sem_(grade)  5.430531\n",
       "6                 curricular_units_1st_sem_(grade)  4.650342\n",
       "9              curricular_units_2nd_sem_(enrolled)  3.509112\n",
       "4           curricular_units_1st_sem_(evaluations)  3.285054\n",
       "8              curricular_units_2nd_sem_(credited)  3.211705\n",
       "10          curricular_units_2nd_sem_(evaluations)  3.139909\n",
       "7   curricular_units_1st_sem_(without_evaluations)  1.677152\n",
       "2                                  admission_grade  1.602561\n",
       "13  curricular_units_2nd_sem_(without_evaluations)  1.567868\n",
       "1                   previous_qualification_(grade)  1.543831\n",
       "16                                             gdp  1.231772\n",
       "14                               unemployment_rate  1.189266\n",
       "3                                age_at_enrollment  1.173691\n",
       "0                           previous_qualification  1.145658\n",
       "15                                  inflation_rate  1.033722"
      ]
     },
     "execution_count": 18,
     "metadata": {},
     "output_type": "execute_result"
    }
   ],
   "source": [
    "considered_features.remove('curricular_units_1st_sem_(credited)')\n",
    "compute_vif(considered_features)\n",
    "compute_vif(considered_features).sort_values('VIF', ascending=False)"
   ]
  },
  {
   "cell_type": "code",
   "execution_count": 19,
   "id": "a9650908",
   "metadata": {
    "colab": {
     "base_uri": "https://localhost:8080/",
     "height": 0
    },
    "executionInfo": {
     "elapsed": 185,
     "status": "ok",
     "timestamp": 1656491968238,
     "user": {
      "displayName": "mojgun shabani",
      "userId": "06361705429287830778"
     },
     "user_tz": -120
    },
    "id": "a9650908",
    "outputId": "4ef2d8ba-035b-4253-f5de-5753bc82f710"
   },
   "outputs": [
    {
     "name": "stderr",
     "output_type": "stream",
     "text": [
      "/var/folders/_z/gw3f_k0d08zctss1m54yb4pc0000gn/T/ipykernel_96848/3876592948.py:4: SettingWithCopyWarning: \n",
      "A value is trying to be set on a copy of a slice from a DataFrame.\n",
      "Try using .loc[row_indexer,col_indexer] = value instead\n",
      "\n",
      "See the caveats in the documentation: https://pandas.pydata.org/pandas-docs/stable/user_guide/indexing.html#returning-a-view-versus-a-copy\n",
      "  X['intercept'] = 1\n"
     ]
    },
    {
     "data": {
      "text/html": [
       "<div>\n",
       "<style scoped>\n",
       "    .dataframe tbody tr th:only-of-type {\n",
       "        vertical-align: middle;\n",
       "    }\n",
       "\n",
       "    .dataframe tbody tr th {\n",
       "        vertical-align: top;\n",
       "    }\n",
       "\n",
       "    .dataframe thead th {\n",
       "        text-align: right;\n",
       "    }\n",
       "</style>\n",
       "<table border=\"1\" class=\"dataframe\">\n",
       "  <thead>\n",
       "    <tr style=\"text-align: right;\">\n",
       "      <th></th>\n",
       "      <th>Variable</th>\n",
       "      <th>VIF</th>\n",
       "    </tr>\n",
       "  </thead>\n",
       "  <tbody>\n",
       "    <tr>\n",
       "      <th>5</th>\n",
       "      <td>curricular_units_1st_sem_(approved)</td>\n",
       "      <td>5.857220</td>\n",
       "    </tr>\n",
       "    <tr>\n",
       "      <th>6</th>\n",
       "      <td>curricular_units_1st_sem_(grade)</td>\n",
       "      <td>4.525994</td>\n",
       "    </tr>\n",
       "    <tr>\n",
       "      <th>11</th>\n",
       "      <td>curricular_units_2nd_sem_(grade)</td>\n",
       "      <td>3.832838</td>\n",
       "    </tr>\n",
       "    <tr>\n",
       "      <th>4</th>\n",
       "      <td>curricular_units_1st_sem_(evaluations)</td>\n",
       "      <td>3.278628</td>\n",
       "    </tr>\n",
       "    <tr>\n",
       "      <th>8</th>\n",
       "      <td>curricular_units_2nd_sem_(credited)</td>\n",
       "      <td>3.181203</td>\n",
       "    </tr>\n",
       "    <tr>\n",
       "      <th>9</th>\n",
       "      <td>curricular_units_2nd_sem_(enrolled)</td>\n",
       "      <td>3.134100</td>\n",
       "    </tr>\n",
       "    <tr>\n",
       "      <th>10</th>\n",
       "      <td>curricular_units_2nd_sem_(evaluations)</td>\n",
       "      <td>3.038389</td>\n",
       "    </tr>\n",
       "    <tr>\n",
       "      <th>7</th>\n",
       "      <td>curricular_units_1st_sem_(without_evaluations)</td>\n",
       "      <td>1.676292</td>\n",
       "    </tr>\n",
       "    <tr>\n",
       "      <th>2</th>\n",
       "      <td>admission_grade</td>\n",
       "      <td>1.599957</td>\n",
       "    </tr>\n",
       "    <tr>\n",
       "      <th>12</th>\n",
       "      <td>curricular_units_2nd_sem_(without_evaluations)</td>\n",
       "      <td>1.567375</td>\n",
       "    </tr>\n",
       "    <tr>\n",
       "      <th>1</th>\n",
       "      <td>previous_qualification_(grade)</td>\n",
       "      <td>1.543337</td>\n",
       "    </tr>\n",
       "    <tr>\n",
       "      <th>15</th>\n",
       "      <td>gdp</td>\n",
       "      <td>1.230873</td>\n",
       "    </tr>\n",
       "    <tr>\n",
       "      <th>13</th>\n",
       "      <td>unemployment_rate</td>\n",
       "      <td>1.187790</td>\n",
       "    </tr>\n",
       "    <tr>\n",
       "      <th>3</th>\n",
       "      <td>age_at_enrollment</td>\n",
       "      <td>1.157066</td>\n",
       "    </tr>\n",
       "    <tr>\n",
       "      <th>0</th>\n",
       "      <td>previous_qualification</td>\n",
       "      <td>1.140922</td>\n",
       "    </tr>\n",
       "    <tr>\n",
       "      <th>14</th>\n",
       "      <td>inflation_rate</td>\n",
       "      <td>1.031887</td>\n",
       "    </tr>\n",
       "  </tbody>\n",
       "</table>\n",
       "</div>"
      ],
      "text/plain": [
       "                                          Variable       VIF\n",
       "5              curricular_units_1st_sem_(approved)  5.857220\n",
       "6                 curricular_units_1st_sem_(grade)  4.525994\n",
       "11                curricular_units_2nd_sem_(grade)  3.832838\n",
       "4           curricular_units_1st_sem_(evaluations)  3.278628\n",
       "8              curricular_units_2nd_sem_(credited)  3.181203\n",
       "9              curricular_units_2nd_sem_(enrolled)  3.134100\n",
       "10          curricular_units_2nd_sem_(evaluations)  3.038389\n",
       "7   curricular_units_1st_sem_(without_evaluations)  1.676292\n",
       "2                                  admission_grade  1.599957\n",
       "12  curricular_units_2nd_sem_(without_evaluations)  1.567375\n",
       "1                   previous_qualification_(grade)  1.543337\n",
       "15                                             gdp  1.230873\n",
       "13                               unemployment_rate  1.187790\n",
       "3                                age_at_enrollment  1.157066\n",
       "0                           previous_qualification  1.140922\n",
       "14                                  inflation_rate  1.031887"
      ]
     },
     "execution_count": 19,
     "metadata": {},
     "output_type": "execute_result"
    }
   ],
   "source": [
    "considered_features.remove('curricular_units_2nd_sem_(approved)')\n",
    "compute_vif(considered_features)\n",
    "compute_vif(considered_features).sort_values('VIF', ascending=False)"
   ]
  },
  {
   "cell_type": "code",
   "execution_count": 20,
   "id": "a9d0debd",
   "metadata": {
    "colab": {
     "base_uri": "https://localhost:8080/",
     "height": 0
    },
    "executionInfo": {
     "elapsed": 1545,
     "status": "ok",
     "timestamp": 1656491969606,
     "user": {
      "displayName": "mojgun shabani",
      "userId": "06361705429287830778"
     },
     "user_tz": -120
    },
    "id": "a9d0debd",
    "outputId": "3c6cb75c-d6f5-43f1-86cc-4a49e3f23bea"
   },
   "outputs": [
    {
     "name": "stderr",
     "output_type": "stream",
     "text": [
      "/var/folders/_z/gw3f_k0d08zctss1m54yb4pc0000gn/T/ipykernel_96848/3876592948.py:4: SettingWithCopyWarning: \n",
      "A value is trying to be set on a copy of a slice from a DataFrame.\n",
      "Try using .loc[row_indexer,col_indexer] = value instead\n",
      "\n",
      "See the caveats in the documentation: https://pandas.pydata.org/pandas-docs/stable/user_guide/indexing.html#returning-a-view-versus-a-copy\n",
      "  X['intercept'] = 1\n"
     ]
    },
    {
     "data": {
      "text/html": [
       "<div>\n",
       "<style scoped>\n",
       "    .dataframe tbody tr th:only-of-type {\n",
       "        vertical-align: middle;\n",
       "    }\n",
       "\n",
       "    .dataframe tbody tr th {\n",
       "        vertical-align: top;\n",
       "    }\n",
       "\n",
       "    .dataframe thead th {\n",
       "        text-align: right;\n",
       "    }\n",
       "</style>\n",
       "<table border=\"1\" class=\"dataframe\">\n",
       "  <thead>\n",
       "    <tr style=\"text-align: right;\">\n",
       "      <th></th>\n",
       "      <th>Variable</th>\n",
       "      <th>VIF</th>\n",
       "    </tr>\n",
       "  </thead>\n",
       "  <tbody>\n",
       "    <tr>\n",
       "      <th>5</th>\n",
       "      <td>curricular_units_1st_sem_(grade)</td>\n",
       "      <td>3.767078</td>\n",
       "    </tr>\n",
       "    <tr>\n",
       "      <th>10</th>\n",
       "      <td>curricular_units_2nd_sem_(grade)</td>\n",
       "      <td>3.484976</td>\n",
       "    </tr>\n",
       "    <tr>\n",
       "      <th>4</th>\n",
       "      <td>curricular_units_1st_sem_(evaluations)</td>\n",
       "      <td>3.262878</td>\n",
       "    </tr>\n",
       "    <tr>\n",
       "      <th>9</th>\n",
       "      <td>curricular_units_2nd_sem_(evaluations)</td>\n",
       "      <td>3.031362</td>\n",
       "    </tr>\n",
       "    <tr>\n",
       "      <th>8</th>\n",
       "      <td>curricular_units_2nd_sem_(enrolled)</td>\n",
       "      <td>2.686019</td>\n",
       "    </tr>\n",
       "    <tr>\n",
       "      <th>7</th>\n",
       "      <td>curricular_units_2nd_sem_(credited)</td>\n",
       "      <td>2.206704</td>\n",
       "    </tr>\n",
       "    <tr>\n",
       "      <th>6</th>\n",
       "      <td>curricular_units_1st_sem_(without_evaluations)</td>\n",
       "      <td>1.675945</td>\n",
       "    </tr>\n",
       "    <tr>\n",
       "      <th>2</th>\n",
       "      <td>admission_grade</td>\n",
       "      <td>1.599179</td>\n",
       "    </tr>\n",
       "    <tr>\n",
       "      <th>11</th>\n",
       "      <td>curricular_units_2nd_sem_(without_evaluations)</td>\n",
       "      <td>1.558737</td>\n",
       "    </tr>\n",
       "    <tr>\n",
       "      <th>1</th>\n",
       "      <td>previous_qualification_(grade)</td>\n",
       "      <td>1.542052</td>\n",
       "    </tr>\n",
       "    <tr>\n",
       "      <th>14</th>\n",
       "      <td>gdp</td>\n",
       "      <td>1.230715</td>\n",
       "    </tr>\n",
       "    <tr>\n",
       "      <th>12</th>\n",
       "      <td>unemployment_rate</td>\n",
       "      <td>1.182460</td>\n",
       "    </tr>\n",
       "    <tr>\n",
       "      <th>3</th>\n",
       "      <td>age_at_enrollment</td>\n",
       "      <td>1.145777</td>\n",
       "    </tr>\n",
       "    <tr>\n",
       "      <th>0</th>\n",
       "      <td>previous_qualification</td>\n",
       "      <td>1.131179</td>\n",
       "    </tr>\n",
       "    <tr>\n",
       "      <th>13</th>\n",
       "      <td>inflation_rate</td>\n",
       "      <td>1.031887</td>\n",
       "    </tr>\n",
       "  </tbody>\n",
       "</table>\n",
       "</div>"
      ],
      "text/plain": [
       "                                          Variable       VIF\n",
       "5                 curricular_units_1st_sem_(grade)  3.767078\n",
       "10                curricular_units_2nd_sem_(grade)  3.484976\n",
       "4           curricular_units_1st_sem_(evaluations)  3.262878\n",
       "9           curricular_units_2nd_sem_(evaluations)  3.031362\n",
       "8              curricular_units_2nd_sem_(enrolled)  2.686019\n",
       "7              curricular_units_2nd_sem_(credited)  2.206704\n",
       "6   curricular_units_1st_sem_(without_evaluations)  1.675945\n",
       "2                                  admission_grade  1.599179\n",
       "11  curricular_units_2nd_sem_(without_evaluations)  1.558737\n",
       "1                   previous_qualification_(grade)  1.542052\n",
       "14                                             gdp  1.230715\n",
       "12                               unemployment_rate  1.182460\n",
       "3                                age_at_enrollment  1.145777\n",
       "0                           previous_qualification  1.131179\n",
       "13                                  inflation_rate  1.031887"
      ]
     },
     "execution_count": 20,
     "metadata": {},
     "output_type": "execute_result"
    }
   ],
   "source": [
    "considered_features.remove('curricular_units_1st_sem_(approved)')\n",
    "compute_vif(considered_features)\n",
    "compute_vif(considered_features).sort_values('VIF', ascending=False)"
   ]
  },
  {
   "cell_type": "code",
   "execution_count": 21,
   "id": "e19d1bae",
   "metadata": {
    "executionInfo": {
     "elapsed": 76,
     "status": "ok",
     "timestamp": 1656491969619,
     "user": {
      "displayName": "mojgun shabani",
      "userId": "06361705429287830778"
     },
     "user_tz": -120
    },
    "id": "e19d1bae"
   },
   "outputs": [],
   "source": [
    "#Drop multiculinarity from Numerical\n",
    "num=num.drop(['curricular_units_1st_sem_(enrolled)',\n",
    "             'curricular_units_1st_sem_(credited)',\n",
    "             'curricular_units_2nd_sem_(approved)',\n",
    "             'curricular_units_1st_sem_(approved)'],axis=1)"
   ]
  },
  {
   "cell_type": "markdown",
   "id": "322b5b0a",
   "metadata": {
    "id": "322b5b0a"
   },
   "source": [
    "## Removing Outliers"
   ]
  },
  {
   "cell_type": "code",
   "execution_count": 22,
   "id": "3fd2eabd",
   "metadata": {
    "colab": {
     "base_uri": "https://localhost:8080/",
     "height": 0
    },
    "executionInfo": {
     "elapsed": 1148,
     "status": "ok",
     "timestamp": 1656491974124,
     "user": {
      "displayName": "mojgun shabani",
      "userId": "06361705429287830778"
     },
     "user_tz": -120
    },
    "id": "3fd2eabd",
    "outputId": "ceb51a7f-7f76-4ef3-e504-483ad683f336",
    "scrolled": false
   },
   "outputs": [
    {
     "data": {
      "image/png": "[encoded data removed]",
      "text/plain": [
       "<Figure size 432x288 with 1 Axes>"
      ]
     },
     "metadata": {
      "needs_background": "light"
     },
     "output_type": "display_data"
    },
    {
     "data": {
      "image/png": "[encoded data removed]",
      "text/plain": [
       "<Figure size 432x288 with 1 Axes>"
      ]
     },
     "metadata": {
      "needs_background": "light"
     },
     "output_type": "display_data"
    },
    {
     "data": {
      "image/png": "[encoded data removed]",
      "text/plain": [
       "<Figure size 432x288 with 1 Axes>"
      ]
     },
     "metadata": {
      "needs_background": "light"
     },
     "output_type": "display_data"
    },
    {
     "data": {
      "image/png": "[encoded data removed]",
      "text/plain": [
       "<Figure size 432x288 with 1 Axes>"
      ]
     },
     "metadata": {
      "needs_background": "light"
     },
     "output_type": "display_data"
    },
    {
     "data": {
      "image/png": "[encoded data removed]",
      "text/plain": [
       "<Figure size 432x288 with 1 Axes>"
      ]
     },
     "metadata": {
      "needs_background": "light"
     },
     "output_type": "display_data"
    },
    {
     "data": {
      "image/png": "[encoded data removed]",
      "text/plain": [
       "<Figure size 432x288 with 1 Axes>"
      ]
     },
     "metadata": {
      "needs_background": "light"
     },
     "output_type": "display_data"
    },
    {
     "data": {
      "image/png": "[encoded data removed]",
      "text/plain": [
       "<Figure size 432x288 with 1 Axes>"
      ]
     },
     "metadata": {
      "needs_background": "light"
     },
     "output_type": "display_data"
    },
    {
     "data": {
      "image/png": "[encoded data removed]",
      "text/plain": [
       "<Figure size 432x288 with 1 Axes>"
      ]
     },
     "metadata": {
      "needs_background": "light"
     },
     "output_type": "display_data"
    },
    {
     "data": {
      "image/png": "[encoded data removed]",
      "text/plain": [
       "<Figure size 432x288 with 1 Axes>"
      ]
     },
     "metadata": {
      "needs_background": "light"
     },
     "output_type": "display_data"
    },
    {
     "data": {
      "image/png": "[encoded data removed]",
      "text/plain": [
       "<Figure size 432x288 with 1 Axes>"
      ]
     },
     "metadata": {
      "needs_background": "light"
     },
     "output_type": "display_data"
    },
    {
     "data": {
      "image/png": "[encoded data removed]",
      "text/plain": [
       "<Figure size 432x288 with 1 Axes>"
      ]
     },
     "metadata": {
      "needs_background": "light"
     },
     "output_type": "display_data"
    },
    {
     "data": {
      "image/png": "[encoded data removed]",
      "text/plain": [
       "<Figure size 432x288 with 1 Axes>"
      ]
     },
     "metadata": {
      "needs_background": "light"
     },
     "output_type": "display_data"
    },
    {
     "data": {
      "image/png": "[encoded data removed]",
      "text/plain": [
       "<Figure size 432x288 with 1 Axes>"
      ]
     },
     "metadata": {
      "needs_background": "light"
     },
     "output_type": "display_data"
    },
    {
     "data": {
      "image/png": "[encoded data removed]",
      "text/plain": [
       "<Figure size 432x288 with 1 Axes>"
      ]
     },
     "metadata": {
      "needs_background": "light"
     },
     "output_type": "display_data"
    },
    {
     "data": {
      "image/png": "[encoded data removed]",
      "text/plain": [
       "<Figure size 432x288 with 1 Axes>"
      ]
     },
     "metadata": {
      "needs_background": "light"
     },
     "output_type": "display_data"
    }
   ],
   "source": [
    "def plot_num(df):\n",
    "    col=list(df.columns)\n",
    "    for i in range(len(col)):\n",
    "        sns.boxplot(x =df[col[i]], data = df) \n",
    "        plt.show()\n",
    "plot_num(num)"
   ]
  },
  {
   "cell_type": "code",
   "execution_count": 23,
   "id": "e824d4d9",
   "metadata": {
    "colab": {
     "base_uri": "https://localhost:8080/"
    },
    "executionInfo": {
     "elapsed": 53,
     "status": "ok",
     "timestamp": 1656491974130,
     "user": {
      "displayName": "mojgun shabani",
      "userId": "06361705429287830778"
     },
     "user_tz": -120
    },
    "id": "e824d4d9",
    "outputId": "4f761437-045c-4646-cbd3-58dfbc7c413b"
   },
   "outputs": [
    {
     "data": {
      "text/plain": [
       "(4423, 15)"
      ]
     },
     "execution_count": 23,
     "metadata": {},
     "output_type": "execute_result"
    }
   ],
   "source": [
    "# Age\n",
    "num[num['age_at_enrollment']>65]['age_at_enrollment'].value_counts()\n",
    "num=num[num['age_at_enrollment']<=65]\n",
    "num.shape"
   ]
  },
  {
   "cell_type": "code",
   "execution_count": 24,
   "id": "789baaa2",
   "metadata": {
    "colab": {
     "base_uri": "https://localhost:8080/"
    },
    "executionInfo": {
     "elapsed": 47,
     "status": "ok",
     "timestamp": 1656491974131,
     "user": {
      "displayName": "mojgun shabani",
      "userId": "06361705429287830778"
     },
     "user_tz": -120
    },
    "id": "789baaa2",
    "outputId": "9cd52c90-6526-4614-8d24-2f78ae8b0d3e"
   },
   "outputs": [
    {
     "data": {
      "text/plain": [
       "Index(['previous_qualification', 'previous_qualification_(grade)',\n",
       "       'admission_grade', 'age_at_enrollment',\n",
       "       'curricular_units_1st_sem_(evaluations)',\n",
       "       'curricular_units_1st_sem_(grade)',\n",
       "       'curricular_units_1st_sem_(without_evaluations)',\n",
       "       'curricular_units_2nd_sem_(credited)',\n",
       "       'curricular_units_2nd_sem_(enrolled)',\n",
       "       'curricular_units_2nd_sem_(evaluations)',\n",
       "       'curricular_units_2nd_sem_(grade)',\n",
       "       'curricular_units_2nd_sem_(without_evaluations)', 'unemployment_rate',\n",
       "       'inflation_rate', 'gdp'],\n",
       "      dtype='object')"
      ]
     },
     "execution_count": 24,
     "metadata": {},
     "output_type": "execute_result"
    }
   ],
   "source": [
    "num.columns"
   ]
  },
  {
   "cell_type": "markdown",
   "id": "e880adc7",
   "metadata": {
    "id": "e880adc7"
   },
   "source": [
    "# Categorical"
   ]
  },
  {
   "cell_type": "code",
   "execution_count": 25,
   "id": "da5ad72a",
   "metadata": {
    "executionInfo": {
     "elapsed": 45,
     "status": "ok",
     "timestamp": 1656491974131,
     "user": {
      "displayName": "mojgun shabani",
      "userId": "06361705429287830778"
     },
     "user_tz": -120
    },
    "id": "da5ad72a"
   },
   "outputs": [],
   "source": [
    "def plot_cat(df):\n",
    "    col=list(df.columns)\n",
    "    fig,ax=plt.subplots(int(np.ceil(len(col)/2)),2 ,figsize=(15,25))\n",
    "    plt.subplots_adjust(left=0.1,\n",
    "                    bottom=0.1, \n",
    "                    right=0.9, \n",
    "                    top=0.9, \n",
    "                    wspace=0.4, \n",
    "                    hspace=0.5)\n",
    "    j=0\n",
    "    k=0\n",
    "    for i in range(len(col)):\n",
    "        chart=sns.countplot(x=df[col[i]],data=df,ax=ax[j,k])\n",
    "        chart.set_xticklabels(chart.get_xticklabels(), rotation=45)\n",
    "        k=k+1\n",
    "        if k>=2:\n",
    "            j=j+1\n",
    "            k=0"
   ]
  },
  {
   "cell_type": "code",
   "execution_count": 26,
   "id": "0132ea02",
   "metadata": {
    "colab": {
     "base_uri": "https://localhost:8080/",
     "height": 0
    },
    "executionInfo": {
     "elapsed": 2974,
     "status": "ok",
     "timestamp": 1656491977060,
     "user": {
      "displayName": "mojgun shabani",
      "userId": "06361705429287830778"
     },
     "user_tz": -120
    },
    "id": "0132ea02",
    "outputId": "ae9e49b7-d749-4707-8002-f3a8359c6585"
   },
   "outputs": [
    {
     "data": {
      "image/png": "[encoded data removed]",
      "text/plain": [
       "<Figure size 1080x1800 with 18 Axes>"
      ]
     },
     "metadata": {
      "needs_background": "light"
     },
     "output_type": "display_data"
    }
   ],
   "source": [
    "plot_cat(cat)"
   ]
  },
  {
   "cell_type": "markdown",
   "id": "e77497a0",
   "metadata": {
    "id": "e77497a0"
   },
   "source": [
    "# X,Y"
   ]
  },
  {
   "cell_type": "code",
   "execution_count": 27,
   "id": "ad899212",
   "metadata": {
    "colab": {
     "base_uri": "https://localhost:8080/"
    },
    "executionInfo": {
     "elapsed": 61,
     "status": "ok",
     "timestamp": 1656491977061,
     "user": {
      "displayName": "mojgun shabani",
      "userId": "06361705429287830778"
     },
     "user_tz": -120
    },
    "id": "ad899212",
    "outputId": "1dce69c6-659e-4948-c946-7050f397207a"
   },
   "outputs": [
    {
     "name": "stdout",
     "output_type": "stream",
     "text": [
      "(4423, 18)\n",
      "(4423, 15)\n"
     ]
    }
   ],
   "source": [
    "# Removing rows in cat which we delete in numerical removing outliers\n",
    "#cat.loc[cat.index.isin(numerical.index),'HandsetPrice'] = numerical.HandsetPrice\n",
    "cols=cat.columns\n",
    "cat_df = pd.DataFrame(cat, columns=cols, index =num.index)\n",
    "num_df=num\n",
    "print(cat_df.shape)\n",
    "print(num_df.shape)"
   ]
  },
  {
   "cell_type": "code",
   "execution_count": 28,
   "id": "0208860d",
   "metadata": {
    "colab": {
     "base_uri": "https://localhost:8080/"
    },
    "executionInfo": {
     "elapsed": 25,
     "status": "ok",
     "timestamp": 1656491979188,
     "user": {
      "displayName": "mojgun shabani",
      "userId": "06361705429287830778"
     },
     "user_tz": -120
    },
    "id": "0208860d",
    "outputId": "1810a648-1960-409e-c0d1-ac2ea2ac0145"
   },
   "outputs": [
    {
     "data": {
      "text/plain": [
       "(4423, 32)"
      ]
     },
     "execution_count": 28,
     "metadata": {},
     "output_type": "execute_result"
    }
   ],
   "source": [
    "X=pd.concat([cat_df,num_df], axis=1) \n",
    "Y=X['target']\n",
    "X=X.drop('target',axis=1)\n",
    "X.shape\n"
   ]
  },
  {
   "cell_type": "markdown",
   "id": "e94a19c4",
   "metadata": {
    "id": "e94a19c4"
   },
   "source": [
    "# Train & Test Split"
   ]
  },
  {
   "cell_type": "code",
   "execution_count": 29,
   "id": "269b897d",
   "metadata": {
    "executionInfo": {
     "elapsed": 20,
     "status": "ok",
     "timestamp": 1656491981811,
     "user": {
      "displayName": "mojgun shabani",
      "userId": "06361705429287830778"
     },
     "user_tz": -120
    },
    "id": "269b897d"
   },
   "outputs": [],
   "source": [
    "X_train, X_test, y_train, y_test = train_test_split(X, Y, test_size=0.2, random_state=42)"
   ]
  },
  {
   "cell_type": "markdown",
   "id": "0e3e9c16",
   "metadata": {
    "id": "0e3e9c16"
   },
   "source": [
    "# Normalizing"
   ]
  },
  {
   "cell_type": "code",
   "execution_count": 30,
   "id": "97338ac4",
   "metadata": {
    "executionInfo": {
     "elapsed": 11,
     "status": "ok",
     "timestamp": 1656491985262,
     "user": {
      "displayName": "mojgun shabani",
      "userId": "06361705429287830778"
     },
     "user_tz": -120
    },
    "id": "97338ac4"
   },
   "outputs": [],
   "source": [
    "def normal(name,X_train,y_train,X_test,y_test):\n",
    "    \n",
    "    while ( name not in ['MinMaxScaler','PowerTransformer','StandardScaler']):\n",
    "        value = input(\"Incorrect transformer name, please enter a valid one: [1:'MinMaxScaler',2:'PowerTransformer',3:'StandardScaler']\")\n",
    "        if ( value == '1'):\n",
    "            name = \"MinMaxScaler\"\n",
    "        elif ( value == '2'):\n",
    "            name = \"PowerTransformer\"\n",
    "        elif ( value == \"3\"):\n",
    "            name = \"StandardScaler\"\n",
    "        else:\n",
    "            name = None\n",
    "    X_train_num = X_train.select_dtypes(include = np.number)\n",
    "    X_test_num  = X_test.select_dtypes(include = np.number)\n",
    "    X_train_cat = X_train.select_dtypes(include = 'object')\n",
    "    X_test_cat  = X_test.select_dtypes(include = 'object')  \n",
    "    encoder = OneHotEncoder(drop='first',handle_unknown='ignore')\n",
    "    encoder.fit(X_train_cat)\n",
    "    \n",
    "    X_train_cat_encoded = encoder.transform(X_train_cat).toarray()\n",
    "    cols = encoder.get_feature_names_out(input_features=X_train_cat.columns)\n",
    "    X_train_encoded_df = pd.DataFrame(X_train_cat_encoded, columns=cols, index = X_train_cat.index)\n",
    "    X_train_encoded = pd.concat([X_train_encoded_df,X_train_num], axis=1)\n",
    "    \n",
    "    X_test_cat_encoded = encoder.transform(X_test_cat).toarray()\n",
    "    X_test_cat_encoded_df = pd.DataFrame(X_test_cat_encoded,columns=cols, index = X_test_cat.index)\n",
    "    X_test_encoded = pd.concat([X_test_cat_encoded_df,X_test_num], axis=1)\n",
    "        \n",
    "    if name==\"MinMaxScaler\":\n",
    "        transformer = MinMaxScaler()\n",
    "        transformer.fit(X_train_encoded)\n",
    "    elif name==\"PowerTransformer\":\n",
    "        transformer = PowerTransformer()\n",
    "        transformer.fit(X_train_encoded)\n",
    "    elif name=='StandardScaler':\n",
    "        transformer = StandardScaler()\n",
    "        transformer.fit(X_train_encoded)\n",
    "        \n",
    "    X_train_scaled_total = transformer.transform(X_train_encoded)\n",
    "    X_train_scaled_total_df = pd.DataFrame(X_train_scaled_total, columns = X_train_encoded.columns)\n",
    "    X_test_scaled_total  = transformer.transform(X_test_encoded)\n",
    "    X_test_scaled_total_df = pd.DataFrame(X_test_scaled_total, columns= X_test_encoded.columns)\n",
    "\n",
    "    \n",
    "    return X_train_scaled_total_df, X_test_scaled_total_df"
   ]
  },
  {
   "cell_type": "code",
   "execution_count": 31,
   "id": "8b12914d",
   "metadata": {
    "colab": {
     "base_uri": "https://localhost:8080/"
    },
    "executionInfo": {
     "elapsed": 11,
     "status": "ok",
     "timestamp": 1656491997089,
     "user": {
      "displayName": "mojgun shabani",
      "userId": "06361705429287830778"
     },
     "user_tz": -120
    },
    "id": "8b12914d",
    "outputId": "0b0cf928-1c78-4258-a465-a35ecc62918f"
   },
   "outputs": [
    {
     "name": "stderr",
     "output_type": "stream",
     "text": [
      "/Users/mojgun/opt/anaconda3/lib/python3.9/site-packages/sklearn/preprocessing/_encoders.py:188: UserWarning: Found unknown categories in columns [7, 8, 9] during transform. These unknown categories will be encoded as all zeros\n",
      "  warnings.warn(\n"
     ]
    }
   ],
   "source": [
    "X_train, X_test=normal('MinMaxScaler',X_train,y_train,X_test,y_test)"
   ]
  },
  {
   "cell_type": "code",
   "execution_count": 32,
   "id": "fd0db501",
   "metadata": {
    "colab": {
     "base_uri": "https://localhost:8080/"
    },
    "executionInfo": {
     "elapsed": 387,
     "status": "ok",
     "timestamp": 1656425310567,
     "user": {
      "displayName": "mojgun shabani",
      "userId": "06361705429287830778"
     },
     "user_tz": -120
    },
    "id": "fd0db501",
    "outputId": "8d76c7c4-0e71-46b2-cb94-edf0702e5cb5"
   },
   "outputs": [
    {
     "data": {
      "text/plain": [
       "0"
      ]
     },
     "execution_count": 32,
     "metadata": {},
     "output_type": "execute_result"
    }
   ],
   "source": [
    "sum(X_train.isna().sum())"
   ]
  },
  {
   "cell_type": "code",
   "execution_count": 33,
   "id": "d85a3b3b",
   "metadata": {
    "colab": {
     "base_uri": "https://localhost:8080/"
    },
    "executionInfo": {
     "elapsed": 410,
     "status": "ok",
     "timestamp": 1656425312398,
     "user": {
      "displayName": "mojgun shabani",
      "userId": "06361705429287830778"
     },
     "user_tz": -120
    },
    "id": "d85a3b3b",
    "outputId": "a83b519e-0ade-46e3-fd97-c26e43a2880b"
   },
   "outputs": [
    {
     "data": {
      "text/plain": [
       "0"
      ]
     },
     "execution_count": 33,
     "metadata": {},
     "output_type": "execute_result"
    }
   ],
   "source": [
    "y_train.isna().sum()"
   ]
  },
  {
   "cell_type": "code",
   "execution_count": 34,
   "id": "63e559ab",
   "metadata": {
    "colab": {
     "base_uri": "https://localhost:8080/"
    },
    "executionInfo": {
     "elapsed": 10,
     "status": "ok",
     "timestamp": 1656425314583,
     "user": {
      "displayName": "mojgun shabani",
      "userId": "06361705429287830778"
     },
     "user_tz": -120
    },
    "id": "63e559ab",
    "outputId": "8e62aada-62c0-42f4-9326-8b46a990951c"
   },
   "outputs": [
    {
     "data": {
      "text/plain": [
       "(3538,)"
      ]
     },
     "execution_count": 34,
     "metadata": {},
     "output_type": "execute_result"
    }
   ],
   "source": [
    "y_train.shape"
   ]
  },
  {
   "cell_type": "code",
   "execution_count": 35,
   "id": "3a3930e7",
   "metadata": {
    "colab": {
     "base_uri": "https://localhost:8080/"
    },
    "executionInfo": {
     "elapsed": 364,
     "status": "ok",
     "timestamp": 1656425317117,
     "user": {
      "displayName": "mojgun shabani",
      "userId": "06361705429287830778"
     },
     "user_tz": -120
    },
    "id": "3a3930e7",
    "outputId": "434985a1-9cf8-49ee-8cfe-d9c6ba8aefc1"
   },
   "outputs": [
    {
     "data": {
      "text/plain": [
       "(885,)"
      ]
     },
     "execution_count": 35,
     "metadata": {},
     "output_type": "execute_result"
    }
   ],
   "source": [
    "y_test.shape"
   ]
  },
  {
   "cell_type": "markdown",
   "id": "a01ce1f5",
   "metadata": {
    "id": "a01ce1f5"
   },
   "source": [
    "# UP Sampling"
   ]
  },
  {
   "cell_type": "code",
   "execution_count": 36,
   "id": "2bf2669c",
   "metadata": {
    "colab": {
     "base_uri": "https://localhost:8080/"
    },
    "executionInfo": {
     "elapsed": 17,
     "status": "ok",
     "timestamp": 1656492006306,
     "user": {
      "displayName": "mojgun shabani",
      "userId": "06361705429287830778"
     },
     "user_tz": -120
    },
    "id": "2bf2669c",
    "outputId": "8ace35f9-35ea-4e23-aae7-d035cfb08cef"
   },
   "outputs": [
    {
     "data": {
      "text/plain": [
       "Graduate    3003\n",
       "Dropout     1421\n",
       "Name: target, dtype: int64"
      ]
     },
     "execution_count": 36,
     "metadata": {},
     "output_type": "execute_result"
    }
   ],
   "source": [
    "#We have Class inbalance so we are foing to do Upsampling\n",
    "data['target'].value_counts()"
   ]
  },
  {
   "cell_type": "code",
   "execution_count": 37,
   "id": "4af865cd",
   "metadata": {
    "colab": {
     "base_uri": "https://localhost:8080/"
    },
    "executionInfo": {
     "elapsed": 15,
     "status": "ok",
     "timestamp": 1656492006307,
     "user": {
      "displayName": "mojgun shabani",
      "userId": "06361705429287830778"
     },
     "user_tz": -120
    },
    "id": "4af865cd",
    "outputId": "e006a9da-5ed1-46a0-9a54-a9852122165f"
   },
   "outputs": [
    {
     "name": "stdout",
     "output_type": "stream",
     "text": [
      "(2403, 218)\n",
      "(1135, 218)\n",
      "(2403, 218)\n"
     ]
    }
   ],
   "source": [
    "trainset = pd.concat([X_train.reset_index(drop=True), y_train.reset_index(drop=True)], axis=1)\n",
    "# Manual way to Upsampling Dropout:\n",
    "category_G = trainset[trainset['target']=='Graduate']\n",
    "print(category_G.shape)\n",
    "category_D = trainset[trainset['target']== 'Dropout' ]\n",
    "print(category_D.shape)\n",
    "category_up=category_D.sample(len(trainset[trainset['target']=='Graduate']),replace=True)\n",
    "print(category_up.shape)"
   ]
  },
  {
   "cell_type": "code",
   "execution_count": 38,
   "id": "b5c4d8c2",
   "metadata": {
    "colab": {
     "base_uri": "https://localhost:8080/"
    },
    "executionInfo": {
     "elapsed": 59,
     "status": "ok",
     "timestamp": 1656335597143,
     "user": {
      "displayName": "mojgun shabani",
      "userId": "06361705429287830778"
     },
     "user_tz": -120
    },
    "id": "b5c4d8c2",
    "outputId": "73d19f4a-a21b-40a8-aa0d-79aee59f57b8"
   },
   "outputs": [
    {
     "data": {
      "text/plain": [
       "0"
      ]
     },
     "execution_count": 38,
     "metadata": {},
     "output_type": "execute_result"
    }
   ],
   "source": [
    "sum(X_train.isna().sum())"
   ]
  },
  {
   "cell_type": "code",
   "execution_count": 39,
   "id": "721f17c1",
   "metadata": {
    "colab": {
     "base_uri": "https://localhost:8080/"
    },
    "executionInfo": {
     "elapsed": 33,
     "status": "ok",
     "timestamp": 1656492008143,
     "user": {
      "displayName": "mojgun shabani",
      "userId": "06361705429287830778"
     },
     "user_tz": -120
    },
    "id": "721f17c1",
    "outputId": "c90d0c2b-99c3-4d0d-9ec3-c23a1847b59a"
   },
   "outputs": [
    {
     "name": "stdout",
     "output_type": "stream",
     "text": [
      "(4806, 217)\n",
      "(885, 217)\n",
      "(4806,)\n",
      "(885,)\n"
     ]
    }
   ],
   "source": [
    "# Concatinate and Train & test Spli\n",
    "#concatinate\n",
    "trainset_new = pd.concat([category_G, category_up], axis = 0)\n",
    "trainset_new = trainset_new.sample(frac =1) #randomize the rows\n",
    "X_train_up = trainset_new.drop(['target'], axis=1)\n",
    "y_train_up = trainset_new['target']\n",
    "#data = data.reset_index(drop=True)\n",
    "print(X_train_up.shape)\n",
    "print(X_test.shape)\n",
    "print(y_train_up.shape)\n",
    "print(y_test.shape)"
   ]
  },
  {
   "cell_type": "code",
   "execution_count": 40,
   "id": "346e8a7b",
   "metadata": {
    "colab": {
     "base_uri": "https://localhost:8080/"
    },
    "executionInfo": {
     "elapsed": 443,
     "status": "ok",
     "timestamp": 1656407899935,
     "user": {
      "displayName": "mojgun shabani",
      "userId": "06361705429287830778"
     },
     "user_tz": -120
    },
    "id": "346e8a7b",
    "outputId": "ed7734bc-ddb4-4225-9a9c-6b1834707dba"
   },
   "outputs": [
    {
     "data": {
      "text/plain": [
       "0"
      ]
     },
     "execution_count": 40,
     "metadata": {},
     "output_type": "execute_result"
    }
   ],
   "source": [
    "sum(X_train_up.isna().sum())"
   ]
  },
  {
   "cell_type": "markdown",
   "id": "f70f7bba",
   "metadata": {
    "id": "f70f7bba"
   },
   "source": [
    "# Predictions"
   ]
  },
  {
   "cell_type": "markdown",
   "id": "ce0a48e8",
   "metadata": {
    "id": "ce0a48e8"
   },
   "source": [
    "## RandomForestClassifier"
   ]
  },
  {
   "cell_type": "code",
   "execution_count": 41,
   "id": "7c519f9a",
   "metadata": {
    "colab": {
     "base_uri": "https://localhost:8080/"
    },
    "executionInfo": {
     "elapsed": 577,
     "status": "ok",
     "timestamp": 1656335597664,
     "user": {
      "displayName": "mojgun shabani",
      "userId": "06361705429287830778"
     },
     "user_tz": -120
    },
    "id": "7c519f9a",
    "outputId": "94c89301-f110-4078-9a0f-ae01be091171"
   },
   "outputs": [
    {
     "data": {
      "text/html": [
       "<style>#sk-container-id-1 {color: black;background-color: white;}#sk-container-id-1 pre{padding: 0;}#sk-container-id-1 div.sk-toggleable {background-color: white;}#sk-container-id-1 label.sk-toggleable__label {cursor: pointer;display: block;width: 100%;margin-bottom: 0;padding: 0.3em;box-sizing: border-box;text-align: center;}#sk-container-id-1 label.sk-toggleable__label-arrow:before {content: \"▸\";float: left;margin-right: 0.25em;color: #696969;}#sk-container-id-1 label.sk-toggleable__label-arrow:hover:before {color: black;}#sk-container-id-1 div.sk-estimator:hover label.sk-toggleable__label-arrow:before {color: black;}#sk-container-id-1 div.sk-toggleable__content {max-height: 0;max-width: 0;overflow: hidden;text-align: left;background-color: #f0f8ff;}#sk-container-id-1 div.sk-toggleable__content pre {margin: 0.2em;color: black;border-radius: 0.25em;background-color: #f0f8ff;}#sk-container-id-1 input.sk-toggleable__control:checked~div.sk-toggleable__content {max-height: 200px;max-width: 100%;overflow: auto;}#sk-container-id-1 input.sk-toggleable__control:checked~label.sk-toggleable__label-arrow:before {content: \"▾\";}#sk-container-id-1 div.sk-estimator input.sk-toggleable__control:checked~label.sk-toggleable__label {background-color: #d4ebff;}#sk-container-id-1 div.sk-label input.sk-toggleable__control:checked~label.sk-toggleable__label {background-color: #d4ebff;}#sk-container-id-1 input.sk-hidden--visually {border: 0;clip: rect(1px 1px 1px 1px);clip: rect(1px, 1px, 1px, 1px);height: 1px;margin: -1px;overflow: hidden;padding: 0;position: absolute;width: 1px;}#sk-container-id-1 div.sk-estimator {font-family: monospace;background-color: #f0f8ff;border: 1px dotted black;border-radius: 0.25em;box-sizing: border-box;margin-bottom: 0.5em;}#sk-container-id-1 div.sk-estimator:hover {background-color: #d4ebff;}#sk-container-id-1 div.sk-parallel-item::after {content: \"\";width: 100%;border-bottom: 1px solid gray;flex-grow: 1;}#sk-container-id-1 div.sk-label:hover label.sk-toggleable__label {background-color: #d4ebff;}#sk-container-id-1 div.sk-serial::before {content: \"\";position: absolute;border-left: 1px solid gray;box-sizing: border-box;top: 0;bottom: 0;left: 50%;z-index: 0;}#sk-container-id-1 div.sk-serial {display: flex;flex-direction: column;align-items: center;background-color: white;padding-right: 0.2em;padding-left: 0.2em;position: relative;}#sk-container-id-1 div.sk-item {position: relative;z-index: 1;}#sk-container-id-1 div.sk-parallel {display: flex;align-items: stretch;justify-content: center;background-color: white;position: relative;}#sk-container-id-1 div.sk-item::before, #sk-container-id-1 div.sk-parallel-item::before {content: \"\";position: absolute;border-left: 1px solid gray;box-sizing: border-box;top: 0;bottom: 0;left: 50%;z-index: -1;}#sk-container-id-1 div.sk-parallel-item {display: flex;flex-direction: column;z-index: 1;position: relative;background-color: white;}#sk-container-id-1 div.sk-parallel-item:first-child::after {align-self: flex-end;width: 50%;}#sk-container-id-1 div.sk-parallel-item:last-child::after {align-self: flex-start;width: 50%;}#sk-container-id-1 div.sk-parallel-item:only-child::after {width: 0;}#sk-container-id-1 div.sk-dashed-wrapped {border: 1px dashed gray;margin: 0 0.4em 0.5em 0.4em;box-sizing: border-box;padding-bottom: 0.4em;background-color: white;}#sk-container-id-1 div.sk-label label {font-family: monospace;font-weight: bold;display: inline-block;line-height: 1.2em;}#sk-container-id-1 div.sk-label-container {text-align: center;}#sk-container-id-1 div.sk-container {/* jupyter's `normalize.less` sets `[hidden] { display: none; }` but bootstrap.min.css set `[hidden] { display: none !important; }` so we also need the `!important` here to be able to override the default hidden behavior on the sphinx rendered scikit-learn.org. See: https://github.com/scikit-learn/scikit-learn/issues/21755 */display: inline-block !important;position: relative;}#sk-container-id-1 div.sk-text-repr-fallback {display: none;}</style><div id=\"sk-container-id-1\" class=\"sk-top-container\"><div class=\"sk-text-repr-fallback\"><pre>RandomForestClassifier(max_depth=3, max_samples=0.5, min_samples_leaf=2,\n",
       "                       min_samples_split=4, random_state=10)</pre><b>In a Jupyter environment, please rerun this cell to show the HTML representation or trust the notebook. <br />On GitHub, the HTML representation is unable to render, please try loading this page with nbviewer.org.</b></div><div class=\"sk-container\" hidden><div class=\"sk-item\"><div class=\"sk-estimator sk-toggleable\"><input class=\"sk-toggleable__control sk-hidden--visually\" id=\"sk-estimator-id-1\" type=\"checkbox\" checked><label for=\"sk-estimator-id-1\" class=\"sk-toggleable__label sk-toggleable__label-arrow\">RandomForestClassifier</label><div class=\"sk-toggleable__content\"><pre>RandomForestClassifier(max_depth=3, max_samples=0.5, min_samples_leaf=2,\n",
       "                       min_samples_split=4, random_state=10)</pre></div></div></div></div></div>"
      ],
      "text/plain": [
       "RandomForestClassifier(max_depth=3, max_samples=0.5, min_samples_leaf=2,\n",
       "                       min_samples_split=4, random_state=10)"
      ]
     },
     "execution_count": 41,
     "metadata": {},
     "output_type": "execute_result"
    }
   ],
   "source": [
    "rfc = RandomForestClassifier(max_depth=3,\n",
    "                             min_samples_split=4,\n",
    "                             min_samples_leaf =2,\n",
    "                             max_samples=0.5,\n",
    "                             random_state = 10)\n",
    "rfc.fit(X_train_up, y_train_up)\n",
    "\n"
   ]
  },
  {
   "cell_type": "code",
   "execution_count": 42,
   "id": "9b7cd878",
   "metadata": {
    "colab": {
     "base_uri": "https://localhost:8080/",
     "height": 139
    },
    "executionInfo": {
     "elapsed": 38,
     "status": "ok",
     "timestamp": 1656335597665,
     "user": {
      "displayName": "mojgun shabani",
      "userId": "06361705429287830778"
     },
     "user_tz": -120
    },
    "id": "9b7cd878",
    "outputId": "bd3878f7-7b0e-4ccc-eee1-57b4518b6acd"
   },
   "outputs": [
    {
     "name": "stdout",
     "output_type": "stream",
     "text": [
      "The accuracy for the Random Forest in the TRAIN set is 0.81\n",
      "The accuracy for the Random Forest in the TEST  set is 0.84\n"
     ]
    },
    {
     "data": {
      "text/plain": [
       "Graduate    600\n",
       "Dropout     285\n",
       "Name: target, dtype: int64"
      ]
     },
     "metadata": {},
     "output_type": "display_data"
    },
    {
     "data": {
      "text/plain": [
       "array([[208,  77],\n",
       "       [ 65, 535]])"
      ]
     },
     "metadata": {},
     "output_type": "display_data"
    }
   ],
   "source": [
    "print(\"The accuracy for the Random Forest in the TRAIN set is {:.2f}\".format(rfc.score(X_train_up, y_train_up)))\n",
    "print(\"The accuracy for the Random Forest in the TEST  set is {:.2f}\".format(rfc.score(X_test, y_test)))\n",
    "\n",
    "y_pred = rfc.predict(X_test)\n",
    "y_pred_train = rfc.predict(X_train_up)\n",
    "display(y_test.value_counts())\n",
    "display(confusion_matrix(y_test, y_pred))\n",
    "conf_m=confusion_matrix(y_test, y_pred)"
   ]
  },
  {
   "cell_type": "code",
   "execution_count": 43,
   "id": "e27cc41d",
   "metadata": {
    "colab": {
     "base_uri": "https://localhost:8080/",
     "height": 279
    },
    "executionInfo": {
     "elapsed": 32,
     "status": "ok",
     "timestamp": 1656335597665,
     "user": {
      "displayName": "mojgun shabani",
      "userId": "06361705429287830778"
     },
     "user_tz": -120
    },
    "id": "e27cc41d",
    "outputId": "bca43a87-8837-41eb-8119-8fa29aec5d3c"
   },
   "outputs": [
    {
     "data": {
      "image/png": "[encoded data removed]",
      "text/plain": [
       "<Figure size 432x288 with 2 Axes>"
      ]
     },
     "metadata": {
      "needs_background": "light"
     },
     "output_type": "display_data"
    }
   ],
   "source": [
    "cm_train = confusion_matrix(y_test,y_pred)\n",
    "cm_train\n",
    "disp = ConfusionMatrixDisplay(cm_train,display_labels=rfc.classes_);\n",
    "disp.plot()\n",
    "plt.show()"
   ]
  },
  {
   "cell_type": "markdown",
   "id": "ce030791",
   "metadata": {
    "id": "ce030791"
   },
   "source": [
    "## Grid Search"
   ]
  },
  {
   "cell_type": "markdown",
   "id": "Hb7fl_JuVJhD",
   "metadata": {
    "id": "Hb7fl_JuVJhD"
   },
   "source": [
    "### Grid_Search(Num1)"
   ]
  },
  {
   "cell_type": "code",
   "execution_count": 91,
   "id": "d01097d1",
   "metadata": {
    "executionInfo": {
     "elapsed": 32,
     "status": "ok",
     "timestamp": 1656335597666,
     "user": {
      "displayName": "mojgun shabani",
      "userId": "06361705429287830778"
     },
     "user_tz": -120
    },
    "id": "d01097d1"
   },
   "outputs": [],
   "source": [
    "param_grid = {\n",
    "    'n_estimators' : [100, 300],\n",
    "    'min_samples_split': [3, 5, 10], \n",
    "    'max_features': [3, 5, 10, 20],\n",
    "    'max_depth': [3, 5, 15, 25]\n",
    "}\n",
    "model = RandomForestClassifier()"
   ]
  },
  {
   "cell_type": "code",
   "execution_count": 324,
   "id": "9XMUfO7Ctiwv",
   "metadata": {
    "executionInfo": {
     "elapsed": 277,
     "status": "ok",
     "timestamp": 1656421355730,
     "user": {
      "displayName": "mojgun shabani",
      "userId": "06361705429287830778"
     },
     "user_tz": -120
    },
    "id": "9XMUfO7Ctiwv"
   },
   "outputs": [],
   "source": [
    "precision_score=make_scorer(precision_score,greater_is_better=True,pos_label=\"Dropout\")\n",
    "recall_scorer = make_scorer(recall_score, greater_is_better=True,pos_label=\"Dropout\")\n",
    "kappa_scorer= make_scorer(cohen_kappa_score,greater_is_better=True)"
   ]
  },
  {
   "cell_type": "code",
   "execution_count": null,
   "id": "8560ede7",
   "metadata": {
    "id": "8560ede7"
   },
   "outputs": [],
   "source": [
    "grid_search = GridSearchCV(estimator = model, param_grid =param_grid , cv = 5,scoring=recall_scorer, verbose=10, refit=True,n_jobs=100)\n",
    "grid_search.fit(X_train_up.values, y_train_up.values)"
   ]
  },
  {
   "cell_type": "code",
   "execution_count": 94,
   "id": "6sAduHQ6KrpY",
   "metadata": {
    "colab": {
     "base_uri": "https://localhost:8080/"
    },
    "executionInfo": {
     "elapsed": 47,
     "status": "ok",
     "timestamp": 1656336053470,
     "user": {
      "displayName": "mojgun shabani",
      "userId": "06361705429287830778"
     },
     "user_tz": -120
    },
    "id": "6sAduHQ6KrpY",
    "outputId": "60ad29f6-3ef2-4b42-b798-b27dfd1eb826"
   },
   "outputs": [
    {
     "data": {
      "text/plain": [
       "{'max_depth': 25,\n",
       " 'max_features': 20,\n",
       " 'min_samples_split': 3,\n",
       " 'n_estimators': 300}"
      ]
     },
     "execution_count": 94,
     "metadata": {},
     "output_type": "execute_result"
    }
   ],
   "source": [
    "grid_search.best_params_"
   ]
  },
  {
   "cell_type": "code",
   "execution_count": 44,
   "id": "227dUyjRKwkg",
   "metadata": {
    "colab": {
     "base_uri": "https://localhost:8080/"
    },
    "executionInfo": {
     "elapsed": 43,
     "status": "ok",
     "timestamp": 1656336053471,
     "user": {
      "displayName": "mojgun shabani",
      "userId": "06361705429287830778"
     },
     "user_tz": -120
    },
    "id": "227dUyjRKwkg",
    "outputId": "5695507c-c3c9-4a32-e911-7ffbb871b56c"
   },
   "outputs": [
    {
     "data": {
      "text/html": [
       "<style>#sk-container-id-2 {color: black;background-color: white;}#sk-container-id-2 pre{padding: 0;}#sk-container-id-2 div.sk-toggleable {background-color: white;}#sk-container-id-2 label.sk-toggleable__label {cursor: pointer;display: block;width: 100%;margin-bottom: 0;padding: 0.3em;box-sizing: border-box;text-align: center;}#sk-container-id-2 label.sk-toggleable__label-arrow:before {content: \"▸\";float: left;margin-right: 0.25em;color: #696969;}#sk-container-id-2 label.sk-toggleable__label-arrow:hover:before {color: black;}#sk-container-id-2 div.sk-estimator:hover label.sk-toggleable__label-arrow:before {color: black;}#sk-container-id-2 div.sk-toggleable__content {max-height: 0;max-width: 0;overflow: hidden;text-align: left;background-color: #f0f8ff;}#sk-container-id-2 div.sk-toggleable__content pre {margin: 0.2em;color: black;border-radius: 0.25em;background-color: #f0f8ff;}#sk-container-id-2 input.sk-toggleable__control:checked~div.sk-toggleable__content {max-height: 200px;max-width: 100%;overflow: auto;}#sk-container-id-2 input.sk-toggleable__control:checked~label.sk-toggleable__label-arrow:before {content: \"▾\";}#sk-container-id-2 div.sk-estimator input.sk-toggleable__control:checked~label.sk-toggleable__label {background-color: #d4ebff;}#sk-container-id-2 div.sk-label input.sk-toggleable__control:checked~label.sk-toggleable__label {background-color: #d4ebff;}#sk-container-id-2 input.sk-hidden--visually {border: 0;clip: rect(1px 1px 1px 1px);clip: rect(1px, 1px, 1px, 1px);height: 1px;margin: -1px;overflow: hidden;padding: 0;position: absolute;width: 1px;}#sk-container-id-2 div.sk-estimator {font-family: monospace;background-color: #f0f8ff;border: 1px dotted black;border-radius: 0.25em;box-sizing: border-box;margin-bottom: 0.5em;}#sk-container-id-2 div.sk-estimator:hover {background-color: #d4ebff;}#sk-container-id-2 div.sk-parallel-item::after {content: \"\";width: 100%;border-bottom: 1px solid gray;flex-grow: 1;}#sk-container-id-2 div.sk-label:hover label.sk-toggleable__label {background-color: #d4ebff;}#sk-container-id-2 div.sk-serial::before {content: \"\";position: absolute;border-left: 1px solid gray;box-sizing: border-box;top: 0;bottom: 0;left: 50%;z-index: 0;}#sk-container-id-2 div.sk-serial {display: flex;flex-direction: column;align-items: center;background-color: white;padding-right: 0.2em;padding-left: 0.2em;position: relative;}#sk-container-id-2 div.sk-item {position: relative;z-index: 1;}#sk-container-id-2 div.sk-parallel {display: flex;align-items: stretch;justify-content: center;background-color: white;position: relative;}#sk-container-id-2 div.sk-item::before, #sk-container-id-2 div.sk-parallel-item::before {content: \"\";position: absolute;border-left: 1px solid gray;box-sizing: border-box;top: 0;bottom: 0;left: 50%;z-index: -1;}#sk-container-id-2 div.sk-parallel-item {display: flex;flex-direction: column;z-index: 1;position: relative;background-color: white;}#sk-container-id-2 div.sk-parallel-item:first-child::after {align-self: flex-end;width: 50%;}#sk-container-id-2 div.sk-parallel-item:last-child::after {align-self: flex-start;width: 50%;}#sk-container-id-2 div.sk-parallel-item:only-child::after {width: 0;}#sk-container-id-2 div.sk-dashed-wrapped {border: 1px dashed gray;margin: 0 0.4em 0.5em 0.4em;box-sizing: border-box;padding-bottom: 0.4em;background-color: white;}#sk-container-id-2 div.sk-label label {font-family: monospace;font-weight: bold;display: inline-block;line-height: 1.2em;}#sk-container-id-2 div.sk-label-container {text-align: center;}#sk-container-id-2 div.sk-container {/* jupyter's `normalize.less` sets `[hidden] { display: none; }` but bootstrap.min.css set `[hidden] { display: none !important; }` so we also need the `!important` here to be able to override the default hidden behavior on the sphinx rendered scikit-learn.org. See: https://github.com/scikit-learn/scikit-learn/issues/21755 */display: inline-block !important;position: relative;}#sk-container-id-2 div.sk-text-repr-fallback {display: none;}</style><div id=\"sk-container-id-2\" class=\"sk-top-container\"><div class=\"sk-text-repr-fallback\"><pre>RandomForestClassifier(max_depth=3, max_features=3, min_samples_split=3)</pre><b>In a Jupyter environment, please rerun this cell to show the HTML representation or trust the notebook. <br />On GitHub, the HTML representation is unable to render, please try loading this page with nbviewer.org.</b></div><div class=\"sk-container\" hidden><div class=\"sk-item\"><div class=\"sk-estimator sk-toggleable\"><input class=\"sk-toggleable__control sk-hidden--visually\" id=\"sk-estimator-id-2\" type=\"checkbox\" checked><label for=\"sk-estimator-id-2\" class=\"sk-toggleable__label sk-toggleable__label-arrow\">RandomForestClassifier</label><div class=\"sk-toggleable__content\"><pre>RandomForestClassifier(max_depth=3, max_features=3, min_samples_split=3)</pre></div></div></div></div></div>"
      ],
      "text/plain": [
       "RandomForestClassifier(max_depth=3, max_features=3, min_samples_split=3)"
      ]
     },
     "execution_count": 44,
     "metadata": {},
     "output_type": "execute_result"
    }
   ],
   "source": [
    "rfc = RandomForestClassifier(max_depth=3,\n",
    "                             max_features= 3,\n",
    "                             min_samples_split=3,\n",
    "                             n_estimators=100,\n",
    "                             )\n",
    "rfc.fit(X_train_up, y_train_up)"
   ]
  },
  {
   "cell_type": "code",
   "execution_count": 45,
   "id": "Xncg3d3RK2Ts",
   "metadata": {
    "colab": {
     "base_uri": "https://localhost:8080/",
     "height": 104
    },
    "executionInfo": {
     "elapsed": 47,
     "status": "ok",
     "timestamp": 1656336053478,
     "user": {
      "displayName": "mojgun shabani",
      "userId": "06361705429287830778"
     },
     "user_tz": -120
    },
    "id": "Xncg3d3RK2Ts",
    "outputId": "b4453a41-77be-4048-bf66-56235b6dfbb4"
   },
   "outputs": [
    {
     "data": {
      "text/plain": [
       "Graduate    600\n",
       "Dropout     285\n",
       "Name: target, dtype: int64"
      ]
     },
     "metadata": {},
     "output_type": "display_data"
    },
    {
     "data": {
      "text/plain": [
       "array([[211,  74],\n",
       "       [ 85, 515]])"
      ]
     },
     "metadata": {},
     "output_type": "display_data"
    }
   ],
   "source": [
    "y_pred = rfc.predict(X_test)\n",
    "y_pred_train = rfc.predict(X_train_up)\n",
    "display(y_test.value_counts())\n",
    "display(confusion_matrix(y_test, y_pred))\n",
    "conf_m=confusion_matrix(y_test, y_pred)"
   ]
  },
  {
   "cell_type": "code",
   "execution_count": 46,
   "id": "G6QWtwMZK6Z0",
   "metadata": {
    "colab": {
     "base_uri": "https://localhost:8080/",
     "height": 279
    },
    "executionInfo": {
     "elapsed": 659,
     "status": "ok",
     "timestamp": 1656336054092,
     "user": {
      "displayName": "mojgun shabani",
      "userId": "06361705429287830778"
     },
     "user_tz": -120
    },
    "id": "G6QWtwMZK6Z0",
    "outputId": "de23da1a-4abf-4d3e-950f-425940342e7d"
   },
   "outputs": [
    {
     "data": {
      "image/png": "[encoded data removed]",
      "text/plain": [
       "<Figure size 432x288 with 2 Axes>"
      ]
     },
     "metadata": {
      "needs_background": "light"
     },
     "output_type": "display_data"
    }
   ],
   "source": [
    "cm_train = confusion_matrix(y_test,y_pred)\n",
    "cm_train\n",
    "disp = ConfusionMatrixDisplay(cm_train,display_labels=rfc.classes_);\n",
    "disp.plot()\n",
    "plt.show()"
   ]
  },
  {
   "cell_type": "markdown",
   "id": "EWcGR80-WA-0",
   "metadata": {
    "id": "EWcGR80-WA-0"
   },
   "source": [
    "###Grid_Search(Num2)"
   ]
  },
  {
   "cell_type": "code",
   "execution_count": 98,
   "id": "seWkOEv2Rw7g",
   "metadata": {
    "executionInfo": {
     "elapsed": 178,
     "status": "ok",
     "timestamp": 1656336054124,
     "user": {
      "displayName": "mojgun shabani",
      "userId": "06361705429287830778"
     },
     "user_tz": -120
    },
    "id": "seWkOEv2Rw7g"
   },
   "outputs": [],
   "source": [
    "param_grid = {\n",
    "    'min_samples_split' : [2,3,4,5],\n",
    "    'min_samples_leaf': [2,3,4], \n",
    "    'max_samples': [0.25,0.5], \n",
    "    'random_state' :[5,10,20,30],\n",
    "    'max_features': [3, 5, 10, 20],\n",
    "    'max_depth': [3, 5, 15, 25]\n",
    "}\n",
    "model = RandomForestClassifier()"
   ]
  },
  {
   "cell_type": "code",
   "execution_count": 99,
   "id": "fi9zhlssRzBx",
   "metadata": {
    "colab": {
     "base_uri": "https://localhost:8080/"
    },
    "executionInfo": {
     "elapsed": 2087473,
     "status": "ok",
     "timestamp": 1656338141420,
     "user": {
      "displayName": "mojgun shabani",
      "userId": "06361705429287830778"
     },
     "user_tz": -120
    },
    "id": "fi9zhlssRzBx",
    "outputId": "4ae2e7e5-98c2-4fe4-b263-0f7b6e9e77fa"
   },
   "outputs": [
    {
     "name": "stdout",
     "output_type": "stream",
     "text": [
      "Fitting 5 folds for each of 1536 candidates, totalling 7680 fits\n"
     ]
    },
    {
     "data": {
      "text/plain": [
       "GridSearchCV(cv=5, estimator=RandomForestClassifier(), n_jobs=12,\n",
       "             param_grid={'max_depth': [3, 5, 15, 25],\n",
       "                         'max_features': [3, 5, 10, 20],\n",
       "                         'max_samples': [0.25, 0.5],\n",
       "                         'min_samples_leaf': [2, 3, 4],\n",
       "                         'min_samples_split': [2, 3, 4, 5],\n",
       "                         'random_state': [5, 10, 20, 30]},\n",
       "             scoring=make_scorer(recall_score, pos_label=Dropout), verbose=10)"
      ]
     },
     "execution_count": 99,
     "metadata": {},
     "output_type": "execute_result"
    }
   ],
   "source": [
    "grid_search = GridSearchCV(estimator = model, param_grid =param_grid , cv = 5,scoring=recall_scorer, verbose=10, refit=True,n_jobs=12)\n",
    "grid_search.fit(X_train_up.values, y_train_up.values)"
   ]
  },
  {
   "cell_type": "code",
   "execution_count": 100,
   "id": "uwFiv5GZcpBK",
   "metadata": {
    "colab": {
     "base_uri": "https://localhost:8080/"
    },
    "executionInfo": {
     "elapsed": 294,
     "status": "ok",
     "timestamp": 1656338172762,
     "user": {
      "displayName": "mojgun shabani",
      "userId": "06361705429287830778"
     },
     "user_tz": -120
    },
    "id": "uwFiv5GZcpBK",
    "outputId": "6a9b0075-5503-49a1-e213-d10dcf9d9df2"
   },
   "outputs": [
    {
     "data": {
      "text/plain": [
       "{'max_depth': 25,\n",
       " 'max_features': 20,\n",
       " 'max_samples': 0.5,\n",
       " 'min_samples_leaf': 2,\n",
       " 'min_samples_split': 2,\n",
       " 'random_state': 5}"
      ]
     },
     "execution_count": 100,
     "metadata": {},
     "output_type": "execute_result"
    }
   ],
   "source": [
    "grid_search.best_params_"
   ]
  },
  {
   "cell_type": "code",
   "execution_count": 47,
   "id": "JF3DjbULcxNY",
   "metadata": {
    "colab": {
     "base_uri": "https://localhost:8080/"
    },
    "executionInfo": {
     "elapsed": 1138,
     "status": "ok",
     "timestamp": 1656338239799,
     "user": {
      "displayName": "mojgun shabani",
      "userId": "06361705429287830778"
     },
     "user_tz": -120
    },
    "id": "JF3DjbULcxNY",
    "outputId": "6ed51f0d-cb4e-4cee-a7eb-ef5444583e10"
   },
   "outputs": [
    {
     "data": {
      "text/html": [
       "<style>#sk-container-id-3 {color: black;background-color: white;}#sk-container-id-3 pre{padding: 0;}#sk-container-id-3 div.sk-toggleable {background-color: white;}#sk-container-id-3 label.sk-toggleable__label {cursor: pointer;display: block;width: 100%;margin-bottom: 0;padding: 0.3em;box-sizing: border-box;text-align: center;}#sk-container-id-3 label.sk-toggleable__label-arrow:before {content: \"▸\";float: left;margin-right: 0.25em;color: #696969;}#sk-container-id-3 label.sk-toggleable__label-arrow:hover:before {color: black;}#sk-container-id-3 div.sk-estimator:hover label.sk-toggleable__label-arrow:before {color: black;}#sk-container-id-3 div.sk-toggleable__content {max-height: 0;max-width: 0;overflow: hidden;text-align: left;background-color: #f0f8ff;}#sk-container-id-3 div.sk-toggleable__content pre {margin: 0.2em;color: black;border-radius: 0.25em;background-color: #f0f8ff;}#sk-container-id-3 input.sk-toggleable__control:checked~div.sk-toggleable__content {max-height: 200px;max-width: 100%;overflow: auto;}#sk-container-id-3 input.sk-toggleable__control:checked~label.sk-toggleable__label-arrow:before {content: \"▾\";}#sk-container-id-3 div.sk-estimator input.sk-toggleable__control:checked~label.sk-toggleable__label {background-color: #d4ebff;}#sk-container-id-3 div.sk-label input.sk-toggleable__control:checked~label.sk-toggleable__label {background-color: #d4ebff;}#sk-container-id-3 input.sk-hidden--visually {border: 0;clip: rect(1px 1px 1px 1px);clip: rect(1px, 1px, 1px, 1px);height: 1px;margin: -1px;overflow: hidden;padding: 0;position: absolute;width: 1px;}#sk-container-id-3 div.sk-estimator {font-family: monospace;background-color: #f0f8ff;border: 1px dotted black;border-radius: 0.25em;box-sizing: border-box;margin-bottom: 0.5em;}#sk-container-id-3 div.sk-estimator:hover {background-color: #d4ebff;}#sk-container-id-3 div.sk-parallel-item::after {content: \"\";width: 100%;border-bottom: 1px solid gray;flex-grow: 1;}#sk-container-id-3 div.sk-label:hover label.sk-toggleable__label {background-color: #d4ebff;}#sk-container-id-3 div.sk-serial::before {content: \"\";position: absolute;border-left: 1px solid gray;box-sizing: border-box;top: 0;bottom: 0;left: 50%;z-index: 0;}#sk-container-id-3 div.sk-serial {display: flex;flex-direction: column;align-items: center;background-color: white;padding-right: 0.2em;padding-left: 0.2em;position: relative;}#sk-container-id-3 div.sk-item {position: relative;z-index: 1;}#sk-container-id-3 div.sk-parallel {display: flex;align-items: stretch;justify-content: center;background-color: white;position: relative;}#sk-container-id-3 div.sk-item::before, #sk-container-id-3 div.sk-parallel-item::before {content: \"\";position: absolute;border-left: 1px solid gray;box-sizing: border-box;top: 0;bottom: 0;left: 50%;z-index: -1;}#sk-container-id-3 div.sk-parallel-item {display: flex;flex-direction: column;z-index: 1;position: relative;background-color: white;}#sk-container-id-3 div.sk-parallel-item:first-child::after {align-self: flex-end;width: 50%;}#sk-container-id-3 div.sk-parallel-item:last-child::after {align-self: flex-start;width: 50%;}#sk-container-id-3 div.sk-parallel-item:only-child::after {width: 0;}#sk-container-id-3 div.sk-dashed-wrapped {border: 1px dashed gray;margin: 0 0.4em 0.5em 0.4em;box-sizing: border-box;padding-bottom: 0.4em;background-color: white;}#sk-container-id-3 div.sk-label label {font-family: monospace;font-weight: bold;display: inline-block;line-height: 1.2em;}#sk-container-id-3 div.sk-label-container {text-align: center;}#sk-container-id-3 div.sk-container {/* jupyter's `normalize.less` sets `[hidden] { display: none; }` but bootstrap.min.css set `[hidden] { display: none !important; }` so we also need the `!important` here to be able to override the default hidden behavior on the sphinx rendered scikit-learn.org. See: https://github.com/scikit-learn/scikit-learn/issues/21755 */display: inline-block !important;position: relative;}#sk-container-id-3 div.sk-text-repr-fallback {display: none;}</style><div id=\"sk-container-id-3\" class=\"sk-top-container\"><div class=\"sk-text-repr-fallback\"><pre>RandomForestClassifier(max_depth=25, max_features=20, max_samples=0.5,\n",
       "                       min_samples_leaf=2, random_state=5)</pre><b>In a Jupyter environment, please rerun this cell to show the HTML representation or trust the notebook. <br />On GitHub, the HTML representation is unable to render, please try loading this page with nbviewer.org.</b></div><div class=\"sk-container\" hidden><div class=\"sk-item\"><div class=\"sk-estimator sk-toggleable\"><input class=\"sk-toggleable__control sk-hidden--visually\" id=\"sk-estimator-id-3\" type=\"checkbox\" checked><label for=\"sk-estimator-id-3\" class=\"sk-toggleable__label sk-toggleable__label-arrow\">RandomForestClassifier</label><div class=\"sk-toggleable__content\"><pre>RandomForestClassifier(max_depth=25, max_features=20, max_samples=0.5,\n",
       "                       min_samples_leaf=2, random_state=5)</pre></div></div></div></div></div>"
      ],
      "text/plain": [
       "RandomForestClassifier(max_depth=25, max_features=20, max_samples=0.5,\n",
       "                       min_samples_leaf=2, random_state=5)"
      ]
     },
     "execution_count": 47,
     "metadata": {},
     "output_type": "execute_result"
    }
   ],
   "source": [
    "rfc = RandomForestClassifier(max_depth= 25,\n",
    "                            max_features =20,\n",
    "                            max_samples= 0.5,\n",
    "                            min_samples_leaf =2,\n",
    "                            min_samples_split=2,\n",
    "                            random_state=5,\n",
    "                             )\n",
    "rfc.fit(X_train_up, y_train_up)"
   ]
  },
  {
   "cell_type": "code",
   "execution_count": 48,
   "id": "Kpw_VEbrc_a3",
   "metadata": {
    "colab": {
     "base_uri": "https://localhost:8080/",
     "height": 104
    },
    "executionInfo": {
     "elapsed": 457,
     "status": "ok",
     "timestamp": 1656338253292,
     "user": {
      "displayName": "mojgun shabani",
      "userId": "06361705429287830778"
     },
     "user_tz": -120
    },
    "id": "Kpw_VEbrc_a3",
    "outputId": "d6029203-8301-4a7a-87f6-4674185133c6"
   },
   "outputs": [
    {
     "data": {
      "text/plain": [
       "Graduate    600\n",
       "Dropout     285\n",
       "Name: target, dtype: int64"
      ]
     },
     "metadata": {},
     "output_type": "display_data"
    },
    {
     "data": {
      "text/plain": [
       "array([[212,  73],\n",
       "       [ 48, 552]])"
      ]
     },
     "metadata": {},
     "output_type": "display_data"
    }
   ],
   "source": [
    "y_pred = rfc.predict(X_test)\n",
    "y_pred_train = rfc.predict(X_train_up)\n",
    "display(y_test.value_counts())\n",
    "display(confusion_matrix(y_test, y_pred))\n",
    "conf_m=confusion_matrix(y_test, y_pred)"
   ]
  },
  {
   "cell_type": "code",
   "execution_count": 49,
   "id": "tJVn8O8HdEyf",
   "metadata": {
    "colab": {
     "base_uri": "https://localhost:8080/",
     "height": 279
    },
    "executionInfo": {
     "elapsed": 845,
     "status": "ok",
     "timestamp": 1656338277078,
     "user": {
      "displayName": "mojgun shabani",
      "userId": "06361705429287830778"
     },
     "user_tz": -120
    },
    "id": "tJVn8O8HdEyf",
    "outputId": "00787ee1-576e-4090-e6ab-014d37b18ce9"
   },
   "outputs": [
    {
     "data": {
      "image/png": "[encoded data removed]",
      "text/plain": [
       "<Figure size 432x288 with 2 Axes>"
      ]
     },
     "metadata": {
      "needs_background": "light"
     },
     "output_type": "display_data"
    }
   ],
   "source": [
    "cm_train = confusion_matrix(y_test,y_pred)\n",
    "cm_train\n",
    "disp = ConfusionMatrixDisplay(cm_train,display_labels=rfc.classes_);\n",
    "disp.plot()\n",
    "plt.show()"
   ]
  },
  {
   "cell_type": "code",
   "execution_count": 50,
   "id": "pjxlYeUrdb7W",
   "metadata": {
    "colab": {
     "base_uri": "https://localhost:8080/"
    },
    "executionInfo": {
     "elapsed": 298,
     "status": "ok",
     "timestamp": 1656339639992,
     "user": {
      "displayName": "mojgun shabani",
      "userId": "06361705429287830778"
     },
     "user_tz": -120
    },
    "id": "pjxlYeUrdb7W",
    "outputId": "9b023d24-87bb-4123-bc3d-28ea4936a777"
   },
   "outputs": [
    {
     "name": "stdout",
     "output_type": "stream",
     "text": [
      "The accuracy of in the TEST  set is: 0.863\n",
      "The recall_score for the DecisionTree in the Train set is  0.74\n",
      "The kappa in of the TEST set is: 0.68\n",
      "The precision_score for the DecisionTree in the Train set is  0.82\n"
     ]
    }
   ],
   "source": [
    "print(\"The accuracy of in the TEST  set is: {:.3f}\".format(accuracy_score(y_test, y_pred)))\n",
    "print(\"The recall_score for the DecisionTree in the Train set is  \"+ str(round(recall_score(y_test, y_pred,pos_label='Dropout'),2)))\n",
    "print(\"The kappa in of the TEST set is: {:.2f}\".format(cohen_kappa_score(y_test,y_pred)))\n",
    "print(\"The precision_score for the DecisionTree in the Train set is  \"+ str(round(precision_score(y_test,y_pred,pos_label='Dropout'),2)))"
   ]
  },
  {
   "cell_type": "markdown",
   "id": "nj47X4J_0Xru",
   "metadata": {
    "id": "nj47X4J_0Xru"
   },
   "source": [
    "#### Important Featurs"
   ]
  },
  {
   "cell_type": "code",
   "execution_count": 51,
   "id": "pBEwWhwtqeEM",
   "metadata": {
    "colab": {
     "base_uri": "https://localhost:8080/"
    },
    "executionInfo": {
     "elapsed": 300,
     "status": "ok",
     "timestamp": 1656342816657,
     "user": {
      "displayName": "mojgun shabani",
      "userId": "06361705429287830778"
     },
     "user_tz": -120
    },
    "id": "pBEwWhwtqeEM",
    "outputId": "6eb28a40-92ea-4dd9-9c7b-c2845ccbdd7e"
   },
   "outputs": [
    {
     "data": {
      "text/plain": [
       "array([2.67035151e-03, 0.00000000e+00, 9.96662213e-04, 9.09268954e-05,\n",
       "       0.00000000e+00, 9.73601748e-05, 0.00000000e+00, 2.99888730e-03,\n",
       "       3.54320983e-04, 6.74999634e-04, 3.92907495e-04, 5.04360281e-03,\n",
       "       1.51470093e-03, 0.00000000e+00, 0.00000000e+00, 7.34459177e-03,\n",
       "       1.32942537e-03, 3.27119458e-03, 1.30043751e-03, 7.88611992e-04,\n",
       "       3.96917504e-04, 0.00000000e+00, 5.26711925e-03, 3.52738272e-03,\n",
       "       2.27933929e-03, 2.16894685e-03, 1.60599221e-03, 1.58764635e-03,\n",
       "       0.00000000e+00, 5.85278466e-03, 1.72838261e-03, 1.55026622e-03,\n",
       "       2.60640383e-03, 3.03455731e-03, 3.09553151e-03, 5.69889888e-03,\n",
       "       2.99342985e-03, 4.89085202e-03, 2.49207358e-03, 8.91182360e-03,\n",
       "       1.23075743e-03, 2.92484089e-03, 2.74083232e-03, 7.47799208e-03,\n",
       "       3.21971224e-03, 2.84930897e-03, 0.00000000e+00, 9.45593992e-06,\n",
       "       0.00000000e+00, 0.00000000e+00, 0.00000000e+00, 9.03201260e-05,\n",
       "       0.00000000e+00, 4.07528073e-05, 2.07957195e-04, 0.00000000e+00,\n",
       "       1.70147477e-04, 0.00000000e+00, 5.33547520e-04, 0.00000000e+00,\n",
       "       7.70796802e-06, 5.31406880e-05, 7.27662814e-05, 6.79615917e-05,\n",
       "       0.00000000e+00, 2.01648967e-03, 9.66162420e-04, 3.37316635e-03,\n",
       "       5.88736360e-04, 6.10709420e-04, 7.51942584e-05, 4.93423578e-05,\n",
       "       5.98740009e-05, 0.00000000e+00, 4.29221360e-04, 9.70521657e-06,\n",
       "       0.00000000e+00, 5.41396478e-03, 0.00000000e+00, 0.00000000e+00,\n",
       "       0.00000000e+00, 6.36642669e-05, 4.01752414e-05, 6.04206101e-03,\n",
       "       1.76683299e-05, 0.00000000e+00, 5.32436967e-03, 3.07421037e-03,\n",
       "       5.96231374e-05, 4.33309344e-04, 8.51909646e-05, 4.21685947e-05,\n",
       "       9.60173365e-06, 5.54260744e-05, 1.77735725e-03, 2.00795618e-03,\n",
       "       1.36577683e-03, 5.41010396e-04, 2.96000661e-05, 0.00000000e+00,\n",
       "       2.48007914e-05, 7.24019079e-07, 2.64766621e-04, 0.00000000e+00,\n",
       "       0.00000000e+00, 0.00000000e+00, 5.72900850e-03, 6.07178774e-05,\n",
       "       0.00000000e+00, 0.00000000e+00, 0.00000000e+00, 0.00000000e+00,\n",
       "       3.34618962e-05, 0.00000000e+00, 3.11775679e-05, 6.30472326e-03,\n",
       "       0.00000000e+00, 3.33304918e-05, 6.07750545e-03, 3.64629814e-03,\n",
       "       2.83183742e-04, 1.01644346e-03, 0.00000000e+00, 0.00000000e+00,\n",
       "       0.00000000e+00, 7.22992684e-04, 2.81652622e-03, 3.17623884e-03,\n",
       "       4.56206315e-03, 3.44048268e-03, 1.01685188e-03, 2.51391834e-03,\n",
       "       9.18306024e-04, 5.80573640e-03, 0.00000000e+00, 5.11293474e-04,\n",
       "       3.31918919e-04, 0.00000000e+00, 6.19150381e-05, 0.00000000e+00,\n",
       "       0.00000000e+00, 0.00000000e+00, 9.48283970e-05, 0.00000000e+00,\n",
       "       0.00000000e+00, 1.02328499e-05, 0.00000000e+00, 0.00000000e+00,\n",
       "       0.00000000e+00, 0.00000000e+00, 6.35647235e-04, 0.00000000e+00,\n",
       "       2.48608421e-05, 1.57133605e-04, 1.42847140e-03, 2.22378462e-03,\n",
       "       3.66815095e-03, 3.87297425e-03, 3.07643944e-03, 2.64432226e-03,\n",
       "       3.53282105e-03, 2.23054313e-03, 4.66341822e-03, 3.05686857e-03,\n",
       "       1.32191898e-03, 3.68701817e-04, 0.00000000e+00, 1.17045971e-05,\n",
       "       1.89464391e-04, 0.00000000e+00, 0.00000000e+00, 0.00000000e+00,\n",
       "       0.00000000e+00, 0.00000000e+00, 0.00000000e+00, 0.00000000e+00,\n",
       "       0.00000000e+00, 0.00000000e+00, 0.00000000e+00, 3.06668097e-05,\n",
       "       0.00000000e+00, 0.00000000e+00, 0.00000000e+00, 0.00000000e+00,\n",
       "       0.00000000e+00, 1.68243408e-04, 0.00000000e+00, 0.00000000e+00,\n",
       "       0.00000000e+00, 0.00000000e+00, 8.13506009e-07, 0.00000000e+00,\n",
       "       1.30432417e-04, 0.00000000e+00, 0.00000000e+00, 6.83627272e-03,\n",
       "       5.77526298e-04, 1.86295980e-02, 7.28030000e-02, 1.86296408e-02,\n",
       "       2.73329458e-02, 1.20939179e-03, 7.96701606e-03, 3.64191123e-02,\n",
       "       3.63640844e-02, 5.09969327e-02, 4.63958536e-02, 1.08947070e-01,\n",
       "       4.54843672e-03, 7.11926353e-03, 2.55125171e-02, 6.03806729e-02,\n",
       "       1.77642801e-01, 4.99825549e-03, 2.05392660e-02, 1.80136219e-02,\n",
       "       2.03936257e-02])"
      ]
     },
     "execution_count": 51,
     "metadata": {},
     "output_type": "execute_result"
    }
   ],
   "source": [
    "importances = rfc.feature_importances_\n",
    "importances"
   ]
  },
  {
   "cell_type": "code",
   "execution_count": 52,
   "id": "qSFROSIbr06h",
   "metadata": {
    "executionInfo": {
     "elapsed": 38,
     "status": "ok",
     "timestamp": 1656343878763,
     "user": {
      "displayName": "mojgun shabani",
      "userId": "06361705429287830778"
     },
     "user_tz": -120
    },
    "id": "qSFROSIbr06h"
   },
   "outputs": [],
   "source": [
    "keys_list=list(X_test.columns)\n",
    "values_list=list(importances)\n",
    "zip_iterator = zip(keys_list, values_list)\n",
    "important = dict(zip_iterator)"
   ]
  },
  {
   "cell_type": "code",
   "execution_count": 53,
   "id": "JABTKwHpwf-d",
   "metadata": {
    "id": "JABTKwHpwf-d"
   },
   "outputs": [
    {
     "data": {
      "text/plain": [
       "{'marital_status_2': 0.0026703515116066174,\n",
       " 'marital_status_3': 0.0,\n",
       " 'marital_status_4': 0.0009966622130279143,\n",
       " 'marital_status_5': 9.092689541300114e-05,\n",
       " 'marital_status_6': 0.0,\n",
       " 'application_mode_2': 9.736017475012059e-05,\n",
       " 'application_mode_5': 0.0,\n",
       " 'application_mode_7': 0.002998887304014079,\n",
       " 'application_mode_10': 0.0003543209828553569,\n",
       " 'application_mode_15': 0.0006749996340803428,\n",
       " 'application_mode_16': 0.00039290749518227497,\n",
       " 'application_mode_17': 0.0050436028146098886,\n",
       " 'application_mode_18': 0.001514700934351447,\n",
       " 'application_mode_26': 0.0,\n",
       " 'application_mode_27': 0.0,\n",
       " 'application_mode_39': 0.007344591767393502,\n",
       " 'application_mode_42': 0.0013294253651036031,\n",
       " 'application_mode_43': 0.0032711945828759748,\n",
       " 'application_mode_44': 0.0013004375137395342,\n",
       " 'application_mode_51': 0.0007886119921953821,\n",
       " 'application_mode_53': 0.00039691750388843846,\n",
       " 'application_mode_57': 0.0,\n",
       " 'application_order_1': 0.005267119246011307,\n",
       " 'application_order_2': 0.00352738272301009,\n",
       " 'application_order_3': 0.0022793392942844276,\n",
       " 'application_order_4': 0.002168946854439391,\n",
       " 'application_order_5': 0.0016059922145325808,\n",
       " 'application_order_6': 0.0015876463454790768,\n",
       " 'application_order_9': 0.0,\n",
       " 'course_171': 0.005852784657808363,\n",
       " 'course_8014': 0.0017283826050521992,\n",
       " 'course_9003': 0.0015502662214840022,\n",
       " 'course_9070': 0.0026064038279804587,\n",
       " 'course_9085': 0.0030345573078278277,\n",
       " 'course_9119': 0.0030955315110769775,\n",
       " 'course_9130': 0.005698898879545846,\n",
       " 'course_9147': 0.0029934298496439448,\n",
       " 'course_9238': 0.004890852016152843,\n",
       " 'course_9254': 0.0024920735755288286,\n",
       " 'course_9500': 0.008911823597537885,\n",
       " 'course_9556': 0.0012307574316383308,\n",
       " 'course_9670': 0.0029248408906849977,\n",
       " 'course_9773': 0.002740832320212518,\n",
       " 'course_9853': 0.007477992076331398,\n",
       " 'course_9991': 0.003219712244928421,\n",
       " 'daytime/evening_attendance_1': 0.0028493089728547022,\n",
       " 'nacionality_2': 0.0,\n",
       " 'nacionality_6': 9.45593991819116e-06,\n",
       " 'nacionality_11': 0.0,\n",
       " 'nacionality_13': 0.0,\n",
       " 'nacionality_14': 0.0,\n",
       " 'nacionality_17': 9.032012595935711e-05,\n",
       " 'nacionality_21': 0.0,\n",
       " 'nacionality_22': 4.075280725784466e-05,\n",
       " 'nacionality_24': 0.00020795719493767236,\n",
       " 'nacionality_25': 0.0,\n",
       " 'nacionality_26': 0.0001701474767339491,\n",
       " 'nacionality_32': 0.0,\n",
       " 'nacionality_41': 0.0005335475197064569,\n",
       " 'nacionality_62': 0.0,\n",
       " 'nacionality_100': 7.70796801916437e-06,\n",
       " 'nacionality_101': 5.314068804982531e-05,\n",
       " 'nacionality_103': 7.276628139783941e-05,\n",
       " 'nacionality_105': 6.796159171358202e-05,\n",
       " 'nacionality_108': 0.0,\n",
       " 'nacionality_109': 0.002016489665628899,\n",
       " 'mother_qualification_2': 0.0009661624197837538,\n",
       " 'mother_qualification_3': 0.003373166347221082,\n",
       " 'mother_qualification_4': 0.0005887363601035231,\n",
       " 'mother_qualification_5': 0.0006107094200764399,\n",
       " 'mother_qualification_6': 7.51942584276648e-05,\n",
       " 'mother_qualification_9': 4.9342357836682746e-05,\n",
       " 'mother_qualification_10': 5.987400090834523e-05,\n",
       " 'mother_qualification_11': 0.0,\n",
       " 'mother_qualification_12': 0.00042922135981769677,\n",
       " 'mother_qualification_14': 9.705216567740806e-06,\n",
       " 'mother_qualification_18': 0.0,\n",
       " 'mother_qualification_19': 0.0054139647789204935,\n",
       " 'mother_qualification_22': 0.0,\n",
       " 'mother_qualification_26': 0.0,\n",
       " 'mother_qualification_27': 0.0,\n",
       " 'mother_qualification_29': 6.366426693240251e-05,\n",
       " 'mother_qualification_30': 4.017524144451831e-05,\n",
       " 'mother_qualification_34': 0.006042061010629314,\n",
       " 'mother_qualification_35': 1.7668329920763365e-05,\n",
       " 'mother_qualification_36': 0.0,\n",
       " 'mother_qualification_37': 0.005324369665692874,\n",
       " 'mother_qualification_38': 0.003074210368802784,\n",
       " 'mother_qualification_39': 5.962313737690496e-05,\n",
       " 'mother_qualification_40': 0.0004333093441967619,\n",
       " 'mother_qualification_41': 8.51909646033787e-05,\n",
       " 'mother_qualification_42': 4.2168594749649215e-05,\n",
       " 'mother_qualification_43': 9.601733646309376e-06,\n",
       " 'mother_qualification_44': 5.54260744213559e-05,\n",
       " 'father_qualification_2': 0.0017773572510333987,\n",
       " 'father_qualification_3': 0.0020079561798314284,\n",
       " 'father_qualification_4': 0.0013657768342893546,\n",
       " 'father_qualification_5': 0.0005410103963893669,\n",
       " 'father_qualification_6': 2.9600066124159697e-05,\n",
       " 'father_qualification_9': 0.0,\n",
       " 'father_qualification_10': 2.4800791350273626e-05,\n",
       " 'father_qualification_11': 7.240190786712394e-07,\n",
       " 'father_qualification_12': 0.0002647666213835684,\n",
       " 'father_qualification_13': 0.0,\n",
       " 'father_qualification_14': 0.0,\n",
       " 'father_qualification_18': 0.0,\n",
       " 'father_qualification_19': 0.005729008495464344,\n",
       " 'father_qualification_20': 6.071787743828033e-05,\n",
       " 'father_qualification_22': 0.0,\n",
       " 'father_qualification_25': 0.0,\n",
       " 'father_qualification_26': 0.0,\n",
       " 'father_qualification_27': 0.0,\n",
       " 'father_qualification_29': 3.346189615925655e-05,\n",
       " 'father_qualification_30': 0.0,\n",
       " 'father_qualification_31': 3.117756788869225e-05,\n",
       " 'father_qualification_34': 0.006304723260417443,\n",
       " 'father_qualification_35': 0.0,\n",
       " 'father_qualification_36': 3.3330491778857106e-05,\n",
       " 'father_qualification_37': 0.006077505449666508,\n",
       " 'father_qualification_38': 0.0036462981376638487,\n",
       " 'father_qualification_39': 0.00028318374232574645,\n",
       " 'father_qualification_40': 0.0010164434584022575,\n",
       " 'father_qualification_42': 0.0,\n",
       " 'father_qualification_43': 0.0,\n",
       " 'father_qualification_44': 0.0,\n",
       " 'mother_occupation_1': 0.0007229926839085243,\n",
       " 'mother_occupation_2': 0.0028165262244048105,\n",
       " 'mother_occupation_3': 0.0031762388368564887,\n",
       " 'mother_occupation_4': 0.004562063154634228,\n",
       " 'mother_occupation_5': 0.0034404826762865176,\n",
       " 'mother_occupation_6': 0.0010168518756015316,\n",
       " 'mother_occupation_7': 0.0025139183413677747,\n",
       " 'mother_occupation_8': 0.0009183060242860901,\n",
       " 'mother_occupation_9': 0.005805736402826891,\n",
       " 'mother_occupation_10': 0.0,\n",
       " 'mother_occupation_90': 0.0005112934737088464,\n",
       " 'mother_occupation_99': 0.00033191891859720395,\n",
       " 'mother_occupation_122': 0.0,\n",
       " 'mother_occupation_123': 6.191503807610717e-05,\n",
       " 'mother_occupation_125': 0.0,\n",
       " 'mother_occupation_131': 0.0,\n",
       " 'mother_occupation_132': 0.0,\n",
       " 'mother_occupation_134': 9.482839700002073e-05,\n",
       " 'mother_occupation_141': 0.0,\n",
       " 'mother_occupation_143': 0.0,\n",
       " 'mother_occupation_144': 1.0232849909248527e-05,\n",
       " 'mother_occupation_151': 0.0,\n",
       " 'mother_occupation_152': 0.0,\n",
       " 'mother_occupation_153': 0.0,\n",
       " 'mother_occupation_175': 0.0,\n",
       " 'mother_occupation_191': 0.0006356472348214236,\n",
       " 'mother_occupation_192': 0.0,\n",
       " 'mother_occupation_193': 2.4860842089559344e-05,\n",
       " 'mother_occupation_194': 0.00015713360542363524,\n",
       " 'father_occupation_1': 0.001428471401024451,\n",
       " 'father_occupation_2': 0.00222378462296974,\n",
       " 'father_occupation_3': 0.003668150945366459,\n",
       " 'father_occupation_4': 0.0038729742503052916,\n",
       " 'father_occupation_5': 0.0030764394361547116,\n",
       " 'father_occupation_6': 0.0026443222617300627,\n",
       " 'father_occupation_7': 0.0035328210456809102,\n",
       " 'father_occupation_8': 0.00223054313192458,\n",
       " 'father_occupation_9': 0.004663418217906971,\n",
       " 'father_occupation_10': 0.0030568685723701013,\n",
       " 'father_occupation_90': 0.0013219189808864023,\n",
       " 'father_occupation_99': 0.0003687018169840105,\n",
       " 'father_occupation_102': 0.0,\n",
       " 'father_occupation_103': 1.170459709623813e-05,\n",
       " 'father_occupation_112': 0.00018946439059990618,\n",
       " 'father_occupation_114': 0.0,\n",
       " 'father_occupation_121': 0.0,\n",
       " 'father_occupation_122': 0.0,\n",
       " 'father_occupation_123': 0.0,\n",
       " 'father_occupation_124': 0.0,\n",
       " 'father_occupation_131': 0.0,\n",
       " 'father_occupation_132': 0.0,\n",
       " 'father_occupation_135': 0.0,\n",
       " 'father_occupation_141': 0.0,\n",
       " 'father_occupation_143': 0.0,\n",
       " 'father_occupation_144': 3.066680972190943e-05,\n",
       " 'father_occupation_151': 0.0,\n",
       " 'father_occupation_152': 0.0,\n",
       " 'father_occupation_153': 0.0,\n",
       " 'father_occupation_154': 0.0,\n",
       " 'father_occupation_163': 0.0,\n",
       " 'father_occupation_171': 0.0001682434082150785,\n",
       " 'father_occupation_172': 0.0,\n",
       " 'father_occupation_174': 0.0,\n",
       " 'father_occupation_175': 0.0,\n",
       " 'father_occupation_181': 0.0,\n",
       " 'father_occupation_182': 8.135060094381382e-07,\n",
       " 'father_occupation_192': 0.0,\n",
       " 'father_occupation_193': 0.00013043241736843518,\n",
       " 'father_occupation_194': 0.0,\n",
       " 'father_occupation_195': 0.0,\n",
       " 'displaced_1': 0.006836272721537421,\n",
       " 'educational_special_needs_1': 0.0005775262984983542,\n",
       " 'debtor_1': 0.018629597969859614,\n",
       " 'tuition_fees_up_to_date_1': 0.07280300003135332,\n",
       " 'gender_1': 0.018629640803643283,\n",
       " 'scholarship_holder_1': 0.027332945786020378,\n",
       " 'international_1': 0.0012093917856956795,\n",
       " 'previous_qualification': 0.007967016063833376,\n",
       " 'previous_qualification_(grade)': 0.03641911226446232,\n",
       " 'admission_grade': 0.036364084417563586,\n",
       " 'age_at_enrollment': 0.05099693271043746,\n",
       " 'curricular_units_1st_sem_(evaluations)': 0.04639585358201967,\n",
       " 'curricular_units_1st_sem_(grade)': 0.10894707000615632,\n",
       " 'curricular_units_1st_sem_(without_evaluations)': 0.004548436720743356,\n",
       " 'curricular_units_2nd_sem_(credited)': 0.007119263534769533,\n",
       " 'curricular_units_2nd_sem_(enrolled)': 0.025512517139204195,\n",
       " 'curricular_units_2nd_sem_(evaluations)': 0.06038067293772053,\n",
       " 'curricular_units_2nd_sem_(grade)': 0.17764280136994373,\n",
       " 'curricular_units_2nd_sem_(without_evaluations)': 0.0049982554910707674,\n",
       " 'unemployment_rate': 0.020539265973759477,\n",
       " 'inflation_rate': 0.01801362185767619,\n",
       " 'gdp': 0.020393625744695224}"
      ]
     },
     "execution_count": 53,
     "metadata": {},
     "output_type": "execute_result"
    }
   ],
   "source": [
    "important"
   ]
  },
  {
   "cell_type": "code",
   "execution_count": 54,
   "id": "ZYePAySPysB6",
   "metadata": {
    "executionInfo": {
     "elapsed": 322,
     "status": "ok",
     "timestamp": 1656344163799,
     "user": {
      "displayName": "mojgun shabani",
      "userId": "06361705429287830778"
     },
     "user_tz": -120
    },
    "id": "ZYePAySPysB6"
   },
   "outputs": [],
   "source": [
    "imoprtant_features = pd.DataFrame(important.items(), columns=['features', 'score'])"
   ]
  },
  {
   "cell_type": "code",
   "execution_count": 197,
   "id": "ZgsdOgH7zNCD",
   "metadata": {
    "executionInfo": {
     "elapsed": 3,
     "status": "ok",
     "timestamp": 1656344830760,
     "user": {
      "displayName": "mojgun shabani",
      "userId": "06361705429287830778"
     },
     "user_tz": -120
    },
    "id": "ZgsdOgH7zNCD"
   },
   "outputs": [],
   "source": [
    "imoprtant_features.sort_values(by='score', ascending=False )\n",
    "imoprtant_features.to_csv('/content/drive/MyDrive/IRONHACK/Final_Project/imoprtant_features.csv')"
   ]
  },
  {
   "cell_type": "markdown",
   "id": "rUTwQr_VLY6x",
   "metadata": {
    "id": "rUTwQr_VLY6x"
   },
   "source": [
    "# Neural Network"
   ]
  },
  {
   "cell_type": "code",
   "execution_count": 5,
   "id": "sJteNlcNLdoO",
   "metadata": {
    "executionInfo": {
     "elapsed": 235,
     "status": "ok",
     "timestamp": 1656401016948,
     "user": {
      "displayName": "mojgun shabani",
      "userId": "06361705429287830778"
     },
     "user_tz": -120
    },
    "id": "sJteNlcNLdoO"
   },
   "outputs": [],
   "source": [
    "#Because Neural network is sensetive to Scale we need to Normilize with Powertransformation"
   ]
  },
  {
   "cell_type": "markdown",
   "id": "hE0WsPnIX1OT",
   "metadata": {
    "id": "hE0WsPnIX1OT"
   },
   "source": [
    "## MLPClassifier"
   ]
  },
  {
   "cell_type": "code",
   "execution_count": 167,
   "id": "xvo4pZ_mZMFJ",
   "metadata": {
    "executionInfo": {
     "elapsed": 232,
     "status": "ok",
     "timestamp": 1656492086959,
     "user": {
      "displayName": "mojgun shabani",
      "userId": "06361705429287830778"
     },
     "user_tz": -120
    },
    "id": "xvo4pZ_mZMFJ"
   },
   "outputs": [],
   "source": [
    "from sklearn import preprocessing\n",
    "# Creating labelEncoder\n",
    "le = preprocessing.LabelEncoder()\n",
    "# Converting string labels into numbers.\n",
    "y_train_label=le.fit_transform(y_train)\n",
    "y_test_label=le.fit_transform(y_test)"
   ]
  },
  {
   "cell_type": "code",
   "execution_count": 168,
   "id": "zavo0Wt_Zrld",
   "metadata": {
    "colab": {
     "base_uri": "https://localhost:8080/"
    },
    "executionInfo": {
     "elapsed": 17423,
     "status": "ok",
     "timestamp": 1656492106512,
     "user": {
      "displayName": "mojgun shabani",
      "userId": "06361705429287830778"
     },
     "user_tz": -120
    },
    "id": "zavo0Wt_Zrld",
    "outputId": "4e017177-1b91-4e19-9c8d-5a78b56da17f"
   },
   "outputs": [
    {
     "data": {
      "text/html": [
       "<style>#sk-container-id-8 {color: black;background-color: white;}#sk-container-id-8 pre{padding: 0;}#sk-container-id-8 div.sk-toggleable {background-color: white;}#sk-container-id-8 label.sk-toggleable__label {cursor: pointer;display: block;width: 100%;margin-bottom: 0;padding: 0.3em;box-sizing: border-box;text-align: center;}#sk-container-id-8 label.sk-toggleable__label-arrow:before {content: \"▸\";float: left;margin-right: 0.25em;color: #696969;}#sk-container-id-8 label.sk-toggleable__label-arrow:hover:before {color: black;}#sk-container-id-8 div.sk-estimator:hover label.sk-toggleable__label-arrow:before {color: black;}#sk-container-id-8 div.sk-toggleable__content {max-height: 0;max-width: 0;overflow: hidden;text-align: left;background-color: #f0f8ff;}#sk-container-id-8 div.sk-toggleable__content pre {margin: 0.2em;color: black;border-radius: 0.25em;background-color: #f0f8ff;}#sk-container-id-8 input.sk-toggleable__control:checked~div.sk-toggleable__content {max-height: 200px;max-width: 100%;overflow: auto;}#sk-container-id-8 input.sk-toggleable__control:checked~label.sk-toggleable__label-arrow:before {content: \"▾\";}#sk-container-id-8 div.sk-estimator input.sk-toggleable__control:checked~label.sk-toggleable__label {background-color: #d4ebff;}#sk-container-id-8 div.sk-label input.sk-toggleable__control:checked~label.sk-toggleable__label {background-color: #d4ebff;}#sk-container-id-8 input.sk-hidden--visually {border: 0;clip: rect(1px 1px 1px 1px);clip: rect(1px, 1px, 1px, 1px);height: 1px;margin: -1px;overflow: hidden;padding: 0;position: absolute;width: 1px;}#sk-container-id-8 div.sk-estimator {font-family: monospace;background-color: #f0f8ff;border: 1px dotted black;border-radius: 0.25em;box-sizing: border-box;margin-bottom: 0.5em;}#sk-container-id-8 div.sk-estimator:hover {background-color: #d4ebff;}#sk-container-id-8 div.sk-parallel-item::after {content: \"\";width: 100%;border-bottom: 1px solid gray;flex-grow: 1;}#sk-container-id-8 div.sk-label:hover label.sk-toggleable__label {background-color: #d4ebff;}#sk-container-id-8 div.sk-serial::before {content: \"\";position: absolute;border-left: 1px solid gray;box-sizing: border-box;top: 0;bottom: 0;left: 50%;z-index: 0;}#sk-container-id-8 div.sk-serial {display: flex;flex-direction: column;align-items: center;background-color: white;padding-right: 0.2em;padding-left: 0.2em;position: relative;}#sk-container-id-8 div.sk-item {position: relative;z-index: 1;}#sk-container-id-8 div.sk-parallel {display: flex;align-items: stretch;justify-content: center;background-color: white;position: relative;}#sk-container-id-8 div.sk-item::before, #sk-container-id-8 div.sk-parallel-item::before {content: \"\";position: absolute;border-left: 1px solid gray;box-sizing: border-box;top: 0;bottom: 0;left: 50%;z-index: -1;}#sk-container-id-8 div.sk-parallel-item {display: flex;flex-direction: column;z-index: 1;position: relative;background-color: white;}#sk-container-id-8 div.sk-parallel-item:first-child::after {align-self: flex-end;width: 50%;}#sk-container-id-8 div.sk-parallel-item:last-child::after {align-self: flex-start;width: 50%;}#sk-container-id-8 div.sk-parallel-item:only-child::after {width: 0;}#sk-container-id-8 div.sk-dashed-wrapped {border: 1px dashed gray;margin: 0 0.4em 0.5em 0.4em;box-sizing: border-box;padding-bottom: 0.4em;background-color: white;}#sk-container-id-8 div.sk-label label {font-family: monospace;font-weight: bold;display: inline-block;line-height: 1.2em;}#sk-container-id-8 div.sk-label-container {text-align: center;}#sk-container-id-8 div.sk-container {/* jupyter's `normalize.less` sets `[hidden] { display: none; }` but bootstrap.min.css set `[hidden] { display: none !important; }` so we also need the `!important` here to be able to override the default hidden behavior on the sphinx rendered scikit-learn.org. See: https://github.com/scikit-learn/scikit-learn/issues/21755 */display: inline-block !important;position: relative;}#sk-container-id-8 div.sk-text-repr-fallback {display: none;}</style><div id=\"sk-container-id-8\" class=\"sk-top-container\"><div class=\"sk-text-repr-fallback\"><pre>MLPClassifier(hidden_layer_sizes=(100, 50, 25, 12, 2))</pre><b>In a Jupyter environment, please rerun this cell to show the HTML representation or trust the notebook. <br />On GitHub, the HTML representation is unable to render, please try loading this page with nbviewer.org.</b></div><div class=\"sk-container\" hidden><div class=\"sk-item\"><div class=\"sk-estimator sk-toggleable\"><input class=\"sk-toggleable__control sk-hidden--visually\" id=\"sk-estimator-id-8\" type=\"checkbox\" checked><label for=\"sk-estimator-id-8\" class=\"sk-toggleable__label sk-toggleable__label-arrow\">MLPClassifier</label><div class=\"sk-toggleable__content\"><pre>MLPClassifier(hidden_layer_sizes=(100, 50, 25, 12, 2))</pre></div></div></div></div></div>"
      ],
      "text/plain": [
       "MLPClassifier(hidden_layer_sizes=(100, 50, 25, 12, 2))"
      ]
     },
     "execution_count": 168,
     "metadata": {},
     "output_type": "execute_result"
    }
   ],
   "source": [
    "from sklearn.neural_network import MLPClassifier\n",
    "\n",
    "# Create model object\n",
    "clf = MLPClassifier(hidden_layer_sizes=(100,50,25,12,2),\n",
    "  activation='relu',\n",
    "  solver='adam',\n",
    "  alpha=0.0001, \n",
    "  batch_size='auto', \n",
    "  learning_rate='constant', \n",
    "  learning_rate_init=0.001,\n",
    "  power_t=0.5,\n",
    "  max_iter=200,\n",
    "  shuffle=True,\n",
    "  random_state=None,\n",
    "  tol=0.0001, \n",
    "  verbose=False,\n",
    "  warm_start=False, \n",
    "  momentum=0.9,\n",
    "  nesterovs_momentum=True,\n",
    "  early_stopping=False, validation_fraction=0.1, beta_1=0.9, beta_2=0.999, epsilon=1e-08, n_iter_no_change=10, max_fun=15000)\n",
    "# Fit data onto the model\n",
    "clf.fit(X_train,y_train_label)"
   ]
  },
  {
   "cell_type": "code",
   "execution_count": 169,
   "id": "1c551447",
   "metadata": {
    "collapsed": true
   },
   "outputs": [
    {
     "data": {
      "text/plain": [
       "array([1, 1, 1, 1, 1, 1, 1, 1, 1, 0, 1, 0, 0, 1, 0, 1, 1, 1, 0, 1, 1, 0,\n",
       "       1, 1, 1, 0, 1, 0, 1, 1, 1, 1, 1, 0, 1, 1, 1, 1, 1, 1, 0, 0, 1, 1,\n",
       "       0, 1, 1, 0, 1, 1, 0, 1, 0, 1, 1, 1, 1, 1, 1, 0, 0, 0, 1, 1, 1, 0,\n",
       "       1, 1, 1, 1, 1, 1, 0, 0, 1, 0, 1, 0, 0, 1, 1, 1, 1, 0, 0, 0, 0, 0,\n",
       "       1, 0, 0, 1, 0, 1, 0, 1, 1, 0, 1, 0, 1, 1, 0, 0, 1, 0, 0, 1, 1, 1,\n",
       "       0, 1, 0, 1, 1, 0, 0, 1, 1, 0, 1, 1, 0, 1, 1, 1, 0, 0, 0, 1, 0, 0,\n",
       "       0, 1, 1, 1, 0, 1, 0, 0, 0, 1, 1, 1, 1, 1, 1, 1, 1, 1, 0, 0, 0, 1,\n",
       "       1, 1, 1, 1, 1, 1, 0, 1, 1, 1, 0, 1, 0, 0, 1, 1, 1, 1, 1, 0, 0, 1,\n",
       "       1, 1, 1, 1, 1, 1, 1, 1, 0, 0, 0, 1, 1, 0, 0, 1, 0, 1, 1, 0, 1, 0,\n",
       "       1, 1, 1, 0, 0, 1, 1, 1, 1, 0, 0, 0, 0, 1, 1, 1, 1, 1, 1, 1, 1, 0,\n",
       "       1, 1, 0, 1, 0, 1, 1, 0, 1, 1, 1, 0, 1, 1, 1, 1, 1, 0, 1, 0, 0, 1,\n",
       "       0, 1, 1, 1, 1, 1, 1, 1, 1, 1, 0, 1, 1, 0, 1, 1, 1, 1, 1, 1, 0, 1,\n",
       "       1, 1, 1, 1, 1, 0, 0, 1, 1, 1, 1, 1, 1, 1, 1, 1, 1, 1, 1, 0, 0, 1,\n",
       "       1, 1, 0, 1, 0, 1, 0, 1, 1, 1, 1, 1, 1, 1, 1, 0, 1, 1, 0, 1, 1, 1,\n",
       "       1, 0, 1, 1, 1, 1, 1, 1, 0, 1, 1, 1, 0, 1, 0, 1, 0, 1, 1, 1, 1, 1,\n",
       "       1, 1, 0, 1, 1, 1, 0, 1, 1, 1, 1, 1, 1, 0, 1, 0, 1, 1, 1, 1, 0, 1,\n",
       "       0, 0, 0, 1, 0, 1, 1, 0, 1, 1, 1, 1, 1, 0, 1, 1, 1, 0, 1, 1, 0, 1,\n",
       "       0, 1, 0, 1, 1, 0, 1, 1, 0, 1, 1, 0, 0, 1, 1, 0, 1, 1, 1, 1, 1, 0,\n",
       "       1, 1, 1, 1, 1, 0, 0, 1, 1, 1, 0, 1, 0, 1, 0, 1, 1, 1, 1, 0, 1, 1,\n",
       "       0, 1, 0, 0, 1, 0, 1, 1, 0, 0, 1, 1, 1, 0, 0, 1, 1, 1, 1, 1, 1, 1,\n",
       "       1, 0, 1, 1, 1, 1, 0, 0, 1, 1, 1, 0, 1, 1, 1, 1, 1, 1, 1, 0, 1, 1,\n",
       "       1, 1, 1, 1, 1, 1, 1, 1, 0, 1, 1, 1, 0, 1, 0, 1, 0, 0, 1, 0, 1, 0,\n",
       "       1, 1, 1, 1, 0, 1, 0, 1, 1, 0, 1, 0, 0, 0, 1, 1, 1, 1, 0, 0, 1, 1,\n",
       "       0, 0, 1, 1, 1, 1, 1, 0, 1, 0, 1, 0, 1, 1, 1, 0, 1, 1, 0, 1, 1, 1,\n",
       "       1, 1, 1, 0, 1, 0, 1, 0, 1, 1, 0, 1, 1, 1, 1, 1, 1, 0, 1, 1, 1, 1,\n",
       "       0, 1, 0, 0, 1, 1, 1, 0, 0, 1, 0, 1, 0, 1, 1, 1, 1, 0, 0, 0, 1, 1,\n",
       "       1, 1, 0, 1, 1, 1, 1, 1, 1, 1, 1, 1, 1, 1, 0, 0, 1, 1, 1, 0, 1, 1,\n",
       "       1, 0, 1, 1, 1, 1, 1, 1, 1, 0, 0, 0, 1, 1, 1, 0, 1, 0, 1, 1, 1, 0,\n",
       "       1, 1, 1, 1, 1, 0, 1, 0, 1, 0, 1, 0, 1, 0, 1, 1, 0, 1, 1, 1, 0, 1,\n",
       "       1, 1, 0, 1, 0, 1, 0, 0, 0, 1, 0, 0, 1, 0, 1, 1, 1, 0, 0, 0, 1, 1,\n",
       "       1, 0, 0, 0, 1, 1, 1, 1, 1, 1, 1, 1, 0, 1, 1, 0, 1, 1, 1, 1, 1, 1,\n",
       "       1, 1, 0, 1, 1, 0, 1, 1, 1, 0, 1, 1, 1, 0, 0, 1, 1, 1, 0, 1, 1, 1,\n",
       "       0, 0, 1, 1, 1, 0, 0, 1, 1, 0, 1, 1, 1, 1, 0, 1, 1, 1, 0, 1, 0, 1,\n",
       "       0, 1, 0, 1, 1, 1, 1, 0, 0, 1, 1, 1, 0, 0, 0, 1, 1, 0, 0, 0, 1, 0,\n",
       "       0, 1, 1, 1, 1, 1, 1, 0, 0, 1, 0, 0, 1, 1, 0, 0, 1, 1, 1, 1, 1, 0,\n",
       "       1, 0, 0, 1, 1, 1, 0, 0, 1, 1, 1, 0, 0, 1, 1, 1, 0, 1, 1, 1, 0, 1,\n",
       "       1, 0, 1, 1, 0, 0, 0, 1, 1, 1, 0, 1, 1, 0, 1, 1, 1, 0, 1, 1, 1, 1,\n",
       "       1, 1, 0, 1, 1, 1, 0, 1, 0, 1, 1, 1, 1, 1, 1, 1, 1, 1, 1, 0, 0, 1,\n",
       "       0, 0, 1, 1, 1, 1, 0, 0, 0, 1, 1, 1, 0, 1, 0, 1, 1, 1, 1, 1, 1, 0,\n",
       "       1, 1, 1, 0, 0, 0, 0, 0, 0, 1, 1, 1, 1, 1, 1, 1, 1, 0, 0, 1, 1, 1,\n",
       "       1, 1, 1, 1, 0])"
      ]
     },
     "execution_count": 169,
     "metadata": {},
     "output_type": "execute_result"
    }
   ],
   "source": [
    "y_test_lable"
   ]
  },
  {
   "cell_type": "code",
   "execution_count": 170,
   "id": "QsnPYmi6aJNv",
   "metadata": {
    "colab": {
     "base_uri": "https://localhost:8080/"
    },
    "executionInfo": {
     "elapsed": 24,
     "status": "ok",
     "timestamp": 1656425408123,
     "user": {
      "displayName": "mojgun shabani",
      "userId": "06361705429287830778"
     },
     "user_tz": -120
    },
    "id": "QsnPYmi6aJNv",
    "outputId": "088dffb0-d504-4b1f-d00b-efbf8242b86f"
   },
   "outputs": [
    {
     "name": "stdout",
     "output_type": "stream",
     "text": [
      "The accuracy of in the TEST  set is: 0.825\n",
      "The recall_score for in the Test set is  0.66\n",
      "The kappa in of the TEST set is: 0.58\n",
      "The precision_score for in the Test set is  0.77\n"
     ]
    }
   ],
   "source": [
    "y_pred_mlp=clf.predict(X_test)\n",
    "print(\"The accuracy of in the TEST  set is: {:.3f}\".format(accuracy_score(y_test_label, y_pred_mlp)))\n",
    "print(\"The recall_score for in the Test set is  \"+ str(round(recall_score(y_test_label, y_pred_mlp,pos_label=0),2)))\n",
    "print(\"The kappa in of the TEST set is: {:.2f}\".format(cohen_kappa_score(y_test_lable,y_pred_mlp)))\n",
    "print(\"The precision_score for in the Test set is  \"+ str(round(precision_score(y_test_label, y_pred_mlp,pos_label=0),2)))"
   ]
  },
  {
   "cell_type": "code",
   "execution_count": 69,
   "id": "f_cnnoAGf5gT",
   "metadata": {
    "colab": {
     "base_uri": "https://localhost:8080/",
     "height": 279
    },
    "executionInfo": {
     "elapsed": 348,
     "status": "ok",
     "timestamp": 1656425412269,
     "user": {
      "displayName": "mojgun shabani",
      "userId": "06361705429287830778"
     },
     "user_tz": -120
    },
    "id": "f_cnnoAGf5gT",
    "outputId": "ce6b54ff-8021-4d89-a2eb-7b3033f7aa3b"
   },
   "outputs": [
    {
     "data": {
      "image/png": "[encoded data removed]",
      "text/plain": [
       "<Figure size 432x288 with 2 Axes>"
      ]
     },
     "metadata": {
      "needs_background": "light"
     },
     "output_type": "display_data"
    }
   ],
   "source": [
    "cm_train = confusion_matrix(y_test_label,y_pred_mlp)\n",
    "cm_train\n",
    "disp = ConfusionMatrixDisplay(cm_train,display_labels=clf.classes_);\n",
    "disp.plot()\n",
    "plt.show()"
   ]
  },
  {
   "cell_type": "code",
   "execution_count": null,
   "id": "8feaf0c8",
   "metadata": {},
   "outputs": [],
   "source": [
    "y_pred_mlp=clf.predict(X_test)\n",
    "print(\"The accuracy of in the TEST  set is: {:.3f}\".format(accuracy_score(y_test_label, y_pred_mlp)))\n",
    "print(\"The recall_score for in the Test set is  \"+ str(round(recall_score(y_test_label, y_pred_mlp,pos_label=0),2)))\n",
    "print(\"The kappa in of the TEST set is: {:.2f}\".format(cohen_kappa_score(y_test_lable,y_pred_mlp)))\n",
    "print(\"The recall_score for in the Test set is  \"+ str(round(precision_score(y_test_label, y_pred_mlp,pos_label=0),2)))"
   ]
  },
  {
   "cell_type": "markdown",
   "id": "xjGe5whOlBnw",
   "metadata": {
    "id": "xjGe5whOlBnw"
   },
   "source": [
    "### make_classification(Num_1)"
   ]
  },
  {
   "cell_type": "code",
   "execution_count": 70,
   "id": "DklNss-Uk8UN",
   "metadata": {
    "executionInfo": {
     "elapsed": 300,
     "status": "ok",
     "timestamp": 1656492065407,
     "user": {
      "displayName": "mojgun shabani",
      "userId": "06361705429287830778"
     },
     "user_tz": -120
    },
    "id": "DklNss-Uk8UN"
   },
   "outputs": [],
   "source": [
    "from sklearn.datasets import make_classification"
   ]
  },
  {
   "cell_type": "code",
   "execution_count": 159,
   "id": "ruulk7AJmbpF",
   "metadata": {
    "executionInfo": {
     "elapsed": 23,
     "status": "ok",
     "timestamp": 1656492106514,
     "user": {
      "displayName": "mojgun shabani",
      "userId": "06361705429287830778"
     },
     "user_tz": -120
    },
    "id": "ruulk7AJmbpF"
   },
   "outputs": [],
   "source": [
    "# Creating labelEncoder\n",
    "le = preprocessing.LabelEncoder()\n",
    "# Converting string labels into numbers.\n",
    "y_train_label=le.fit_transform(y_train_up)\n",
    "y_test_label=le.fit_transform(y_test)"
   ]
  },
  {
   "cell_type": "code",
   "execution_count": 72,
   "id": "BB9MsS6V1Q4l",
   "metadata": {
    "colab": {
     "base_uri": "https://localhost:8080/",
     "height": 424
    },
    "executionInfo": {
     "elapsed": 36,
     "status": "ok",
     "timestamp": 1656411906200,
     "user": {
      "displayName": "mojgun shabani",
      "userId": "06361705429287830778"
     },
     "user_tz": -120
    },
    "id": "BB9MsS6V1Q4l",
    "outputId": "f55e3cb6-f068-4b20-d0b7-d7e64b08b386"
   },
   "outputs": [
    {
     "data": {
      "text/html": [
       "<div>\n",
       "<style scoped>\n",
       "    .dataframe tbody tr th:only-of-type {\n",
       "        vertical-align: middle;\n",
       "    }\n",
       "\n",
       "    .dataframe tbody tr th {\n",
       "        vertical-align: top;\n",
       "    }\n",
       "\n",
       "    .dataframe thead th {\n",
       "        text-align: right;\n",
       "    }\n",
       "</style>\n",
       "<table border=\"1\" class=\"dataframe\">\n",
       "  <thead>\n",
       "    <tr style=\"text-align: right;\">\n",
       "      <th></th>\n",
       "      <th>target</th>\n",
       "    </tr>\n",
       "  </thead>\n",
       "  <tbody>\n",
       "    <tr>\n",
       "      <th>676</th>\n",
       "      <td>Graduate</td>\n",
       "    </tr>\n",
       "    <tr>\n",
       "      <th>3206</th>\n",
       "      <td>Dropout</td>\n",
       "    </tr>\n",
       "    <tr>\n",
       "      <th>2361</th>\n",
       "      <td>Graduate</td>\n",
       "    </tr>\n",
       "    <tr>\n",
       "      <th>2752</th>\n",
       "      <td>Dropout</td>\n",
       "    </tr>\n",
       "    <tr>\n",
       "      <th>2260</th>\n",
       "      <td>Dropout</td>\n",
       "    </tr>\n",
       "    <tr>\n",
       "      <th>...</th>\n",
       "      <td>...</td>\n",
       "    </tr>\n",
       "    <tr>\n",
       "      <th>2190</th>\n",
       "      <td>Dropout</td>\n",
       "    </tr>\n",
       "    <tr>\n",
       "      <th>498</th>\n",
       "      <td>Dropout</td>\n",
       "    </tr>\n",
       "    <tr>\n",
       "      <th>253</th>\n",
       "      <td>Graduate</td>\n",
       "    </tr>\n",
       "    <tr>\n",
       "      <th>824</th>\n",
       "      <td>Dropout</td>\n",
       "    </tr>\n",
       "    <tr>\n",
       "      <th>1762</th>\n",
       "      <td>Graduate</td>\n",
       "    </tr>\n",
       "  </tbody>\n",
       "</table>\n",
       "<p>4806 rows × 1 columns</p>\n",
       "</div>"
      ],
      "text/plain": [
       "        target\n",
       "676   Graduate\n",
       "3206   Dropout\n",
       "2361  Graduate\n",
       "2752   Dropout\n",
       "2260   Dropout\n",
       "...        ...\n",
       "2190   Dropout\n",
       "498    Dropout\n",
       "253   Graduate\n",
       "824    Dropout\n",
       "1762  Graduate\n",
       "\n",
       "[4806 rows x 1 columns]"
      ]
     },
     "execution_count": 72,
     "metadata": {},
     "output_type": "execute_result"
    }
   ],
   "source": [
    "pd.DataFrame(y_train_up)"
   ]
  },
  {
   "cell_type": "code",
   "execution_count": 73,
   "id": "0s2W0SOkoApf",
   "metadata": {
    "colab": {
     "base_uri": "https://localhost:8080/"
    },
    "executionInfo": {
     "elapsed": 5145,
     "status": "ok",
     "timestamp": 1656492186596,
     "user": {
      "displayName": "mojgun shabani",
      "userId": "06361705429287830778"
     },
     "user_tz": -120
    },
    "id": "0s2W0SOkoApf",
    "outputId": "98bc7a9d-0bd0-4bb7-b071-ea175b3fb83b"
   },
   "outputs": [
    {
     "name": "stdout",
     "output_type": "stream",
     "text": [
      "Collecting tensorflow_addons\n",
      "  Downloading tensorflow_addons-0.17.1-cp39-cp39-macosx_10_15_x86_64.whl (588 kB)\n",
      "\u001b[K     |████████████████████████████████| 588 kB 9.5 MB/s eta 0:00:01\n",
      "\u001b[?25hCollecting typeguard>=2.7\n",
      "  Downloading typeguard-2.13.3-py3-none-any.whl (17 kB)\n",
      "Requirement already satisfied: packaging in /Users/mojgun/opt/anaconda3/lib/python3.9/site-packages (from tensorflow_addons) (21.0)\n",
      "Requirement already satisfied: pyparsing>=2.0.2 in /Users/mojgun/opt/anaconda3/lib/python3.9/site-packages (from packaging->tensorflow_addons) (3.0.4)\n",
      "Installing collected packages: typeguard, tensorflow-addons\n",
      "Successfully installed tensorflow-addons-0.17.1 typeguard-2.13.3\n",
      "Note: you may need to restart the kernel to use updated packages.\n"
     ]
    }
   ],
   "source": [
    "pip install tensorflow_addons"
   ]
  },
  {
   "cell_type": "code",
   "execution_count": 79,
   "id": "bNw9lD8FznI8",
   "metadata": {
    "executionInfo": {
     "elapsed": 415,
     "status": "ok",
     "timestamp": 1656492187002,
     "user": {
      "displayName": "mojgun shabani",
      "userId": "06361705429287830778"
     },
     "user_tz": -120
    },
    "id": "bNw9lD8FznI8"
   },
   "outputs": [],
   "source": [
    "from tensorflow_addons.metrics import CohenKappa"
   ]
  },
  {
   "cell_type": "code",
   "execution_count": 80,
   "id": "wU4CBWBn5FuD",
   "metadata": {
    "executionInfo": {
     "elapsed": 361,
     "status": "ok",
     "timestamp": 1656492208586,
     "user": {
      "displayName": "mojgun shabani",
      "userId": "06361705429287830778"
     },
     "user_tz": -120
    },
    "id": "wU4CBWBn5FuD"
   },
   "outputs": [],
   "source": [
    "from keras import backend as K\n",
    "def recall_m(y_true, y_pred):\n",
    "    true_positives = K.sum(K.round(K.clip(y_true * y_pred, 0, 1)))\n",
    "    possible_positives = K.sum(K.round(K.clip(y_true, 0, 1)))\n",
    "    recall = true_positives / (possible_positives + K.epsilon())\n",
    "    return recall\n",
    "def precision_m(y_true, y_pred):\n",
    "    true_positives = K.sum(K.round(K.clip(y_true * y_pred, 0, 1)))\n",
    "    predicted_positives = K.sum(K.round(K.clip(y_pred, 0, 1)))\n",
    "    precision = true_positives / (predicted_positives + K.epsilon())\n",
    "    return precision\n",
    "def f1_m(y_true, y_pred):\n",
    "    precision = precision_m(y_true, y_pred)\n",
    "    recall = recall_m(y_true, y_pred)\n",
    "    return 2*((precision*recall)/(precision+recall+K.epsilon()))"
   ]
  },
  {
   "cell_type": "code",
   "execution_count": 93,
   "id": "ZIMbJ2qZlJC5",
   "metadata": {
    "colab": {
     "base_uri": "https://localhost:8080/"
    },
    "executionInfo": {
     "elapsed": 570,
     "status": "ok",
     "timestamp": 1656494595498,
     "user": {
      "displayName": "mojgun shabani",
      "userId": "06361705429287830778"
     },
     "user_tz": -120
    },
    "id": "ZIMbJ2qZlJC5",
    "outputId": "5143821e-7371-4214-ffee-c0e81cb165e7"
   },
   "outputs": [
    {
     "name": "stdout",
     "output_type": "stream",
     "text": [
      "Model: \"sequential_1\"\n",
      "_________________________________________________________________\n",
      " Layer (type)                Output Shape              Param #   \n",
      "=================================================================\n",
      " dense_2 (Dense)             (None, 15)                3270      \n",
      "                                                                 \n",
      " dense_3 (Dense)             (None, 2)                 32        \n",
      "                                                                 \n",
      "=================================================================\n",
      "Total params: 3,302\n",
      "Trainable params: 3,302\n",
      "Non-trainable params: 0\n",
      "_________________________________________________________________\n"
     ]
    }
   ],
   "source": [
    "from tensorflow.keras import regularizers\n",
    "model_c1 = keras.Sequential()\n",
    "model_c1.add(Dense(units = 15,\n",
    "                   input_dim = X_train_up.shape[1],\n",
    "                   activation='relu',\n",
    "                   activity_regularizer=regularizers.l1_l2(0.2,0.2)))\n",
    "#model_c1.add(Dense(units = 70,activation='relu'))\n",
    "#model_c1.add(Dense(units = 50,activation='relu'))\n",
    "#model_c1.add(Dense(units = 20,activation='relu'))\n",
    "#model_c1.add(Dense(units = 5, activation='relu'))\n",
    "model_c1.add(Dense(units = 2, activation='sigmoid'))\n",
    "model_c1.compile(optimizer='rmsprop', \n",
    "              loss='sparse_categorical_crossentropy', \n",
    "              metrics=[recall_m,precision_m]\n",
    "              )\n",
    "model_c1.summary()"
   ]
  },
  {
   "cell_type": "code",
   "execution_count": 94,
   "id": "vpM-s5KAnTqU",
   "metadata": {
    "executionInfo": {
     "elapsed": 256,
     "status": "ok",
     "timestamp": 1656494601467,
     "user": {
      "displayName": "mojgun shabani",
      "userId": "06361705429287830778"
     },
     "user_tz": -120
    },
    "id": "vpM-s5KAnTqU"
   },
   "outputs": [],
   "source": [
    "checkpoint_path = '/Users/mojgun/Documents/IRONHACK/Final_Project/Dropout_or_Academic_Success/Code/CheckPoints/cls-nn1_2.hdf5'\n",
    "checkpoint = ModelCheckpoint(\n",
    "    filepath=checkpoint_path,\n",
    "    save_freq='epoch',\n",
    "    save_weights_only=False,\n",
    "    verbose=1\n",
    ")"
   ]
  },
  {
   "cell_type": "code",
   "execution_count": 95,
   "id": "P7jmCLvzqcrf",
   "metadata": {
    "executionInfo": {
     "elapsed": 49,
     "status": "ok",
     "timestamp": 1656492954631,
     "user": {
      "displayName": "mojgun shabani",
      "userId": "06361705429287830778"
     },
     "user_tz": -120
    },
    "id": "P7jmCLvzqcrf"
   },
   "outputs": [],
   "source": [
    "early_stopping = EarlyStopping(patience=5)"
   ]
  },
  {
   "cell_type": "code",
   "execution_count": 96,
   "id": "V3pKRV1FnfOd",
   "metadata": {
    "colab": {
     "base_uri": "https://localhost:8080/"
    },
    "collapsed": true,
    "executionInfo": {
     "elapsed": 33381,
     "status": "ok",
     "timestamp": 1656494641373,
     "user": {
      "displayName": "mojgun shabani",
      "userId": "06361705429287830778"
     },
     "user_tz": -120
    },
    "id": "V3pKRV1FnfOd",
    "outputId": "9db7b184-adc6-4945-9c3d-5577fea3827e"
   },
   "outputs": [
    {
     "name": "stdout",
     "output_type": "stream",
     "text": [
      "Epoch 1/60\n",
      "\n",
      "Epoch 1: saving model to /Users/mojgun/Documents/IRONHACK/Final_Project/Dropout_or_Academic_Success/Code/CheckPoints/cls-nn1_2.hdf5\n",
      "385/385 - 4s - loss: 0.7364 - recall_m: 1.0729 - precision_m: 0.4945 - val_loss: 0.6933 - val_recall_m: 0.9977 - val_precision_m: 0.5037 - 4s/epoch - 11ms/step\n",
      "Epoch 2/60\n",
      "\n",
      "Epoch 2: saving model to /Users/mojgun/Documents/IRONHACK/Final_Project/Dropout_or_Academic_Success/Code/CheckPoints/cls-nn1_2.hdf5\n",
      "385/385 - 1s - loss: 0.6934 - recall_m: 0.9970 - precision_m: 0.4984 - val_loss: 0.6928 - val_recall_m: 0.9957 - val_precision_m: 0.5034 - 938ms/epoch - 2ms/step\n",
      "Epoch 3/60\n",
      "\n",
      "Epoch 3: saving model to /Users/mojgun/Documents/IRONHACK/Final_Project/Dropout_or_Academic_Success/Code/CheckPoints/cls-nn1_2.hdf5\n",
      "385/385 - 1s - loss: 0.6906 - recall_m: 1.0021 - precision_m: 0.4998 - val_loss: 0.6854 - val_recall_m: 1.0013 - val_precision_m: 0.5030 - 1s/epoch - 3ms/step\n",
      "Epoch 4/60\n",
      "\n",
      "Epoch 4: saving model to /Users/mojgun/Documents/IRONHACK/Final_Project/Dropout_or_Academic_Success/Code/CheckPoints/cls-nn1_2.hdf5\n",
      "385/385 - 1s - loss: 0.6713 - recall_m: 1.0029 - precision_m: 0.4982 - val_loss: 0.6540 - val_recall_m: 1.0158 - val_precision_m: 0.5064 - 964ms/epoch - 3ms/step\n",
      "Epoch 5/60\n",
      "\n",
      "Epoch 5: saving model to /Users/mojgun/Documents/IRONHACK/Final_Project/Dropout_or_Academic_Success/Code/CheckPoints/cls-nn1_2.hdf5\n",
      "385/385 - 1s - loss: 0.6339 - recall_m: 1.0084 - precision_m: 0.4980 - val_loss: 0.6184 - val_recall_m: 1.0098 - val_precision_m: 0.5045 - 965ms/epoch - 3ms/step\n",
      "Epoch 6/60\n",
      "\n",
      "Epoch 6: saving model to /Users/mojgun/Documents/IRONHACK/Final_Project/Dropout_or_Academic_Success/Code/CheckPoints/cls-nn1_2.hdf5\n",
      "385/385 - 1s - loss: 0.5966 - recall_m: 1.0075 - precision_m: 0.4992 - val_loss: 0.5863 - val_recall_m: 1.0021 - val_precision_m: 0.5027 - 1s/epoch - 4ms/step\n",
      "Epoch 7/60\n",
      "\n",
      "Epoch 7: saving model to /Users/mojgun/Documents/IRONHACK/Final_Project/Dropout_or_Academic_Success/Code/CheckPoints/cls-nn1_2.hdf5\n",
      "385/385 - 1s - loss: 0.5674 - recall_m: 1.0046 - precision_m: 0.4992 - val_loss: 0.5665 - val_recall_m: 1.0021 - val_precision_m: 0.5031 - 1s/epoch - 3ms/step\n",
      "Epoch 8/60\n",
      "\n",
      "Epoch 8: saving model to /Users/mojgun/Documents/IRONHACK/Final_Project/Dropout_or_Academic_Success/Code/CheckPoints/cls-nn1_2.hdf5\n",
      "385/385 - 1s - loss: 0.5451 - recall_m: 1.0070 - precision_m: 0.4994 - val_loss: 0.5455 - val_recall_m: 1.0034 - val_precision_m: 0.5034 - 1s/epoch - 3ms/step\n",
      "Epoch 9/60\n",
      "\n",
      "Epoch 9: saving model to /Users/mojgun/Documents/IRONHACK/Final_Project/Dropout_or_Academic_Success/Code/CheckPoints/cls-nn1_2.hdf5\n",
      "385/385 - 1s - loss: 0.5265 - recall_m: 1.0055 - precision_m: 0.4986 - val_loss: 0.5307 - val_recall_m: 1.0026 - val_precision_m: 0.5023 - 1s/epoch - 3ms/step\n",
      "Epoch 10/60\n",
      "\n",
      "Epoch 10: saving model to /Users/mojgun/Documents/IRONHACK/Final_Project/Dropout_or_Academic_Success/Code/CheckPoints/cls-nn1_2.hdf5\n",
      "385/385 - 1s - loss: 0.5131 - recall_m: 1.0086 - precision_m: 0.4987 - val_loss: 0.5177 - val_recall_m: 1.0072 - val_precision_m: 0.5036 - 1s/epoch - 3ms/step\n",
      "Epoch 11/60\n",
      "\n",
      "Epoch 11: saving model to /Users/mojgun/Documents/IRONHACK/Final_Project/Dropout_or_Academic_Success/Code/CheckPoints/cls-nn1_2.hdf5\n",
      "385/385 - 1s - loss: 0.5012 - recall_m: 1.0062 - precision_m: 0.4989 - val_loss: 0.5089 - val_recall_m: 1.0094 - val_precision_m: 0.5051 - 1s/epoch - 3ms/step\n",
      "Epoch 12/60\n",
      "\n",
      "Epoch 12: saving model to /Users/mojgun/Documents/IRONHACK/Final_Project/Dropout_or_Academic_Success/Code/CheckPoints/cls-nn1_2.hdf5\n",
      "385/385 - 1s - loss: 0.4916 - recall_m: 0.9996 - precision_m: 0.4977 - val_loss: 0.5026 - val_recall_m: 1.0035 - val_precision_m: 0.5034 - 1s/epoch - 3ms/step\n",
      "Epoch 13/60\n",
      "\n",
      "Epoch 13: saving model to /Users/mojgun/Documents/IRONHACK/Final_Project/Dropout_or_Academic_Success/Code/CheckPoints/cls-nn1_2.hdf5\n",
      "385/385 - 2s - loss: 0.4841 - recall_m: 1.0063 - precision_m: 0.4990 - val_loss: 0.4974 - val_recall_m: 1.0064 - val_precision_m: 0.5022 - 2s/epoch - 4ms/step\n",
      "Epoch 14/60\n",
      "\n",
      "Epoch 14: saving model to /Users/mojgun/Documents/IRONHACK/Final_Project/Dropout_or_Academic_Success/Code/CheckPoints/cls-nn1_2.hdf5\n",
      "385/385 - 2s - loss: 0.4762 - recall_m: 1.0054 - precision_m: 0.4985 - val_loss: 0.4929 - val_recall_m: 1.0034 - val_precision_m: 0.5028 - 2s/epoch - 5ms/step\n",
      "Epoch 15/60\n",
      "\n",
      "Epoch 15: saving model to /Users/mojgun/Documents/IRONHACK/Final_Project/Dropout_or_Academic_Success/Code/CheckPoints/cls-nn1_2.hdf5\n",
      "385/385 - 3s - loss: 0.4717 - recall_m: 1.0033 - precision_m: 0.4978 - val_loss: 0.4915 - val_recall_m: 1.0000 - val_precision_m: 0.5019 - 3s/epoch - 7ms/step\n",
      "Epoch 16/60\n",
      "\n",
      "Epoch 16: saving model to /Users/mojgun/Documents/IRONHACK/Final_Project/Dropout_or_Academic_Success/Code/CheckPoints/cls-nn1_2.hdf5\n",
      "385/385 - 1s - loss: 0.4668 - recall_m: 1.0021 - precision_m: 0.4984 - val_loss: 0.4883 - val_recall_m: 1.0067 - val_precision_m: 0.5045 - 1s/epoch - 3ms/step\n",
      "Epoch 17/60\n",
      "\n",
      "Epoch 17: saving model to /Users/mojgun/Documents/IRONHACK/Final_Project/Dropout_or_Academic_Success/Code/CheckPoints/cls-nn1_2.hdf5\n",
      "385/385 - 1s - loss: 0.4621 - recall_m: 1.0018 - precision_m: 0.4986 - val_loss: 0.4868 - val_recall_m: 1.0041 - val_precision_m: 0.5035 - 1s/epoch - 3ms/step\n",
      "Epoch 18/60\n",
      "\n",
      "Epoch 18: saving model to /Users/mojgun/Documents/IRONHACK/Final_Project/Dropout_or_Academic_Success/Code/CheckPoints/cls-nn1_2.hdf5\n",
      "385/385 - 1s - loss: 0.4586 - recall_m: 1.0068 - precision_m: 0.4993 - val_loss: 0.4844 - val_recall_m: 1.0030 - val_precision_m: 0.5031 - 1s/epoch - 3ms/step\n",
      "Epoch 19/60\n",
      "\n",
      "Epoch 19: saving model to /Users/mojgun/Documents/IRONHACK/Final_Project/Dropout_or_Academic_Success/Code/CheckPoints/cls-nn1_2.hdf5\n",
      "385/385 - 1s - loss: 0.4553 - recall_m: 1.0092 - precision_m: 0.4999 - val_loss: 0.4838 - val_recall_m: 1.0034 - val_precision_m: 0.5034 - 1s/epoch - 3ms/step\n",
      "Epoch 20/60\n",
      "\n",
      "Epoch 20: saving model to /Users/mojgun/Documents/IRONHACK/Final_Project/Dropout_or_Academic_Success/Code/CheckPoints/cls-nn1_2.hdf5\n",
      "385/385 - 1s - loss: 0.4510 - recall_m: 1.0040 - precision_m: 0.4979 - val_loss: 0.4756 - val_recall_m: 1.0015 - val_precision_m: 0.5035 - 1s/epoch - 4ms/step\n",
      "Epoch 21/60\n",
      "\n",
      "Epoch 21: saving model to /Users/mojgun/Documents/IRONHACK/Final_Project/Dropout_or_Academic_Success/Code/CheckPoints/cls-nn1_2.hdf5\n",
      "385/385 - 1s - loss: 0.4489 - recall_m: 1.0036 - precision_m: 0.4986 - val_loss: 0.4805 - val_recall_m: 1.0026 - val_precision_m: 0.5022 - 1s/epoch - 3ms/step\n",
      "Epoch 22/60\n",
      "\n",
      "Epoch 22: saving model to /Users/mojgun/Documents/IRONHACK/Final_Project/Dropout_or_Academic_Success/Code/CheckPoints/cls-nn1_2.hdf5\n",
      "385/385 - 1s - loss: 0.4465 - recall_m: 1.0059 - precision_m: 0.4991 - val_loss: 0.4774 - val_recall_m: 1.0021 - val_precision_m: 0.5035 - 964ms/epoch - 3ms/step\n",
      "Epoch 23/60\n",
      "\n",
      "Epoch 23: saving model to /Users/mojgun/Documents/IRONHACK/Final_Project/Dropout_or_Academic_Success/Code/CheckPoints/cls-nn1_2.hdf5\n",
      "385/385 - 1s - loss: 0.4440 - recall_m: 1.0026 - precision_m: 0.4994 - val_loss: 0.4763 - val_recall_m: 1.0041 - val_precision_m: 0.5038 - 890ms/epoch - 2ms/step\n",
      "Epoch 24/60\n",
      "\n",
      "Epoch 24: saving model to /Users/mojgun/Documents/IRONHACK/Final_Project/Dropout_or_Academic_Success/Code/CheckPoints/cls-nn1_2.hdf5\n",
      "385/385 - 1s - loss: 0.4412 - recall_m: 1.0054 - precision_m: 0.4997 - val_loss: 0.4734 - val_recall_m: 1.0041 - val_precision_m: 0.5042 - 1s/epoch - 3ms/step\n",
      "Epoch 25/60\n",
      "\n",
      "Epoch 25: saving model to /Users/mojgun/Documents/IRONHACK/Final_Project/Dropout_or_Academic_Success/Code/CheckPoints/cls-nn1_2.hdf5\n",
      "385/385 - 2s - loss: 0.4401 - recall_m: 1.0001 - precision_m: 0.4993 - val_loss: 0.4744 - val_recall_m: 1.0000 - val_precision_m: 0.5036 - 2s/epoch - 4ms/step\n",
      "Epoch 26/60\n",
      "\n",
      "Epoch 26: saving model to /Users/mojgun/Documents/IRONHACK/Final_Project/Dropout_or_Academic_Success/Code/CheckPoints/cls-nn1_2.hdf5\n",
      "385/385 - 2s - loss: 0.4389 - recall_m: 1.0065 - precision_m: 0.4992 - val_loss: 0.4708 - val_recall_m: 1.0034 - val_precision_m: 0.5030 - 2s/epoch - 4ms/step\n",
      "Epoch 27/60\n",
      "\n",
      "Epoch 27: saving model to /Users/mojgun/Documents/IRONHACK/Final_Project/Dropout_or_Academic_Success/Code/CheckPoints/cls-nn1_2.hdf5\n",
      "385/385 - 1s - loss: 0.4360 - recall_m: 1.0005 - precision_m: 0.4991 - val_loss: 0.4702 - val_recall_m: 1.0000 - val_precision_m: 0.5023 - 960ms/epoch - 2ms/step\n"
     ]
    },
    {
     "name": "stdout",
     "output_type": "stream",
     "text": [
      "Epoch 28/60\n",
      "\n",
      "Epoch 28: saving model to /Users/mojgun/Documents/IRONHACK/Final_Project/Dropout_or_Academic_Success/Code/CheckPoints/cls-nn1_2.hdf5\n",
      "385/385 - 1s - loss: 0.4350 - recall_m: 1.0024 - precision_m: 0.4985 - val_loss: 0.4743 - val_recall_m: 1.0072 - val_precision_m: 0.5056 - 902ms/epoch - 2ms/step\n",
      "Epoch 29/60\n",
      "\n",
      "Epoch 29: saving model to /Users/mojgun/Documents/IRONHACK/Final_Project/Dropout_or_Academic_Success/Code/CheckPoints/cls-nn1_2.hdf5\n",
      "385/385 - 1s - loss: 0.4338 - recall_m: 1.0028 - precision_m: 0.4983 - val_loss: 0.4695 - val_recall_m: 1.0015 - val_precision_m: 0.5044 - 900ms/epoch - 2ms/step\n",
      "Epoch 30/60\n",
      "\n",
      "Epoch 30: saving model to /Users/mojgun/Documents/IRONHACK/Final_Project/Dropout_or_Academic_Success/Code/CheckPoints/cls-nn1_2.hdf5\n",
      "385/385 - 1s - loss: 0.4311 - recall_m: 1.0020 - precision_m: 0.4981 - val_loss: 0.4767 - val_recall_m: 0.9998 - val_precision_m: 0.5021 - 853ms/epoch - 2ms/step\n",
      "Epoch 31/60\n",
      "\n",
      "Epoch 31: saving model to /Users/mojgun/Documents/IRONHACK/Final_Project/Dropout_or_Academic_Success/Code/CheckPoints/cls-nn1_2.hdf5\n",
      "385/385 - 1s - loss: 0.4316 - recall_m: 1.0019 - precision_m: 0.4990 - val_loss: 0.4671 - val_recall_m: 1.0044 - val_precision_m: 0.5050 - 868ms/epoch - 2ms/step\n",
      "Epoch 32/60\n",
      "\n",
      "Epoch 32: saving model to /Users/mojgun/Documents/IRONHACK/Final_Project/Dropout_or_Academic_Success/Code/CheckPoints/cls-nn1_2.hdf5\n",
      "385/385 - 1s - loss: 0.4291 - recall_m: 0.9986 - precision_m: 0.4989 - val_loss: 0.4680 - val_recall_m: 1.0000 - val_precision_m: 0.5030 - 894ms/epoch - 2ms/step\n",
      "Epoch 33/60\n",
      "\n",
      "Epoch 33: saving model to /Users/mojgun/Documents/IRONHACK/Final_Project/Dropout_or_Academic_Success/Code/CheckPoints/cls-nn1_2.hdf5\n",
      "385/385 - 1s - loss: 0.4282 - recall_m: 1.0002 - precision_m: 0.4980 - val_loss: 0.4728 - val_recall_m: 1.0000 - val_precision_m: 0.5028 - 962ms/epoch - 2ms/step\n",
      "Epoch 34/60\n",
      "\n",
      "Epoch 34: saving model to /Users/mojgun/Documents/IRONHACK/Final_Project/Dropout_or_Academic_Success/Code/CheckPoints/cls-nn1_2.hdf5\n",
      "385/385 - 1s - loss: 0.4272 - recall_m: 1.0031 - precision_m: 0.4991 - val_loss: 0.4798 - val_recall_m: 1.0034 - val_precision_m: 0.5033 - 943ms/epoch - 2ms/step\n",
      "Epoch 35/60\n",
      "\n",
      "Epoch 35: saving model to /Users/mojgun/Documents/IRONHACK/Final_Project/Dropout_or_Academic_Success/Code/CheckPoints/cls-nn1_2.hdf5\n",
      "385/385 - 1s - loss: 0.4263 - recall_m: 0.9974 - precision_m: 0.4990 - val_loss: 0.4758 - val_recall_m: 1.0026 - val_precision_m: 0.5032 - 866ms/epoch - 2ms/step\n",
      "Epoch 36/60\n",
      "\n",
      "Epoch 36: saving model to /Users/mojgun/Documents/IRONHACK/Final_Project/Dropout_or_Academic_Success/Code/CheckPoints/cls-nn1_2.hdf5\n",
      "385/385 - 1s - loss: 0.4254 - recall_m: 1.0006 - precision_m: 0.4982 - val_loss: 0.4658 - val_recall_m: 1.0017 - val_precision_m: 0.5037 - 880ms/epoch - 2ms/step\n",
      "Epoch 37/60\n",
      "\n",
      "Epoch 37: saving model to /Users/mojgun/Documents/IRONHACK/Final_Project/Dropout_or_Academic_Success/Code/CheckPoints/cls-nn1_2.hdf5\n",
      "385/385 - 1s - loss: 0.4237 - recall_m: 1.0002 - precision_m: 0.4992 - val_loss: 0.4695 - val_recall_m: 1.0052 - val_precision_m: 0.5039 - 904ms/epoch - 2ms/step\n",
      "Epoch 38/60\n",
      "\n",
      "Epoch 38: saving model to /Users/mojgun/Documents/IRONHACK/Final_Project/Dropout_or_Academic_Success/Code/CheckPoints/cls-nn1_2.hdf5\n",
      "385/385 - 1s - loss: 0.4229 - recall_m: 1.0029 - precision_m: 0.4992 - val_loss: 0.4760 - val_recall_m: 1.0034 - val_precision_m: 0.5034 - 883ms/epoch - 2ms/step\n",
      "Epoch 39/60\n",
      "\n",
      "Epoch 39: saving model to /Users/mojgun/Documents/IRONHACK/Final_Project/Dropout_or_Academic_Success/Code/CheckPoints/cls-nn1_2.hdf5\n",
      "385/385 - 2s - loss: 0.4228 - recall_m: 1.0010 - precision_m: 0.4989 - val_loss: 0.4631 - val_recall_m: 1.0035 - val_precision_m: 0.5049 - 2s/epoch - 4ms/step\n",
      "Epoch 40/60\n",
      "\n",
      "Epoch 40: saving model to /Users/mojgun/Documents/IRONHACK/Final_Project/Dropout_or_Academic_Success/Code/CheckPoints/cls-nn1_2.hdf5\n",
      "385/385 - 3s - loss: 0.4200 - recall_m: 1.0048 - precision_m: 0.4991 - val_loss: 0.4715 - val_recall_m: 1.0064 - val_precision_m: 0.5055 - 3s/epoch - 7ms/step\n",
      "Epoch 41/60\n",
      "\n",
      "Epoch 41: saving model to /Users/mojgun/Documents/IRONHACK/Final_Project/Dropout_or_Academic_Success/Code/CheckPoints/cls-nn1_2.hdf5\n",
      "385/385 - 1s - loss: 0.4200 - recall_m: 0.9963 - precision_m: 0.4978 - val_loss: 0.4685 - val_recall_m: 1.0000 - val_precision_m: 0.5030 - 1s/epoch - 3ms/step\n",
      "Epoch 42/60\n",
      "\n",
      "Epoch 42: saving model to /Users/mojgun/Documents/IRONHACK/Final_Project/Dropout_or_Academic_Success/Code/CheckPoints/cls-nn1_2.hdf5\n",
      "385/385 - 1s - loss: 0.4199 - recall_m: 1.0048 - precision_m: 0.4991 - val_loss: 0.4671 - val_recall_m: 1.0034 - val_precision_m: 0.5037 - 958ms/epoch - 2ms/step\n",
      "Epoch 43/60\n",
      "\n",
      "Epoch 43: saving model to /Users/mojgun/Documents/IRONHACK/Final_Project/Dropout_or_Academic_Success/Code/CheckPoints/cls-nn1_2.hdf5\n",
      "385/385 - 1s - loss: 0.4194 - recall_m: 0.9997 - precision_m: 0.4994 - val_loss: 0.4748 - val_recall_m: 1.0026 - val_precision_m: 0.5047 - 1s/epoch - 3ms/step\n",
      "Epoch 44/60\n",
      "\n",
      "Epoch 44: saving model to /Users/mojgun/Documents/IRONHACK/Final_Project/Dropout_or_Academic_Success/Code/CheckPoints/cls-nn1_2.hdf5\n",
      "385/385 - 1s - loss: 0.4178 - recall_m: 1.0003 - precision_m: 0.4992 - val_loss: 0.4709 - val_recall_m: 1.0000 - val_precision_m: 0.5024 - 915ms/epoch - 2ms/step\n"
     ]
    }
   ],
   "source": [
    "history_c1 = model_c1.fit(\n",
    "    X_train_up, \n",
    "    y_train_label, \n",
    "    epochs=60, \n",
    "    validation_split=0.20, \n",
    "    batch_size=10, \n",
    "    verbose=2,\n",
    "    callbacks=[early_stopping,checkpoint]\n",
    ")"
   ]
  },
  {
   "cell_type": "code",
   "execution_count": 84,
   "id": "Fuzw7gRi1b26",
   "metadata": {
    "executionInfo": {
     "elapsed": 236,
     "status": "ok",
     "timestamp": 1656492983016,
     "user": {
      "displayName": "mojgun shabani",
      "userId": "06361705429287830778"
     },
     "user_tz": -120
    },
    "id": "Fuzw7gRi1b26"
   },
   "outputs": [],
   "source": [
    "def plot_metric(history, metric):\n",
    "    train_metrics = history.history[metric] # Get the error metric for the TRAIN set\n",
    "    val_metrics = history.history['val_'+metric] # Get the error metric for the VALIDATION set\n",
    "    epochs = range(1, len(train_metrics) + 1) # range(1,6) -> 1,2,3,4,5\n",
    "    plt.plot(epochs, train_metrics)\n",
    "    plt.plot(epochs, val_metrics)\n",
    "    plt.title('Training and validation '+ metric)\n",
    "    plt.xlabel(\"Epochs\")\n",
    "    plt.ylabel(metric)\n",
    "    plt.yscale('log')\n",
    "    plt.legend([\"train_\"+metric, 'val_'+metric])\n",
    "    plt.show()"
   ]
  },
  {
   "cell_type": "code",
   "execution_count": 97,
   "id": "dDvwv5kfCKv4",
   "metadata": {
    "colab": {
     "base_uri": "https://localhost:8080/",
     "height": 295
    },
    "executionInfo": {
     "elapsed": 373,
     "status": "ok",
     "timestamp": 1656494653252,
     "user": {
      "displayName": "mojgun shabani",
      "userId": "06361705429287830778"
     },
     "user_tz": -120
    },
    "id": "dDvwv5kfCKv4",
    "outputId": "3648a35b-8f91-4df2-c75e-f711cfd19add"
   },
   "outputs": [
    {
     "data": {
      "image/png": "[encoded data removed]",
      "text/plain": [
       "<Figure size 432x288 with 1 Axes>"
      ]
     },
     "metadata": {
      "needs_background": "light"
     },
     "output_type": "display_data"
    }
   ],
   "source": [
    "plot_metric(history_c1,'loss')"
   ]
  },
  {
   "cell_type": "code",
   "execution_count": 86,
   "id": "AD0c8ipiCiL6",
   "metadata": {
    "executionInfo": {
     "elapsed": 31,
     "status": "ok",
     "timestamp": 1656493000173,
     "user": {
      "displayName": "mojgun shabani",
      "userId": "06361705429287830778"
     },
     "user_tz": -120
    },
    "id": "AD0c8ipiCiL6"
   },
   "outputs": [],
   "source": [
    "def model_performance_class(y_train, y_pred_train, y_test, y_pred_test):\n",
    "\n",
    "    from sklearn.metrics import cohen_kappa_score, classification_report \n",
    "\n",
    "\n",
    "    print(\"Results obtained for the TRAIN SET\")\n",
    "    print(\"==================================\")\n",
    "    print(\"The Cohen's Kappa is: {:.2f}\".format(cohen_kappa_score(y_train, y_pred_train)))\n",
    "    print(classification_report(y_train, y_pred_train))\n",
    "    print(\"==================================\")\n",
    "    print(\"Results obtained for the TEST SET\")\n",
    "    print(\"The Cohen's Kappa is: {:.2f}\".format(cohen_kappa_score(y_test, y_pred_test)))\n",
    "    print(classification_report(y_test, y_pred_test))"
   ]
  },
  {
   "cell_type": "code",
   "execution_count": 98,
   "id": "oGTGMVQYCoDe",
   "metadata": {
    "colab": {
     "base_uri": "https://localhost:8080/",
     "height": 236
    },
    "executionInfo": {
     "elapsed": 226,
     "status": "error",
     "timestamp": 1656505536341,
     "user": {
      "displayName": "mojgun shabani",
      "userId": "06361705429287830778"
     },
     "user_tz": -120
    },
    "id": "oGTGMVQYCoDe",
    "outputId": "68365533-5cb4-4f5c-e4f9-7b384a88d8b8"
   },
   "outputs": [
    {
     "name": "stdout",
     "output_type": "stream",
     "text": [
      "151/151 [==============================] - 1s 2ms/step\n",
      "28/28 [==============================] - 0s 3ms/step\n",
      "Results obtained for the TRAIN SET\n",
      "==================================\n",
      "The Cohen's Kappa is: 0.68\n",
      "              precision    recall  f1-score   support\n",
      "\n",
      "           0       0.93      0.73      0.82      2403\n",
      "           1       0.78      0.95      0.85      2403\n",
      "\n",
      "    accuracy                           0.84      4806\n",
      "   macro avg       0.86      0.84      0.84      4806\n",
      "weighted avg       0.86      0.84      0.84      4806\n",
      "\n",
      "==================================\n",
      "Results obtained for the TEST SET\n",
      "The Cohen's Kappa is: 0.63\n",
      "              precision    recall  f1-score   support\n",
      "\n",
      "           0       0.82      0.67      0.74       285\n",
      "           1       0.86      0.93      0.89       600\n",
      "\n",
      "    accuracy                           0.85       885\n",
      "   macro avg       0.84      0.80      0.82       885\n",
      "weighted avg       0.85      0.85      0.84       885\n",
      "\n"
     ]
    }
   ],
   "source": [
    "y_pred_train_c1 = model_c1.predict(X_train_up) # This provides the probability for each class\n",
    "y_pred_test_c1  = model_c1.predict(X_test) # This provides the probability for each class\n",
    "\n",
    "# We need to extract for each row which is the class which the highest probability\n",
    "# which corresponds to the index of the sublist\n",
    "y_pred_train_c1 = np.argmax(y_pred_train_c1, axis=1).reshape(-1,1)\n",
    "y_pred_test_c1  = np.argmax(y_pred_test_c1, axis=1).reshape(-1,1)\n",
    "\n",
    "model_performance_class(y_train_label, y_pred_train_c1, y_test_label, y_pred_test_c1)"
   ]
  },
  {
   "cell_type": "code",
   "execution_count": 99,
   "id": "jMA4K54IbDHG",
   "metadata": {
    "colab": {
     "base_uri": "https://localhost:8080/",
     "height": 236
    },
    "executionInfo": {
     "elapsed": 239,
     "status": "error",
     "timestamp": 1656505531862,
     "user": {
      "displayName": "mojgun shabani",
      "userId": "06361705429287830778"
     },
     "user_tz": -120
    },
    "id": "jMA4K54IbDHG",
    "outputId": "2d603538-99f1-47a4-9449-4cd43156ca47"
   },
   "outputs": [
    {
     "data": {
      "image/png": "[encoded data removed]",
      "text/plain": [
       "<Figure size 432x288 with 2 Axes>"
      ]
     },
     "metadata": {
      "needs_background": "light"
     },
     "output_type": "display_data"
    }
   ],
   "source": [
    "cm_train = confusion_matrix(y_test_label,y_pred_test_c1)\n",
    "cm_train\n",
    "disp = ConfusionMatrixDisplay(cm_train,display_labels=clf.classes_);\n",
    "disp.plot()\n",
    "plt.show()"
   ]
  },
  {
   "cell_type": "markdown",
   "id": "UPC6bUbL1Yjo",
   "metadata": {
    "id": "UPC6bUbL1Yjo"
   },
   "source": [
    "### Make_Classification(Num_2)"
   ]
  },
  {
   "cell_type": "code",
   "execution_count": 155,
   "id": "8DyEGqkWG9m8",
   "metadata": {
    "executionInfo": {
     "elapsed": 296,
     "status": "ok",
     "timestamp": 1656492450877,
     "user": {
      "displayName": "mojgun shabani",
      "userId": "06361705429287830778"
     },
     "user_tz": -120
    },
    "id": "8DyEGqkWG9m8"
   },
   "outputs": [],
   "source": [
    "def create_cla_nn_model(inputs,layer_list= [100,70,2],\n",
    "                        activations = ['relu','relu','sigmoid'],\n",
    "                        dropouts = [0.50,0],\n",
    "                        regularizers = [('l1',0.01),('l2',0.01)]):\n",
    "    '''\n",
    "    This function creates a neural network with the given amount of layers, neurons,\n",
    "    activations, dropouts and regularizers.\n",
    "    Inputs: \n",
    "    inputs -> input size. It must be integer\n",
    "    activations -> a list of activation functions to be used in each layer\n",
    "    droputs -> a list of dropouts coefficients to be used in each layer except the last one\n",
    "    regularizers -> a list of regularizers to be used in the last layer. Coefficients should\n",
    "    be set to zero if no regularizers are wanted.\n",
    "    Output:\n",
    "    neural network already compiled with: 'adam' optimizer and 'mse' as the loss.\n",
    "    '''\n",
    "    \n",
    "    model = keras.Sequential()\n",
    "\n",
    "    my_list = list(zip(layer_list,activations,dropouts))\n",
    "\n",
    "    for index, elem in enumerate(my_list):\n",
    "        if ( index == 0 ):      \n",
    "            model.add(Dense(units = elem[0],input_dim = inputs,activation=elem[1]))\n",
    "            if ( elem[2] != 0 ):\n",
    "            # Adding a dropout layer with regularization parameter (it must be between [0,1) )\n",
    "                model.add(Dropout(elem[2]))\n",
    "        else:\n",
    "            model.add(Dense(units = elem[0],activation=elem[1]))\n",
    "        if ( index == len(my_list) ):\n",
    "            model.add(Dense(elem[0], activation=elem[1],\n",
    "                            activity_regularizer=\n",
    "                            regularizers.l1_l2(l1=regularizers[0][1], l2=regularizers[1][1])))\n",
    "\n",
    "    # Compile the final network\n",
    "    model.compile(optimizer='rmsprop', \n",
    "              loss='sparse_categorical_crossentropy', \n",
    "              metrics=[recall_m] \n",
    "              )\n",
    "    model.summary()\n",
    "\n",
    "    return model"
   ]
  },
  {
   "cell_type": "code",
   "execution_count": 156,
   "id": "vDoOS39VH8xJ",
   "metadata": {
    "colab": {
     "base_uri": "https://localhost:8080/"
    },
    "executionInfo": {
     "elapsed": 301,
     "status": "ok",
     "timestamp": 1656492455538,
     "user": {
      "displayName": "mojgun shabani",
      "userId": "06361705429287830778"
     },
     "user_tz": -120
    },
    "id": "vDoOS39VH8xJ",
    "outputId": "fe1e066a-771c-4d9e-ceb4-59e45f95836f"
   },
   "outputs": [
    {
     "name": "stdout",
     "output_type": "stream",
     "text": [
      "Model: \"sequential_9\"\n",
      "_________________________________________________________________\n",
      " Layer (type)                Output Shape              Param #   \n",
      "=================================================================\n",
      " dense_19 (Dense)            (None, 100)               21800     \n",
      "                                                                 \n",
      " dropout (Dropout)           (None, 100)               0         \n",
      "                                                                 \n",
      " dense_20 (Dense)            (None, 70)                7070      \n",
      "                                                                 \n",
      "=================================================================\n",
      "Total params: 28,870\n",
      "Trainable params: 28,870\n",
      "Non-trainable params: 0\n",
      "_________________________________________________________________\n"
     ]
    }
   ],
   "source": [
    "model_c2 = create_cla_nn_model(X_train_up.shape[1])"
   ]
  },
  {
   "cell_type": "code",
   "execution_count": 157,
   "id": "PTct_bVhIC3A",
   "metadata": {
    "executionInfo": {
     "elapsed": 316,
     "status": "ok",
     "timestamp": 1656492472473,
     "user": {
      "displayName": "mojgun shabani",
      "userId": "06361705429287830778"
     },
     "user_tz": -120
    },
    "id": "PTct_bVhIC3A"
   },
   "outputs": [],
   "source": [
    "checkpoint_path = '/Users/mojgun/Documents/IRONHACK/Final_Project/Dropout_or_Academic_Success/Code/CheckPoints/cls-nn2_1.hdf5'\n",
    "checkpoint = ModelCheckpoint(\n",
    "    filepath=checkpoint_path,\n",
    "    save_freq='epoch',\n",
    "    save_weights_only=False,\n",
    "    verbose=1\n",
    ")"
   ]
  },
  {
   "cell_type": "code",
   "execution_count": 160,
   "id": "y4YripX-IDiP",
   "metadata": {
    "colab": {
     "base_uri": "https://localhost:8080/"
    },
    "executionInfo": {
     "elapsed": 7756,
     "status": "ok",
     "timestamp": 1656492483027,
     "user": {
      "displayName": "mojgun shabani",
      "userId": "06361705429287830778"
     },
     "user_tz": -120
    },
    "id": "y4YripX-IDiP",
    "outputId": "2b17fa32-8eed-4bbc-97df-a6ce9b1a2d02"
   },
   "outputs": [
    {
     "name": "stdout",
     "output_type": "stream",
     "text": [
      "Epoch 1/60\n",
      "\n",
      "Epoch 1: saving model to /Users/mojgun/Documents/IRONHACK/Final_Project/Dropout_or_Academic_Success/Code/CheckPoints/cls-nn2_1.hdf5\n",
      "385/385 - 4s - loss: 1.0447 - recall_m: 1.3484 - val_loss: 0.6067 - val_recall_m: 1.0014 - 4s/epoch - 11ms/step\n",
      "Epoch 2/60\n",
      "\n",
      "Epoch 2: saving model to /Users/mojgun/Documents/IRONHACK/Final_Project/Dropout_or_Academic_Success/Code/CheckPoints/cls-nn2_1.hdf5\n",
      "385/385 - 2s - loss: 1.5070 - recall_m: 0.5980 - val_loss: 2.6680 - val_recall_m: 0.0021 - 2s/epoch - 4ms/step\n",
      "Epoch 3/60\n",
      "\n",
      "Epoch 3: saving model to /Users/mojgun/Documents/IRONHACK/Final_Project/Dropout_or_Academic_Success/Code/CheckPoints/cls-nn2_1.hdf5\n",
      "385/385 - 1s - loss: 3.9372 - recall_m: 0.0059 - val_loss: 4.1204 - val_recall_m: 0.0000e+00 - 1s/epoch - 3ms/step\n",
      "Epoch 4/60\n",
      "\n",
      "Epoch 4: saving model to /Users/mojgun/Documents/IRONHACK/Final_Project/Dropout_or_Academic_Success/Code/CheckPoints/cls-nn2_1.hdf5\n",
      "385/385 - 1s - loss: 4.0869 - recall_m: 0.0000e+00 - val_loss: 4.0454 - val_recall_m: 0.0000e+00 - 1s/epoch - 3ms/step\n",
      "Epoch 5/60\n",
      "\n",
      "Epoch 5: saving model to /Users/mojgun/Documents/IRONHACK/Final_Project/Dropout_or_Academic_Success/Code/CheckPoints/cls-nn2_1.hdf5\n",
      "385/385 - 1s - loss: 4.0106 - recall_m: 0.0000e+00 - val_loss: 3.9305 - val_recall_m: 0.0000e+00 - 1s/epoch - 3ms/step\n",
      "Epoch 6/60\n",
      "\n",
      "Epoch 6: saving model to /Users/mojgun/Documents/IRONHACK/Final_Project/Dropout_or_Academic_Success/Code/CheckPoints/cls-nn2_1.hdf5\n",
      "385/385 - 1s - loss: 3.8553 - recall_m: 0.0000e+00 - val_loss: 3.7922 - val_recall_m: 0.0000e+00 - 1s/epoch - 3ms/step\n"
     ]
    }
   ],
   "source": [
    "history_c2 = model_c2.fit(\n",
    "    X_train_up, \n",
    "    y_train_label, \n",
    "    epochs=60, \n",
    "    validation_split=0.20, \n",
    "    batch_size=10, \n",
    "    verbose=2,\n",
    "    callbacks=[early_stopping,checkpoint]\n",
    ")"
   ]
  },
  {
   "cell_type": "code",
   "execution_count": 161,
   "id": "FjvRWJGsID74",
   "metadata": {
    "colab": {
     "base_uri": "https://localhost:8080/",
     "height": 295
    },
    "executionInfo": {
     "elapsed": 889,
     "status": "ok",
     "timestamp": 1656492487571,
     "user": {
      "displayName": "mojgun shabani",
      "userId": "06361705429287830778"
     },
     "user_tz": -120
    },
    "id": "FjvRWJGsID74",
    "outputId": "0ebc49c1-4543-4c91-fcbd-edd89cfde0f2"
   },
   "outputs": [
    {
     "data": {
      "image/png": "[encoded data removed]",
      "text/plain": [
       "<Figure size 432x288 with 1 Axes>"
      ]
     },
     "metadata": {
      "needs_background": "light"
     },
     "output_type": "display_data"
    }
   ],
   "source": [
    "plot_metric(history_c2,'loss')"
   ]
  },
  {
   "cell_type": "code",
   "execution_count": 162,
   "id": "rlFBvELtIEWz",
   "metadata": {
    "colab": {
     "base_uri": "https://localhost:8080/"
    },
    "executionInfo": {
     "elapsed": 910,
     "status": "ok",
     "timestamp": 1656492495755,
     "user": {
      "displayName": "mojgun shabani",
      "userId": "06361705429287830778"
     },
     "user_tz": -120
    },
    "id": "rlFBvELtIEWz",
    "outputId": "6a1f76ef-a7ee-499e-aae4-acea6d06de31"
   },
   "outputs": [
    {
     "name": "stdout",
     "output_type": "stream",
     "text": [
      "151/151 [==============================] - 1s 5ms/step\n",
      "28/28 [==============================] - 0s 4ms/step\n",
      "Results obtained for the TRAIN SET\n",
      "==================================\n",
      "The Cohen's Kappa is: 0.00\n",
      "              precision    recall  f1-score   support\n",
      "\n",
      "           0       0.50      1.00      0.67      2403\n",
      "           1       0.00      0.00      0.00      2403\n",
      "\n",
      "    accuracy                           0.50      4806\n",
      "   macro avg       0.25      0.50      0.33      4806\n",
      "weighted avg       0.25      0.50      0.33      4806\n",
      "\n",
      "==================================\n",
      "Results obtained for the TEST SET\n",
      "The Cohen's Kappa is: 0.00\n",
      "              precision    recall  f1-score   support\n",
      "\n",
      "           0       0.32      1.00      0.49       285\n",
      "           1       0.00      0.00      0.00       600\n",
      "\n",
      "    accuracy                           0.32       885\n",
      "   macro avg       0.16      0.50      0.24       885\n",
      "weighted avg       0.10      0.32      0.16       885\n",
      "\n"
     ]
    },
    {
     "name": "stderr",
     "output_type": "stream",
     "text": [
      "/Users/mojgun/opt/anaconda3/lib/python3.9/site-packages/sklearn/metrics/_classification.py:1327: UndefinedMetricWarning: Precision and F-score are ill-defined and being set to 0.0 in labels with no predicted samples. Use `zero_division` parameter to control this behavior.\n",
      "  _warn_prf(average, modifier, msg_start, len(result))\n",
      "/Users/mojgun/opt/anaconda3/lib/python3.9/site-packages/sklearn/metrics/_classification.py:1327: UndefinedMetricWarning: Precision and F-score are ill-defined and being set to 0.0 in labels with no predicted samples. Use `zero_division` parameter to control this behavior.\n",
      "  _warn_prf(average, modifier, msg_start, len(result))\n",
      "/Users/mojgun/opt/anaconda3/lib/python3.9/site-packages/sklearn/metrics/_classification.py:1327: UndefinedMetricWarning: Precision and F-score are ill-defined and being set to 0.0 in labels with no predicted samples. Use `zero_division` parameter to control this behavior.\n",
      "  _warn_prf(average, modifier, msg_start, len(result))\n",
      "/Users/mojgun/opt/anaconda3/lib/python3.9/site-packages/sklearn/metrics/_classification.py:1327: UndefinedMetricWarning: Precision and F-score are ill-defined and being set to 0.0 in labels with no predicted samples. Use `zero_division` parameter to control this behavior.\n",
      "  _warn_prf(average, modifier, msg_start, len(result))\n",
      "/Users/mojgun/opt/anaconda3/lib/python3.9/site-packages/sklearn/metrics/_classification.py:1327: UndefinedMetricWarning: Precision and F-score are ill-defined and being set to 0.0 in labels with no predicted samples. Use `zero_division` parameter to control this behavior.\n",
      "  _warn_prf(average, modifier, msg_start, len(result))\n",
      "/Users/mojgun/opt/anaconda3/lib/python3.9/site-packages/sklearn/metrics/_classification.py:1327: UndefinedMetricWarning: Precision and F-score are ill-defined and being set to 0.0 in labels with no predicted samples. Use `zero_division` parameter to control this behavior.\n",
      "  _warn_prf(average, modifier, msg_start, len(result))\n"
     ]
    }
   ],
   "source": [
    "y_pred_train_c2 = model_c2.predict(X_train_up) # This provides the probability for each class\n",
    "y_pred_test_c2  = model_c2.predict(X_test) # This provides the probability for each class\n",
    "\n",
    "# We need to extract for each row which is the class which the highest probability\n",
    "# which corresponds to the index of the sublist\n",
    "y_pred_train_c2 = np.argmax(y_pred_train_c2, axis=1).reshape(-1,1)\n",
    "y_pred_test_c2  = np.argmax(y_pred_test_c2, axis=1).reshape(-1,1)\n",
    "\n",
    "model_performance_class(y_train_label, y_pred_train_c2, y_test_label, y_pred_test_c2)"
   ]
  },
  {
   "cell_type": "markdown",
   "id": "7nU-mnAscXuR",
   "metadata": {
    "id": "7nU-mnAscXuR"
   },
   "source": [
    "### make_classification(Num_3)"
   ]
  },
  {
   "cell_type": "code",
   "execution_count": 143,
   "id": "32mra-DFqLEk",
   "metadata": {
    "executionInfo": {
     "elapsed": 5921,
     "status": "ok",
     "timestamp": 1656426211039,
     "user": {
      "displayName": "mojgun shabani",
      "userId": "06361705429287830778"
     },
     "user_tz": -120
    },
    "id": "32mra-DFqLEk"
   },
   "outputs": [],
   "source": [
    "X_train_p, X_test_p=normal('PowerTransformer',X_train,y_train,X_test,y_test)"
   ]
  },
  {
   "cell_type": "code",
   "execution_count": 144,
   "id": "075b68f2",
   "metadata": {},
   "outputs": [
    {
     "data": {
      "text/plain": [
       "(3538, 217)"
      ]
     },
     "execution_count": 144,
     "metadata": {},
     "output_type": "execute_result"
    }
   ],
   "source": [
    "X_train_p.shape"
   ]
  },
  {
   "cell_type": "code",
   "execution_count": 145,
   "id": "4d99ba8c",
   "metadata": {},
   "outputs": [
    {
     "data": {
      "text/plain": [
       "(3538,)"
      ]
     },
     "execution_count": 145,
     "metadata": {},
     "output_type": "execute_result"
    }
   ],
   "source": [
    "y_train.shape"
   ]
  },
  {
   "cell_type": "code",
   "execution_count": 121,
   "id": "C6XdYsZ-WXpP",
   "metadata": {
    "colab": {
     "base_uri": "https://localhost:8080/"
    },
    "executionInfo": {
     "elapsed": 242,
     "status": "ok",
     "timestamp": 1656426334031,
     "user": {
      "displayName": "mojgun shabani",
      "userId": "06361705429287830778"
     },
     "user_tz": -120
    },
    "id": "C6XdYsZ-WXpP",
    "outputId": "f67266d5-d12e-470c-a97d-f57f0df8614c"
   },
   "outputs": [
    {
     "name": "stdout",
     "output_type": "stream",
     "text": [
      "(2403, 218)\n",
      "(1135, 218)\n",
      "(2403, 218)\n"
     ]
    }
   ],
   "source": [
    "trainset_neural = pd.concat([X_train_p.reset_index(drop=True), y_train.reset_index(drop=True)], axis=1)\n",
    "# Manual way to Upsampling Dropout:\n",
    "category_G_n = trainset_neural[trainset_neural['target']=='Graduate']\n",
    "print(category_G_n.shape)\n",
    "category_D_n = trainset_neural[trainset_neural['target']== 'Dropout' ]\n",
    "print(category_D_n.shape)\n",
    "category_up_n=category_D.sample(len(trainset_neural[trainset_neural['target']=='Graduate']),replace=True)\n",
    "print(category_up_n.shape)"
   ]
  },
  {
   "cell_type": "code",
   "execution_count": 122,
   "id": "m8GQbS8TYKZp",
   "metadata": {
    "colab": {
     "base_uri": "https://localhost:8080/"
    },
    "executionInfo": {
     "elapsed": 248,
     "status": "ok",
     "timestamp": 1656426336831,
     "user": {
      "displayName": "mojgun shabani",
      "userId": "06361705429287830778"
     },
     "user_tz": -120
    },
    "id": "m8GQbS8TYKZp",
    "outputId": "a642dfa4-a6c0-4cd7-cf3f-35cca3004fc1"
   },
   "outputs": [
    {
     "name": "stdout",
     "output_type": "stream",
     "text": [
      "(4806, 217)\n",
      "(885, 217)\n",
      "(4806,)\n",
      "(885,)\n"
     ]
    }
   ],
   "source": [
    "# Concatinate and Train & test Spli\n",
    "#concatinate\n",
    "trainset_new = pd.concat([category_G_n, category_up_n], axis = 0)\n",
    "trainset_new = trainset_new.sample(frac =1) #randomize the rows\n",
    "X_train_p_up = trainset_new.drop(['target'], axis=1)\n",
    "y_train_p_up = trainset_new['target']\n",
    "#data = data.reset_index(drop=True)\n",
    "print(X_train_p_up.shape)\n",
    "print(X_test.shape)\n",
    "print(y_train_p_up.shape)\n",
    "print(y_test.shape)"
   ]
  },
  {
   "cell_type": "code",
   "execution_count": 123,
   "id": "958276e1",
   "metadata": {},
   "outputs": [
    {
     "data": {
      "text/plain": [
       "0"
      ]
     },
     "execution_count": 123,
     "metadata": {},
     "output_type": "execute_result"
    }
   ],
   "source": [
    "y_train_p_up.isna().sum()"
   ]
  },
  {
   "cell_type": "code",
   "execution_count": 146,
   "id": "IZQ9BmMFtze4",
   "metadata": {
    "executionInfo": {
     "elapsed": 352,
     "status": "ok",
     "timestamp": 1656427028652,
     "user": {
      "displayName": "mojgun shabani",
      "userId": "06361705429287830778"
     },
     "user_tz": -120
    },
    "id": "IZQ9BmMFtze4"
   },
   "outputs": [],
   "source": [
    "# Creating labelEncoder\n",
    "le = preprocessing.LabelEncoder()\n",
    "# Converting string labels into numbers.\n",
    "y_train_label=le.fit_transform(y_train)\n",
    "y_test_label=le.fit_transform(y_test)"
   ]
  },
  {
   "cell_type": "code",
   "execution_count": 147,
   "id": "c8368c08",
   "metadata": {},
   "outputs": [
    {
     "data": {
      "text/plain": [
       "(3538, 217)"
      ]
     },
     "execution_count": 147,
     "metadata": {},
     "output_type": "execute_result"
    }
   ],
   "source": [
    "X_train_p.shape"
   ]
  },
  {
   "cell_type": "code",
   "execution_count": 149,
   "id": "f23bd63c",
   "metadata": {},
   "outputs": [
    {
     "data": {
      "text/plain": [
       "(3538,)"
      ]
     },
     "execution_count": 149,
     "metadata": {},
     "output_type": "execute_result"
    }
   ],
   "source": [
    "y_train.shape"
   ]
  },
  {
   "cell_type": "code",
   "execution_count": 150,
   "id": "m_m57oF4cFPg",
   "metadata": {
    "colab": {
     "base_uri": "https://localhost:8080/"
    },
    "executionInfo": {
     "elapsed": 289,
     "status": "ok",
     "timestamp": 1656427172928,
     "user": {
      "displayName": "mojgun shabani",
      "userId": "06361705429287830778"
     },
     "user_tz": -120
    },
    "id": "m_m57oF4cFPg",
    "outputId": "87bdc0b8-6332-4662-deef-2eb36b50d394"
   },
   "outputs": [
    {
     "name": "stdout",
     "output_type": "stream",
     "text": [
      "Model: \"sequential_8\"\n",
      "_________________________________________________________________\n",
      " Layer (type)                Output Shape              Param #   \n",
      "=================================================================\n",
      " dense_17 (Dense)            (None, 15)                3270      \n",
      "                                                                 \n",
      " dense_18 (Dense)            (None, 2)                 32        \n",
      "                                                                 \n",
      "=================================================================\n",
      "Total params: 3,302\n",
      "Trainable params: 3,302\n",
      "Non-trainable params: 0\n",
      "_________________________________________________________________\n"
     ]
    }
   ],
   "source": [
    "model_c3 = keras.Sequential()\n",
    "model_c3.add(Dense(units = 15,\n",
    "                   input_dim = X_train_p.shape[1],\n",
    "                   activation='relu',\n",
    "                   activity_regularizer=regularizers.l1_l2(0.2,0.2)))\n",
    "#model_c1.add(Dense(units = 15,activation='relu'))\n",
    "#model_c1.add(Dense(units = 50,activation='relu'))\n",
    "#model_c1.add(Dense(units = 20,activation='relu'))\n",
    "#model_c1.add(Dense(units = 5, activation='relu'))\n",
    "model_c3.add(Dense(units = 2, activation='sigmoid'))\n",
    "model_c3.compile(optimizer='rmsprop', \n",
    "              loss='sparse_categorical_crossentropy', \n",
    "              metrics=[recall_m,precision_m]\n",
    "              )\n",
    "model_c3.summary()"
   ]
  },
  {
   "cell_type": "code",
   "execution_count": 139,
   "id": "pUH-I0N5to3h",
   "metadata": {
    "executionInfo": {
     "elapsed": 275,
     "status": "ok",
     "timestamp": 1656427177076,
     "user": {
      "displayName": "mojgun shabani",
      "userId": "06361705429287830778"
     },
     "user_tz": -120
    },
    "id": "pUH-I0N5to3h"
   },
   "outputs": [],
   "source": [
    "checkpoint_path = '/Users/mojgun/Documents/IRONHACK/Final_Project/Dropout_or_Academic_Success/Code/CheckPoints/cls-nn3_5.hdf5'\n",
    "checkpoint = ModelCheckpoint(\n",
    "    filepath=checkpoint_path,\n",
    "    save_freq='epoch',\n",
    "    save_weights_only=False,\n",
    "    verbose=1\n",
    ")"
   ]
  },
  {
   "cell_type": "code",
   "execution_count": 151,
   "id": "yB8BhVx4uByy",
   "metadata": {
    "colab": {
     "base_uri": "https://localhost:8080/"
    },
    "executionInfo": {
     "elapsed": 6610,
     "status": "ok",
     "timestamp": 1656427185382,
     "user": {
      "displayName": "mojgun shabani",
      "userId": "06361705429287830778"
     },
     "user_tz": -120
    },
    "id": "yB8BhVx4uByy",
    "outputId": "eba5842a-591f-484d-c10a-3c149b647dd6"
   },
   "outputs": [
    {
     "name": "stdout",
     "output_type": "stream",
     "text": [
      "Epoch 1/60\n",
      "\n",
      "Epoch 1: saving model to /Users/mojgun/Documents/IRONHACK/Final_Project/Dropout_or_Academic_Success/Code/CheckPoints/cls-nn3_5.hdf5\n",
      "283/283 - 5s - loss: 10.3910 - recall_m: 0.9861 - precision_m: 0.6728 - val_loss: 14.4997 - val_recall_m: 1.0191 - val_precision_m: 0.6564 - 5s/epoch - 19ms/step\n",
      "Epoch 2/60\n",
      "\n",
      "Epoch 2: saving model to /Users/mojgun/Documents/IRONHACK/Final_Project/Dropout_or_Academic_Success/Code/CheckPoints/cls-nn3_5.hdf5\n",
      "283/283 - 1s - loss: 19.4563 - recall_m: 0.9929 - precision_m: 0.6734 - val_loss: 31.1371 - val_recall_m: 0.9840 - val_precision_m: 0.6669 - 1s/epoch - 4ms/step\n",
      "Epoch 3/60\n",
      "\n",
      "Epoch 3: saving model to /Users/mojgun/Documents/IRONHACK/Final_Project/Dropout_or_Academic_Success/Code/CheckPoints/cls-nn3_5.hdf5\n",
      "283/283 - 1s - loss: 30.7398 - recall_m: 0.9876 - precision_m: 0.6782 - val_loss: 54.2296 - val_recall_m: 0.9793 - val_precision_m: 0.6691 - 1s/epoch - 4ms/step\n",
      "Epoch 4/60\n",
      "\n",
      "Epoch 4: saving model to /Users/mojgun/Documents/IRONHACK/Final_Project/Dropout_or_Academic_Success/Code/CheckPoints/cls-nn3_5.hdf5\n",
      "283/283 - 1s - loss: 45.1715 - recall_m: 0.9828 - precision_m: 0.6789 - val_loss: 84.8974 - val_recall_m: 0.9821 - val_precision_m: 0.6747 - 698ms/epoch - 2ms/step\n",
      "Epoch 5/60\n",
      "\n",
      "Epoch 5: saving model to /Users/mojgun/Documents/IRONHACK/Final_Project/Dropout_or_Academic_Success/Code/CheckPoints/cls-nn3_5.hdf5\n",
      "283/283 - 1s - loss: 62.6738 - recall_m: 0.9782 - precision_m: 0.6787 - val_loss: 122.9684 - val_recall_m: 0.9684 - val_precision_m: 0.6736 - 714ms/epoch - 3ms/step\n",
      "Epoch 6/60\n",
      "\n",
      "Epoch 6: saving model to /Users/mojgun/Documents/IRONHACK/Final_Project/Dropout_or_Academic_Success/Code/CheckPoints/cls-nn3_5.hdf5\n",
      "283/283 - 1s - loss: 86.6484 - recall_m: 0.9749 - precision_m: 0.6801 - val_loss: 166.2384 - val_recall_m: 0.9522 - val_precision_m: 0.6749 - 676ms/epoch - 2ms/step\n"
     ]
    }
   ],
   "source": [
    "history_c3 = model_c3.fit(\n",
    "    X_train_p, \n",
    "    y_train_label, \n",
    "    epochs=60, \n",
    "    validation_split=0.20, \n",
    "    batch_size=10, \n",
    "    verbose=2,\n",
    "    callbacks=[early_stopping,checkpoint]\n",
    ")"
   ]
  },
  {
   "cell_type": "code",
   "execution_count": 152,
   "id": "QkW68YyduSZ3",
   "metadata": {
    "colab": {
     "base_uri": "https://localhost:8080/",
     "height": 295
    },
    "executionInfo": {
     "elapsed": 1240,
     "status": "ok",
     "timestamp": 1656427190064,
     "user": {
      "displayName": "mojgun shabani",
      "userId": "06361705429287830778"
     },
     "user_tz": -120
    },
    "id": "QkW68YyduSZ3",
    "outputId": "a95ce8f5-0a4d-44ac-9a5c-434b1876f606"
   },
   "outputs": [
    {
     "data": {
      "image/png": "[encoded data removed]",
      "text/plain": [
       "<Figure size 432x288 with 1 Axes>"
      ]
     },
     "metadata": {
      "needs_background": "light"
     },
     "output_type": "display_data"
    }
   ],
   "source": [
    "plot_metric(history_c3,'loss')"
   ]
  },
  {
   "cell_type": "code",
   "execution_count": 154,
   "id": "GmSVahS_uWcx",
   "metadata": {
    "colab": {
     "base_uri": "https://localhost:8080/"
    },
    "executionInfo": {
     "elapsed": 761,
     "status": "ok",
     "timestamp": 1656427194985,
     "user": {
      "displayName": "mojgun shabani",
      "userId": "06361705429287830778"
     },
     "user_tz": -120
    },
    "id": "GmSVahS_uWcx",
    "outputId": "45e69143-4cdc-412c-e96c-a5e6b902518f"
   },
   "outputs": [
    {
     "name": "stdout",
     "output_type": "stream",
     "text": [
      "111/111 [==============================] - 0s 3ms/step\n",
      "28/28 [==============================] - 0s 4ms/step\n",
      "Results obtained for the TRAIN SET\n",
      "==================================\n",
      "The Cohen's Kappa is: 0.14\n",
      "              precision    recall  f1-score   support\n",
      "\n",
      "           0       0.72      0.13      0.22      1135\n",
      "           1       0.70      0.98      0.82      2403\n",
      "\n",
      "    accuracy                           0.70      3538\n",
      "   macro avg       0.71      0.55      0.52      3538\n",
      "weighted avg       0.71      0.70      0.63      3538\n",
      "\n",
      "==================================\n",
      "Results obtained for the TEST SET\n",
      "The Cohen's Kappa is: 0.00\n",
      "              precision    recall  f1-score   support\n",
      "\n",
      "           0       0.00      0.00      0.00       285\n",
      "           1       0.68      1.00      0.81       600\n",
      "\n",
      "    accuracy                           0.68       885\n",
      "   macro avg       0.34      0.50      0.40       885\n",
      "weighted avg       0.46      0.68      0.55       885\n",
      "\n"
     ]
    },
    {
     "name": "stderr",
     "output_type": "stream",
     "text": [
      "/Users/mojgun/opt/anaconda3/lib/python3.9/site-packages/sklearn/metrics/_classification.py:1327: UndefinedMetricWarning: Precision and F-score are ill-defined and being set to 0.0 in labels with no predicted samples. Use `zero_division` parameter to control this behavior.\n",
      "  _warn_prf(average, modifier, msg_start, len(result))\n",
      "/Users/mojgun/opt/anaconda3/lib/python3.9/site-packages/sklearn/metrics/_classification.py:1327: UndefinedMetricWarning: Precision and F-score are ill-defined and being set to 0.0 in labels with no predicted samples. Use `zero_division` parameter to control this behavior.\n",
      "  _warn_prf(average, modifier, msg_start, len(result))\n",
      "/Users/mojgun/opt/anaconda3/lib/python3.9/site-packages/sklearn/metrics/_classification.py:1327: UndefinedMetricWarning: Precision and F-score are ill-defined and being set to 0.0 in labels with no predicted samples. Use `zero_division` parameter to control this behavior.\n",
      "  _warn_prf(average, modifier, msg_start, len(result))\n"
     ]
    }
   ],
   "source": [
    "y_pred_train_c3= model_c3.predict(X_train_p) # This provides the probability for each class\n",
    "y_pred_test_c3= model_c3.predict(X_test) # This provides the probability for each class\n",
    "\n",
    "# We need to extract for each row which is the class which the highest probability\n",
    "# which corresponds to the index of the sublist\n",
    "y_pred_train_c3 = np.argmax(y_pred_train_c3, axis=1).reshape(-1,1)\n",
    "y_pred_test_c3  = np.argmax(y_pred_test_c3, axis=1).reshape(-1,1)\n",
    "\n",
    "model_performance_class(y_train_label, y_pred_train_c3, y_test_label, y_pred_test_c3)"
   ]
  },
  {
   "cell_type": "markdown",
   "id": "ioimLffpwYNq",
   "metadata": {
    "id": "ioimLffpwYNq"
   },
   "source": [
    "###Make_Classification(Num4)"
   ]
  },
  {
   "cell_type": "code",
   "execution_count": 477,
   "id": "iWNDDo5VwXZf",
   "metadata": {
    "colab": {
     "base_uri": "https://localhost:8080/"
    },
    "executionInfo": {
     "elapsed": 246,
     "status": "ok",
     "timestamp": 1656427296476,
     "user": {
      "displayName": "mojgun shabani",
      "userId": "06361705429287830778"
     },
     "user_tz": -120
    },
    "id": "iWNDDo5VwXZf",
    "outputId": "2c65e73e-b13a-42ae-9142-354f591bb3ea"
   },
   "outputs": [
    {
     "name": "stdout",
     "output_type": "stream",
     "text": [
      "Model: \"sequential_41\"\n",
      "_________________________________________________________________\n",
      " Layer (type)                Output Shape              Param #   \n",
      "=================================================================\n",
      " dense_156 (Dense)           (None, 100)               21800     \n",
      "                                                                 \n",
      " dropout_3 (Dropout)         (None, 100)               0         \n",
      "                                                                 \n",
      " dense_157 (Dense)           (None, 70)                7070      \n",
      "                                                                 \n",
      " dense_158 (Dense)           (None, 50)                3550      \n",
      "                                                                 \n",
      "=================================================================\n",
      "Total params: 32,420\n",
      "Trainable params: 32,420\n",
      "Non-trainable params: 0\n",
      "_________________________________________________________________\n"
     ]
    }
   ],
   "source": [
    "model_c4 = create_cla_nn_model(X_train_p_up.shape[1])"
   ]
  },
  {
   "cell_type": "code",
   "execution_count": 479,
   "id": "zRM9Lwz4w5Jo",
   "metadata": {
    "executionInfo": {
     "elapsed": 237,
     "status": "ok",
     "timestamp": 1656427356607,
     "user": {
      "displayName": "mojgun shabani",
      "userId": "06361705429287830778"
     },
     "user_tz": -120
    },
    "id": "zRM9Lwz4w5Jo"
   },
   "outputs": [],
   "source": [
    "checkpoint_path = '/content/drive/MyDrive/IRONHACK/Final_Project/Checkpoint/cls-nn1.hdf5'\n",
    "checkpoint = ModelCheckpoint(\n",
    "    filepath=checkpoint_path,\n",
    "    save_freq='epoch',\n",
    "    save_weights_only=False,\n",
    "    verbose=1\n",
    ")"
   ]
  },
  {
   "cell_type": "code",
   "execution_count": 481,
   "id": "xCdR4lA9w8c3",
   "metadata": {
    "colab": {
     "base_uri": "https://localhost:8080/"
    },
    "executionInfo": {
     "elapsed": 14603,
     "status": "ok",
     "timestamp": 1656427397094,
     "user": {
      "displayName": "mojgun shabani",
      "userId": "06361705429287830778"
     },
     "user_tz": -120
    },
    "id": "xCdR4lA9w8c3",
    "outputId": "cc3b9adc-55d5-425d-e9d6-c7b16a4d6080"
   },
   "outputs": [
    {
     "name": "stdout",
     "output_type": "stream",
     "text": [
      "Epoch 1/60\n",
      "\n",
      "Epoch 1: saving model to /content/drive/MyDrive/IRONHACK/Final_Project/Checkpoint/cls-nn1.hdf5\n",
      "385/385 - 4s - loss: 0.3135 - recall_m: 1.1915 - val_loss: 0.0185 - val_recall_m: 0.9965 - 4s/epoch - 11ms/step\n",
      "Epoch 2/60\n",
      "\n",
      "Epoch 2: saving model to /content/drive/MyDrive/IRONHACK/Final_Project/Checkpoint/cls-nn1.hdf5\n",
      "385/385 - 2s - loss: 0.0263 - recall_m: 0.9964 - val_loss: 0.0186 - val_recall_m: 0.9936 - 2s/epoch - 4ms/step\n",
      "Epoch 3/60\n",
      "\n",
      "Epoch 3: saving model to /content/drive/MyDrive/IRONHACK/Final_Project/Checkpoint/cls-nn1.hdf5\n",
      "385/385 - 1s - loss: 0.0118 - recall_m: 0.9980 - val_loss: 0.0026 - val_recall_m: 1.0000 - 1s/epoch - 4ms/step\n",
      "Epoch 4/60\n",
      "\n",
      "Epoch 4: saving model to /content/drive/MyDrive/IRONHACK/Final_Project/Checkpoint/cls-nn1.hdf5\n",
      "385/385 - 2s - loss: 0.0098 - recall_m: 0.9965 - val_loss: 0.0177 - val_recall_m: 1.0026 - 2s/epoch - 4ms/step\n",
      "Epoch 5/60\n",
      "\n",
      "Epoch 5: saving model to /content/drive/MyDrive/IRONHACK/Final_Project/Checkpoint/cls-nn1.hdf5\n",
      "385/385 - 2s - loss: 0.0149 - recall_m: 0.9981 - val_loss: 0.0168 - val_recall_m: 1.0000 - 2s/epoch - 4ms/step\n",
      "Epoch 6/60\n",
      "\n",
      "Epoch 6: saving model to /content/drive/MyDrive/IRONHACK/Final_Project/Checkpoint/cls-nn1.hdf5\n",
      "385/385 - 1s - loss: 0.0084 - recall_m: 0.9998 - val_loss: 0.0174 - val_recall_m: 1.0000 - 1s/epoch - 4ms/step\n",
      "Epoch 7/60\n",
      "\n",
      "Epoch 7: saving model to /content/drive/MyDrive/IRONHACK/Final_Project/Checkpoint/cls-nn1.hdf5\n",
      "385/385 - 1s - loss: 0.0014 - recall_m: 1.0002 - val_loss: 0.0175 - val_recall_m: 0.9974 - 1s/epoch - 3ms/step\n",
      "Epoch 8/60\n",
      "\n",
      "Epoch 8: saving model to /content/drive/MyDrive/IRONHACK/Final_Project/Checkpoint/cls-nn1.hdf5\n",
      "385/385 - 1s - loss: 0.0118 - recall_m: 0.9956 - val_loss: 0.0169 - val_recall_m: 0.9974 - 1s/epoch - 3ms/step\n"
     ]
    }
   ],
   "source": [
    "history_c4 = model_c4.fit(\n",
    "    X_train_p_up, \n",
    "    y_train_label, \n",
    "    epochs=60, \n",
    "    validation_split=0.20, \n",
    "    batch_size=10, \n",
    "    verbose=2,\n",
    "    callbacks=[early_stopping,checkpoint]\n",
    ")"
   ]
  },
  {
   "cell_type": "code",
   "execution_count": 482,
   "id": "CfhtamL9xDt2",
   "metadata": {
    "colab": {
     "base_uri": "https://localhost:8080/",
     "height": 295
    },
    "executionInfo": {
     "elapsed": 794,
     "status": "ok",
     "timestamp": 1656427410474,
     "user": {
      "displayName": "mojgun shabani",
      "userId": "06361705429287830778"
     },
     "user_tz": -120
    },
    "id": "CfhtamL9xDt2",
    "outputId": "cbc0f47c-ec18-4960-b544-86eb226c750c"
   },
   "outputs": [
    {
     "data": {
      "image/png": "[encoded data removed]",
      "text/plain": [
       "<Figure size 432x288 with 1 Axes>"
      ]
     },
     "metadata": {
      "needs_background": "light"
     },
     "output_type": "display_data"
    }
   ],
   "source": [
    "plot_metric(history_c4,'loss')"
   ]
  },
  {
   "cell_type": "code",
   "execution_count": 483,
   "id": "ph1apYngxHLq",
   "metadata": {
    "colab": {
     "base_uri": "https://localhost:8080/"
    },
    "executionInfo": {
     "elapsed": 1129,
     "status": "ok",
     "timestamp": 1656427432715,
     "user": {
      "displayName": "mojgun shabani",
      "userId": "06361705429287830778"
     },
     "user_tz": -120
    },
    "id": "ph1apYngxHLq",
    "outputId": "3ad017ed-2f1f-470b-e868-f44f472148ba"
   },
   "outputs": [
    {
     "name": "stdout",
     "output_type": "stream",
     "text": [
      "Results obtained for the TRAIN SET\n",
      "==================================\n",
      "The Cohen's Kappa is: 1.00\n",
      "              precision    recall  f1-score   support\n",
      "\n",
      "           0       1.00      1.00      1.00      2403\n",
      "           1       1.00      1.00      1.00      2403\n",
      "\n",
      "    accuracy                           1.00      4806\n",
      "   macro avg       1.00      1.00      1.00      4806\n",
      "weighted avg       1.00      1.00      1.00      4806\n",
      "\n",
      "==================================\n",
      "Results obtained for the TEST SET\n",
      "The Cohen's Kappa is: 0.00\n",
      "              precision    recall  f1-score   support\n",
      "\n",
      "           0       0.32      1.00      0.49       285\n",
      "           1       0.00      0.00      0.00       600\n",
      "\n",
      "    accuracy                           0.32       885\n",
      "   macro avg       0.16      0.50      0.24       885\n",
      "weighted avg       0.10      0.32      0.16       885\n",
      "\n"
     ]
    },
    {
     "name": "stderr",
     "output_type": "stream",
     "text": [
      "/usr/local/lib/python3.7/dist-packages/sklearn/metrics/_classification.py:1318: UndefinedMetricWarning: Precision and F-score are ill-defined and being set to 0.0 in labels with no predicted samples. Use `zero_division` parameter to control this behavior.\n",
      "  _warn_prf(average, modifier, msg_start, len(result))\n",
      "/usr/local/lib/python3.7/dist-packages/sklearn/metrics/_classification.py:1318: UndefinedMetricWarning: Precision and F-score are ill-defined and being set to 0.0 in labels with no predicted samples. Use `zero_division` parameter to control this behavior.\n",
      "  _warn_prf(average, modifier, msg_start, len(result))\n",
      "/usr/local/lib/python3.7/dist-packages/sklearn/metrics/_classification.py:1318: UndefinedMetricWarning: Precision and F-score are ill-defined and being set to 0.0 in labels with no predicted samples. Use `zero_division` parameter to control this behavior.\n",
      "  _warn_prf(average, modifier, msg_start, len(result))\n"
     ]
    }
   ],
   "source": [
    "y_pred_train_c4= model_c4.predict(X_train_p_up) # This provides the probability for each class\n",
    "y_pred_test_c4= model_c4.predict(X_test) # This provides the probability for each class\n",
    "\n",
    "# We need to extract for each row which is the class which the highest probability\n",
    "# which corresponds to the index of the sublist\n",
    "y_pred_train_c4 = np.argmax(y_pred_train_c4, axis=1).reshape(-1,1)\n",
    "y_pred_test_c4  = np.argmax(y_pred_test_c4, axis=1).reshape(-1,1)\n",
    "\n",
    "model_performance_class(y_train_label, y_pred_train_c4, y_test_label, y_pred_test_c3)"
   ]
  },
  {
   "cell_type": "code",
   "execution_count": 485,
   "id": "3hrpUi-vxXWU",
   "metadata": {
    "colab": {
     "base_uri": "https://localhost:8080/",
     "height": 283
    },
    "executionInfo": {
     "elapsed": 829,
     "status": "ok",
     "timestamp": 1656427543717,
     "user": {
      "displayName": "mojgun shabani",
      "userId": "06361705429287830778"
     },
     "user_tz": -120
    },
    "id": "3hrpUi-vxXWU",
    "outputId": "fd520cdb-46d4-4196-8481-46766d5bffed"
   },
   "outputs": [
    {
     "data": {
      "image/png": "[encoded data removed]",
      "text/plain": [
       "<Figure size 432x288 with 2 Axes>"
      ]
     },
     "metadata": {
      "needs_background": "light"
     },
     "output_type": "display_data"
    }
   ],
   "source": [
    "cm_train = confusion_matrix(y_test_label,y_pred_test_c4)\n",
    "cm_train\n",
    "disp = ConfusionMatrixDisplay(cm_train,display_labels=clf.classes_);\n",
    "disp.plot()\n",
    "plt.show()"
   ]
  },
  {
   "cell_type": "markdown",
   "id": "tMYjXChT2f_r",
   "metadata": {
    "id": "tMYjXChT2f_r"
   },
   "source": [
    "# GradientBoostingRegressor"
   ]
  },
  {
   "cell_type": "markdown",
   "id": "kvot1dW3-XnR",
   "metadata": {
    "id": "kvot1dW3-XnR"
   },
   "source": [
    "## GradientBoostingRegressor(Model_1)"
   ]
  },
  {
   "cell_type": "code",
   "execution_count": 534,
   "id": "mYbZRI4X2gU_",
   "metadata": {
    "colab": {
     "base_uri": "https://localhost:8080/"
    },
    "executionInfo": {
     "elapsed": 8025,
     "status": "ok",
     "timestamp": 1656429221559,
     "user": {
      "displayName": "mojgun shabani",
      "userId": "06361705429287830778"
     },
     "user_tz": -120
    },
    "id": "mYbZRI4X2gU_",
    "outputId": "5ac07d07-b788-4a0e-adb6-b7f94708fdd2"
   },
   "outputs": [
    {
     "name": "stdout",
     "output_type": "stream",
     "text": [
      "The accuracy of in the TEST  set is: 0.859\n",
      "The recall_score for the DecisionTree in the Train set is  0.75\n",
      "The kappa in of the TEST set is: 0.67\n",
      "The precision_score for the DecisionTree in the Train set is  0.8\n"
     ]
    }
   ],
   "source": [
    "from sklearn.ensemble import HistGradientBoostingClassifier\n",
    "\n",
    "gb = HistGradientBoostingClassifier()\n",
    "\n",
    "gb.fit(X_train_up,y_train_up)\n",
    "\n",
    "y_train_pred = gb.predict(X_train_up)\n",
    "y_test_pred  = gb.predict(X_test)\n",
    "\n",
    "print(\"The accuracy of in the TEST  set is: {:.3f}\".format(accuracy_score(y_test, y_test_pred)))\n",
    "print(\"The recall_score for the DecisionTree in the Train set is  \"+ str(round(recall_score(y_test, y_test_pred,pos_label='Dropout'),2)))\n",
    "print(\"The kappa in of the TEST set is: {:.2f}\".format(cohen_kappa_score(y_test,y_test_pred)))\n",
    "print(\"The precision_score for the DecisionTree in the Train set is  \"+ str(round(precision_score(y_test,y_test_pred,pos_label='Dropout'),2)))"
   ]
  },
  {
   "cell_type": "code",
   "execution_count": 536,
   "id": "a33RsGsM4DnZ",
   "metadata": {
    "colab": {
     "base_uri": "https://localhost:8080/",
     "height": 279
    },
    "executionInfo": {
     "elapsed": 254,
     "status": "ok",
     "timestamp": 1656429283406,
     "user": {
      "displayName": "mojgun shabani",
      "userId": "06361705429287830778"
     },
     "user_tz": -120
    },
    "id": "a33RsGsM4DnZ",
    "outputId": "d448f9d5-8d65-4ec9-f06b-30d1c2c24387"
   },
   "outputs": [
    {
     "data": {
      "image/png": "[encoded data removed]",
      "text/plain": [
       "<Figure size 432x288 with 2 Axes>"
      ]
     },
     "metadata": {
      "needs_background": "light"
     },
     "output_type": "display_data"
    }
   ],
   "source": [
    "cm_train = confusion_matrix(y_test,y_test_pred)\n",
    "cm_train\n",
    "disp = ConfusionMatrixDisplay(cm_train,display_labels=gb.classes_);\n",
    "disp.plot()\n",
    "plt.show()"
   ]
  },
  {
   "cell_type": "markdown",
   "id": "fCi4OD4m-p6b",
   "metadata": {
    "id": "fCi4OD4m-p6b"
   },
   "source": [
    "## GradientBoostingRegressor(Model_2)"
   ]
  },
  {
   "cell_type": "code",
   "execution_count": 550,
   "id": "vLEPsL1E4msy",
   "metadata": {
    "colab": {
     "base_uri": "https://localhost:8080/"
    },
    "executionInfo": {
     "elapsed": 40576,
     "status": "ok",
     "timestamp": 1656430593673,
     "user": {
      "displayName": "mojgun shabani",
      "userId": "06361705429287830778"
     },
     "user_tz": -120
    },
    "id": "vLEPsL1E4msy",
    "outputId": "b8db7ce4-8af7-47d2-9d58-b367bf309a3a"
   },
   "outputs": [
    {
     "name": "stdout",
     "output_type": "stream",
     "text": [
      "Fitting 5 folds for each of 8 candidates, totalling 40 fits\n"
     ]
    },
    {
     "data": {
      "text/plain": [
       "{'max_depth': 5, 'min_samples_leaf': 10}"
      ]
     },
     "execution_count": 550,
     "metadata": {},
     "output_type": "execute_result"
    }
   ],
   "source": [
    "param_grid = {\n",
    "    'min_samples_leaf' : [10,20,30,50],\n",
    "    'max_depth':[3,5],\n",
    "    }\n",
    "\n",
    "gb = HistGradientBoostingClassifier(random_state=100)\n",
    "grid_search = GridSearchCV(gb, param_grid, cv=5,return_train_score=True,n_jobs=12, verbose = 20)\n",
    "grid_search.fit(X_train_up,y_train_up)\n",
    "grid_search.best_params_ "
   ]
  },
  {
   "cell_type": "code",
   "execution_count": 551,
   "id": "izv2GBF96BW0",
   "metadata": {
    "colab": {
     "base_uri": "https://localhost:8080/"
    },
    "executionInfo": {
     "elapsed": 4083,
     "status": "ok",
     "timestamp": 1656430651902,
     "user": {
      "displayName": "mojgun shabani",
      "userId": "06361705429287830778"
     },
     "user_tz": -120
    },
    "id": "izv2GBF96BW0",
    "outputId": "d1a7b3e7-d147-43c6-9a65-4c7322e5b664"
   },
   "outputs": [
    {
     "name": "stdout",
     "output_type": "stream",
     "text": [
      "The accuracy of in the TEST  set is: 0.860\n",
      "The recall_score for the DecisionTree in the Train set is  0.74\n",
      "The kappa in of the TEST set is: 0.67\n",
      "The precision_score for the DecisionTree in the Train set is  0.81\n"
     ]
    }
   ],
   "source": [
    "gb = HistGradientBoostingClassifier(max_depth=5,min_samples_leaf=10)\n",
    "\n",
    "gb.fit(X_train_up,y_train_up)\n",
    "\n",
    "y_train_pred = gb.predict(X_train_up)\n",
    "y_test_pred  = gb.predict(X_test)\n",
    "\n",
    "print(\"The accuracy of in the TEST  set is: {:.3f}\".format(accuracy_score(y_test, y_test_pred)))\n",
    "print(\"The recall_score for the DecisionTree in the Train set is  \"+ str(round(recall_score(y_test, y_test_pred,pos_label='Dropout'),2)))\n",
    "print(\"The kappa in of the TEST set is: {:.2f}\".format(cohen_kappa_score(y_test,y_test_pred)))\n",
    "print(\"The precision_score for the DecisionTree in the Train set is  \"+ str(round(precision_score(y_test,y_test_pred,pos_label='Dropout'),2)))"
   ]
  },
  {
   "cell_type": "code",
   "execution_count": 552,
   "id": "nXCeQKhx9lor",
   "metadata": {
    "colab": {
     "base_uri": "https://localhost:8080/",
     "height": 279
    },
    "executionInfo": {
     "elapsed": 1831,
     "status": "ok",
     "timestamp": 1656430685950,
     "user": {
      "displayName": "mojgun shabani",
      "userId": "06361705429287830778"
     },
     "user_tz": -120
    },
    "id": "nXCeQKhx9lor",
    "outputId": "01d17733-4f68-4016-b532-c92d03f7dd20"
   },
   "outputs": [
    {
     "data": {
      "image/png": "[encoded data removed]",
      "text/plain": [
       "<Figure size 432x288 with 2 Axes>"
      ]
     },
     "metadata": {
      "needs_background": "light"
     },
     "output_type": "display_data"
    }
   ],
   "source": [
    "cm_train = confusion_matrix(y_test,y_test_pred)\n",
    "cm_train\n",
    "disp = ConfusionMatrixDisplay(cm_train,display_labels=gb.classes_);\n",
    "disp.plot()\n",
    "plt.show()"
   ]
  }
 ],
 "metadata": {
  "colab": {
   "collapsed_sections": [
    "b8c6af2e",
    "322b5b0a",
    "e880adc7"
   ],
   "name": "Final_Project_Vr0.1.ipynb",
   "provenance": [],
   "toc_visible": true
  },
  "gpuClass": "standard",
  "kernelspec": {
   "display_name": "Python 3 (ipykernel)",
   "language": "python",
   "name": "python3"
  },
  "language_info": {
   "codemirror_mode": {
    "name": "ipython",
    "version": 3
   },
   "file_extension": ".py",
   "mimetype": "text/x-python",
   "name": "python",
   "nbconvert_exporter": "python",
   "pygments_lexer": "ipython3",
   "version": "3.9.7"
  },
  "toc": {
   "base_numbering": 1,
   "nav_menu": {},
   "number_sections": true,
   "sideBar": true,
   "skip_h1_title": false,
   "title_cell": "Table of Contents",
   "title_sidebar": "Contents",
   "toc_cell": false,
   "toc_position": {},
   "toc_section_display": true,
   "toc_window_display": true
  },
  "varInspector": {
   "cols": {
    "lenName": 16,
    "lenType": 16,
    "lenVar": 40
   },
   "kernels_config": {
    "python": {
     "delete_cmd_postfix": "",
     "delete_cmd_prefix": "del ",
     "library": "var_list.py",
     "varRefreshCmd": "print(var_dic_list())"
    },
    "r": {
     "delete_cmd_postfix": ") ",
     "delete_cmd_prefix": "rm(",
     "library": "var_list.r",
     "varRefreshCmd": "cat(var_dic_list()) "
    }
   },
   "types_to_exclude": [
    "module",
    "function",
    "builtin_function_or_method",
    "instance",
    "_Feature"
   ],
   "window_display": false
  }
 },
 "nbformat": 4,
 "nbformat_minor": 5
}
