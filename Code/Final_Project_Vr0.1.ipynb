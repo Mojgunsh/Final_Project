{
 "cells": [
  {
   "cell_type": "markdown",
   "id": "4bab0cd5",
   "metadata": {},
   "source": [
    "# Import Libaraies"
   ]
  },
  {
   "cell_type": "code",
   "execution_count": 186,
   "id": "51ca42a5",
   "metadata": {},
   "outputs": [],
   "source": [
    "import pandas as pd\n",
    "import numpy as np\n",
    "from statsmodels.stats.outliers_influence import variance_inflation_factor\n",
    "import matplotlib.pyplot as plt\n",
    "%matplotlib inline\n",
    "import seaborn as sns\n",
    "from sklearn.model_selection import train_test_split\n",
    "from sklearn.preprocessing import OneHotEncoder\n",
    "from sklearn.preprocessing import MinMaxScaler\n",
    "from sklearn.model_selection import RandomizedSearchCV,GridSearchCV\n",
    "from sklearn.metrics import confusion_matrix, accuracy_score, precision_score, recall_score, ConfusionMatrixDisplay,cohen_kappa_score\n",
    "from sklearn.metrics import make_scorer\n"
   ]
  },
  {
   "cell_type": "markdown",
   "id": "b7aff2b2",
   "metadata": {},
   "source": [
    "# Reading and Exploring Data"
   ]
  },
  {
   "cell_type": "code",
   "execution_count": 26,
   "id": "3b2737ab",
   "metadata": {},
   "outputs": [],
   "source": [
    "data=pd.read_csv('/Users/mojgun/Documents/IRONHACK/Final Project/Dropout or Academic Success/Data/Data_Base(Modeified).csv')"
   ]
  },
  {
   "cell_type": "code",
   "execution_count": 27,
   "id": "757adb5c",
   "metadata": {},
   "outputs": [
    {
     "data": {
      "text/html": [
       "<div>\n",
       "<style scoped>\n",
       "    .dataframe tbody tr th:only-of-type {\n",
       "        vertical-align: middle;\n",
       "    }\n",
       "\n",
       "    .dataframe tbody tr th {\n",
       "        vertical-align: top;\n",
       "    }\n",
       "\n",
       "    .dataframe thead th {\n",
       "        text-align: right;\n",
       "    }\n",
       "</style>\n",
       "<table border=\"1\" class=\"dataframe\">\n",
       "  <thead>\n",
       "    <tr style=\"text-align: right;\">\n",
       "      <th></th>\n",
       "      <th>Marital status</th>\n",
       "      <th>Application mode</th>\n",
       "      <th>Application order</th>\n",
       "      <th>Course</th>\n",
       "      <th>Daytime/evening attendance</th>\n",
       "      <th>Previous qualification</th>\n",
       "      <th>Previous qualification (grade)</th>\n",
       "      <th>Nacionality</th>\n",
       "      <th>Mother's qualification</th>\n",
       "      <th>Father's qualification</th>\n",
       "      <th>...</th>\n",
       "      <th>Curricular units 2nd sem (credited)</th>\n",
       "      <th>Curricular units 2nd sem (enrolled)</th>\n",
       "      <th>Curricular units 2nd sem (evaluations)</th>\n",
       "      <th>Curricular units 2nd sem (approved)</th>\n",
       "      <th>Curricular units 2nd sem (grade)</th>\n",
       "      <th>Curricular units 2nd sem (without evaluations)</th>\n",
       "      <th>Unemployment rate</th>\n",
       "      <th>Inflation rate</th>\n",
       "      <th>GDP</th>\n",
       "      <th>Target</th>\n",
       "    </tr>\n",
       "  </thead>\n",
       "  <tbody>\n",
       "    <tr>\n",
       "      <th>4419</th>\n",
       "      <td>1</td>\n",
       "      <td>1</td>\n",
       "      <td>6</td>\n",
       "      <td>9773</td>\n",
       "      <td>1</td>\n",
       "      <td>1</td>\n",
       "      <td>125.0</td>\n",
       "      <td>1</td>\n",
       "      <td>1</td>\n",
       "      <td>1</td>\n",
       "      <td>...</td>\n",
       "      <td>0</td>\n",
       "      <td>6</td>\n",
       "      <td>8</td>\n",
       "      <td>5</td>\n",
       "      <td>12.666667</td>\n",
       "      <td>0</td>\n",
       "      <td>15.5</td>\n",
       "      <td>2.8</td>\n",
       "      <td>-4.06</td>\n",
       "      <td>Graduate</td>\n",
       "    </tr>\n",
       "    <tr>\n",
       "      <th>4420</th>\n",
       "      <td>1</td>\n",
       "      <td>1</td>\n",
       "      <td>2</td>\n",
       "      <td>9773</td>\n",
       "      <td>1</td>\n",
       "      <td>1</td>\n",
       "      <td>120.0</td>\n",
       "      <td>105</td>\n",
       "      <td>1</td>\n",
       "      <td>1</td>\n",
       "      <td>...</td>\n",
       "      <td>0</td>\n",
       "      <td>6</td>\n",
       "      <td>6</td>\n",
       "      <td>2</td>\n",
       "      <td>11.000000</td>\n",
       "      <td>0</td>\n",
       "      <td>11.1</td>\n",
       "      <td>0.6</td>\n",
       "      <td>2.02</td>\n",
       "      <td>Dropout</td>\n",
       "    </tr>\n",
       "    <tr>\n",
       "      <th>4421</th>\n",
       "      <td>1</td>\n",
       "      <td>1</td>\n",
       "      <td>1</td>\n",
       "      <td>9500</td>\n",
       "      <td>1</td>\n",
       "      <td>1</td>\n",
       "      <td>154.0</td>\n",
       "      <td>1</td>\n",
       "      <td>37</td>\n",
       "      <td>37</td>\n",
       "      <td>...</td>\n",
       "      <td>0</td>\n",
       "      <td>8</td>\n",
       "      <td>9</td>\n",
       "      <td>1</td>\n",
       "      <td>13.500000</td>\n",
       "      <td>0</td>\n",
       "      <td>13.9</td>\n",
       "      <td>-0.3</td>\n",
       "      <td>0.79</td>\n",
       "      <td>Dropout</td>\n",
       "    </tr>\n",
       "    <tr>\n",
       "      <th>4422</th>\n",
       "      <td>1</td>\n",
       "      <td>1</td>\n",
       "      <td>1</td>\n",
       "      <td>9147</td>\n",
       "      <td>1</td>\n",
       "      <td>1</td>\n",
       "      <td>180.0</td>\n",
       "      <td>1</td>\n",
       "      <td>37</td>\n",
       "      <td>37</td>\n",
       "      <td>...</td>\n",
       "      <td>0</td>\n",
       "      <td>5</td>\n",
       "      <td>6</td>\n",
       "      <td>5</td>\n",
       "      <td>12.000000</td>\n",
       "      <td>0</td>\n",
       "      <td>9.4</td>\n",
       "      <td>-0.8</td>\n",
       "      <td>-3.12</td>\n",
       "      <td>Graduate</td>\n",
       "    </tr>\n",
       "    <tr>\n",
       "      <th>4423</th>\n",
       "      <td>1</td>\n",
       "      <td>10</td>\n",
       "      <td>1</td>\n",
       "      <td>9773</td>\n",
       "      <td>1</td>\n",
       "      <td>1</td>\n",
       "      <td>152.0</td>\n",
       "      <td>22</td>\n",
       "      <td>38</td>\n",
       "      <td>37</td>\n",
       "      <td>...</td>\n",
       "      <td>0</td>\n",
       "      <td>6</td>\n",
       "      <td>6</td>\n",
       "      <td>6</td>\n",
       "      <td>13.000000</td>\n",
       "      <td>0</td>\n",
       "      <td>12.7</td>\n",
       "      <td>3.7</td>\n",
       "      <td>-1.70</td>\n",
       "      <td>Graduate</td>\n",
       "    </tr>\n",
       "  </tbody>\n",
       "</table>\n",
       "<p>5 rows × 37 columns</p>\n",
       "</div>"
      ],
      "text/plain": [
       "      Marital status  Application mode  Application order  Course  \\\n",
       "4419               1                 1                  6    9773   \n",
       "4420               1                 1                  2    9773   \n",
       "4421               1                 1                  1    9500   \n",
       "4422               1                 1                  1    9147   \n",
       "4423               1                10                  1    9773   \n",
       "\n",
       "      Daytime/evening attendance  Previous qualification  \\\n",
       "4419                           1                       1   \n",
       "4420                           1                       1   \n",
       "4421                           1                       1   \n",
       "4422                           1                       1   \n",
       "4423                           1                       1   \n",
       "\n",
       "      Previous qualification (grade)  Nacionality  Mother's qualification  \\\n",
       "4419                           125.0            1                       1   \n",
       "4420                           120.0          105                       1   \n",
       "4421                           154.0            1                      37   \n",
       "4422                           180.0            1                      37   \n",
       "4423                           152.0           22                      38   \n",
       "\n",
       "      Father's qualification  ...  Curricular units 2nd sem (credited)  \\\n",
       "4419                       1  ...                                    0   \n",
       "4420                       1  ...                                    0   \n",
       "4421                      37  ...                                    0   \n",
       "4422                      37  ...                                    0   \n",
       "4423                      37  ...                                    0   \n",
       "\n",
       "      Curricular units 2nd sem (enrolled)  \\\n",
       "4419                                    6   \n",
       "4420                                    6   \n",
       "4421                                    8   \n",
       "4422                                    5   \n",
       "4423                                    6   \n",
       "\n",
       "      Curricular units 2nd sem (evaluations)  \\\n",
       "4419                                       8   \n",
       "4420                                       6   \n",
       "4421                                       9   \n",
       "4422                                       6   \n",
       "4423                                       6   \n",
       "\n",
       "      Curricular units 2nd sem (approved)  Curricular units 2nd sem (grade)  \\\n",
       "4419                                    5                         12.666667   \n",
       "4420                                    2                         11.000000   \n",
       "4421                                    1                         13.500000   \n",
       "4422                                    5                         12.000000   \n",
       "4423                                    6                         13.000000   \n",
       "\n",
       "      Curricular units 2nd sem (without evaluations)  Unemployment rate  \\\n",
       "4419                                               0               15.5   \n",
       "4420                                               0               11.1   \n",
       "4421                                               0               13.9   \n",
       "4422                                               0                9.4   \n",
       "4423                                               0               12.7   \n",
       "\n",
       "      Inflation rate   GDP    Target  \n",
       "4419             2.8 -4.06  Graduate  \n",
       "4420             0.6  2.02   Dropout  \n",
       "4421            -0.3  0.79   Dropout  \n",
       "4422            -0.8 -3.12  Graduate  \n",
       "4423             3.7 -1.70  Graduate  \n",
       "\n",
       "[5 rows x 37 columns]"
      ]
     },
     "execution_count": 27,
     "metadata": {},
     "output_type": "execute_result"
    }
   ],
   "source": [
    "data.tail()"
   ]
  },
  {
   "cell_type": "code",
   "execution_count": 28,
   "id": "3bb41259",
   "metadata": {},
   "outputs": [
    {
     "data": {
      "text/plain": [
       "(4424, 37)"
      ]
     },
     "execution_count": 28,
     "metadata": {},
     "output_type": "execute_result"
    }
   ],
   "source": [
    "data.shape"
   ]
  },
  {
   "cell_type": "code",
   "execution_count": 29,
   "id": "7f1d4306",
   "metadata": {},
   "outputs": [
    {
     "data": {
      "text/plain": [
       "Marital status                                    0\n",
       "Application mode                                  0\n",
       "Application order                                 0\n",
       "Course                                            0\n",
       "Daytime/evening attendance                        0\n",
       "Previous qualification                            0\n",
       "Previous qualification (grade)                    0\n",
       "Nacionality                                       0\n",
       "Mother's qualification                            0\n",
       "Father's qualification                            0\n",
       "Mother's occupation                               0\n",
       "Father's occupation                               0\n",
       "Admission grade                                   0\n",
       "Displaced                                         0\n",
       "Educational special needs                         0\n",
       "Debtor                                            0\n",
       "Tuition fees up to date                           0\n",
       "Gender                                            0\n",
       "Scholarship holder                                0\n",
       "Age at enrollment                                 0\n",
       "International                                     0\n",
       "Curricular units 1st sem (credited)               0\n",
       "Curricular units 1st sem (enrolled)               0\n",
       "Curricular units 1st sem (evaluations)            0\n",
       "Curricular units 1st sem (approved)               0\n",
       "Curricular units 1st sem (grade)                  0\n",
       "Curricular units 1st sem (without evaluations)    0\n",
       "Curricular units 2nd sem (credited)               0\n",
       "Curricular units 2nd sem (enrolled)               0\n",
       "Curricular units 2nd sem (evaluations)            0\n",
       "Curricular units 2nd sem (approved)               0\n",
       "Curricular units 2nd sem (grade)                  0\n",
       "Curricular units 2nd sem (without evaluations)    0\n",
       "Unemployment rate                                 0\n",
       "Inflation rate                                    0\n",
       "GDP                                               0\n",
       "Target                                            0\n",
       "dtype: int64"
      ]
     },
     "execution_count": 29,
     "metadata": {},
     "output_type": "execute_result"
    }
   ],
   "source": [
    "#looking fo Nan Values\n",
    "data.isna().sum()"
   ]
  },
  {
   "cell_type": "code",
   "execution_count": 30,
   "id": "f214f670",
   "metadata": {},
   "outputs": [],
   "source": [
    "#Modifiying Column names\n",
    "data.columns = list(map(lambda x: x.lower(), data.columns))\n",
    "data.columns = data.columns.str.replace(\" \",\"_\")\n",
    "data.columns = data.columns.str.replace(\"'s\",\"\")"
   ]
  },
  {
   "cell_type": "markdown",
   "id": "ce9785f1",
   "metadata": {},
   "source": [
    "# Dividing Categorical and Numerical "
   ]
  },
  {
   "cell_type": "code",
   "execution_count": 31,
   "id": "d0df796d",
   "metadata": {},
   "outputs": [
    {
     "name": "stdout",
     "output_type": "stream",
     "text": [
      "<class 'pandas.core.frame.DataFrame'>\n",
      "RangeIndex: 4424 entries, 0 to 4423\n",
      "Data columns (total 37 columns):\n",
      " #   Column                                          Non-Null Count  Dtype  \n",
      "---  ------                                          --------------  -----  \n",
      " 0   marital_status                                  4424 non-null   int64  \n",
      " 1   application_mode                                4424 non-null   int64  \n",
      " 2   application_order                               4424 non-null   int64  \n",
      " 3   course                                          4424 non-null   int64  \n",
      " 4   daytime/evening_attendance                      4424 non-null   int64  \n",
      " 5   previous_qualification                          4424 non-null   int64  \n",
      " 6   previous_qualification_(grade)                  4424 non-null   float64\n",
      " 7   nacionality                                     4424 non-null   int64  \n",
      " 8   mother_qualification                            4424 non-null   int64  \n",
      " 9   father_qualification                            4424 non-null   int64  \n",
      " 10  mother_occupation                               4424 non-null   int64  \n",
      " 11  father_occupation                               4424 non-null   int64  \n",
      " 12  admission_grade                                 4424 non-null   float64\n",
      " 13  displaced                                       4424 non-null   int64  \n",
      " 14  educational_special_needs                       4424 non-null   int64  \n",
      " 15  debtor                                          4424 non-null   int64  \n",
      " 16  tuition_fees_up_to_date                         4424 non-null   int64  \n",
      " 17  gender                                          4424 non-null   int64  \n",
      " 18  scholarship_holder                              4424 non-null   int64  \n",
      " 19  age_at_enrollment                               4424 non-null   int64  \n",
      " 20  international                                   4424 non-null   int64  \n",
      " 21  curricular_units_1st_sem_(credited)             4424 non-null   int64  \n",
      " 22  curricular_units_1st_sem_(enrolled)             4424 non-null   int64  \n",
      " 23  curricular_units_1st_sem_(evaluations)          4424 non-null   int64  \n",
      " 24  curricular_units_1st_sem_(approved)             4424 non-null   int64  \n",
      " 25  curricular_units_1st_sem_(grade)                4424 non-null   float64\n",
      " 26  curricular_units_1st_sem_(without_evaluations)  4424 non-null   int64  \n",
      " 27  curricular_units_2nd_sem_(credited)             4424 non-null   int64  \n",
      " 28  curricular_units_2nd_sem_(enrolled)             4424 non-null   int64  \n",
      " 29  curricular_units_2nd_sem_(evaluations)          4424 non-null   int64  \n",
      " 30  curricular_units_2nd_sem_(approved)             4424 non-null   int64  \n",
      " 31  curricular_units_2nd_sem_(grade)                4424 non-null   float64\n",
      " 32  curricular_units_2nd_sem_(without_evaluations)  4424 non-null   int64  \n",
      " 33  unemployment_rate                               4424 non-null   float64\n",
      " 34  inflation_rate                                  4424 non-null   float64\n",
      " 35  gdp                                             4424 non-null   float64\n",
      " 36  target                                          4424 non-null   object \n",
      "dtypes: float64(7), int64(29), object(1)\n",
      "memory usage: 1.2+ MB\n"
     ]
    }
   ],
   "source": [
    "data.info()"
   ]
  },
  {
   "cell_type": "code",
   "execution_count": 32,
   "id": "34c1dd95",
   "metadata": {},
   "outputs": [
    {
     "name": "stdout",
     "output_type": "stream",
     "text": [
      "marital_status\n",
      "1                 3919\n",
      "2                  379\n",
      "4                   91\n",
      "5                   25\n",
      "6                    6\n",
      "3                    4\n",
      "dtype: int64\n",
      "**************************************************\n",
      "application_mode\n",
      "1                   1708\n",
      "17                   872\n",
      "39                   785\n",
      "43                   312\n",
      "44                   213\n",
      "7                    139\n",
      "18                   124\n",
      "42                    77\n",
      "51                    59\n",
      "16                    38\n",
      "53                    35\n",
      "15                    30\n",
      "5                     16\n",
      "10                    10\n",
      "2                      3\n",
      "26                     1\n",
      "27                     1\n",
      "57                     1\n",
      "dtype: int64\n",
      "**************************************************\n",
      "application_order\n",
      "1                    3026\n",
      "2                     547\n",
      "3                     309\n",
      "4                     249\n",
      "5                     154\n",
      "6                     137\n",
      "0                       1\n",
      "9                       1\n",
      "dtype: int64\n",
      "**************************************************\n",
      "course\n",
      "9500      766\n",
      "9147      380\n",
      "9238      355\n",
      "9085      337\n",
      "9773      331\n",
      "9670      268\n",
      "9991      268\n",
      "9254      252\n",
      "9070      226\n",
      "171       215\n",
      "8014      215\n",
      "9003      210\n",
      "9853      192\n",
      "9119      170\n",
      "9130      141\n",
      "9556       86\n",
      "33         12\n",
      "dtype: int64\n",
      "**************************************************\n",
      "daytime/evening_attendance\n",
      "1                             3941\n",
      "0                              483\n",
      "dtype: int64\n",
      "**************************************************\n",
      "previous_qualification\n",
      "1                         3717\n",
      "39                         219\n",
      "19                         162\n",
      "3                          126\n",
      "12                          45\n",
      "40                          40\n",
      "42                          36\n",
      "2                           23\n",
      "6                           16\n",
      "9                           11\n",
      "4                            8\n",
      "38                           7\n",
      "43                           6\n",
      "10                           4\n",
      "15                           2\n",
      "14                           1\n",
      "5                            1\n",
      "dtype: int64\n",
      "**************************************************\n",
      "previous_qualification_(grade)\n",
      "133.1                             491\n",
      "130.0                             375\n",
      "140.0                             336\n",
      "120.0                             278\n",
      "150.0                             162\n",
      "                                 ... \n",
      "119.1                               1\n",
      "118.9                               1\n",
      "117.4                               1\n",
      "97.0                                1\n",
      "138.6                               1\n",
      "Length: 101, dtype: int64\n",
      "**************************************************\n",
      "nacionality\n",
      "1              4314\n",
      "41               38\n",
      "26               14\n",
      "6                13\n",
      "22               13\n",
      "24                5\n",
      "11                3\n",
      "103               3\n",
      "100               3\n",
      "105               2\n",
      "101               2\n",
      "62                2\n",
      "25                2\n",
      "2                 2\n",
      "21                2\n",
      "32                1\n",
      "17                1\n",
      "14                1\n",
      "13                1\n",
      "108               1\n",
      "109               1\n",
      "dtype: int64\n",
      "**************************************************\n",
      "mother_qualification\n",
      "1                       1069\n",
      "37                      1009\n",
      "19                       953\n",
      "38                       562\n",
      "3                        438\n",
      "34                       130\n",
      "2                         83\n",
      "4                         49\n",
      "12                        42\n",
      "5                         21\n",
      "40                         9\n",
      "39                         8\n",
      "9                          8\n",
      "41                         6\n",
      "43                         4\n",
      "6                          4\n",
      "42                         4\n",
      "11                         3\n",
      "29                         3\n",
      "30                         3\n",
      "10                         3\n",
      "35                         3\n",
      "36                         3\n",
      "14                         2\n",
      "26                         1\n",
      "27                         1\n",
      "22                         1\n",
      "18                         1\n",
      "44                         1\n",
      "dtype: int64\n",
      "**************************************************\n",
      "father_qualification\n",
      "37                      1209\n",
      "19                       968\n",
      "1                        904\n",
      "38                       702\n",
      "3                        282\n",
      "34                       112\n",
      "2                         68\n",
      "4                         39\n",
      "12                        38\n",
      "39                        20\n",
      "5                         18\n",
      "11                        10\n",
      "36                         8\n",
      "9                          5\n",
      "40                         5\n",
      "30                         4\n",
      "14                         4\n",
      "22                         4\n",
      "29                         3\n",
      "41                         2\n",
      "43                         2\n",
      "35                         2\n",
      "26                         2\n",
      "10                         2\n",
      "6                          2\n",
      "33                         1\n",
      "31                         1\n",
      "27                         1\n",
      "25                         1\n",
      "20                         1\n",
      "18                         1\n",
      "13                         1\n",
      "42                         1\n",
      "44                         1\n",
      "dtype: int64\n",
      "**************************************************\n",
      "mother_occupation\n",
      "9                    1577\n",
      "4                     817\n",
      "5                     530\n",
      "3                     351\n",
      "2                     318\n",
      "7                     272\n",
      "0                     144\n",
      "1                     102\n",
      "6                      91\n",
      "90                     70\n",
      "8                      36\n",
      "191                    26\n",
      "99                     17\n",
      "194                    11\n",
      "141                     8\n",
      "123                     7\n",
      "144                     6\n",
      "175                     5\n",
      "192                     5\n",
      "193                     4\n",
      "134                     4\n",
      "10                      4\n",
      "132                     3\n",
      "143                     3\n",
      "151                     3\n",
      "152                     2\n",
      "153                     2\n",
      "122                     2\n",
      "173                     1\n",
      "171                     1\n",
      "125                     1\n",
      "131                     1\n",
      "dtype: int64\n",
      "**************************************************\n",
      "father_occupation\n",
      "9                    1010\n",
      "7                     666\n",
      "5                     516\n",
      "4                     386\n",
      "3                     384\n",
      "8                     318\n",
      "10                    266\n",
      "6                     242\n",
      "2                     197\n",
      "1                     134\n",
      "0                     128\n",
      "90                     65\n",
      "99                     19\n",
      "193                    15\n",
      "144                     8\n",
      "171                     8\n",
      "192                     6\n",
      "163                     5\n",
      "103                     4\n",
      "175                     4\n",
      "152                     3\n",
      "135                     3\n",
      "181                     3\n",
      "183                     3\n",
      "123                     3\n",
      "102                     2\n",
      "182                     2\n",
      "194                     2\n",
      "151                     2\n",
      "122                     2\n",
      "172                     2\n",
      "112                     2\n",
      "174                     1\n",
      "132                     1\n",
      "161                     1\n",
      "154                     1\n",
      "153                     1\n",
      "143                     1\n",
      "141                     1\n",
      "134                     1\n",
      "131                     1\n",
      "124                     1\n",
      "121                     1\n",
      "114                     1\n",
      "101                     1\n",
      "195                     1\n",
      "dtype: int64\n",
      "**************************************************\n",
      "admission_grade\n",
      "130.0              162\n",
      "140.0              153\n",
      "120.0              145\n",
      "100.0              116\n",
      "150.0               81\n",
      "                  ... \n",
      "107.6                1\n",
      "151.2                1\n",
      "97.4                 1\n",
      "151.5                1\n",
      "138.2                1\n",
      "Length: 620, dtype: int64\n",
      "**************************************************\n",
      "displaced\n",
      "1            2426\n",
      "0            1998\n",
      "dtype: int64\n",
      "**************************************************\n",
      "educational_special_needs\n",
      "0                            4373\n",
      "1                              51\n",
      "dtype: int64\n",
      "**************************************************\n",
      "debtor\n",
      "0         3921\n",
      "1          503\n",
      "dtype: int64\n",
      "**************************************************\n",
      "tuition_fees_up_to_date\n",
      "1                          3896\n",
      "0                           528\n",
      "dtype: int64\n",
      "**************************************************\n",
      "gender\n",
      "0         2868\n",
      "1         1556\n",
      "dtype: int64\n",
      "**************************************************\n",
      "scholarship_holder\n",
      "0                     3325\n",
      "1                     1099\n",
      "dtype: int64\n",
      "**************************************************\n",
      "age_at_enrollment\n",
      "18                   1036\n",
      "19                    911\n",
      "20                    599\n",
      "21                    322\n",
      "22                    174\n",
      "24                    131\n",
      "23                    108\n",
      "26                     94\n",
      "25                     93\n",
      "27                     91\n",
      "28                     83\n",
      "29                     66\n",
      "32                     61\n",
      "34                     60\n",
      "31                     55\n",
      "30                     49\n",
      "35                     49\n",
      "33                     45\n",
      "37                     42\n",
      "39                     38\n",
      "36                     35\n",
      "41                     31\n",
      "38                     29\n",
      "43                     25\n",
      "40                     23\n",
      "45                     22\n",
      "44                     21\n",
      "47                     18\n",
      "50                     16\n",
      "42                     13\n",
      "49                     13\n",
      "46                     12\n",
      "48                     11\n",
      "54                      7\n",
      "51                      7\n",
      "53                      7\n",
      "55                      5\n",
      "17                      5\n",
      "52                      4\n",
      "58                      3\n",
      "59                      3\n",
      "57                      2\n",
      "60                      2\n",
      "61                      1\n",
      "62                      1\n",
      "70                      1\n",
      "dtype: int64\n",
      "**************************************************\n",
      "international\n",
      "0                4314\n",
      "1                 110\n",
      "dtype: int64\n",
      "**************************************************\n",
      "curricular_units_1st_sem_(credited)\n",
      "0                                      3847\n",
      "2                                        94\n",
      "1                                        85\n",
      "3                                        69\n",
      "6                                        51\n",
      "4                                        47\n",
      "5                                        41\n",
      "7                                        41\n",
      "8                                        31\n",
      "9                                        27\n",
      "11                                       17\n",
      "14                                       15\n",
      "10                                       15\n",
      "13                                       13\n",
      "12                                       12\n",
      "15                                        5\n",
      "18                                        4\n",
      "16                                        3\n",
      "17                                        3\n",
      "19                                        2\n",
      "20                                        2\n",
      "dtype: int64\n",
      "**************************************************\n",
      "curricular_units_1st_sem_(enrolled)\n",
      "6                                      1910\n",
      "5                                      1010\n",
      "7                                       656\n",
      "8                                       296\n",
      "0                                       180\n",
      "12                                       66\n",
      "10                                       52\n",
      "11                                       45\n",
      "9                                        36\n",
      "15                                       25\n",
      "14                                       22\n",
      "4                                        21\n",
      "13                                       20\n",
      "18                                       19\n",
      "17                                       16\n",
      "16                                       13\n",
      "3                                        10\n",
      "2                                         9\n",
      "1                                         7\n",
      "21                                        6\n",
      "19                                        2\n",
      "23                                        2\n",
      "26                                        1\n",
      "dtype: int64\n",
      "**************************************************\n",
      "curricular_units_1st_sem_(evaluations)\n",
      "8                                         791\n",
      "7                                         703\n",
      "6                                         598\n",
      "9                                         402\n",
      "0                                         349\n",
      "10                                        340\n",
      "11                                        239\n",
      "12                                        223\n",
      "5                                         220\n",
      "13                                        140\n",
      "14                                        105\n",
      "15                                         70\n",
      "16                                         47\n",
      "17                                         33\n",
      "18                                         30\n",
      "19                                         23\n",
      "4                                          19\n",
      "21                                         17\n",
      "20                                         12\n",
      "22                                         10\n",
      "23                                          9\n",
      "2                                           8\n",
      "3                                           6\n",
      "24                                          6\n",
      "1                                           6\n",
      "26                                          4\n",
      "25                                          3\n",
      "27                                          2\n",
      "29                                          2\n",
      "45                                          2\n",
      "28                                          1\n",
      "31                                          1\n",
      "32                                          1\n",
      "33                                          1\n",
      "36                                          1\n",
      "dtype: int64\n",
      "**************************************************\n",
      "curricular_units_1st_sem_(approved)\n",
      "6                                      1171\n",
      "5                                       723\n",
      "0                                       718\n",
      "7                                       471\n",
      "4                                       433\n",
      "3                                       269\n",
      "2                                       160\n",
      "1                                       127\n",
      "8                                       108\n",
      "11                                       49\n",
      "12                                       44\n",
      "9                                        40\n",
      "13                                       26\n",
      "10                                       24\n",
      "18                                       15\n",
      "14                                       14\n",
      "17                                       10\n",
      "15                                        7\n",
      "16                                        5\n",
      "21                                        4\n",
      "20                                        3\n",
      "19                                        2\n",
      "26                                        1\n",
      "dtype: int64\n",
      "**************************************************\n",
      "curricular_units_1st_sem_(grade)\n",
      "0.000000                            718\n",
      "12.000000                           205\n",
      "13.000000                           147\n",
      "11.000000                           138\n",
      "11.500000                            89\n",
      "                                   ... \n",
      "13.071429                             1\n",
      "13.072857                             1\n",
      "13.073750                             1\n",
      "13.075714                             1\n",
      "18.875000                             1\n",
      "Length: 797, dtype: int64\n",
      "**************************************************\n",
      "curricular_units_1st_sem_(without_evaluations)\n",
      "0                                                 4130\n",
      "1                                                  153\n",
      "2                                                   79\n",
      "3                                                   23\n",
      "4                                                   15\n",
      "6                                                    6\n",
      "7                                                    6\n",
      "5                                                    5\n",
      "8                                                    4\n",
      "12                                                   2\n",
      "10                                                   1\n",
      "dtype: int64\n",
      "**************************************************\n",
      "curricular_units_2nd_sem_(credited)\n",
      "0                                      3894\n",
      "1                                       107\n",
      "2                                        92\n",
      "4                                        78\n",
      "5                                        68\n",
      "3                                        49\n",
      "6                                        26\n",
      "11                                       20\n",
      "7                                        16\n",
      "9                                        15\n",
      "12                                       14\n",
      "10                                       13\n",
      "8                                        12\n",
      "13                                        9\n",
      "14                                        4\n",
      "15                                        2\n",
      "16                                        2\n",
      "18                                        2\n",
      "19                                        1\n",
      "dtype: int64\n",
      "**************************************************\n",
      "curricular_units_2nd_sem_(enrolled)\n",
      "6                                      1913\n",
      "5                                      1054\n",
      "8                                       661\n",
      "7                                       304\n",
      "0                                       180\n",
      "11                                       60\n",
      "9                                        50\n",
      "10                                       48\n",
      "12                                       44\n",
      "13                                       37\n",
      "14                                       22\n",
      "4                                        17\n",
      "17                                       12\n",
      "2                                         5\n",
      "3                                         3\n",
      "1                                         3\n",
      "19                                        3\n",
      "15                                        2\n",
      "18                                        2\n",
      "23                                        2\n",
      "16                                        1\n",
      "21                                        1\n",
      "dtype: int64\n",
      "**************************************************\n",
      "curricular_units_2nd_sem_(evaluations)\n",
      "8                                         792\n",
      "6                                         614\n",
      "7                                         563\n",
      "9                                         456\n",
      "0                                         401\n",
      "10                                        355\n",
      "5                                         288\n",
      "11                                        255\n",
      "12                                        226\n",
      "13                                        126\n",
      "14                                         98\n",
      "15                                         73\n",
      "16                                         49\n",
      "17                                         25\n",
      "18                                         22\n",
      "19                                         19\n",
      "4                                          10\n",
      "22                                         10\n",
      "21                                         10\n",
      "20                                          8\n",
      "2                                           4\n",
      "23                                          4\n",
      "1                                           3\n",
      "24                                          3\n",
      "26                                          3\n",
      "3                                           2\n",
      "27                                          2\n",
      "25                                          1\n",
      "28                                          1\n",
      "33                                          1\n",
      "dtype: int64\n",
      "**************************************************\n",
      "curricular_units_2nd_sem_(approved)\n",
      "6                                      965\n",
      "0                                      870\n",
      "5                                      726\n",
      "4                                      414\n",
      "7                                      331\n",
      "8                                      321\n",
      "3                                      285\n",
      "2                                      198\n",
      "1                                      114\n",
      "11                                      48\n",
      "10                                      38\n",
      "9                                       36\n",
      "12                                      34\n",
      "13                                      21\n",
      "17                                       8\n",
      "14                                       6\n",
      "19                                       3\n",
      "16                                       2\n",
      "18                                       2\n",
      "20                                       2\n",
      "dtype: int64\n",
      "**************************************************\n",
      "curricular_units_2nd_sem_(grade)\n",
      "0.000000                            870\n",
      "12.000000                           170\n",
      "11.000000                           165\n",
      "13.000000                           150\n",
      "11.500000                            86\n",
      "                                   ... \n",
      "13.053750                             1\n",
      "13.058571                             1\n",
      "13.058750                             1\n",
      "13.063636                             1\n",
      "18.571429                             1\n",
      "Length: 782, dtype: int64\n",
      "**************************************************\n",
      "curricular_units_2nd_sem_(without_evaluations)\n",
      "0                                                 4142\n",
      "1                                                  140\n",
      "2                                                   48\n",
      "3                                                   35\n",
      "4                                                   21\n",
      "5                                                   17\n",
      "6                                                    8\n",
      "8                                                    6\n",
      "7                                                    5\n",
      "12                                                   2\n",
      "dtype: int64\n",
      "**************************************************\n",
      "unemployment_rate\n",
      "7.6                  571\n",
      "9.4                  533\n",
      "10.8                 525\n",
      "12.4                 445\n",
      "12.7                 419\n",
      "11.1                 414\n",
      "15.5                 397\n",
      "13.9                 390\n",
      "8.9                  368\n",
      "16.2                 362\n",
      "dtype: int64\n",
      "**************************************************\n",
      "inflation_rate\n",
      " 1.4              893\n",
      " 2.6              571\n",
      "-0.8              533\n",
      " 0.5              445\n",
      " 3.7              419\n",
      " 0.6              414\n",
      " 2.8              397\n",
      "-0.3              390\n",
      " 0.3              362\n",
      "dtype: int64\n",
      "**************************************************\n",
      "gdp  \n",
      " 0.32    571\n",
      "-3.12    533\n",
      " 1.74    525\n",
      " 1.79    445\n",
      "-1.70    419\n",
      " 2.02    414\n",
      "-4.06    397\n",
      " 0.79    390\n",
      " 3.51    368\n",
      "-0.92    362\n",
      "dtype: int64\n",
      "**************************************************\n"
     ]
    },
    {
     "name": "stdout",
     "output_type": "stream",
     "text": [
      "target  \n",
      "Graduate    3003\n",
      "Dropout     1421\n",
      "dtype: int64\n",
      "**************************************************\n"
     ]
    }
   ],
   "source": [
    "# find out the number of value for each fild based on the meta data of data base most of these features are Categorical Nominal\n",
    "for i in range (len(data.columns)):\n",
    "    print(data.iloc[:,[i]].value_counts())\n",
    "    print('*'*50)\n"
   ]
  },
  {
   "cell_type": "markdown",
   "id": "f7be1045",
   "metadata": {},
   "source": [
    "''' \n",
    "Based On EXploring data These features are numercial \n",
    "gdp\n",
    "inflation_rate,\n",
    "unemployment_rate,\n",
    "curricular_units_2nd_sem_(without_evaluations\n",
    "curricular_units_2nd_sem_(grade)\n",
    "curricular_units_2nd_sem_(approved)\n",
    "curricular_units_2nd_sem_(evaluations)\n",
    "curricular_units_2nd_sem_(enrolled)\n",
    "curricular_units_2nd_sem_(credited)\n",
    "curricular_units_1st_sem_(without_evaluations)\n",
    "curricular_units_1st_sem_(without_evaluations)\n",
    "curricular_units_1st_sem_(grade)\n",
    "curricular_units_1st_sem_(approved)\n",
    "curricular_units_1st_sem_(evaluations)\n",
    "curricular_units_1st_sem_(enrolled)\n",
    "curricular_units_1st_sem_(credited)\n",
    "age_at_enrollment\n",
    "admission_grade\n",
    "previous_qualification_(grade)\n",
    "previous_qualification"
   ]
  },
  {
   "cell_type": "code",
   "execution_count": 33,
   "id": "2b338161",
   "metadata": {},
   "outputs": [
    {
     "data": {
      "text/plain": [
       "Index(['marital_status', 'application_mode', 'application_order', 'course',\n",
       "       'daytime/evening_attendance', 'previous_qualification',\n",
       "       'previous_qualification_(grade)', 'nacionality', 'mother_qualification',\n",
       "       'father_qualification', 'mother_occupation', 'father_occupation',\n",
       "       'admission_grade', 'displaced', 'educational_special_needs', 'debtor',\n",
       "       'tuition_fees_up_to_date', 'gender', 'scholarship_holder',\n",
       "       'age_at_enrollment', 'international',\n",
       "       'curricular_units_1st_sem_(credited)',\n",
       "       'curricular_units_1st_sem_(enrolled)',\n",
       "       'curricular_units_1st_sem_(evaluations)',\n",
       "       'curricular_units_1st_sem_(approved)',\n",
       "       'curricular_units_1st_sem_(grade)',\n",
       "       'curricular_units_1st_sem_(without_evaluations)',\n",
       "       'curricular_units_2nd_sem_(credited)',\n",
       "       'curricular_units_2nd_sem_(enrolled)',\n",
       "       'curricular_units_2nd_sem_(evaluations)',\n",
       "       'curricular_units_2nd_sem_(approved)',\n",
       "       'curricular_units_2nd_sem_(grade)',\n",
       "       'curricular_units_2nd_sem_(without_evaluations)', 'unemployment_rate',\n",
       "       'inflation_rate', 'gdp', 'target'],\n",
       "      dtype='object')"
      ]
     },
     "execution_count": 33,
     "metadata": {},
     "output_type": "execute_result"
    }
   ],
   "source": [
    "data.columns"
   ]
  },
  {
   "cell_type": "code",
   "execution_count": 34,
   "id": "1cbe6de1",
   "metadata": {},
   "outputs": [],
   "source": [
    "# Change Type of Others to Objects\n",
    "data[['marital_status', 'application_mode', 'application_order', 'course',\n",
    "       'daytime/evening_attendance','nacionality', 'mother_qualification',\n",
    "       'father_qualification', 'mother_occupation', 'father_occupation',\n",
    "        'displaced', 'educational_special_needs', 'debtor','tuition_fees_up_to_date',\n",
    "        'gender', 'scholarship_holder', 'international']] = data[['marital_status', 'application_mode', 'application_order', 'course',\n",
    "       'daytime/evening_attendance','nacionality', 'mother_qualification',\n",
    "       'father_qualification', 'mother_occupation', 'father_occupation',\n",
    "        'displaced', 'educational_special_needs', 'debtor','tuition_fees_up_to_date',\n",
    "        'gender', 'scholarship_holder', 'international']].astype('object')\n"
   ]
  },
  {
   "cell_type": "code",
   "execution_count": 35,
   "id": "8d00cea3",
   "metadata": {},
   "outputs": [
    {
     "name": "stdout",
     "output_type": "stream",
     "text": [
      "<class 'pandas.core.frame.DataFrame'>\n",
      "RangeIndex: 4424 entries, 0 to 4423\n",
      "Data columns (total 37 columns):\n",
      " #   Column                                          Non-Null Count  Dtype  \n",
      "---  ------                                          --------------  -----  \n",
      " 0   marital_status                                  4424 non-null   object \n",
      " 1   application_mode                                4424 non-null   object \n",
      " 2   application_order                               4424 non-null   object \n",
      " 3   course                                          4424 non-null   object \n",
      " 4   daytime/evening_attendance                      4424 non-null   object \n",
      " 5   previous_qualification                          4424 non-null   int64  \n",
      " 6   previous_qualification_(grade)                  4424 non-null   float64\n",
      " 7   nacionality                                     4424 non-null   object \n",
      " 8   mother_qualification                            4424 non-null   object \n",
      " 9   father_qualification                            4424 non-null   object \n",
      " 10  mother_occupation                               4424 non-null   object \n",
      " 11  father_occupation                               4424 non-null   object \n",
      " 12  admission_grade                                 4424 non-null   float64\n",
      " 13  displaced                                       4424 non-null   object \n",
      " 14  educational_special_needs                       4424 non-null   object \n",
      " 15  debtor                                          4424 non-null   object \n",
      " 16  tuition_fees_up_to_date                         4424 non-null   object \n",
      " 17  gender                                          4424 non-null   object \n",
      " 18  scholarship_holder                              4424 non-null   object \n",
      " 19  age_at_enrollment                               4424 non-null   int64  \n",
      " 20  international                                   4424 non-null   object \n",
      " 21  curricular_units_1st_sem_(credited)             4424 non-null   int64  \n",
      " 22  curricular_units_1st_sem_(enrolled)             4424 non-null   int64  \n",
      " 23  curricular_units_1st_sem_(evaluations)          4424 non-null   int64  \n",
      " 24  curricular_units_1st_sem_(approved)             4424 non-null   int64  \n",
      " 25  curricular_units_1st_sem_(grade)                4424 non-null   float64\n",
      " 26  curricular_units_1st_sem_(without_evaluations)  4424 non-null   int64  \n",
      " 27  curricular_units_2nd_sem_(credited)             4424 non-null   int64  \n",
      " 28  curricular_units_2nd_sem_(enrolled)             4424 non-null   int64  \n",
      " 29  curricular_units_2nd_sem_(evaluations)          4424 non-null   int64  \n",
      " 30  curricular_units_2nd_sem_(approved)             4424 non-null   int64  \n",
      " 31  curricular_units_2nd_sem_(grade)                4424 non-null   float64\n",
      " 32  curricular_units_2nd_sem_(without_evaluations)  4424 non-null   int64  \n",
      " 33  unemployment_rate                               4424 non-null   float64\n",
      " 34  inflation_rate                                  4424 non-null   float64\n",
      " 35  gdp                                             4424 non-null   float64\n",
      " 36  target                                          4424 non-null   object \n",
      "dtypes: float64(7), int64(12), object(18)\n",
      "memory usage: 1.2+ MB\n"
     ]
    }
   ],
   "source": [
    "data.info()"
   ]
  },
  {
   "cell_type": "markdown",
   "id": "d711db02",
   "metadata": {},
   "source": [
    "# Divide Numercial and Categorical"
   ]
  },
  {
   "cell_type": "code",
   "execution_count": 36,
   "id": "ea5d1339",
   "metadata": {},
   "outputs": [],
   "source": [
    "num=data.select_dtypes(np.number)\n",
    "cat=data.select_dtypes('object')\n"
   ]
  },
  {
   "cell_type": "code",
   "execution_count": 37,
   "id": "aca3d547",
   "metadata": {},
   "outputs": [
    {
     "data": {
      "text/plain": [
       "(4424, 19)"
      ]
     },
     "execution_count": 37,
     "metadata": {},
     "output_type": "execute_result"
    }
   ],
   "source": [
    "num.shape"
   ]
  },
  {
   "cell_type": "code",
   "execution_count": 38,
   "id": "3ba130e2",
   "metadata": {},
   "outputs": [
    {
     "data": {
      "text/plain": [
       "(4424, 18)"
      ]
     },
     "execution_count": 38,
     "metadata": {},
     "output_type": "execute_result"
    }
   ],
   "source": [
    "cat.shape"
   ]
  },
  {
   "cell_type": "code",
   "execution_count": 39,
   "id": "384ddd75",
   "metadata": {},
   "outputs": [
    {
     "data": {
      "text/plain": [
       "['previous_qualification',\n",
       " 'previous_qualification_(grade)',\n",
       " 'admission_grade',\n",
       " 'age_at_enrollment',\n",
       " 'curricular_units_1st_sem_(credited)',\n",
       " 'curricular_units_1st_sem_(enrolled)',\n",
       " 'curricular_units_1st_sem_(evaluations)',\n",
       " 'curricular_units_1st_sem_(approved)',\n",
       " 'curricular_units_1st_sem_(grade)',\n",
       " 'curricular_units_1st_sem_(without_evaluations)',\n",
       " 'curricular_units_2nd_sem_(credited)',\n",
       " 'curricular_units_2nd_sem_(enrolled)',\n",
       " 'curricular_units_2nd_sem_(evaluations)',\n",
       " 'curricular_units_2nd_sem_(approved)',\n",
       " 'curricular_units_2nd_sem_(grade)',\n",
       " 'curricular_units_2nd_sem_(without_evaluations)',\n",
       " 'unemployment_rate',\n",
       " 'inflation_rate',\n",
       " 'gdp']"
      ]
     },
     "execution_count": 39,
     "metadata": {},
     "output_type": "execute_result"
    }
   ],
   "source": [
    "list(num.columns)"
   ]
  },
  {
   "cell_type": "markdown",
   "id": "9c545692",
   "metadata": {},
   "source": [
    "# Numericals"
   ]
  },
  {
   "cell_type": "markdown",
   "id": "5d73c38f",
   "metadata": {},
   "source": [
    "## Find Multicollinearity in Numricals"
   ]
  },
  {
   "cell_type": "code",
   "execution_count": 40,
   "id": "85d48cfa",
   "metadata": {
    "scrolled": true
   },
   "outputs": [
    {
     "data": {
      "text/html": [
       "<div>\n",
       "<style scoped>\n",
       "    .dataframe tbody tr th:only-of-type {\n",
       "        vertical-align: middle;\n",
       "    }\n",
       "\n",
       "    .dataframe tbody tr th {\n",
       "        vertical-align: top;\n",
       "    }\n",
       "\n",
       "    .dataframe thead th {\n",
       "        text-align: right;\n",
       "    }\n",
       "</style>\n",
       "<table border=\"1\" class=\"dataframe\">\n",
       "  <thead>\n",
       "    <tr style=\"text-align: right;\">\n",
       "      <th></th>\n",
       "      <th>Variable</th>\n",
       "      <th>VIF</th>\n",
       "    </tr>\n",
       "  </thead>\n",
       "  <tbody>\n",
       "    <tr>\n",
       "      <th>5</th>\n",
       "      <td>curricular_units_1st_sem_(enrolled)</td>\n",
       "      <td>23.528216</td>\n",
       "    </tr>\n",
       "    <tr>\n",
       "      <th>11</th>\n",
       "      <td>curricular_units_2nd_sem_(enrolled)</td>\n",
       "      <td>16.442303</td>\n",
       "    </tr>\n",
       "    <tr>\n",
       "      <th>4</th>\n",
       "      <td>curricular_units_1st_sem_(credited)</td>\n",
       "      <td>15.747238</td>\n",
       "    </tr>\n",
       "    <tr>\n",
       "      <th>7</th>\n",
       "      <td>curricular_units_1st_sem_(approved)</td>\n",
       "      <td>12.676006</td>\n",
       "    </tr>\n",
       "    <tr>\n",
       "      <th>10</th>\n",
       "      <td>curricular_units_2nd_sem_(credited)</td>\n",
       "      <td>12.399341</td>\n",
       "    </tr>\n",
       "    <tr>\n",
       "      <th>13</th>\n",
       "      <td>curricular_units_2nd_sem_(approved)</td>\n",
       "      <td>10.154983</td>\n",
       "    </tr>\n",
       "    <tr>\n",
       "      <th>14</th>\n",
       "      <td>curricular_units_2nd_sem_(grade)</td>\n",
       "      <td>5.479099</td>\n",
       "    </tr>\n",
       "    <tr>\n",
       "      <th>8</th>\n",
       "      <td>curricular_units_1st_sem_(grade)</td>\n",
       "      <td>4.980663</td>\n",
       "    </tr>\n",
       "    <tr>\n",
       "      <th>6</th>\n",
       "      <td>curricular_units_1st_sem_(evaluations)</td>\n",
       "      <td>3.976740</td>\n",
       "    </tr>\n",
       "    <tr>\n",
       "      <th>12</th>\n",
       "      <td>curricular_units_2nd_sem_(evaluations)</td>\n",
       "      <td>3.330090</td>\n",
       "    </tr>\n",
       "    <tr>\n",
       "      <th>9</th>\n",
       "      <td>curricular_units_1st_sem_(without_evaluations)</td>\n",
       "      <td>1.677949</td>\n",
       "    </tr>\n",
       "    <tr>\n",
       "      <th>2</th>\n",
       "      <td>admission_grade</td>\n",
       "      <td>1.603092</td>\n",
       "    </tr>\n",
       "    <tr>\n",
       "      <th>15</th>\n",
       "      <td>curricular_units_2nd_sem_(without_evaluations)</td>\n",
       "      <td>1.570265</td>\n",
       "    </tr>\n",
       "    <tr>\n",
       "      <th>1</th>\n",
       "      <td>previous_qualification_(grade)</td>\n",
       "      <td>1.544868</td>\n",
       "    </tr>\n",
       "    <tr>\n",
       "      <th>18</th>\n",
       "      <td>gdp</td>\n",
       "      <td>1.232509</td>\n",
       "    </tr>\n",
       "    <tr>\n",
       "      <th>16</th>\n",
       "      <td>unemployment_rate</td>\n",
       "      <td>1.201697</td>\n",
       "    </tr>\n",
       "    <tr>\n",
       "      <th>3</th>\n",
       "      <td>age_at_enrollment</td>\n",
       "      <td>1.188995</td>\n",
       "    </tr>\n",
       "    <tr>\n",
       "      <th>0</th>\n",
       "      <td>previous_qualification</td>\n",
       "      <td>1.159033</td>\n",
       "    </tr>\n",
       "    <tr>\n",
       "      <th>17</th>\n",
       "      <td>inflation_rate</td>\n",
       "      <td>1.038828</td>\n",
       "    </tr>\n",
       "  </tbody>\n",
       "</table>\n",
       "</div>"
      ],
      "text/plain": [
       "                                          Variable        VIF\n",
       "5              curricular_units_1st_sem_(enrolled)  23.528216\n",
       "11             curricular_units_2nd_sem_(enrolled)  16.442303\n",
       "4              curricular_units_1st_sem_(credited)  15.747238\n",
       "7              curricular_units_1st_sem_(approved)  12.676006\n",
       "10             curricular_units_2nd_sem_(credited)  12.399341\n",
       "13             curricular_units_2nd_sem_(approved)  10.154983\n",
       "14                curricular_units_2nd_sem_(grade)   5.479099\n",
       "8                 curricular_units_1st_sem_(grade)   4.980663\n",
       "6           curricular_units_1st_sem_(evaluations)   3.976740\n",
       "12          curricular_units_2nd_sem_(evaluations)   3.330090\n",
       "9   curricular_units_1st_sem_(without_evaluations)   1.677949\n",
       "2                                  admission_grade   1.603092\n",
       "15  curricular_units_2nd_sem_(without_evaluations)   1.570265\n",
       "1                   previous_qualification_(grade)   1.544868\n",
       "18                                             gdp   1.232509\n",
       "16                               unemployment_rate   1.201697\n",
       "3                                age_at_enrollment   1.188995\n",
       "0                           previous_qualification   1.159033\n",
       "17                                  inflation_rate   1.038828"
      ]
     },
     "execution_count": 40,
     "metadata": {},
     "output_type": "execute_result"
    }
   ],
   "source": [
    "considered_features = list(num.columns)\n",
    "def compute_vif(considered_features):\n",
    "    X = num[considered_features]\n",
    "    X['intercept'] = 1\n",
    "    vif = pd.DataFrame()\n",
    "    vif[\"Variable\"] = X.columns\n",
    "    vif[\"VIF\"] = [variance_inflation_factor(X.values, i) for i in range(X.shape[1])]\n",
    "    vif = vif[vif['Variable']!='intercept']\n",
    "    return vif\n",
    "compute_vif(considered_features)\n",
    "compute_vif(considered_features).sort_values('VIF', ascending=False)"
   ]
  },
  {
   "cell_type": "markdown",
   "id": "b8c6af2e",
   "metadata": {},
   "source": [
    "## Removing Multicollinearity"
   ]
  },
  {
   "cell_type": "code",
   "execution_count": 41,
   "id": "e84698c0",
   "metadata": {},
   "outputs": [
    {
     "data": {
      "text/html": [
       "<div>\n",
       "<style scoped>\n",
       "    .dataframe tbody tr th:only-of-type {\n",
       "        vertical-align: middle;\n",
       "    }\n",
       "\n",
       "    .dataframe tbody tr th {\n",
       "        vertical-align: top;\n",
       "    }\n",
       "\n",
       "    .dataframe thead th {\n",
       "        text-align: right;\n",
       "    }\n",
       "</style>\n",
       "<table border=\"1\" class=\"dataframe\">\n",
       "  <thead>\n",
       "    <tr style=\"text-align: right;\">\n",
       "      <th></th>\n",
       "      <th>Variable</th>\n",
       "      <th>VIF</th>\n",
       "    </tr>\n",
       "  </thead>\n",
       "  <tbody>\n",
       "    <tr>\n",
       "      <th>4</th>\n",
       "      <td>curricular_units_1st_sem_(credited)</td>\n",
       "      <td>12.656257</td>\n",
       "    </tr>\n",
       "    <tr>\n",
       "      <th>9</th>\n",
       "      <td>curricular_units_2nd_sem_(credited)</td>\n",
       "      <td>11.405488</td>\n",
       "    </tr>\n",
       "    <tr>\n",
       "      <th>6</th>\n",
       "      <td>curricular_units_1st_sem_(approved)</td>\n",
       "      <td>11.223404</td>\n",
       "    </tr>\n",
       "    <tr>\n",
       "      <th>12</th>\n",
       "      <td>curricular_units_2nd_sem_(approved)</td>\n",
       "      <td>9.615539</td>\n",
       "    </tr>\n",
       "    <tr>\n",
       "      <th>13</th>\n",
       "      <td>curricular_units_2nd_sem_(grade)</td>\n",
       "      <td>5.453835</td>\n",
       "    </tr>\n",
       "    <tr>\n",
       "      <th>7</th>\n",
       "      <td>curricular_units_1st_sem_(grade)</td>\n",
       "      <td>4.884174</td>\n",
       "    </tr>\n",
       "    <tr>\n",
       "      <th>10</th>\n",
       "      <td>curricular_units_2nd_sem_(enrolled)</td>\n",
       "      <td>3.529162</td>\n",
       "    </tr>\n",
       "    <tr>\n",
       "      <th>5</th>\n",
       "      <td>curricular_units_1st_sem_(evaluations)</td>\n",
       "      <td>3.432251</td>\n",
       "    </tr>\n",
       "    <tr>\n",
       "      <th>11</th>\n",
       "      <td>curricular_units_2nd_sem_(evaluations)</td>\n",
       "      <td>3.177420</td>\n",
       "    </tr>\n",
       "    <tr>\n",
       "      <th>8</th>\n",
       "      <td>curricular_units_1st_sem_(without_evaluations)</td>\n",
       "      <td>1.677744</td>\n",
       "    </tr>\n",
       "    <tr>\n",
       "      <th>2</th>\n",
       "      <td>admission_grade</td>\n",
       "      <td>1.602614</td>\n",
       "    </tr>\n",
       "    <tr>\n",
       "      <th>14</th>\n",
       "      <td>curricular_units_2nd_sem_(without_evaluations)</td>\n",
       "      <td>1.568715</td>\n",
       "    </tr>\n",
       "    <tr>\n",
       "      <th>1</th>\n",
       "      <td>previous_qualification_(grade)</td>\n",
       "      <td>1.544666</td>\n",
       "    </tr>\n",
       "    <tr>\n",
       "      <th>17</th>\n",
       "      <td>gdp</td>\n",
       "      <td>1.231894</td>\n",
       "    </tr>\n",
       "    <tr>\n",
       "      <th>15</th>\n",
       "      <td>unemployment_rate</td>\n",
       "      <td>1.190880</td>\n",
       "    </tr>\n",
       "    <tr>\n",
       "      <th>3</th>\n",
       "      <td>age_at_enrollment</td>\n",
       "      <td>1.184046</td>\n",
       "    </tr>\n",
       "    <tr>\n",
       "      <th>0</th>\n",
       "      <td>previous_qualification</td>\n",
       "      <td>1.156986</td>\n",
       "    </tr>\n",
       "    <tr>\n",
       "      <th>16</th>\n",
       "      <td>inflation_rate</td>\n",
       "      <td>1.034396</td>\n",
       "    </tr>\n",
       "  </tbody>\n",
       "</table>\n",
       "</div>"
      ],
      "text/plain": [
       "                                          Variable        VIF\n",
       "4              curricular_units_1st_sem_(credited)  12.656257\n",
       "9              curricular_units_2nd_sem_(credited)  11.405488\n",
       "6              curricular_units_1st_sem_(approved)  11.223404\n",
       "12             curricular_units_2nd_sem_(approved)   9.615539\n",
       "13                curricular_units_2nd_sem_(grade)   5.453835\n",
       "7                 curricular_units_1st_sem_(grade)   4.884174\n",
       "10             curricular_units_2nd_sem_(enrolled)   3.529162\n",
       "5           curricular_units_1st_sem_(evaluations)   3.432251\n",
       "11          curricular_units_2nd_sem_(evaluations)   3.177420\n",
       "8   curricular_units_1st_sem_(without_evaluations)   1.677744\n",
       "2                                  admission_grade   1.602614\n",
       "14  curricular_units_2nd_sem_(without_evaluations)   1.568715\n",
       "1                   previous_qualification_(grade)   1.544666\n",
       "17                                             gdp   1.231894\n",
       "15                               unemployment_rate   1.190880\n",
       "3                                age_at_enrollment   1.184046\n",
       "0                           previous_qualification   1.156986\n",
       "16                                  inflation_rate   1.034396"
      ]
     },
     "execution_count": 41,
     "metadata": {},
     "output_type": "execute_result"
    }
   ],
   "source": [
    "considered_features.remove('curricular_units_1st_sem_(enrolled)')\n",
    "compute_vif(considered_features)\n",
    "compute_vif(considered_features).sort_values('VIF', ascending=False)"
   ]
  },
  {
   "cell_type": "code",
   "execution_count": 42,
   "id": "5935e142",
   "metadata": {},
   "outputs": [
    {
     "name": "stderr",
     "output_type": "stream",
     "text": [
      "/var/folders/_z/gw3f_k0d08zctss1m54yb4pc0000gn/T/ipykernel_1166/3876592948.py:4: SettingWithCopyWarning: \n",
      "A value is trying to be set on a copy of a slice from a DataFrame.\n",
      "Try using .loc[row_indexer,col_indexer] = value instead\n",
      "\n",
      "See the caveats in the documentation: https://pandas.pydata.org/pandas-docs/stable/user_guide/indexing.html#returning-a-view-versus-a-copy\n",
      "  X['intercept'] = 1\n"
     ]
    },
    {
     "data": {
      "text/html": [
       "<div>\n",
       "<style scoped>\n",
       "    .dataframe tbody tr th:only-of-type {\n",
       "        vertical-align: middle;\n",
       "    }\n",
       "\n",
       "    .dataframe tbody tr th {\n",
       "        vertical-align: top;\n",
       "    }\n",
       "\n",
       "    .dataframe thead th {\n",
       "        text-align: right;\n",
       "    }\n",
       "</style>\n",
       "<table border=\"1\" class=\"dataframe\">\n",
       "  <thead>\n",
       "    <tr style=\"text-align: right;\">\n",
       "      <th></th>\n",
       "      <th>Variable</th>\n",
       "      <th>VIF</th>\n",
       "    </tr>\n",
       "  </thead>\n",
       "  <tbody>\n",
       "    <tr>\n",
       "      <th>11</th>\n",
       "      <td>curricular_units_2nd_sem_(approved)</td>\n",
       "      <td>8.773690</td>\n",
       "    </tr>\n",
       "    <tr>\n",
       "      <th>5</th>\n",
       "      <td>curricular_units_1st_sem_(approved)</td>\n",
       "      <td>8.762912</td>\n",
       "    </tr>\n",
       "    <tr>\n",
       "      <th>12</th>\n",
       "      <td>curricular_units_2nd_sem_(grade)</td>\n",
       "      <td>5.430531</td>\n",
       "    </tr>\n",
       "    <tr>\n",
       "      <th>6</th>\n",
       "      <td>curricular_units_1st_sem_(grade)</td>\n",
       "      <td>4.650342</td>\n",
       "    </tr>\n",
       "    <tr>\n",
       "      <th>9</th>\n",
       "      <td>curricular_units_2nd_sem_(enrolled)</td>\n",
       "      <td>3.509112</td>\n",
       "    </tr>\n",
       "    <tr>\n",
       "      <th>4</th>\n",
       "      <td>curricular_units_1st_sem_(evaluations)</td>\n",
       "      <td>3.285054</td>\n",
       "    </tr>\n",
       "    <tr>\n",
       "      <th>8</th>\n",
       "      <td>curricular_units_2nd_sem_(credited)</td>\n",
       "      <td>3.211705</td>\n",
       "    </tr>\n",
       "    <tr>\n",
       "      <th>10</th>\n",
       "      <td>curricular_units_2nd_sem_(evaluations)</td>\n",
       "      <td>3.139909</td>\n",
       "    </tr>\n",
       "    <tr>\n",
       "      <th>7</th>\n",
       "      <td>curricular_units_1st_sem_(without_evaluations)</td>\n",
       "      <td>1.677152</td>\n",
       "    </tr>\n",
       "    <tr>\n",
       "      <th>2</th>\n",
       "      <td>admission_grade</td>\n",
       "      <td>1.602561</td>\n",
       "    </tr>\n",
       "    <tr>\n",
       "      <th>13</th>\n",
       "      <td>curricular_units_2nd_sem_(without_evaluations)</td>\n",
       "      <td>1.567868</td>\n",
       "    </tr>\n",
       "    <tr>\n",
       "      <th>1</th>\n",
       "      <td>previous_qualification_(grade)</td>\n",
       "      <td>1.543831</td>\n",
       "    </tr>\n",
       "    <tr>\n",
       "      <th>16</th>\n",
       "      <td>gdp</td>\n",
       "      <td>1.231772</td>\n",
       "    </tr>\n",
       "    <tr>\n",
       "      <th>14</th>\n",
       "      <td>unemployment_rate</td>\n",
       "      <td>1.189266</td>\n",
       "    </tr>\n",
       "    <tr>\n",
       "      <th>3</th>\n",
       "      <td>age_at_enrollment</td>\n",
       "      <td>1.173691</td>\n",
       "    </tr>\n",
       "    <tr>\n",
       "      <th>0</th>\n",
       "      <td>previous_qualification</td>\n",
       "      <td>1.145658</td>\n",
       "    </tr>\n",
       "    <tr>\n",
       "      <th>15</th>\n",
       "      <td>inflation_rate</td>\n",
       "      <td>1.033722</td>\n",
       "    </tr>\n",
       "  </tbody>\n",
       "</table>\n",
       "</div>"
      ],
      "text/plain": [
       "                                          Variable       VIF\n",
       "11             curricular_units_2nd_sem_(approved)  8.773690\n",
       "5              curricular_units_1st_sem_(approved)  8.762912\n",
       "12                curricular_units_2nd_sem_(grade)  5.430531\n",
       "6                 curricular_units_1st_sem_(grade)  4.650342\n",
       "9              curricular_units_2nd_sem_(enrolled)  3.509112\n",
       "4           curricular_units_1st_sem_(evaluations)  3.285054\n",
       "8              curricular_units_2nd_sem_(credited)  3.211705\n",
       "10          curricular_units_2nd_sem_(evaluations)  3.139909\n",
       "7   curricular_units_1st_sem_(without_evaluations)  1.677152\n",
       "2                                  admission_grade  1.602561\n",
       "13  curricular_units_2nd_sem_(without_evaluations)  1.567868\n",
       "1                   previous_qualification_(grade)  1.543831\n",
       "16                                             gdp  1.231772\n",
       "14                               unemployment_rate  1.189266\n",
       "3                                age_at_enrollment  1.173691\n",
       "0                           previous_qualification  1.145658\n",
       "15                                  inflation_rate  1.033722"
      ]
     },
     "execution_count": 42,
     "metadata": {},
     "output_type": "execute_result"
    }
   ],
   "source": [
    "considered_features.remove('curricular_units_1st_sem_(credited)')\n",
    "compute_vif(considered_features)\n",
    "compute_vif(considered_features).sort_values('VIF', ascending=False)"
   ]
  },
  {
   "cell_type": "code",
   "execution_count": 43,
   "id": "a9650908",
   "metadata": {},
   "outputs": [
    {
     "name": "stderr",
     "output_type": "stream",
     "text": [
      "/var/folders/_z/gw3f_k0d08zctss1m54yb4pc0000gn/T/ipykernel_1166/3876592948.py:4: SettingWithCopyWarning: \n",
      "A value is trying to be set on a copy of a slice from a DataFrame.\n",
      "Try using .loc[row_indexer,col_indexer] = value instead\n",
      "\n",
      "See the caveats in the documentation: https://pandas.pydata.org/pandas-docs/stable/user_guide/indexing.html#returning-a-view-versus-a-copy\n",
      "  X['intercept'] = 1\n"
     ]
    },
    {
     "data": {
      "text/html": [
       "<div>\n",
       "<style scoped>\n",
       "    .dataframe tbody tr th:only-of-type {\n",
       "        vertical-align: middle;\n",
       "    }\n",
       "\n",
       "    .dataframe tbody tr th {\n",
       "        vertical-align: top;\n",
       "    }\n",
       "\n",
       "    .dataframe thead th {\n",
       "        text-align: right;\n",
       "    }\n",
       "</style>\n",
       "<table border=\"1\" class=\"dataframe\">\n",
       "  <thead>\n",
       "    <tr style=\"text-align: right;\">\n",
       "      <th></th>\n",
       "      <th>Variable</th>\n",
       "      <th>VIF</th>\n",
       "    </tr>\n",
       "  </thead>\n",
       "  <tbody>\n",
       "    <tr>\n",
       "      <th>5</th>\n",
       "      <td>curricular_units_1st_sem_(approved)</td>\n",
       "      <td>5.857220</td>\n",
       "    </tr>\n",
       "    <tr>\n",
       "      <th>6</th>\n",
       "      <td>curricular_units_1st_sem_(grade)</td>\n",
       "      <td>4.525994</td>\n",
       "    </tr>\n",
       "    <tr>\n",
       "      <th>11</th>\n",
       "      <td>curricular_units_2nd_sem_(grade)</td>\n",
       "      <td>3.832838</td>\n",
       "    </tr>\n",
       "    <tr>\n",
       "      <th>4</th>\n",
       "      <td>curricular_units_1st_sem_(evaluations)</td>\n",
       "      <td>3.278628</td>\n",
       "    </tr>\n",
       "    <tr>\n",
       "      <th>8</th>\n",
       "      <td>curricular_units_2nd_sem_(credited)</td>\n",
       "      <td>3.181203</td>\n",
       "    </tr>\n",
       "    <tr>\n",
       "      <th>9</th>\n",
       "      <td>curricular_units_2nd_sem_(enrolled)</td>\n",
       "      <td>3.134100</td>\n",
       "    </tr>\n",
       "    <tr>\n",
       "      <th>10</th>\n",
       "      <td>curricular_units_2nd_sem_(evaluations)</td>\n",
       "      <td>3.038389</td>\n",
       "    </tr>\n",
       "    <tr>\n",
       "      <th>7</th>\n",
       "      <td>curricular_units_1st_sem_(without_evaluations)</td>\n",
       "      <td>1.676292</td>\n",
       "    </tr>\n",
       "    <tr>\n",
       "      <th>2</th>\n",
       "      <td>admission_grade</td>\n",
       "      <td>1.599957</td>\n",
       "    </tr>\n",
       "    <tr>\n",
       "      <th>12</th>\n",
       "      <td>curricular_units_2nd_sem_(without_evaluations)</td>\n",
       "      <td>1.567375</td>\n",
       "    </tr>\n",
       "    <tr>\n",
       "      <th>1</th>\n",
       "      <td>previous_qualification_(grade)</td>\n",
       "      <td>1.543337</td>\n",
       "    </tr>\n",
       "    <tr>\n",
       "      <th>15</th>\n",
       "      <td>gdp</td>\n",
       "      <td>1.230873</td>\n",
       "    </tr>\n",
       "    <tr>\n",
       "      <th>13</th>\n",
       "      <td>unemployment_rate</td>\n",
       "      <td>1.187790</td>\n",
       "    </tr>\n",
       "    <tr>\n",
       "      <th>3</th>\n",
       "      <td>age_at_enrollment</td>\n",
       "      <td>1.157066</td>\n",
       "    </tr>\n",
       "    <tr>\n",
       "      <th>0</th>\n",
       "      <td>previous_qualification</td>\n",
       "      <td>1.140922</td>\n",
       "    </tr>\n",
       "    <tr>\n",
       "      <th>14</th>\n",
       "      <td>inflation_rate</td>\n",
       "      <td>1.031887</td>\n",
       "    </tr>\n",
       "  </tbody>\n",
       "</table>\n",
       "</div>"
      ],
      "text/plain": [
       "                                          Variable       VIF\n",
       "5              curricular_units_1st_sem_(approved)  5.857220\n",
       "6                 curricular_units_1st_sem_(grade)  4.525994\n",
       "11                curricular_units_2nd_sem_(grade)  3.832838\n",
       "4           curricular_units_1st_sem_(evaluations)  3.278628\n",
       "8              curricular_units_2nd_sem_(credited)  3.181203\n",
       "9              curricular_units_2nd_sem_(enrolled)  3.134100\n",
       "10          curricular_units_2nd_sem_(evaluations)  3.038389\n",
       "7   curricular_units_1st_sem_(without_evaluations)  1.676292\n",
       "2                                  admission_grade  1.599957\n",
       "12  curricular_units_2nd_sem_(without_evaluations)  1.567375\n",
       "1                   previous_qualification_(grade)  1.543337\n",
       "15                                             gdp  1.230873\n",
       "13                               unemployment_rate  1.187790\n",
       "3                                age_at_enrollment  1.157066\n",
       "0                           previous_qualification  1.140922\n",
       "14                                  inflation_rate  1.031887"
      ]
     },
     "execution_count": 43,
     "metadata": {},
     "output_type": "execute_result"
    }
   ],
   "source": [
    "considered_features.remove('curricular_units_2nd_sem_(approved)')\n",
    "compute_vif(considered_features)\n",
    "compute_vif(considered_features).sort_values('VIF', ascending=False)"
   ]
  },
  {
   "cell_type": "code",
   "execution_count": 44,
   "id": "a9d0debd",
   "metadata": {},
   "outputs": [
    {
     "name": "stderr",
     "output_type": "stream",
     "text": [
      "/var/folders/_z/gw3f_k0d08zctss1m54yb4pc0000gn/T/ipykernel_1166/3876592948.py:4: SettingWithCopyWarning: \n",
      "A value is trying to be set on a copy of a slice from a DataFrame.\n",
      "Try using .loc[row_indexer,col_indexer] = value instead\n",
      "\n",
      "See the caveats in the documentation: https://pandas.pydata.org/pandas-docs/stable/user_guide/indexing.html#returning-a-view-versus-a-copy\n",
      "  X['intercept'] = 1\n"
     ]
    },
    {
     "data": {
      "text/html": [
       "<div>\n",
       "<style scoped>\n",
       "    .dataframe tbody tr th:only-of-type {\n",
       "        vertical-align: middle;\n",
       "    }\n",
       "\n",
       "    .dataframe tbody tr th {\n",
       "        vertical-align: top;\n",
       "    }\n",
       "\n",
       "    .dataframe thead th {\n",
       "        text-align: right;\n",
       "    }\n",
       "</style>\n",
       "<table border=\"1\" class=\"dataframe\">\n",
       "  <thead>\n",
       "    <tr style=\"text-align: right;\">\n",
       "      <th></th>\n",
       "      <th>Variable</th>\n",
       "      <th>VIF</th>\n",
       "    </tr>\n",
       "  </thead>\n",
       "  <tbody>\n",
       "    <tr>\n",
       "      <th>5</th>\n",
       "      <td>curricular_units_1st_sem_(grade)</td>\n",
       "      <td>3.767078</td>\n",
       "    </tr>\n",
       "    <tr>\n",
       "      <th>10</th>\n",
       "      <td>curricular_units_2nd_sem_(grade)</td>\n",
       "      <td>3.484976</td>\n",
       "    </tr>\n",
       "    <tr>\n",
       "      <th>4</th>\n",
       "      <td>curricular_units_1st_sem_(evaluations)</td>\n",
       "      <td>3.262878</td>\n",
       "    </tr>\n",
       "    <tr>\n",
       "      <th>9</th>\n",
       "      <td>curricular_units_2nd_sem_(evaluations)</td>\n",
       "      <td>3.031362</td>\n",
       "    </tr>\n",
       "    <tr>\n",
       "      <th>8</th>\n",
       "      <td>curricular_units_2nd_sem_(enrolled)</td>\n",
       "      <td>2.686019</td>\n",
       "    </tr>\n",
       "    <tr>\n",
       "      <th>7</th>\n",
       "      <td>curricular_units_2nd_sem_(credited)</td>\n",
       "      <td>2.206704</td>\n",
       "    </tr>\n",
       "    <tr>\n",
       "      <th>6</th>\n",
       "      <td>curricular_units_1st_sem_(without_evaluations)</td>\n",
       "      <td>1.675945</td>\n",
       "    </tr>\n",
       "    <tr>\n",
       "      <th>2</th>\n",
       "      <td>admission_grade</td>\n",
       "      <td>1.599179</td>\n",
       "    </tr>\n",
       "    <tr>\n",
       "      <th>11</th>\n",
       "      <td>curricular_units_2nd_sem_(without_evaluations)</td>\n",
       "      <td>1.558737</td>\n",
       "    </tr>\n",
       "    <tr>\n",
       "      <th>1</th>\n",
       "      <td>previous_qualification_(grade)</td>\n",
       "      <td>1.542052</td>\n",
       "    </tr>\n",
       "    <tr>\n",
       "      <th>14</th>\n",
       "      <td>gdp</td>\n",
       "      <td>1.230715</td>\n",
       "    </tr>\n",
       "    <tr>\n",
       "      <th>12</th>\n",
       "      <td>unemployment_rate</td>\n",
       "      <td>1.182460</td>\n",
       "    </tr>\n",
       "    <tr>\n",
       "      <th>3</th>\n",
       "      <td>age_at_enrollment</td>\n",
       "      <td>1.145777</td>\n",
       "    </tr>\n",
       "    <tr>\n",
       "      <th>0</th>\n",
       "      <td>previous_qualification</td>\n",
       "      <td>1.131179</td>\n",
       "    </tr>\n",
       "    <tr>\n",
       "      <th>13</th>\n",
       "      <td>inflation_rate</td>\n",
       "      <td>1.031887</td>\n",
       "    </tr>\n",
       "  </tbody>\n",
       "</table>\n",
       "</div>"
      ],
      "text/plain": [
       "                                          Variable       VIF\n",
       "5                 curricular_units_1st_sem_(grade)  3.767078\n",
       "10                curricular_units_2nd_sem_(grade)  3.484976\n",
       "4           curricular_units_1st_sem_(evaluations)  3.262878\n",
       "9           curricular_units_2nd_sem_(evaluations)  3.031362\n",
       "8              curricular_units_2nd_sem_(enrolled)  2.686019\n",
       "7              curricular_units_2nd_sem_(credited)  2.206704\n",
       "6   curricular_units_1st_sem_(without_evaluations)  1.675945\n",
       "2                                  admission_grade  1.599179\n",
       "11  curricular_units_2nd_sem_(without_evaluations)  1.558737\n",
       "1                   previous_qualification_(grade)  1.542052\n",
       "14                                             gdp  1.230715\n",
       "12                               unemployment_rate  1.182460\n",
       "3                                age_at_enrollment  1.145777\n",
       "0                           previous_qualification  1.131179\n",
       "13                                  inflation_rate  1.031887"
      ]
     },
     "execution_count": 44,
     "metadata": {},
     "output_type": "execute_result"
    }
   ],
   "source": [
    "considered_features.remove('curricular_units_1st_sem_(approved)')\n",
    "compute_vif(considered_features)\n",
    "compute_vif(considered_features).sort_values('VIF', ascending=False)"
   ]
  },
  {
   "cell_type": "code",
   "execution_count": 45,
   "id": "e19d1bae",
   "metadata": {},
   "outputs": [],
   "source": [
    "#Drop multiculinarity from Numerical\n",
    "num=num.drop(['curricular_units_1st_sem_(enrolled)',\n",
    "             'curricular_units_1st_sem_(credited)',\n",
    "             'curricular_units_2nd_sem_(approved)',\n",
    "             'curricular_units_1st_sem_(approved)'],axis=1)"
   ]
  },
  {
   "cell_type": "markdown",
   "id": "322b5b0a",
   "metadata": {},
   "source": [
    "## Removing Outliers"
   ]
  },
  {
   "cell_type": "code",
   "execution_count": 46,
   "id": "3fd2eabd",
   "metadata": {
    "scrolled": false
   },
   "outputs": [
    {
     "data": {
      "image/png": "[encoded data removed]",
      "text/plain": [
       "<Figure size 432x288 with 1 Axes>"
      ]
     },
     "metadata": {
      "needs_background": "light"
     },
     "output_type": "display_data"
    },
    {
     "data": {
      "image/png": "[encoded data removed]",
      "text/plain": [
       "<Figure size 432x288 with 1 Axes>"
      ]
     },
     "metadata": {
      "needs_background": "light"
     },
     "output_type": "display_data"
    },
    {
     "data": {
      "image/png": "[encoded data removed]",
      "text/plain": [
       "<Figure size 432x288 with 1 Axes>"
      ]
     },
     "metadata": {
      "needs_background": "light"
     },
     "output_type": "display_data"
    },
    {
     "data": {
      "image/png": "[encoded data removed]",
      "text/plain": [
       "<Figure size 432x288 with 1 Axes>"
      ]
     },
     "metadata": {
      "needs_background": "light"
     },
     "output_type": "display_data"
    },
    {
     "data": {
      "image/png": "[encoded data removed]",
      "text/plain": [
       "<Figure size 432x288 with 1 Axes>"
      ]
     },
     "metadata": {
      "needs_background": "light"
     },
     "output_type": "display_data"
    },
    {
     "data": {
      "image/png": "[encoded data removed]",
      "text/plain": [
       "<Figure size 432x288 with 1 Axes>"
      ]
     },
     "metadata": {
      "needs_background": "light"
     },
     "output_type": "display_data"
    },
    {
     "data": {
      "image/png": "[encoded data removed]",
      "text/plain": [
       "<Figure size 432x288 with 1 Axes>"
      ]
     },
     "metadata": {
      "needs_background": "light"
     },
     "output_type": "display_data"
    },
    {
     "data": {
      "image/png": "[encoded data removed]",
      "text/plain": [
       "<Figure size 432x288 with 1 Axes>"
      ]
     },
     "metadata": {
      "needs_background": "light"
     },
     "output_type": "display_data"
    },
    {
     "data": {
      "image/png": "[encoded data removed]",
      "text/plain": [
       "<Figure size 432x288 with 1 Axes>"
      ]
     },
     "metadata": {
      "needs_background": "light"
     },
     "output_type": "display_data"
    },
    {
     "data": {
      "image/png": "[encoded data removed]",
      "text/plain": [
       "<Figure size 432x288 with 1 Axes>"
      ]
     },
     "metadata": {
      "needs_background": "light"
     },
     "output_type": "display_data"
    },
    {
     "data": {
      "image/png": "[encoded data removed]",
      "text/plain": [
       "<Figure size 432x288 with 1 Axes>"
      ]
     },
     "metadata": {
      "needs_background": "light"
     },
     "output_type": "display_data"
    },
    {
     "data": {
      "image/png": "[encoded data removed]",
      "text/plain": [
       "<Figure size 432x288 with 1 Axes>"
      ]
     },
     "metadata": {
      "needs_background": "light"
     },
     "output_type": "display_data"
    },
    {
     "data": {
      "image/png": "[encoded data removed]",
      "text/plain": [
       "<Figure size 432x288 with 1 Axes>"
      ]
     },
     "metadata": {
      "needs_background": "light"
     },
     "output_type": "display_data"
    },
    {
     "data": {
      "image/png": "[encoded data removed]",
      "text/plain": [
       "<Figure size 432x288 with 1 Axes>"
      ]
     },
     "metadata": {
      "needs_background": "light"
     },
     "output_type": "display_data"
    },
    {
     "data": {
      "image/png": "[encoded data removed]",
      "text/plain": [
       "<Figure size 432x288 with 1 Axes>"
      ]
     },
     "metadata": {
      "needs_background": "light"
     },
     "output_type": "display_data"
    }
   ],
   "source": [
    "def plot_num(df):\n",
    "    col=list(df.columns)\n",
    "    for i in range(len(col)):\n",
    "        sns.boxplot(x =df[col[i]], data = df) \n",
    "        plt.show()\n",
    "plot_num(num)"
   ]
  },
  {
   "cell_type": "code",
   "execution_count": 47,
   "id": "e824d4d9",
   "metadata": {},
   "outputs": [
    {
     "data": {
      "text/plain": [
       "(4423, 15)"
      ]
     },
     "execution_count": 47,
     "metadata": {},
     "output_type": "execute_result"
    }
   ],
   "source": [
    "# Age\n",
    "num[num['age_at_enrollment']>65]['age_at_enrollment'].value_counts()\n",
    "num=num[num['age_at_enrollment']<=65]\n",
    "num.shape"
   ]
  },
  {
   "cell_type": "code",
   "execution_count": 48,
   "id": "789baaa2",
   "metadata": {},
   "outputs": [
    {
     "data": {
      "text/plain": [
       "Index(['previous_qualification', 'previous_qualification_(grade)',\n",
       "       'admission_grade', 'age_at_enrollment',\n",
       "       'curricular_units_1st_sem_(evaluations)',\n",
       "       'curricular_units_1st_sem_(grade)',\n",
       "       'curricular_units_1st_sem_(without_evaluations)',\n",
       "       'curricular_units_2nd_sem_(credited)',\n",
       "       'curricular_units_2nd_sem_(enrolled)',\n",
       "       'curricular_units_2nd_sem_(evaluations)',\n",
       "       'curricular_units_2nd_sem_(grade)',\n",
       "       'curricular_units_2nd_sem_(without_evaluations)', 'unemployment_rate',\n",
       "       'inflation_rate', 'gdp'],\n",
       "      dtype='object')"
      ]
     },
     "execution_count": 48,
     "metadata": {},
     "output_type": "execute_result"
    }
   ],
   "source": [
    "num.columns"
   ]
  },
  {
   "cell_type": "markdown",
   "id": "e880adc7",
   "metadata": {},
   "source": [
    "# Categorical"
   ]
  },
  {
   "cell_type": "code",
   "execution_count": 49,
   "id": "da5ad72a",
   "metadata": {},
   "outputs": [],
   "source": [
    "def plot_cat(df):\n",
    "    col=list(df.columns)\n",
    "    fig,ax=plt.subplots(int(np.ceil(len(col)/2)),2 ,figsize=(15,25))\n",
    "    plt.subplots_adjust(left=0.1,\n",
    "                    bottom=0.1, \n",
    "                    right=0.9, \n",
    "                    top=0.9, \n",
    "                    wspace=0.4, \n",
    "                    hspace=0.5)\n",
    "    j=0\n",
    "    k=0\n",
    "    for i in range(len(col)):\n",
    "        chart=sns.countplot(x=df[col[i]],data=df,ax=ax[j,k])\n",
    "        chart.set_xticklabels(chart.get_xticklabels(), rotation=45)\n",
    "        k=k+1\n",
    "        if k>=2:\n",
    "            j=j+1\n",
    "            k=0"
   ]
  },
  {
   "cell_type": "code",
   "execution_count": 50,
   "id": "0132ea02",
   "metadata": {},
   "outputs": [
    {
     "data": {
      "image/png": "[encoded data removed]",
      "text/plain": [
       "<Figure size 1080x1800 with 18 Axes>"
      ]
     },
     "metadata": {
      "needs_background": "light"
     },
     "output_type": "display_data"
    }
   ],
   "source": [
    "plot_cat(cat)"
   ]
  },
  {
   "cell_type": "markdown",
   "id": "e77497a0",
   "metadata": {},
   "source": [
    "# X,Y"
   ]
  },
  {
   "cell_type": "code",
   "execution_count": 51,
   "id": "ad899212",
   "metadata": {},
   "outputs": [
    {
     "name": "stdout",
     "output_type": "stream",
     "text": [
      "(4423, 18)\n",
      "(4423, 15)\n"
     ]
    }
   ],
   "source": [
    "# Removing rows in cat which we delete in numerical removing outliers\n",
    "#cat.loc[cat.index.isin(numerical.index),'HandsetPrice'] = numerical.HandsetPrice\n",
    "cols=cat.columns\n",
    "cat_df = pd.DataFrame(cat, columns=cols, index =num.index)\n",
    "num_df=num\n",
    "print(cat_df.shape)\n",
    "print(num_df.shape)"
   ]
  },
  {
   "cell_type": "code",
   "execution_count": 136,
   "id": "bdc6722f",
   "metadata": {},
   "outputs": [
    {
     "data": {
      "text/plain": [
       "marital_status                                    0\n",
       "application_mode                                  0\n",
       "application_order                                 0\n",
       "course                                            0\n",
       "daytime/evening_attendance                        0\n",
       "nacionality                                       0\n",
       "mother_qualification                              0\n",
       "father_qualification                              0\n",
       "mother_occupation                                 0\n",
       "father_occupation                                 0\n",
       "displaced                                         0\n",
       "educational_special_needs                         0\n",
       "debtor                                            0\n",
       "tuition_fees_up_to_date                           0\n",
       "gender                                            0\n",
       "scholarship_holder                                0\n",
       "international                                     0\n",
       "previous_qualification                            0\n",
       "previous_qualification_(grade)                    0\n",
       "admission_grade                                   0\n",
       "age_at_enrollment                                 0\n",
       "curricular_units_1st_sem_(evaluations)            0\n",
       "curricular_units_1st_sem_(grade)                  0\n",
       "curricular_units_1st_sem_(without_evaluations)    0\n",
       "curricular_units_2nd_sem_(credited)               0\n",
       "curricular_units_2nd_sem_(enrolled)               0\n",
       "curricular_units_2nd_sem_(evaluations)            0\n",
       "curricular_units_2nd_sem_(grade)                  0\n",
       "curricular_units_2nd_sem_(without_evaluations)    0\n",
       "unemployment_rate                                 0\n",
       "inflation_rate                                    0\n",
       "gdp                                               0\n",
       "dtype: int64"
      ]
     },
     "execution_count": 136,
     "metadata": {},
     "output_type": "execute_result"
    }
   ],
   "source": [
    "X.isna().sum()"
   ]
  },
  {
   "cell_type": "code",
   "execution_count": 52,
   "id": "0208860d",
   "metadata": {},
   "outputs": [
    {
     "data": {
      "text/plain": [
       "(4423, 32)"
      ]
     },
     "execution_count": 52,
     "metadata": {},
     "output_type": "execute_result"
    }
   ],
   "source": [
    "X=pd.concat([cat_df,num_df], axis=1) \n",
    "Y=X['target']\n",
    "X=X.drop('target',axis=1)\n",
    "X.shape\n"
   ]
  },
  {
   "cell_type": "markdown",
   "id": "e94a19c4",
   "metadata": {},
   "source": [
    "# Train & Test Split"
   ]
  },
  {
   "cell_type": "code",
   "execution_count": 116,
   "id": "269b897d",
   "metadata": {},
   "outputs": [],
   "source": [
    "X_train, X_test, y_train, y_test = train_test_split(X, Y, test_size=0.2, random_state=42)"
   ]
  },
  {
   "cell_type": "markdown",
   "id": "0e3e9c16",
   "metadata": {},
   "source": [
    "# Normalizing"
   ]
  },
  {
   "cell_type": "code",
   "execution_count": 117,
   "id": "97338ac4",
   "metadata": {},
   "outputs": [],
   "source": [
    "def normal(name,X_train,y_train,X_test,y_test):\n",
    "    \n",
    "    while ( name not in ['MinMaxScaler','PowerTransformer','StandardScaler']):\n",
    "        value = input(\"Incorrect transformer name, please enter a valid one: [1:'MinMaxScaler',2:'PowerTransformer',3:'StandardScaler']\")\n",
    "        if ( value == '1'):\n",
    "            name = \"MinMaxScaler\"\n",
    "        elif ( value == '2'):\n",
    "            name = \"PowerTransformer\"\n",
    "        elif ( value == \"3\"):\n",
    "            name = \"StandardScaler\"\n",
    "        else:\n",
    "            name = None\n",
    "    X_train_df = pd.DataFrame(X_train, columns=X.columns)\n",
    "    X_test_df  = pd.DataFrame(X_test,  columns=X.columns)\n",
    "    X_train_num = X_train_df.select_dtypes(include = np.number)\n",
    "    X_test_num  = X_test_df.select_dtypes(include = np.number)\n",
    "    X_train_cat = X_train_df.select_dtypes(include = 'object')\n",
    "    X_test_cat  = X_test_df.select_dtypes(include = 'object')  \n",
    "    encoder = OneHotEncoder(drop='first',handle_unknown='ignore')\n",
    "    encoder.fit(X_train_cat)\n",
    "    \n",
    "    X_train_cat_encoded = encoder.transform(X_train_cat).toarray()\n",
    "    cols = encoder.get_feature_names_out(input_features=X_train_cat.columns)\n",
    "    X_train_encoded_df = pd.DataFrame(X_train_cat_encoded, columns=cols, index = X_train_cat.index)\n",
    "    X_train_encoded = pd.concat([X_train_encoded_df,X_train_num], axis=1)\n",
    "    \n",
    "    X_test_cat_encoded = encoder.transform(X_test_cat).toarray()\n",
    "    X_test_cat_encoded_df = pd.DataFrame(X_test_cat_encoded,columns=cols, index = X_test_cat.index)\n",
    "    X_test_encoded = pd.concat([X_test_cat_encoded_df,X_test_num], axis=1)\n",
    "        \n",
    "    if name==\"MinMaxScaler\":\n",
    "        transformer = MinMaxScaler()\n",
    "        transformer.fit(X_train_encoded)\n",
    "    elif name==\"PowerTransformer\":\n",
    "        transformer = PowerTransformer()\n",
    "        transformer.fit(X_train_encoded)\n",
    "    elif name=='StandardScaler':\n",
    "        transformer = StandardScaler()\n",
    "        transformer.fit(X_train_encoded)\n",
    "        \n",
    "    X_train_scaled_total = transformer.transform(X_train_encoded)\n",
    "    X_train_scaled_total_df = pd.DataFrame(X_train_scaled_total, columns = X_train_encoded.columns)\n",
    "    X_test_scaled_total  = transformer.transform(X_test_encoded)\n",
    "    X_test_scaled_total_df = pd.DataFrame(X_test_scaled_total, columns= X_test_encoded.columns)\n",
    "\n",
    "    \n",
    "    return X_train_scaled_total_df, X_test_scaled_total_df"
   ]
  },
  {
   "cell_type": "code",
   "execution_count": 121,
   "id": "8b12914d",
   "metadata": {},
   "outputs": [
    {
     "name": "stderr",
     "output_type": "stream",
     "text": [
      "/Users/mojgun/opt/anaconda3/lib/python3.9/site-packages/sklearn/preprocessing/_encoders.py:188: UserWarning: Found unknown categories in columns [7, 8, 9] during transform. These unknown categories will be encoded as all zeros\n",
      "  warnings.warn(\n"
     ]
    }
   ],
   "source": [
    "X_train, X_test=normal('MinMaxScaler',X_train,y_train,X_test,y_test)"
   ]
  },
  {
   "cell_type": "code",
   "execution_count": 154,
   "id": "3e57f14d",
   "metadata": {},
   "outputs": [
    {
     "data": {
      "text/plain": [
       "0"
      ]
     },
     "execution_count": 154,
     "metadata": {},
     "output_type": "execute_result"
    }
   ],
   "source": [
    "sum(X_train.isna().sum())"
   ]
  },
  {
   "cell_type": "code",
   "execution_count": 157,
   "id": "564ef653",
   "metadata": {},
   "outputs": [
    {
     "data": {
      "text/plain": [
       "0"
      ]
     },
     "execution_count": 157,
     "metadata": {},
     "output_type": "execute_result"
    }
   ],
   "source": [
    "y_train.isna().sum()"
   ]
  },
  {
   "cell_type": "code",
   "execution_count": 158,
   "id": "f4762584",
   "metadata": {},
   "outputs": [
    {
     "data": {
      "text/plain": [
       "(3538,)"
      ]
     },
     "execution_count": 158,
     "metadata": {},
     "output_type": "execute_result"
    }
   ],
   "source": [
    "y_train.shape"
   ]
  },
  {
   "cell_type": "code",
   "execution_count": 159,
   "id": "ea50847c",
   "metadata": {},
   "outputs": [
    {
     "data": {
      "text/plain": [
       "(885,)"
      ]
     },
     "execution_count": 159,
     "metadata": {},
     "output_type": "execute_result"
    }
   ],
   "source": [
    "y_test.shape"
   ]
  },
  {
   "cell_type": "markdown",
   "id": "b941978b",
   "metadata": {},
   "source": [
    "# UP Sampling"
   ]
  },
  {
   "cell_type": "code",
   "execution_count": 152,
   "id": "b774f5d8",
   "metadata": {},
   "outputs": [
    {
     "data": {
      "text/plain": [
       "Graduate    3003\n",
       "Dropout     1421\n",
       "Name: target, dtype: int64"
      ]
     },
     "execution_count": 152,
     "metadata": {},
     "output_type": "execute_result"
    }
   ],
   "source": [
    "#We have Class inbalance so we are foing to do Upsampling\n",
    "data['target'].value_counts()"
   ]
  },
  {
   "cell_type": "code",
   "execution_count": 171,
   "id": "0ca087f3",
   "metadata": {},
   "outputs": [
    {
     "name": "stdout",
     "output_type": "stream",
     "text": [
      "(2403, 218)\n",
      "(1135, 218)\n",
      "(2403, 218)\n"
     ]
    }
   ],
   "source": [
    "trainset = pd.concat([X_train.reset_index(drop=True), y_train.reset_index(drop=True)], axis=1)\n",
    "# Manual way to Upsampling Dropout:\n",
    "category_G = trainset[trainset['target']=='Graduate']\n",
    "print(category_G.shape)\n",
    "category_D = trainset[trainset['target']== 'Dropout' ]\n",
    "print(category_D.shape)\n",
    "category_up=category_D.sample(len(trainset[trainset['target']=='Graduate']),replace=True)\n",
    "print(category_up.shape)"
   ]
  },
  {
   "cell_type": "code",
   "execution_count": 173,
   "id": "9571f5b0",
   "metadata": {},
   "outputs": [
    {
     "data": {
      "text/plain": [
       "0"
      ]
     },
     "execution_count": 173,
     "metadata": {},
     "output_type": "execute_result"
    }
   ],
   "source": [
    "sum(X_train.isna().sum())"
   ]
  },
  {
   "cell_type": "code",
   "execution_count": 169,
   "id": "cea24b83",
   "metadata": {},
   "outputs": [
    {
     "name": "stdout",
     "output_type": "stream",
     "text": [
      "(4806, 217)\n",
      "(885, 217)\n",
      "(4806,)\n",
      "(885,)\n"
     ]
    }
   ],
   "source": [
    "# Concatinate and Train & test Spli\n",
    "#concatinate\n",
    "trainset_new = pd.concat([category_G, category_up], axis = 0)\n",
    "trainset_new = trainset_new.sample(frac =1) #randomize the rows\n",
    "X_train_up = trainset_new.drop(['target'], axis=1)\n",
    "y_train_up = trainset_new['target']\n",
    "#data = data.reset_index(drop=True)\n",
    "print(X_train_up.shape)\n",
    "print(X_test.shape)\n",
    "print(y_train_up.shape)\n",
    "print(y_test.shape)"
   ]
  },
  {
   "cell_type": "code",
   "execution_count": 170,
   "id": "ef33e3d2",
   "metadata": {},
   "outputs": [
    {
     "data": {
      "text/plain": [
       "0"
      ]
     },
     "execution_count": 170,
     "metadata": {},
     "output_type": "execute_result"
    }
   ],
   "source": [
    "sum(X_train_up.isna().sum())"
   ]
  },
  {
   "cell_type": "markdown",
   "id": "89a9eb70",
   "metadata": {},
   "source": [
    "# Predictions"
   ]
  },
  {
   "cell_type": "markdown",
   "id": "13c42054",
   "metadata": {},
   "source": [
    "## RandomForestClassifier"
   ]
  },
  {
   "cell_type": "code",
   "execution_count": 174,
   "id": "f4f09a65",
   "metadata": {},
   "outputs": [
    {
     "data": {
      "text/html": [
       "<style>#sk-container-id-1 {color: black;background-color: white;}#sk-container-id-1 pre{padding: 0;}#sk-container-id-1 div.sk-toggleable {background-color: white;}#sk-container-id-1 label.sk-toggleable__label {cursor: pointer;display: block;width: 100%;margin-bottom: 0;padding: 0.3em;box-sizing: border-box;text-align: center;}#sk-container-id-1 label.sk-toggleable__label-arrow:before {content: \"▸\";float: left;margin-right: 0.25em;color: #696969;}#sk-container-id-1 label.sk-toggleable__label-arrow:hover:before {color: black;}#sk-container-id-1 div.sk-estimator:hover label.sk-toggleable__label-arrow:before {color: black;}#sk-container-id-1 div.sk-toggleable__content {max-height: 0;max-width: 0;overflow: hidden;text-align: left;background-color: #f0f8ff;}#sk-container-id-1 div.sk-toggleable__content pre {margin: 0.2em;color: black;border-radius: 0.25em;background-color: #f0f8ff;}#sk-container-id-1 input.sk-toggleable__control:checked~div.sk-toggleable__content {max-height: 200px;max-width: 100%;overflow: auto;}#sk-container-id-1 input.sk-toggleable__control:checked~label.sk-toggleable__label-arrow:before {content: \"▾\";}#sk-container-id-1 div.sk-estimator input.sk-toggleable__control:checked~label.sk-toggleable__label {background-color: #d4ebff;}#sk-container-id-1 div.sk-label input.sk-toggleable__control:checked~label.sk-toggleable__label {background-color: #d4ebff;}#sk-container-id-1 input.sk-hidden--visually {border: 0;clip: rect(1px 1px 1px 1px);clip: rect(1px, 1px, 1px, 1px);height: 1px;margin: -1px;overflow: hidden;padding: 0;position: absolute;width: 1px;}#sk-container-id-1 div.sk-estimator {font-family: monospace;background-color: #f0f8ff;border: 1px dotted black;border-radius: 0.25em;box-sizing: border-box;margin-bottom: 0.5em;}#sk-container-id-1 div.sk-estimator:hover {background-color: #d4ebff;}#sk-container-id-1 div.sk-parallel-item::after {content: \"\";width: 100%;border-bottom: 1px solid gray;flex-grow: 1;}#sk-container-id-1 div.sk-label:hover label.sk-toggleable__label {background-color: #d4ebff;}#sk-container-id-1 div.sk-serial::before {content: \"\";position: absolute;border-left: 1px solid gray;box-sizing: border-box;top: 0;bottom: 0;left: 50%;z-index: 0;}#sk-container-id-1 div.sk-serial {display: flex;flex-direction: column;align-items: center;background-color: white;padding-right: 0.2em;padding-left: 0.2em;position: relative;}#sk-container-id-1 div.sk-item {position: relative;z-index: 1;}#sk-container-id-1 div.sk-parallel {display: flex;align-items: stretch;justify-content: center;background-color: white;position: relative;}#sk-container-id-1 div.sk-item::before, #sk-container-id-1 div.sk-parallel-item::before {content: \"\";position: absolute;border-left: 1px solid gray;box-sizing: border-box;top: 0;bottom: 0;left: 50%;z-index: -1;}#sk-container-id-1 div.sk-parallel-item {display: flex;flex-direction: column;z-index: 1;position: relative;background-color: white;}#sk-container-id-1 div.sk-parallel-item:first-child::after {align-self: flex-end;width: 50%;}#sk-container-id-1 div.sk-parallel-item:last-child::after {align-self: flex-start;width: 50%;}#sk-container-id-1 div.sk-parallel-item:only-child::after {width: 0;}#sk-container-id-1 div.sk-dashed-wrapped {border: 1px dashed gray;margin: 0 0.4em 0.5em 0.4em;box-sizing: border-box;padding-bottom: 0.4em;background-color: white;}#sk-container-id-1 div.sk-label label {font-family: monospace;font-weight: bold;display: inline-block;line-height: 1.2em;}#sk-container-id-1 div.sk-label-container {text-align: center;}#sk-container-id-1 div.sk-container {/* jupyter's `normalize.less` sets `[hidden] { display: none; }` but bootstrap.min.css set `[hidden] { display: none !important; }` so we also need the `!important` here to be able to override the default hidden behavior on the sphinx rendered scikit-learn.org. See: https://github.com/scikit-learn/scikit-learn/issues/21755 */display: inline-block !important;position: relative;}#sk-container-id-1 div.sk-text-repr-fallback {display: none;}</style><div id=\"sk-container-id-1\" class=\"sk-top-container\"><div class=\"sk-text-repr-fallback\"><pre>RandomForestClassifier(max_depth=3, max_samples=0.5, min_samples_leaf=2,\n",
       "                       min_samples_split=4, random_state=10)</pre><b>In a Jupyter environment, please rerun this cell to show the HTML representation or trust the notebook. <br />On GitHub, the HTML representation is unable to render, please try loading this page with nbviewer.org.</b></div><div class=\"sk-container\" hidden><div class=\"sk-item\"><div class=\"sk-estimator sk-toggleable\"><input class=\"sk-toggleable__control sk-hidden--visually\" id=\"sk-estimator-id-1\" type=\"checkbox\" checked><label for=\"sk-estimator-id-1\" class=\"sk-toggleable__label sk-toggleable__label-arrow\">RandomForestClassifier</label><div class=\"sk-toggleable__content\"><pre>RandomForestClassifier(max_depth=3, max_samples=0.5, min_samples_leaf=2,\n",
       "                       min_samples_split=4, random_state=10)</pre></div></div></div></div></div>"
      ],
      "text/plain": [
       "RandomForestClassifier(max_depth=3, max_samples=0.5, min_samples_leaf=2,\n",
       "                       min_samples_split=4, random_state=10)"
      ]
     },
     "execution_count": 174,
     "metadata": {},
     "output_type": "execute_result"
    }
   ],
   "source": [
    "rfc = RandomForestClassifier(max_depth=3,\n",
    "                             min_samples_split=4,\n",
    "                             min_samples_leaf =2,\n",
    "                             max_samples=0.5,\n",
    "                             random_state = 10)\n",
    "rfc.fit(X_train_up, y_train_up)\n",
    "\n"
   ]
  },
  {
   "cell_type": "code",
   "execution_count": 179,
   "id": "482d47b6",
   "metadata": {},
   "outputs": [
    {
     "name": "stdout",
     "output_type": "stream",
     "text": [
      "The accuracy for the Random Forest in the TRAIN set is 0.81\n",
      "The accuracy for the Random Forest in the TEST  set is 0.85\n"
     ]
    },
    {
     "data": {
      "text/plain": [
       "Graduate    600\n",
       "Dropout     285\n",
       "Name: target, dtype: int64"
      ]
     },
     "metadata": {},
     "output_type": "display_data"
    },
    {
     "data": {
      "text/plain": [
       "array([[219,  66],\n",
       "       [ 68, 532]])"
      ]
     },
     "metadata": {},
     "output_type": "display_data"
    }
   ],
   "source": [
    "print(\"The accuracy for the Random Forest in the TRAIN set is {:.2f}\".format(rfc.score(X_train_up, y_train_up)))\n",
    "print(\"The accuracy for the Random Forest in the TEST  set is {:.2f}\".format(rfc.score(X_test, y_test)))\n",
    "\n",
    "y_pred = rfc.predict(X_test)\n",
    "y_pred_train = rfc.predict(X_train_up)\n",
    "display(y_test.value_counts())\n",
    "display(confusion_matrix(y_test, y_pred))\n",
    "conf_m=confusion_matrix(y_test, y_pred)"
   ]
  },
  {
   "cell_type": "code",
   "execution_count": 181,
   "id": "8893de1b",
   "metadata": {},
   "outputs": [
    {
     "data": {
      "image/png": "[encoded data removed]",
      "text/plain": [
       "<Figure size 432x288 with 2 Axes>"
      ]
     },
     "metadata": {
      "needs_background": "light"
     },
     "output_type": "display_data"
    }
   ],
   "source": [
    "cm_train = confusion_matrix(y_test,y_pred)\n",
    "cm_train\n",
    "disp = ConfusionMatrixDisplay(cm_train,display_labels=rfc.classes_);\n",
    "disp.plot()\n",
    "plt.show()"
   ]
  },
  {
   "cell_type": "markdown",
   "id": "64b438f8",
   "metadata": {},
   "source": [
    "## Grid Search"
   ]
  },
  {
   "cell_type": "code",
   "execution_count": 197,
   "id": "20765484",
   "metadata": {},
   "outputs": [
    {
     "name": "stdout",
     "output_type": "stream",
     "text": [
      "The recall for the DecisionTree in the TEST set is  0.77\n"
     ]
    }
   ],
   "source": [
    "recall_scorer = make_scorer(recall_score, greater_is_better=True)\n",
    "print(\"The recall for the DecisionTree in the TEST set is  \"+ str(round(recall_score(y_test, y_pred,pos_label='Dropout'),2)))"
   ]
  },
  {
   "cell_type": "code",
   "execution_count": 198,
   "id": "34bdad03",
   "metadata": {},
   "outputs": [],
   "source": [
    "from sklearn.model_selection import RandomizedSearchCV\n",
    "\n",
    "max_depth_choices= [3,4,5,6,7,8,9,10,None] # A list of the possible values of max_depth to try at random\n",
    "criterion_choices =  ['squared_error','absolute_error'] # A list of the possible values optimization metrics\n",
    "min_samples_split_choices = [2,3,4,5,6,7,8,9,10] # A list of the possible values of min_samples_split to try\n",
    "min_samples_leaf_choices = [2,3,4,5,6,7,8,9,10] # A list of the possible values of min_samples_leaf to try \n",
    "max_features_choices = [2,3,4,5,6] # A list of max_features to use in the Decission tree\n",
    "\n",
    "random_grid = {'max_depth': max_depth_choices,\n",
    "               'criterion': criterion_choices,\n",
    "               'min_samples_split': min_samples_split_choices,\n",
    "               'min_samples_leaf': min_samples_leaf_choices,\n",
    "               'max_features': max_features_choices}"
   ]
  },
  {
   "cell_type": "code",
   "execution_count": null,
   "id": "fc0aaa85",
   "metadata": {},
   "outputs": [],
   "source": [
    "model = RandomForestClassifier()\n",
    "grid_search = GridSearchCV(estimator = model, param_grid = random_grid, cv = 5,scoring=recall_scorer)\n",
    "grid_search.fit(X_train_up, y_train_up)"
   ]
  },
  {
   "cell_type": "code",
   "execution_count": 193,
   "id": "562ad0df",
   "metadata": {},
   "outputs": [
    {
     "name": "stdout",
     "output_type": "stream",
     "text": [
      "The recall for the DecisionTree in the TEST set is  0.77\n",
      "The kappa for the DecisionTree in the TEST set is  0.65\n"
     ]
    }
   ],
   "source": [
    "kappa= make_scorer(cohen_kappa_score)\n",
    "recall=make_scorer(recall_score)\n",
    "print(\"The recall for the DecisionTree in the TEST set is  \"+ str(round(recall_score(y_test, y_pred,pos_label='Dropout'),2)))\n",
    "print(\"The kappa for the DecisionTree in the TEST set is  \"+ str(round(cohen_kappa_score(y_test, y_pred),2)))"
   ]
  },
  {
   "cell_type": "code",
   "execution_count": null,
   "id": "a3b765bf",
   "metadata": {},
   "outputs": [],
   "source": []
  }
 ],
 "metadata": {
  "kernelspec": {
   "display_name": "Python 3 (ipykernel)",
   "language": "python",
   "name": "python3"
  },
  "language_info": {
   "codemirror_mode": {
    "name": "ipython",
    "version": 3
   },
   "file_extension": ".py",
   "mimetype": "text/x-python",
   "name": "python",
   "nbconvert_exporter": "python",
   "pygments_lexer": "ipython3",
   "version": "3.9.7"
  },
  "toc": {
   "base_numbering": 1,
   "nav_menu": {},
   "number_sections": true,
   "sideBar": true,
   "skip_h1_title": false,
   "title_cell": "Table of Contents",
   "title_sidebar": "Contents",
   "toc_cell": false,
   "toc_position": {},
   "toc_section_display": true,
   "toc_window_display": true
  },
  "varInspector": {
   "cols": {
    "lenName": 16,
    "lenType": 16,
    "lenVar": 40
   },
   "kernels_config": {
    "python": {
     "delete_cmd_postfix": "",
     "delete_cmd_prefix": "del ",
     "library": "var_list.py",
     "varRefreshCmd": "print(var_dic_list())"
    },
    "r": {
     "delete_cmd_postfix": ") ",
     "delete_cmd_prefix": "rm(",
     "library": "var_list.r",
     "varRefreshCmd": "cat(var_dic_list()) "
    }
   },
   "types_to_exclude": [
    "module",
    "function",
    "builtin_function_or_method",
    "instance",
    "_Feature"
   ],
   "window_display": false
  }
 },
 "nbformat": 4,
 "nbformat_minor": 5
}
