{
  "cells": [
    {
      "cell_type": "markdown",
      "metadata": {
        "id": "view-in-github",
        "colab_type": "text"
      },
      "source": [
        "<a href=\"https://colab.research.google.com/github/Mojgunsh/Final_Project/blob/master/Final_Project_Vr0_1.ipynb\" target=\"_parent\"><img src=\"https://colab.research.google.com/assets/colab-badge.svg\" alt=\"Open In Colab\"/></a>"
      ]
    },
    {
      "cell_type": "markdown",
      "id": "4bab0cd5",
      "metadata": {
        "id": "4bab0cd5"
      },
      "source": [
        "# Import Libaraies"
      ]
    },
    {
      "cell_type": "code",
      "execution_count": 125,
      "id": "51ca42a5",
      "metadata": {
        "id": "51ca42a5"
      },
      "outputs": [],
      "source": [
        "import pandas as pd\n",
        "import numpy as np\n",
        "from statsmodels.stats.outliers_influence import variance_inflation_factor\n",
        "import matplotlib.pyplot as plt\n",
        "%matplotlib inline\n",
        "import seaborn as sns\n",
        "from sklearn.model_selection import train_test_split\n",
        "from sklearn.preprocessing import OneHotEncoder\n",
        "from sklearn.preprocessing import MinMaxScaler,PowerTransformer\n",
        "from sklearn.model_selection import RandomizedSearchCV,GridSearchCV\n",
        "from sklearn.metrics import confusion_matrix, accuracy_score, precision_score, recall_score, ConfusionMatrixDisplay,cohen_kappa_score\n",
        "from sklearn.metrics import make_scorer\n",
        "from sklearn.ensemble import RandomForestClassifier\n",
        "from tensorflow.keras.callbacks import EarlyStopping # This callback allows you to stop the training if the validation error increases\n",
        "from tensorflow.keras.callbacks import ModelCheckpoint\n",
        "import tensorflow as tf # Library to construct neural newtorks. Low level library\n",
        "from tensorflow import keras # High level library to handle tensorflow.\n",
        "from tensorflow.keras.layers import Flatten, Dense, Dropout # Types of layers to use in our neural network.\n"
      ]
    },
    {
      "cell_type": "code",
      "source": [
        "from google.colab import drive\n",
        "drive.mount('/content/drive')"
      ],
      "metadata": {
        "colab": {
          "base_uri": "https://localhost:8080/"
        },
        "id": "nxIGRm7LZE3l",
        "outputId": "b9398640-0866-4ada-af8d-f7bf6881ad45"
      },
      "id": "nxIGRm7LZE3l",
      "execution_count": 15,
      "outputs": [
        {
          "output_type": "stream",
          "name": "stdout",
          "text": [
            "Mounted at /content/drive\n"
          ]
        }
      ]
    },
    {
      "cell_type": "markdown",
      "id": "b7aff2b2",
      "metadata": {
        "id": "b7aff2b2"
      },
      "source": [
        "# Reading and Exploring Data"
      ]
    },
    {
      "cell_type": "code",
      "execution_count": 16,
      "id": "3b2737ab",
      "metadata": {
        "id": "3b2737ab"
      },
      "outputs": [],
      "source": [
        "data=pd.read_csv('/content/drive/MyDrive/IRONHACK/Final_Project/Dataset/Data_Base(Modeified).csv')"
      ]
    },
    {
      "cell_type": "code",
      "execution_count": 17,
      "id": "757adb5c",
      "metadata": {
        "colab": {
          "base_uri": "https://localhost:8080/",
          "height": 352
        },
        "id": "757adb5c",
        "outputId": "5e6f55f3-79ba-4f23-eb2e-b45401bf975b"
      },
      "outputs": [
        {
          "output_type": "execute_result",
          "data": {
            "text/plain": [
              "      Marital status  Application mode  Application order  Course  \\\n",
              "4419               1                 1                  6    9773   \n",
              "4420               1                 1                  2    9773   \n",
              "4421               1                 1                  1    9500   \n",
              "4422               1                 1                  1    9147   \n",
              "4423               1                10                  1    9773   \n",
              "\n",
              "      Daytime/evening attendance  Previous qualification  \\\n",
              "4419                           1                       1   \n",
              "4420                           1                       1   \n",
              "4421                           1                       1   \n",
              "4422                           1                       1   \n",
              "4423                           1                       1   \n",
              "\n",
              "      Previous qualification (grade)  Nacionality  Mother's qualification  \\\n",
              "4419                           125.0            1                       1   \n",
              "4420                           120.0          105                       1   \n",
              "4421                           154.0            1                      37   \n",
              "4422                           180.0            1                      37   \n",
              "4423                           152.0           22                      38   \n",
              "\n",
              "      Father's qualification  ...  Curricular units 2nd sem (credited)  \\\n",
              "4419                       1  ...                                    0   \n",
              "4420                       1  ...                                    0   \n",
              "4421                      37  ...                                    0   \n",
              "4422                      37  ...                                    0   \n",
              "4423                      37  ...                                    0   \n",
              "\n",
              "      Curricular units 2nd sem (enrolled)  \\\n",
              "4419                                    6   \n",
              "4420                                    6   \n",
              "4421                                    8   \n",
              "4422                                    5   \n",
              "4423                                    6   \n",
              "\n",
              "      Curricular units 2nd sem (evaluations)  \\\n",
              "4419                                       8   \n",
              "4420                                       6   \n",
              "4421                                       9   \n",
              "4422                                       6   \n",
              "4423                                       6   \n",
              "\n",
              "      Curricular units 2nd sem (approved)  Curricular units 2nd sem (grade)  \\\n",
              "4419                                    5                         12.666667   \n",
              "4420                                    2                         11.000000   \n",
              "4421                                    1                         13.500000   \n",
              "4422                                    5                         12.000000   \n",
              "4423                                    6                         13.000000   \n",
              "\n",
              "      Curricular units 2nd sem (without evaluations)  Unemployment rate  \\\n",
              "4419                                               0               15.5   \n",
              "4420                                               0               11.1   \n",
              "4421                                               0               13.9   \n",
              "4422                                               0                9.4   \n",
              "4423                                               0               12.7   \n",
              "\n",
              "      Inflation rate   GDP    Target  \n",
              "4419             2.8 -4.06  Graduate  \n",
              "4420             0.6  2.02   Dropout  \n",
              "4421            -0.3  0.79   Dropout  \n",
              "4422            -0.8 -3.12  Graduate  \n",
              "4423             3.7 -1.70  Graduate  \n",
              "\n",
              "[5 rows x 37 columns]"
            ],
            "text/html": [
              "\n",
              "  <div id=\"df-8e8a1be2-0caa-40f3-ac2f-0c946a99bdba\">\n",
              "    <div class=\"colab-df-container\">\n",
              "      <div>\n",
              "<style scoped>\n",
              "    .dataframe tbody tr th:only-of-type {\n",
              "        vertical-align: middle;\n",
              "    }\n",
              "\n",
              "    .dataframe tbody tr th {\n",
              "        vertical-align: top;\n",
              "    }\n",
              "\n",
              "    .dataframe thead th {\n",
              "        text-align: right;\n",
              "    }\n",
              "</style>\n",
              "<table border=\"1\" class=\"dataframe\">\n",
              "  <thead>\n",
              "    <tr style=\"text-align: right;\">\n",
              "      <th></th>\n",
              "      <th>Marital status</th>\n",
              "      <th>Application mode</th>\n",
              "      <th>Application order</th>\n",
              "      <th>Course</th>\n",
              "      <th>Daytime/evening attendance</th>\n",
              "      <th>Previous qualification</th>\n",
              "      <th>Previous qualification (grade)</th>\n",
              "      <th>Nacionality</th>\n",
              "      <th>Mother's qualification</th>\n",
              "      <th>Father's qualification</th>\n",
              "      <th>...</th>\n",
              "      <th>Curricular units 2nd sem (credited)</th>\n",
              "      <th>Curricular units 2nd sem (enrolled)</th>\n",
              "      <th>Curricular units 2nd sem (evaluations)</th>\n",
              "      <th>Curricular units 2nd sem (approved)</th>\n",
              "      <th>Curricular units 2nd sem (grade)</th>\n",
              "      <th>Curricular units 2nd sem (without evaluations)</th>\n",
              "      <th>Unemployment rate</th>\n",
              "      <th>Inflation rate</th>\n",
              "      <th>GDP</th>\n",
              "      <th>Target</th>\n",
              "    </tr>\n",
              "  </thead>\n",
              "  <tbody>\n",
              "    <tr>\n",
              "      <th>4419</th>\n",
              "      <td>1</td>\n",
              "      <td>1</td>\n",
              "      <td>6</td>\n",
              "      <td>9773</td>\n",
              "      <td>1</td>\n",
              "      <td>1</td>\n",
              "      <td>125.0</td>\n",
              "      <td>1</td>\n",
              "      <td>1</td>\n",
              "      <td>1</td>\n",
              "      <td>...</td>\n",
              "      <td>0</td>\n",
              "      <td>6</td>\n",
              "      <td>8</td>\n",
              "      <td>5</td>\n",
              "      <td>12.666667</td>\n",
              "      <td>0</td>\n",
              "      <td>15.5</td>\n",
              "      <td>2.8</td>\n",
              "      <td>-4.06</td>\n",
              "      <td>Graduate</td>\n",
              "    </tr>\n",
              "    <tr>\n",
              "      <th>4420</th>\n",
              "      <td>1</td>\n",
              "      <td>1</td>\n",
              "      <td>2</td>\n",
              "      <td>9773</td>\n",
              "      <td>1</td>\n",
              "      <td>1</td>\n",
              "      <td>120.0</td>\n",
              "      <td>105</td>\n",
              "      <td>1</td>\n",
              "      <td>1</td>\n",
              "      <td>...</td>\n",
              "      <td>0</td>\n",
              "      <td>6</td>\n",
              "      <td>6</td>\n",
              "      <td>2</td>\n",
              "      <td>11.000000</td>\n",
              "      <td>0</td>\n",
              "      <td>11.1</td>\n",
              "      <td>0.6</td>\n",
              "      <td>2.02</td>\n",
              "      <td>Dropout</td>\n",
              "    </tr>\n",
              "    <tr>\n",
              "      <th>4421</th>\n",
              "      <td>1</td>\n",
              "      <td>1</td>\n",
              "      <td>1</td>\n",
              "      <td>9500</td>\n",
              "      <td>1</td>\n",
              "      <td>1</td>\n",
              "      <td>154.0</td>\n",
              "      <td>1</td>\n",
              "      <td>37</td>\n",
              "      <td>37</td>\n",
              "      <td>...</td>\n",
              "      <td>0</td>\n",
              "      <td>8</td>\n",
              "      <td>9</td>\n",
              "      <td>1</td>\n",
              "      <td>13.500000</td>\n",
              "      <td>0</td>\n",
              "      <td>13.9</td>\n",
              "      <td>-0.3</td>\n",
              "      <td>0.79</td>\n",
              "      <td>Dropout</td>\n",
              "    </tr>\n",
              "    <tr>\n",
              "      <th>4422</th>\n",
              "      <td>1</td>\n",
              "      <td>1</td>\n",
              "      <td>1</td>\n",
              "      <td>9147</td>\n",
              "      <td>1</td>\n",
              "      <td>1</td>\n",
              "      <td>180.0</td>\n",
              "      <td>1</td>\n",
              "      <td>37</td>\n",
              "      <td>37</td>\n",
              "      <td>...</td>\n",
              "      <td>0</td>\n",
              "      <td>5</td>\n",
              "      <td>6</td>\n",
              "      <td>5</td>\n",
              "      <td>12.000000</td>\n",
              "      <td>0</td>\n",
              "      <td>9.4</td>\n",
              "      <td>-0.8</td>\n",
              "      <td>-3.12</td>\n",
              "      <td>Graduate</td>\n",
              "    </tr>\n",
              "    <tr>\n",
              "      <th>4423</th>\n",
              "      <td>1</td>\n",
              "      <td>10</td>\n",
              "      <td>1</td>\n",
              "      <td>9773</td>\n",
              "      <td>1</td>\n",
              "      <td>1</td>\n",
              "      <td>152.0</td>\n",
              "      <td>22</td>\n",
              "      <td>38</td>\n",
              "      <td>37</td>\n",
              "      <td>...</td>\n",
              "      <td>0</td>\n",
              "      <td>6</td>\n",
              "      <td>6</td>\n",
              "      <td>6</td>\n",
              "      <td>13.000000</td>\n",
              "      <td>0</td>\n",
              "      <td>12.7</td>\n",
              "      <td>3.7</td>\n",
              "      <td>-1.70</td>\n",
              "      <td>Graduate</td>\n",
              "    </tr>\n",
              "  </tbody>\n",
              "</table>\n",
              "<p>5 rows × 37 columns</p>\n",
              "</div>\n",
              "      <button class=\"colab-df-convert\" onclick=\"convertToInteractive('df-8e8a1be2-0caa-40f3-ac2f-0c946a99bdba')\"\n",
              "              title=\"Convert this dataframe to an interactive table.\"\n",
              "              style=\"display:none;\">\n",
              "        \n",
              "  <svg xmlns=\"http://www.w3.org/2000/svg\" height=\"24px\"viewBox=\"0 0 24 24\"\n",
              "       width=\"24px\">\n",
              "    <path d=\"M0 0h24v24H0V0z\" fill=\"none\"/>\n",
              "    <path d=\"M18.56 5.44l.94 2.06.94-2.06 2.06-.94-2.06-.94-.94-2.06-.94 2.06-2.06.94zm-11 1L8.5 8.5l.94-2.06 2.06-.94-2.06-.94L8.5 2.5l-.94 2.06-2.06.94zm10 10l.94 2.06.94-2.06 2.06-.94-2.06-.94-.94-2.06-.94 2.06-2.06.94z\"/><path d=\"M17.41 7.96l-1.37-1.37c-.4-.4-.92-.59-1.43-.59-.52 0-1.04.2-1.43.59L10.3 9.45l-7.72 7.72c-.78.78-.78 2.05 0 2.83L4 21.41c.39.39.9.59 1.41.59.51 0 1.02-.2 1.41-.59l7.78-7.78 2.81-2.81c.8-.78.8-2.07 0-2.86zM5.41 20L4 18.59l7.72-7.72 1.47 1.35L5.41 20z\"/>\n",
              "  </svg>\n",
              "      </button>\n",
              "      \n",
              "  <style>\n",
              "    .colab-df-container {\n",
              "      display:flex;\n",
              "      flex-wrap:wrap;\n",
              "      gap: 12px;\n",
              "    }\n",
              "\n",
              "    .colab-df-convert {\n",
              "      background-color: #E8F0FE;\n",
              "      border: none;\n",
              "      border-radius: 50%;\n",
              "      cursor: pointer;\n",
              "      display: none;\n",
              "      fill: #1967D2;\n",
              "      height: 32px;\n",
              "      padding: 0 0 0 0;\n",
              "      width: 32px;\n",
              "    }\n",
              "\n",
              "    .colab-df-convert:hover {\n",
              "      background-color: #E2EBFA;\n",
              "      box-shadow: 0px 1px 2px rgba(60, 64, 67, 0.3), 0px 1px 3px 1px rgba(60, 64, 67, 0.15);\n",
              "      fill: #174EA6;\n",
              "    }\n",
              "\n",
              "    [theme=dark] .colab-df-convert {\n",
              "      background-color: #3B4455;\n",
              "      fill: #D2E3FC;\n",
              "    }\n",
              "\n",
              "    [theme=dark] .colab-df-convert:hover {\n",
              "      background-color: #434B5C;\n",
              "      box-shadow: 0px 1px 3px 1px rgba(0, 0, 0, 0.15);\n",
              "      filter: drop-shadow(0px 1px 2px rgba(0, 0, 0, 0.3));\n",
              "      fill: #FFFFFF;\n",
              "    }\n",
              "  </style>\n",
              "\n",
              "      <script>\n",
              "        const buttonEl =\n",
              "          document.querySelector('#df-8e8a1be2-0caa-40f3-ac2f-0c946a99bdba button.colab-df-convert');\n",
              "        buttonEl.style.display =\n",
              "          google.colab.kernel.accessAllowed ? 'block' : 'none';\n",
              "\n",
              "        async function convertToInteractive(key) {\n",
              "          const element = document.querySelector('#df-8e8a1be2-0caa-40f3-ac2f-0c946a99bdba');\n",
              "          const dataTable =\n",
              "            await google.colab.kernel.invokeFunction('convertToInteractive',\n",
              "                                                     [key], {});\n",
              "          if (!dataTable) return;\n",
              "\n",
              "          const docLinkHtml = 'Like what you see? Visit the ' +\n",
              "            '<a target=\"_blank\" href=https://colab.research.google.com/notebooks/data_table.ipynb>data table notebook</a>'\n",
              "            + ' to learn more about interactive tables.';\n",
              "          element.innerHTML = '';\n",
              "          dataTable['output_type'] = 'display_data';\n",
              "          await google.colab.output.renderOutput(dataTable, element);\n",
              "          const docLink = document.createElement('div');\n",
              "          docLink.innerHTML = docLinkHtml;\n",
              "          element.appendChild(docLink);\n",
              "        }\n",
              "      </script>\n",
              "    </div>\n",
              "  </div>\n",
              "  "
            ]
          },
          "metadata": {},
          "execution_count": 17
        }
      ],
      "source": [
        "data.tail()"
      ]
    },
    {
      "cell_type": "code",
      "execution_count": 51,
      "id": "3bb41259",
      "metadata": {
        "colab": {
          "base_uri": "https://localhost:8080/"
        },
        "id": "3bb41259",
        "outputId": "149dea46-e35d-4e65-ac89-9070fc4b61eb"
      },
      "outputs": [
        {
          "output_type": "execute_result",
          "data": {
            "text/plain": [
              "(4424, 37)"
            ]
          },
          "metadata": {},
          "execution_count": 51
        }
      ],
      "source": [
        "data.shape"
      ]
    },
    {
      "cell_type": "code",
      "execution_count": 18,
      "id": "7f1d4306",
      "metadata": {
        "colab": {
          "base_uri": "https://localhost:8080/"
        },
        "id": "7f1d4306",
        "outputId": "d1111273-ec63-4734-b0cb-c8ec4357cc97"
      },
      "outputs": [
        {
          "output_type": "execute_result",
          "data": {
            "text/plain": [
              "Marital status                                    0\n",
              "Application mode                                  0\n",
              "Application order                                 0\n",
              "Course                                            0\n",
              "Daytime/evening attendance                        0\n",
              "Previous qualification                            0\n",
              "Previous qualification (grade)                    0\n",
              "Nacionality                                       0\n",
              "Mother's qualification                            0\n",
              "Father's qualification                            0\n",
              "Mother's occupation                               0\n",
              "Father's occupation                               0\n",
              "Admission grade                                   0\n",
              "Displaced                                         0\n",
              "Educational special needs                         0\n",
              "Debtor                                            0\n",
              "Tuition fees up to date                           0\n",
              "Gender                                            0\n",
              "Scholarship holder                                0\n",
              "Age at enrollment                                 0\n",
              "International                                     0\n",
              "Curricular units 1st sem (credited)               0\n",
              "Curricular units 1st sem (enrolled)               0\n",
              "Curricular units 1st sem (evaluations)            0\n",
              "Curricular units 1st sem (approved)               0\n",
              "Curricular units 1st sem (grade)                  0\n",
              "Curricular units 1st sem (without evaluations)    0\n",
              "Curricular units 2nd sem (credited)               0\n",
              "Curricular units 2nd sem (enrolled)               0\n",
              "Curricular units 2nd sem (evaluations)            0\n",
              "Curricular units 2nd sem (approved)               0\n",
              "Curricular units 2nd sem (grade)                  0\n",
              "Curricular units 2nd sem (without evaluations)    0\n",
              "Unemployment rate                                 0\n",
              "Inflation rate                                    0\n",
              "GDP                                               0\n",
              "Target                                            0\n",
              "dtype: int64"
            ]
          },
          "metadata": {},
          "execution_count": 18
        }
      ],
      "source": [
        "#looking fo Nan Values\n",
        "data.isna().sum()"
      ]
    },
    {
      "cell_type": "code",
      "execution_count": 19,
      "id": "f214f670",
      "metadata": {
        "id": "f214f670"
      },
      "outputs": [],
      "source": [
        "#Modifiying Column names\n",
        "data.columns = list(map(lambda x: x.lower(), data.columns))\n",
        "data.columns = data.columns.str.replace(\" \",\"_\")\n",
        "data.columns = data.columns.str.replace(\"'s\",\"\")"
      ]
    },
    {
      "cell_type": "markdown",
      "id": "ce9785f1",
      "metadata": {
        "id": "ce9785f1"
      },
      "source": [
        "# Dividing Categorical and Numerical "
      ]
    },
    {
      "cell_type": "code",
      "execution_count": 20,
      "id": "d0df796d",
      "metadata": {
        "colab": {
          "base_uri": "https://localhost:8080/"
        },
        "id": "d0df796d",
        "outputId": "ce212255-2450-41a8-921c-1030c4280097"
      },
      "outputs": [
        {
          "output_type": "stream",
          "name": "stdout",
          "text": [
            "<class 'pandas.core.frame.DataFrame'>\n",
            "RangeIndex: 4424 entries, 0 to 4423\n",
            "Data columns (total 37 columns):\n",
            " #   Column                                          Non-Null Count  Dtype  \n",
            "---  ------                                          --------------  -----  \n",
            " 0   marital_status                                  4424 non-null   int64  \n",
            " 1   application_mode                                4424 non-null   int64  \n",
            " 2   application_order                               4424 non-null   int64  \n",
            " 3   course                                          4424 non-null   int64  \n",
            " 4   daytime/evening_attendance                      4424 non-null   int64  \n",
            " 5   previous_qualification                          4424 non-null   int64  \n",
            " 6   previous_qualification_(grade)                  4424 non-null   float64\n",
            " 7   nacionality                                     4424 non-null   int64  \n",
            " 8   mother_qualification                            4424 non-null   int64  \n",
            " 9   father_qualification                            4424 non-null   int64  \n",
            " 10  mother_occupation                               4424 non-null   int64  \n",
            " 11  father_occupation                               4424 non-null   int64  \n",
            " 12  admission_grade                                 4424 non-null   float64\n",
            " 13  displaced                                       4424 non-null   int64  \n",
            " 14  educational_special_needs                       4424 non-null   int64  \n",
            " 15  debtor                                          4424 non-null   int64  \n",
            " 16  tuition_fees_up_to_date                         4424 non-null   int64  \n",
            " 17  gender                                          4424 non-null   int64  \n",
            " 18  scholarship_holder                              4424 non-null   int64  \n",
            " 19  age_at_enrollment                               4424 non-null   int64  \n",
            " 20  international                                   4424 non-null   int64  \n",
            " 21  curricular_units_1st_sem_(credited)             4424 non-null   int64  \n",
            " 22  curricular_units_1st_sem_(enrolled)             4424 non-null   int64  \n",
            " 23  curricular_units_1st_sem_(evaluations)          4424 non-null   int64  \n",
            " 24  curricular_units_1st_sem_(approved)             4424 non-null   int64  \n",
            " 25  curricular_units_1st_sem_(grade)                4424 non-null   float64\n",
            " 26  curricular_units_1st_sem_(without_evaluations)  4424 non-null   int64  \n",
            " 27  curricular_units_2nd_sem_(credited)             4424 non-null   int64  \n",
            " 28  curricular_units_2nd_sem_(enrolled)             4424 non-null   int64  \n",
            " 29  curricular_units_2nd_sem_(evaluations)          4424 non-null   int64  \n",
            " 30  curricular_units_2nd_sem_(approved)             4424 non-null   int64  \n",
            " 31  curricular_units_2nd_sem_(grade)                4424 non-null   float64\n",
            " 32  curricular_units_2nd_sem_(without_evaluations)  4424 non-null   int64  \n",
            " 33  unemployment_rate                               4424 non-null   float64\n",
            " 34  inflation_rate                                  4424 non-null   float64\n",
            " 35  gdp                                             4424 non-null   float64\n",
            " 36  target                                          4424 non-null   object \n",
            "dtypes: float64(7), int64(29), object(1)\n",
            "memory usage: 1.2+ MB\n"
          ]
        }
      ],
      "source": [
        "data.info()"
      ]
    },
    {
      "cell_type": "code",
      "execution_count": 55,
      "id": "34c1dd95",
      "metadata": {
        "colab": {
          "base_uri": "https://localhost:8080/"
        },
        "id": "34c1dd95",
        "outputId": "3ff8ed88-61f5-43f4-c191-b8ceb448aef4"
      },
      "outputs": [
        {
          "output_type": "stream",
          "name": "stdout",
          "text": [
            "marital_status\n",
            "1                 3919\n",
            "2                  379\n",
            "4                   91\n",
            "5                   25\n",
            "6                    6\n",
            "3                    4\n",
            "dtype: int64\n",
            "**************************************************\n",
            "application_mode\n",
            "1                   1708\n",
            "17                   872\n",
            "39                   785\n",
            "43                   312\n",
            "44                   213\n",
            "7                    139\n",
            "18                   124\n",
            "42                    77\n",
            "51                    59\n",
            "16                    38\n",
            "53                    35\n",
            "15                    30\n",
            "5                     16\n",
            "10                    10\n",
            "2                      3\n",
            "26                     1\n",
            "27                     1\n",
            "57                     1\n",
            "dtype: int64\n",
            "**************************************************\n",
            "application_order\n",
            "1                    3026\n",
            "2                     547\n",
            "3                     309\n",
            "4                     249\n",
            "5                     154\n",
            "6                     137\n",
            "0                       1\n",
            "9                       1\n",
            "dtype: int64\n",
            "**************************************************\n",
            "course\n",
            "9500      766\n",
            "9147      380\n",
            "9238      355\n",
            "9085      337\n",
            "9773      331\n",
            "9670      268\n",
            "9991      268\n",
            "9254      252\n",
            "9070      226\n",
            "171       215\n",
            "8014      215\n",
            "9003      210\n",
            "9853      192\n",
            "9119      170\n",
            "9130      141\n",
            "9556       86\n",
            "33         12\n",
            "dtype: int64\n",
            "**************************************************\n",
            "daytime/evening_attendance\n",
            "1                             3941\n",
            "0                              483\n",
            "dtype: int64\n",
            "**************************************************\n",
            "previous_qualification\n",
            "1                         3717\n",
            "39                         219\n",
            "19                         162\n",
            "3                          126\n",
            "12                          45\n",
            "40                          40\n",
            "42                          36\n",
            "2                           23\n",
            "6                           16\n",
            "9                           11\n",
            "4                            8\n",
            "38                           7\n",
            "43                           6\n",
            "10                           4\n",
            "15                           2\n",
            "14                           1\n",
            "5                            1\n",
            "dtype: int64\n",
            "**************************************************\n",
            "previous_qualification_(grade)\n",
            "133.1                             491\n",
            "130.0                             375\n",
            "140.0                             336\n",
            "120.0                             278\n",
            "150.0                             162\n",
            "                                 ... \n",
            "119.1                               1\n",
            "118.9                               1\n",
            "117.4                               1\n",
            "97.0                                1\n",
            "138.6                               1\n",
            "Length: 101, dtype: int64\n",
            "**************************************************\n",
            "nacionality\n",
            "1              4314\n",
            "41               38\n",
            "26               14\n",
            "6                13\n",
            "22               13\n",
            "24                5\n",
            "11                3\n",
            "103               3\n",
            "100               3\n",
            "105               2\n",
            "101               2\n",
            "62                2\n",
            "25                2\n",
            "2                 2\n",
            "21                2\n",
            "32                1\n",
            "17                1\n",
            "14                1\n",
            "13                1\n",
            "108               1\n",
            "109               1\n",
            "dtype: int64\n",
            "**************************************************\n",
            "mother_qualification\n",
            "1                       1069\n",
            "37                      1009\n",
            "19                       953\n",
            "38                       562\n",
            "3                        438\n",
            "34                       130\n",
            "2                         83\n",
            "4                         49\n",
            "12                        42\n",
            "5                         21\n",
            "40                         9\n",
            "39                         8\n",
            "9                          8\n",
            "41                         6\n",
            "43                         4\n",
            "6                          4\n",
            "42                         4\n",
            "11                         3\n",
            "29                         3\n",
            "30                         3\n",
            "10                         3\n",
            "35                         3\n",
            "36                         3\n",
            "14                         2\n",
            "26                         1\n",
            "27                         1\n",
            "22                         1\n",
            "18                         1\n",
            "44                         1\n",
            "dtype: int64\n",
            "**************************************************\n",
            "father_qualification\n",
            "37                      1209\n",
            "19                       968\n",
            "1                        904\n",
            "38                       702\n",
            "3                        282\n",
            "34                       112\n",
            "2                         68\n",
            "4                         39\n",
            "12                        38\n",
            "39                        20\n",
            "5                         18\n",
            "11                        10\n",
            "36                         8\n",
            "9                          5\n",
            "40                         5\n",
            "30                         4\n",
            "14                         4\n",
            "22                         4\n",
            "29                         3\n",
            "41                         2\n",
            "43                         2\n",
            "35                         2\n",
            "26                         2\n",
            "10                         2\n",
            "6                          2\n",
            "33                         1\n",
            "31                         1\n",
            "27                         1\n",
            "25                         1\n",
            "20                         1\n",
            "18                         1\n",
            "13                         1\n",
            "42                         1\n",
            "44                         1\n",
            "dtype: int64\n",
            "**************************************************\n",
            "mother_occupation\n",
            "9                    1577\n",
            "4                     817\n",
            "5                     530\n",
            "3                     351\n",
            "2                     318\n",
            "7                     272\n",
            "0                     144\n",
            "1                     102\n",
            "6                      91\n",
            "90                     70\n",
            "8                      36\n",
            "191                    26\n",
            "99                     17\n",
            "194                    11\n",
            "141                     8\n",
            "123                     7\n",
            "144                     6\n",
            "175                     5\n",
            "192                     5\n",
            "193                     4\n",
            "134                     4\n",
            "10                      4\n",
            "132                     3\n",
            "143                     3\n",
            "151                     3\n",
            "152                     2\n",
            "153                     2\n",
            "122                     2\n",
            "173                     1\n",
            "171                     1\n",
            "125                     1\n",
            "131                     1\n",
            "dtype: int64\n",
            "**************************************************\n",
            "father_occupation\n",
            "9                    1010\n",
            "7                     666\n",
            "5                     516\n",
            "4                     386\n",
            "3                     384\n",
            "8                     318\n",
            "10                    266\n",
            "6                     242\n",
            "2                     197\n",
            "1                     134\n",
            "0                     128\n",
            "90                     65\n",
            "99                     19\n",
            "193                    15\n",
            "144                     8\n",
            "171                     8\n",
            "192                     6\n",
            "163                     5\n",
            "103                     4\n",
            "175                     4\n",
            "152                     3\n",
            "135                     3\n",
            "181                     3\n",
            "183                     3\n",
            "123                     3\n",
            "102                     2\n",
            "182                     2\n",
            "194                     2\n",
            "151                     2\n",
            "122                     2\n",
            "172                     2\n",
            "112                     2\n",
            "174                     1\n",
            "132                     1\n",
            "161                     1\n",
            "154                     1\n",
            "153                     1\n",
            "143                     1\n",
            "141                     1\n",
            "134                     1\n",
            "131                     1\n",
            "124                     1\n",
            "121                     1\n",
            "114                     1\n",
            "101                     1\n",
            "195                     1\n",
            "dtype: int64\n",
            "**************************************************\n",
            "admission_grade\n",
            "130.0              162\n",
            "140.0              153\n",
            "120.0              145\n",
            "100.0              116\n",
            "150.0               81\n",
            "                  ... \n",
            "107.6                1\n",
            "151.2                1\n",
            "97.4                 1\n",
            "151.5                1\n",
            "138.2                1\n",
            "Length: 620, dtype: int64\n",
            "**************************************************\n",
            "displaced\n",
            "1            2426\n",
            "0            1998\n",
            "dtype: int64\n",
            "**************************************************\n",
            "educational_special_needs\n",
            "0                            4373\n",
            "1                              51\n",
            "dtype: int64\n",
            "**************************************************\n",
            "debtor\n",
            "0         3921\n",
            "1          503\n",
            "dtype: int64\n",
            "**************************************************\n",
            "tuition_fees_up_to_date\n",
            "1                          3896\n",
            "0                           528\n",
            "dtype: int64\n",
            "**************************************************\n",
            "gender\n",
            "0         2868\n",
            "1         1556\n",
            "dtype: int64\n",
            "**************************************************\n",
            "scholarship_holder\n",
            "0                     3325\n",
            "1                     1099\n",
            "dtype: int64\n",
            "**************************************************\n",
            "age_at_enrollment\n",
            "18                   1036\n",
            "19                    911\n",
            "20                    599\n",
            "21                    322\n",
            "22                    174\n",
            "24                    131\n",
            "23                    108\n",
            "26                     94\n",
            "25                     93\n",
            "27                     91\n",
            "28                     83\n",
            "29                     66\n",
            "32                     61\n",
            "34                     60\n",
            "31                     55\n",
            "30                     49\n",
            "35                     49\n",
            "33                     45\n",
            "37                     42\n",
            "39                     38\n",
            "36                     35\n",
            "41                     31\n",
            "38                     29\n",
            "43                     25\n",
            "40                     23\n",
            "45                     22\n",
            "44                     21\n",
            "47                     18\n",
            "50                     16\n",
            "42                     13\n",
            "49                     13\n",
            "46                     12\n",
            "48                     11\n",
            "54                      7\n",
            "51                      7\n",
            "53                      7\n",
            "55                      5\n",
            "17                      5\n",
            "52                      4\n",
            "58                      3\n",
            "59                      3\n",
            "57                      2\n",
            "60                      2\n",
            "61                      1\n",
            "62                      1\n",
            "70                      1\n",
            "dtype: int64\n",
            "**************************************************\n",
            "international\n",
            "0                4314\n",
            "1                 110\n",
            "dtype: int64\n",
            "**************************************************\n",
            "curricular_units_1st_sem_(credited)\n",
            "0                                      3847\n",
            "2                                        94\n",
            "1                                        85\n",
            "3                                        69\n",
            "6                                        51\n",
            "4                                        47\n",
            "5                                        41\n",
            "7                                        41\n",
            "8                                        31\n",
            "9                                        27\n",
            "11                                       17\n",
            "14                                       15\n",
            "10                                       15\n",
            "13                                       13\n",
            "12                                       12\n",
            "15                                        5\n",
            "18                                        4\n",
            "16                                        3\n",
            "17                                        3\n",
            "19                                        2\n",
            "20                                        2\n",
            "dtype: int64\n",
            "**************************************************\n",
            "curricular_units_1st_sem_(enrolled)\n",
            "6                                      1910\n",
            "5                                      1010\n",
            "7                                       656\n",
            "8                                       296\n",
            "0                                       180\n",
            "12                                       66\n",
            "10                                       52\n",
            "11                                       45\n",
            "9                                        36\n",
            "15                                       25\n",
            "14                                       22\n",
            "4                                        21\n",
            "13                                       20\n",
            "18                                       19\n",
            "17                                       16\n",
            "16                                       13\n",
            "3                                        10\n",
            "2                                         9\n",
            "1                                         7\n",
            "21                                        6\n",
            "19                                        2\n",
            "23                                        2\n",
            "26                                        1\n",
            "dtype: int64\n",
            "**************************************************\n",
            "curricular_units_1st_sem_(evaluations)\n",
            "8                                         791\n",
            "7                                         703\n",
            "6                                         598\n",
            "9                                         402\n",
            "0                                         349\n",
            "10                                        340\n",
            "11                                        239\n",
            "12                                        223\n",
            "5                                         220\n",
            "13                                        140\n",
            "14                                        105\n",
            "15                                         70\n",
            "16                                         47\n",
            "17                                         33\n",
            "18                                         30\n",
            "19                                         23\n",
            "4                                          19\n",
            "21                                         17\n",
            "20                                         12\n",
            "22                                         10\n",
            "23                                          9\n",
            "2                                           8\n",
            "3                                           6\n",
            "24                                          6\n",
            "1                                           6\n",
            "26                                          4\n",
            "25                                          3\n",
            "27                                          2\n",
            "29                                          2\n",
            "45                                          2\n",
            "28                                          1\n",
            "31                                          1\n",
            "32                                          1\n",
            "33                                          1\n",
            "36                                          1\n",
            "dtype: int64\n",
            "**************************************************\n",
            "curricular_units_1st_sem_(approved)\n",
            "6                                      1171\n",
            "5                                       723\n",
            "0                                       718\n",
            "7                                       471\n",
            "4                                       433\n",
            "3                                       269\n",
            "2                                       160\n",
            "1                                       127\n",
            "8                                       108\n",
            "11                                       49\n",
            "12                                       44\n",
            "9                                        40\n",
            "13                                       26\n",
            "10                                       24\n",
            "18                                       15\n",
            "14                                       14\n",
            "17                                       10\n",
            "15                                        7\n",
            "16                                        5\n",
            "21                                        4\n",
            "20                                        3\n",
            "19                                        2\n",
            "26                                        1\n",
            "dtype: int64\n",
            "**************************************************\n",
            "curricular_units_1st_sem_(grade)\n",
            "0.000000                            718\n",
            "12.000000                           205\n",
            "13.000000                           147\n",
            "11.000000                           138\n",
            "11.500000                            89\n",
            "                                   ... \n",
            "13.071429                             1\n",
            "13.072857                             1\n",
            "13.073750                             1\n",
            "13.075714                             1\n",
            "18.875000                             1\n",
            "Length: 797, dtype: int64\n",
            "**************************************************\n",
            "curricular_units_1st_sem_(without_evaluations)\n",
            "0                                                 4130\n",
            "1                                                  153\n",
            "2                                                   79\n",
            "3                                                   23\n",
            "4                                                   15\n",
            "6                                                    6\n",
            "7                                                    6\n",
            "5                                                    5\n",
            "8                                                    4\n",
            "12                                                   2\n",
            "10                                                   1\n",
            "dtype: int64\n",
            "**************************************************\n",
            "curricular_units_2nd_sem_(credited)\n",
            "0                                      3894\n",
            "1                                       107\n",
            "2                                        92\n",
            "4                                        78\n",
            "5                                        68\n",
            "3                                        49\n",
            "6                                        26\n",
            "11                                       20\n",
            "7                                        16\n",
            "9                                        15\n",
            "12                                       14\n",
            "10                                       13\n",
            "8                                        12\n",
            "13                                        9\n",
            "14                                        4\n",
            "15                                        2\n",
            "16                                        2\n",
            "18                                        2\n",
            "19                                        1\n",
            "dtype: int64\n",
            "**************************************************\n",
            "curricular_units_2nd_sem_(enrolled)\n",
            "6                                      1913\n",
            "5                                      1054\n",
            "8                                       661\n",
            "7                                       304\n",
            "0                                       180\n",
            "11                                       60\n",
            "9                                        50\n",
            "10                                       48\n",
            "12                                       44\n",
            "13                                       37\n",
            "14                                       22\n",
            "4                                        17\n",
            "17                                       12\n",
            "2                                         5\n",
            "3                                         3\n",
            "1                                         3\n",
            "19                                        3\n",
            "15                                        2\n",
            "18                                        2\n",
            "23                                        2\n",
            "16                                        1\n",
            "21                                        1\n",
            "dtype: int64\n",
            "**************************************************\n",
            "curricular_units_2nd_sem_(evaluations)\n",
            "8                                         792\n",
            "6                                         614\n",
            "7                                         563\n",
            "9                                         456\n",
            "0                                         401\n",
            "10                                        355\n",
            "5                                         288\n",
            "11                                        255\n",
            "12                                        226\n",
            "13                                        126\n",
            "14                                         98\n",
            "15                                         73\n",
            "16                                         49\n",
            "17                                         25\n",
            "18                                         22\n",
            "19                                         19\n",
            "4                                          10\n",
            "22                                         10\n",
            "21                                         10\n",
            "20                                          8\n",
            "2                                           4\n",
            "23                                          4\n",
            "1                                           3\n",
            "24                                          3\n",
            "26                                          3\n",
            "3                                           2\n",
            "27                                          2\n",
            "25                                          1\n",
            "28                                          1\n",
            "33                                          1\n",
            "dtype: int64\n",
            "**************************************************\n",
            "curricular_units_2nd_sem_(approved)\n",
            "6                                      965\n",
            "0                                      870\n",
            "5                                      726\n",
            "4                                      414\n",
            "7                                      331\n",
            "8                                      321\n",
            "3                                      285\n",
            "2                                      198\n",
            "1                                      114\n",
            "11                                      48\n",
            "10                                      38\n",
            "9                                       36\n",
            "12                                      34\n",
            "13                                      21\n",
            "17                                       8\n",
            "14                                       6\n",
            "19                                       3\n",
            "16                                       2\n",
            "18                                       2\n",
            "20                                       2\n",
            "dtype: int64\n",
            "**************************************************\n",
            "curricular_units_2nd_sem_(grade)\n",
            "0.000000                            870\n",
            "12.000000                           170\n",
            "11.000000                           165\n",
            "13.000000                           150\n",
            "11.500000                            86\n",
            "                                   ... \n",
            "13.053750                             1\n",
            "13.058571                             1\n",
            "13.058750                             1\n",
            "13.063636                             1\n",
            "18.571429                             1\n",
            "Length: 782, dtype: int64\n",
            "**************************************************\n",
            "curricular_units_2nd_sem_(without_evaluations)\n",
            "0                                                 4142\n",
            "1                                                  140\n",
            "2                                                   48\n",
            "3                                                   35\n",
            "4                                                   21\n",
            "5                                                   17\n",
            "6                                                    8\n",
            "8                                                    6\n",
            "7                                                    5\n",
            "12                                                   2\n",
            "dtype: int64\n",
            "**************************************************\n",
            "unemployment_rate\n",
            "7.6                  571\n",
            "9.4                  533\n",
            "10.8                 525\n",
            "12.4                 445\n",
            "12.7                 419\n",
            "11.1                 414\n",
            "15.5                 397\n",
            "13.9                 390\n",
            "8.9                  368\n",
            "16.2                 362\n",
            "dtype: int64\n",
            "**************************************************\n",
            "inflation_rate\n",
            " 1.4              893\n",
            " 2.6              571\n",
            "-0.8              533\n",
            " 0.5              445\n",
            " 3.7              419\n",
            " 0.6              414\n",
            " 2.8              397\n",
            "-0.3              390\n",
            " 0.3              362\n",
            "dtype: int64\n",
            "**************************************************\n",
            "gdp  \n",
            " 0.32    571\n",
            "-3.12    533\n",
            " 1.74    525\n",
            " 1.79    445\n",
            "-1.70    419\n",
            " 2.02    414\n",
            "-4.06    397\n",
            " 0.79    390\n",
            " 3.51    368\n",
            "-0.92    362\n",
            "dtype: int64\n",
            "**************************************************\n",
            "target  \n",
            "Graduate    3003\n",
            "Dropout     1421\n",
            "dtype: int64\n",
            "**************************************************\n"
          ]
        }
      ],
      "source": [
        "# find out the number of value for each fild based on the meta data of data base most of these features are Categorical Nominal\n",
        "for i in range (len(data.columns)):\n",
        "    print(data.iloc[:,[i]].value_counts())\n",
        "    print('*'*50)\n"
      ]
    },
    {
      "cell_type": "markdown",
      "id": "cb6b646c",
      "metadata": {
        "id": "cb6b646c"
      },
      "source": [
        "''' \n",
        "Based On EXploring data These features are numercial \n",
        "gdp\n",
        "inflation_rate,\n",
        "unemployment_rate,\n",
        "curricular_units_2nd_sem_(without_evaluations\n",
        "curricular_units_2nd_sem_(grade)\n",
        "curricular_units_2nd_sem_(approved)\n",
        "curricular_units_2nd_sem_(evaluations)\n",
        "curricular_units_2nd_sem_(enrolled)\n",
        "curricular_units_2nd_sem_(credited)\n",
        "curricular_units_1st_sem_(without_evaluations)\n",
        "curricular_units_1st_sem_(without_evaluations)\n",
        "curricular_units_1st_sem_(grade)\n",
        "curricular_units_1st_sem_(approved)\n",
        "curricular_units_1st_sem_(evaluations)\n",
        "curricular_units_1st_sem_(enrolled)\n",
        "curricular_units_1st_sem_(credited)\n",
        "age_at_enrollment\n",
        "admission_grade\n",
        "previous_qualification_(grade)\n",
        "previous_qualification"
      ]
    },
    {
      "cell_type": "code",
      "execution_count": 56,
      "id": "2b338161",
      "metadata": {
        "colab": {
          "base_uri": "https://localhost:8080/"
        },
        "id": "2b338161",
        "outputId": "39745553-ecec-4bbd-c75a-949073499aee"
      },
      "outputs": [
        {
          "output_type": "execute_result",
          "data": {
            "text/plain": [
              "Index(['marital_status', 'application_mode', 'application_order', 'course',\n",
              "       'daytime/evening_attendance', 'previous_qualification',\n",
              "       'previous_qualification_(grade)', 'nacionality', 'mother_qualification',\n",
              "       'father_qualification', 'mother_occupation', 'father_occupation',\n",
              "       'admission_grade', 'displaced', 'educational_special_needs', 'debtor',\n",
              "       'tuition_fees_up_to_date', 'gender', 'scholarship_holder',\n",
              "       'age_at_enrollment', 'international',\n",
              "       'curricular_units_1st_sem_(credited)',\n",
              "       'curricular_units_1st_sem_(enrolled)',\n",
              "       'curricular_units_1st_sem_(evaluations)',\n",
              "       'curricular_units_1st_sem_(approved)',\n",
              "       'curricular_units_1st_sem_(grade)',\n",
              "       'curricular_units_1st_sem_(without_evaluations)',\n",
              "       'curricular_units_2nd_sem_(credited)',\n",
              "       'curricular_units_2nd_sem_(enrolled)',\n",
              "       'curricular_units_2nd_sem_(evaluations)',\n",
              "       'curricular_units_2nd_sem_(approved)',\n",
              "       'curricular_units_2nd_sem_(grade)',\n",
              "       'curricular_units_2nd_sem_(without_evaluations)', 'unemployment_rate',\n",
              "       'inflation_rate', 'gdp', 'target'],\n",
              "      dtype='object')"
            ]
          },
          "metadata": {},
          "execution_count": 56
        }
      ],
      "source": [
        "data.columns"
      ]
    },
    {
      "cell_type": "code",
      "execution_count": 21,
      "id": "1cbe6de1",
      "metadata": {
        "id": "1cbe6de1"
      },
      "outputs": [],
      "source": [
        "# Change Type of Others to Objects\n",
        "data[['marital_status', 'application_mode', 'application_order', 'course',\n",
        "       'daytime/evening_attendance','nacionality', 'mother_qualification',\n",
        "       'father_qualification', 'mother_occupation', 'father_occupation',\n",
        "        'displaced', 'educational_special_needs', 'debtor','tuition_fees_up_to_date',\n",
        "        'gender', 'scholarship_holder', 'international']] = data[['marital_status', 'application_mode', 'application_order', 'course',\n",
        "       'daytime/evening_attendance','nacionality', 'mother_qualification',\n",
        "       'father_qualification', 'mother_occupation', 'father_occupation',\n",
        "        'displaced', 'educational_special_needs', 'debtor','tuition_fees_up_to_date',\n",
        "        'gender', 'scholarship_holder', 'international']].astype('object')\n"
      ]
    },
    {
      "cell_type": "code",
      "execution_count": 22,
      "id": "8d00cea3",
      "metadata": {
        "colab": {
          "base_uri": "https://localhost:8080/"
        },
        "id": "8d00cea3",
        "outputId": "9303823c-49e0-4b05-8fe2-2390e2fffdb8"
      },
      "outputs": [
        {
          "output_type": "stream",
          "name": "stdout",
          "text": [
            "<class 'pandas.core.frame.DataFrame'>\n",
            "RangeIndex: 4424 entries, 0 to 4423\n",
            "Data columns (total 37 columns):\n",
            " #   Column                                          Non-Null Count  Dtype  \n",
            "---  ------                                          --------------  -----  \n",
            " 0   marital_status                                  4424 non-null   object \n",
            " 1   application_mode                                4424 non-null   object \n",
            " 2   application_order                               4424 non-null   object \n",
            " 3   course                                          4424 non-null   object \n",
            " 4   daytime/evening_attendance                      4424 non-null   object \n",
            " 5   previous_qualification                          4424 non-null   int64  \n",
            " 6   previous_qualification_(grade)                  4424 non-null   float64\n",
            " 7   nacionality                                     4424 non-null   object \n",
            " 8   mother_qualification                            4424 non-null   object \n",
            " 9   father_qualification                            4424 non-null   object \n",
            " 10  mother_occupation                               4424 non-null   object \n",
            " 11  father_occupation                               4424 non-null   object \n",
            " 12  admission_grade                                 4424 non-null   float64\n",
            " 13  displaced                                       4424 non-null   object \n",
            " 14  educational_special_needs                       4424 non-null   object \n",
            " 15  debtor                                          4424 non-null   object \n",
            " 16  tuition_fees_up_to_date                         4424 non-null   object \n",
            " 17  gender                                          4424 non-null   object \n",
            " 18  scholarship_holder                              4424 non-null   object \n",
            " 19  age_at_enrollment                               4424 non-null   int64  \n",
            " 20  international                                   4424 non-null   object \n",
            " 21  curricular_units_1st_sem_(credited)             4424 non-null   int64  \n",
            " 22  curricular_units_1st_sem_(enrolled)             4424 non-null   int64  \n",
            " 23  curricular_units_1st_sem_(evaluations)          4424 non-null   int64  \n",
            " 24  curricular_units_1st_sem_(approved)             4424 non-null   int64  \n",
            " 25  curricular_units_1st_sem_(grade)                4424 non-null   float64\n",
            " 26  curricular_units_1st_sem_(without_evaluations)  4424 non-null   int64  \n",
            " 27  curricular_units_2nd_sem_(credited)             4424 non-null   int64  \n",
            " 28  curricular_units_2nd_sem_(enrolled)             4424 non-null   int64  \n",
            " 29  curricular_units_2nd_sem_(evaluations)          4424 non-null   int64  \n",
            " 30  curricular_units_2nd_sem_(approved)             4424 non-null   int64  \n",
            " 31  curricular_units_2nd_sem_(grade)                4424 non-null   float64\n",
            " 32  curricular_units_2nd_sem_(without_evaluations)  4424 non-null   int64  \n",
            " 33  unemployment_rate                               4424 non-null   float64\n",
            " 34  inflation_rate                                  4424 non-null   float64\n",
            " 35  gdp                                             4424 non-null   float64\n",
            " 36  target                                          4424 non-null   object \n",
            "dtypes: float64(7), int64(12), object(18)\n",
            "memory usage: 1.2+ MB\n"
          ]
        }
      ],
      "source": [
        "data.info()"
      ]
    },
    {
      "cell_type": "markdown",
      "id": "d711db02",
      "metadata": {
        "id": "d711db02"
      },
      "source": [
        "# Divide Numercial and Categorical"
      ]
    },
    {
      "cell_type": "code",
      "execution_count": 24,
      "id": "ea5d1339",
      "metadata": {
        "id": "ea5d1339"
      },
      "outputs": [],
      "source": [
        "num=data.select_dtypes(np.number)\n",
        "cat=data.select_dtypes('object')\n"
      ]
    },
    {
      "cell_type": "code",
      "execution_count": 25,
      "id": "aca3d547",
      "metadata": {
        "colab": {
          "base_uri": "https://localhost:8080/"
        },
        "id": "aca3d547",
        "outputId": "6aac0429-4d85-4e8f-ef69-4b55492dbd61"
      },
      "outputs": [
        {
          "output_type": "execute_result",
          "data": {
            "text/plain": [
              "(4424, 19)"
            ]
          },
          "metadata": {},
          "execution_count": 25
        }
      ],
      "source": [
        "num.shape"
      ]
    },
    {
      "cell_type": "code",
      "execution_count": 26,
      "id": "3ba130e2",
      "metadata": {
        "colab": {
          "base_uri": "https://localhost:8080/"
        },
        "id": "3ba130e2",
        "outputId": "c08d8c21-7856-4263-b265-07f722662427"
      },
      "outputs": [
        {
          "output_type": "execute_result",
          "data": {
            "text/plain": [
              "(4424, 18)"
            ]
          },
          "metadata": {},
          "execution_count": 26
        }
      ],
      "source": [
        "cat.shape"
      ]
    },
    {
      "cell_type": "code",
      "execution_count": 27,
      "id": "384ddd75",
      "metadata": {
        "colab": {
          "base_uri": "https://localhost:8080/"
        },
        "id": "384ddd75",
        "outputId": "3442f3e2-6541-4d9a-ef2d-708c01a67c66"
      },
      "outputs": [
        {
          "output_type": "execute_result",
          "data": {
            "text/plain": [
              "['previous_qualification',\n",
              " 'previous_qualification_(grade)',\n",
              " 'admission_grade',\n",
              " 'age_at_enrollment',\n",
              " 'curricular_units_1st_sem_(credited)',\n",
              " 'curricular_units_1st_sem_(enrolled)',\n",
              " 'curricular_units_1st_sem_(evaluations)',\n",
              " 'curricular_units_1st_sem_(approved)',\n",
              " 'curricular_units_1st_sem_(grade)',\n",
              " 'curricular_units_1st_sem_(without_evaluations)',\n",
              " 'curricular_units_2nd_sem_(credited)',\n",
              " 'curricular_units_2nd_sem_(enrolled)',\n",
              " 'curricular_units_2nd_sem_(evaluations)',\n",
              " 'curricular_units_2nd_sem_(approved)',\n",
              " 'curricular_units_2nd_sem_(grade)',\n",
              " 'curricular_units_2nd_sem_(without_evaluations)',\n",
              " 'unemployment_rate',\n",
              " 'inflation_rate',\n",
              " 'gdp']"
            ]
          },
          "metadata": {},
          "execution_count": 27
        }
      ],
      "source": [
        "list(num.columns)"
      ]
    },
    {
      "cell_type": "markdown",
      "id": "9c545692",
      "metadata": {
        "id": "9c545692"
      },
      "source": [
        "# Numericals"
      ]
    },
    {
      "cell_type": "markdown",
      "id": "5d73c38f",
      "metadata": {
        "id": "5d73c38f"
      },
      "source": [
        "## Find Multicollinearity in Numricals"
      ]
    },
    {
      "cell_type": "code",
      "execution_count": 28,
      "id": "85d48cfa",
      "metadata": {
        "scrolled": true,
        "colab": {
          "base_uri": "https://localhost:8080/",
          "height": 645
        },
        "id": "85d48cfa",
        "outputId": "a34e8781-d9f9-4fa0-e23e-9414df562dcc"
      },
      "outputs": [
        {
          "output_type": "execute_result",
          "data": {
            "text/plain": [
              "                                          Variable        VIF\n",
              "5              curricular_units_1st_sem_(enrolled)  23.528216\n",
              "11             curricular_units_2nd_sem_(enrolled)  16.442303\n",
              "4              curricular_units_1st_sem_(credited)  15.747238\n",
              "7              curricular_units_1st_sem_(approved)  12.676006\n",
              "10             curricular_units_2nd_sem_(credited)  12.399341\n",
              "13             curricular_units_2nd_sem_(approved)  10.154983\n",
              "14                curricular_units_2nd_sem_(grade)   5.479099\n",
              "8                 curricular_units_1st_sem_(grade)   4.980663\n",
              "6           curricular_units_1st_sem_(evaluations)   3.976740\n",
              "12          curricular_units_2nd_sem_(evaluations)   3.330090\n",
              "9   curricular_units_1st_sem_(without_evaluations)   1.677949\n",
              "2                                  admission_grade   1.603092\n",
              "15  curricular_units_2nd_sem_(without_evaluations)   1.570265\n",
              "1                   previous_qualification_(grade)   1.544868\n",
              "18                                             gdp   1.232509\n",
              "16                               unemployment_rate   1.201697\n",
              "3                                age_at_enrollment   1.188995\n",
              "0                           previous_qualification   1.159033\n",
              "17                                  inflation_rate   1.038828"
            ],
            "text/html": [
              "\n",
              "  <div id=\"df-d08105e7-2117-44db-9011-c0e6d49117ab\">\n",
              "    <div class=\"colab-df-container\">\n",
              "      <div>\n",
              "<style scoped>\n",
              "    .dataframe tbody tr th:only-of-type {\n",
              "        vertical-align: middle;\n",
              "    }\n",
              "\n",
              "    .dataframe tbody tr th {\n",
              "        vertical-align: top;\n",
              "    }\n",
              "\n",
              "    .dataframe thead th {\n",
              "        text-align: right;\n",
              "    }\n",
              "</style>\n",
              "<table border=\"1\" class=\"dataframe\">\n",
              "  <thead>\n",
              "    <tr style=\"text-align: right;\">\n",
              "      <th></th>\n",
              "      <th>Variable</th>\n",
              "      <th>VIF</th>\n",
              "    </tr>\n",
              "  </thead>\n",
              "  <tbody>\n",
              "    <tr>\n",
              "      <th>5</th>\n",
              "      <td>curricular_units_1st_sem_(enrolled)</td>\n",
              "      <td>23.528216</td>\n",
              "    </tr>\n",
              "    <tr>\n",
              "      <th>11</th>\n",
              "      <td>curricular_units_2nd_sem_(enrolled)</td>\n",
              "      <td>16.442303</td>\n",
              "    </tr>\n",
              "    <tr>\n",
              "      <th>4</th>\n",
              "      <td>curricular_units_1st_sem_(credited)</td>\n",
              "      <td>15.747238</td>\n",
              "    </tr>\n",
              "    <tr>\n",
              "      <th>7</th>\n",
              "      <td>curricular_units_1st_sem_(approved)</td>\n",
              "      <td>12.676006</td>\n",
              "    </tr>\n",
              "    <tr>\n",
              "      <th>10</th>\n",
              "      <td>curricular_units_2nd_sem_(credited)</td>\n",
              "      <td>12.399341</td>\n",
              "    </tr>\n",
              "    <tr>\n",
              "      <th>13</th>\n",
              "      <td>curricular_units_2nd_sem_(approved)</td>\n",
              "      <td>10.154983</td>\n",
              "    </tr>\n",
              "    <tr>\n",
              "      <th>14</th>\n",
              "      <td>curricular_units_2nd_sem_(grade)</td>\n",
              "      <td>5.479099</td>\n",
              "    </tr>\n",
              "    <tr>\n",
              "      <th>8</th>\n",
              "      <td>curricular_units_1st_sem_(grade)</td>\n",
              "      <td>4.980663</td>\n",
              "    </tr>\n",
              "    <tr>\n",
              "      <th>6</th>\n",
              "      <td>curricular_units_1st_sem_(evaluations)</td>\n",
              "      <td>3.976740</td>\n",
              "    </tr>\n",
              "    <tr>\n",
              "      <th>12</th>\n",
              "      <td>curricular_units_2nd_sem_(evaluations)</td>\n",
              "      <td>3.330090</td>\n",
              "    </tr>\n",
              "    <tr>\n",
              "      <th>9</th>\n",
              "      <td>curricular_units_1st_sem_(without_evaluations)</td>\n",
              "      <td>1.677949</td>\n",
              "    </tr>\n",
              "    <tr>\n",
              "      <th>2</th>\n",
              "      <td>admission_grade</td>\n",
              "      <td>1.603092</td>\n",
              "    </tr>\n",
              "    <tr>\n",
              "      <th>15</th>\n",
              "      <td>curricular_units_2nd_sem_(without_evaluations)</td>\n",
              "      <td>1.570265</td>\n",
              "    </tr>\n",
              "    <tr>\n",
              "      <th>1</th>\n",
              "      <td>previous_qualification_(grade)</td>\n",
              "      <td>1.544868</td>\n",
              "    </tr>\n",
              "    <tr>\n",
              "      <th>18</th>\n",
              "      <td>gdp</td>\n",
              "      <td>1.232509</td>\n",
              "    </tr>\n",
              "    <tr>\n",
              "      <th>16</th>\n",
              "      <td>unemployment_rate</td>\n",
              "      <td>1.201697</td>\n",
              "    </tr>\n",
              "    <tr>\n",
              "      <th>3</th>\n",
              "      <td>age_at_enrollment</td>\n",
              "      <td>1.188995</td>\n",
              "    </tr>\n",
              "    <tr>\n",
              "      <th>0</th>\n",
              "      <td>previous_qualification</td>\n",
              "      <td>1.159033</td>\n",
              "    </tr>\n",
              "    <tr>\n",
              "      <th>17</th>\n",
              "      <td>inflation_rate</td>\n",
              "      <td>1.038828</td>\n",
              "    </tr>\n",
              "  </tbody>\n",
              "</table>\n",
              "</div>\n",
              "      <button class=\"colab-df-convert\" onclick=\"convertToInteractive('df-d08105e7-2117-44db-9011-c0e6d49117ab')\"\n",
              "              title=\"Convert this dataframe to an interactive table.\"\n",
              "              style=\"display:none;\">\n",
              "        \n",
              "  <svg xmlns=\"http://www.w3.org/2000/svg\" height=\"24px\"viewBox=\"0 0 24 24\"\n",
              "       width=\"24px\">\n",
              "    <path d=\"M0 0h24v24H0V0z\" fill=\"none\"/>\n",
              "    <path d=\"M18.56 5.44l.94 2.06.94-2.06 2.06-.94-2.06-.94-.94-2.06-.94 2.06-2.06.94zm-11 1L8.5 8.5l.94-2.06 2.06-.94-2.06-.94L8.5 2.5l-.94 2.06-2.06.94zm10 10l.94 2.06.94-2.06 2.06-.94-2.06-.94-.94-2.06-.94 2.06-2.06.94z\"/><path d=\"M17.41 7.96l-1.37-1.37c-.4-.4-.92-.59-1.43-.59-.52 0-1.04.2-1.43.59L10.3 9.45l-7.72 7.72c-.78.78-.78 2.05 0 2.83L4 21.41c.39.39.9.59 1.41.59.51 0 1.02-.2 1.41-.59l7.78-7.78 2.81-2.81c.8-.78.8-2.07 0-2.86zM5.41 20L4 18.59l7.72-7.72 1.47 1.35L5.41 20z\"/>\n",
              "  </svg>\n",
              "      </button>\n",
              "      \n",
              "  <style>\n",
              "    .colab-df-container {\n",
              "      display:flex;\n",
              "      flex-wrap:wrap;\n",
              "      gap: 12px;\n",
              "    }\n",
              "\n",
              "    .colab-df-convert {\n",
              "      background-color: #E8F0FE;\n",
              "      border: none;\n",
              "      border-radius: 50%;\n",
              "      cursor: pointer;\n",
              "      display: none;\n",
              "      fill: #1967D2;\n",
              "      height: 32px;\n",
              "      padding: 0 0 0 0;\n",
              "      width: 32px;\n",
              "    }\n",
              "\n",
              "    .colab-df-convert:hover {\n",
              "      background-color: #E2EBFA;\n",
              "      box-shadow: 0px 1px 2px rgba(60, 64, 67, 0.3), 0px 1px 3px 1px rgba(60, 64, 67, 0.15);\n",
              "      fill: #174EA6;\n",
              "    }\n",
              "\n",
              "    [theme=dark] .colab-df-convert {\n",
              "      background-color: #3B4455;\n",
              "      fill: #D2E3FC;\n",
              "    }\n",
              "\n",
              "    [theme=dark] .colab-df-convert:hover {\n",
              "      background-color: #434B5C;\n",
              "      box-shadow: 0px 1px 3px 1px rgba(0, 0, 0, 0.15);\n",
              "      filter: drop-shadow(0px 1px 2px rgba(0, 0, 0, 0.3));\n",
              "      fill: #FFFFFF;\n",
              "    }\n",
              "  </style>\n",
              "\n",
              "      <script>\n",
              "        const buttonEl =\n",
              "          document.querySelector('#df-d08105e7-2117-44db-9011-c0e6d49117ab button.colab-df-convert');\n",
              "        buttonEl.style.display =\n",
              "          google.colab.kernel.accessAllowed ? 'block' : 'none';\n",
              "\n",
              "        async function convertToInteractive(key) {\n",
              "          const element = document.querySelector('#df-d08105e7-2117-44db-9011-c0e6d49117ab');\n",
              "          const dataTable =\n",
              "            await google.colab.kernel.invokeFunction('convertToInteractive',\n",
              "                                                     [key], {});\n",
              "          if (!dataTable) return;\n",
              "\n",
              "          const docLinkHtml = 'Like what you see? Visit the ' +\n",
              "            '<a target=\"_blank\" href=https://colab.research.google.com/notebooks/data_table.ipynb>data table notebook</a>'\n",
              "            + ' to learn more about interactive tables.';\n",
              "          element.innerHTML = '';\n",
              "          dataTable['output_type'] = 'display_data';\n",
              "          await google.colab.output.renderOutput(dataTable, element);\n",
              "          const docLink = document.createElement('div');\n",
              "          docLink.innerHTML = docLinkHtml;\n",
              "          element.appendChild(docLink);\n",
              "        }\n",
              "      </script>\n",
              "    </div>\n",
              "  </div>\n",
              "  "
            ]
          },
          "metadata": {},
          "execution_count": 28
        }
      ],
      "source": [
        "considered_features = list(num.columns)\n",
        "def compute_vif(considered_features):\n",
        "    X = num[considered_features]\n",
        "    X['intercept'] = 1\n",
        "    vif = pd.DataFrame()\n",
        "    vif[\"Variable\"] = X.columns\n",
        "    vif[\"VIF\"] = [variance_inflation_factor(X.values, i) for i in range(X.shape[1])]\n",
        "    vif = vif[vif['Variable']!='intercept']\n",
        "    return vif\n",
        "compute_vif(considered_features)\n",
        "compute_vif(considered_features).sort_values('VIF', ascending=False)"
      ]
    },
    {
      "cell_type": "markdown",
      "id": "b8c6af2e",
      "metadata": {
        "id": "b8c6af2e"
      },
      "source": [
        "## Removing Multicollinearity"
      ]
    },
    {
      "cell_type": "code",
      "execution_count": 29,
      "id": "e84698c0",
      "metadata": {
        "colab": {
          "base_uri": "https://localhost:8080/",
          "height": 0
        },
        "id": "e84698c0",
        "outputId": "27075611-58f4-4921-c7e6-0a202c9e3648"
      },
      "outputs": [
        {
          "output_type": "execute_result",
          "data": {
            "text/plain": [
              "                                          Variable        VIF\n",
              "4              curricular_units_1st_sem_(credited)  12.656257\n",
              "9              curricular_units_2nd_sem_(credited)  11.405488\n",
              "6              curricular_units_1st_sem_(approved)  11.223404\n",
              "12             curricular_units_2nd_sem_(approved)   9.615539\n",
              "13                curricular_units_2nd_sem_(grade)   5.453835\n",
              "7                 curricular_units_1st_sem_(grade)   4.884174\n",
              "10             curricular_units_2nd_sem_(enrolled)   3.529162\n",
              "5           curricular_units_1st_sem_(evaluations)   3.432251\n",
              "11          curricular_units_2nd_sem_(evaluations)   3.177420\n",
              "8   curricular_units_1st_sem_(without_evaluations)   1.677744\n",
              "2                                  admission_grade   1.602614\n",
              "14  curricular_units_2nd_sem_(without_evaluations)   1.568715\n",
              "1                   previous_qualification_(grade)   1.544666\n",
              "17                                             gdp   1.231894\n",
              "15                               unemployment_rate   1.190880\n",
              "3                                age_at_enrollment   1.184046\n",
              "0                           previous_qualification   1.156986\n",
              "16                                  inflation_rate   1.034396"
            ],
            "text/html": [
              "\n",
              "  <div id=\"df-54ff00be-9764-4999-88b6-415796682478\">\n",
              "    <div class=\"colab-df-container\">\n",
              "      <div>\n",
              "<style scoped>\n",
              "    .dataframe tbody tr th:only-of-type {\n",
              "        vertical-align: middle;\n",
              "    }\n",
              "\n",
              "    .dataframe tbody tr th {\n",
              "        vertical-align: top;\n",
              "    }\n",
              "\n",
              "    .dataframe thead th {\n",
              "        text-align: right;\n",
              "    }\n",
              "</style>\n",
              "<table border=\"1\" class=\"dataframe\">\n",
              "  <thead>\n",
              "    <tr style=\"text-align: right;\">\n",
              "      <th></th>\n",
              "      <th>Variable</th>\n",
              "      <th>VIF</th>\n",
              "    </tr>\n",
              "  </thead>\n",
              "  <tbody>\n",
              "    <tr>\n",
              "      <th>4</th>\n",
              "      <td>curricular_units_1st_sem_(credited)</td>\n",
              "      <td>12.656257</td>\n",
              "    </tr>\n",
              "    <tr>\n",
              "      <th>9</th>\n",
              "      <td>curricular_units_2nd_sem_(credited)</td>\n",
              "      <td>11.405488</td>\n",
              "    </tr>\n",
              "    <tr>\n",
              "      <th>6</th>\n",
              "      <td>curricular_units_1st_sem_(approved)</td>\n",
              "      <td>11.223404</td>\n",
              "    </tr>\n",
              "    <tr>\n",
              "      <th>12</th>\n",
              "      <td>curricular_units_2nd_sem_(approved)</td>\n",
              "      <td>9.615539</td>\n",
              "    </tr>\n",
              "    <tr>\n",
              "      <th>13</th>\n",
              "      <td>curricular_units_2nd_sem_(grade)</td>\n",
              "      <td>5.453835</td>\n",
              "    </tr>\n",
              "    <tr>\n",
              "      <th>7</th>\n",
              "      <td>curricular_units_1st_sem_(grade)</td>\n",
              "      <td>4.884174</td>\n",
              "    </tr>\n",
              "    <tr>\n",
              "      <th>10</th>\n",
              "      <td>curricular_units_2nd_sem_(enrolled)</td>\n",
              "      <td>3.529162</td>\n",
              "    </tr>\n",
              "    <tr>\n",
              "      <th>5</th>\n",
              "      <td>curricular_units_1st_sem_(evaluations)</td>\n",
              "      <td>3.432251</td>\n",
              "    </tr>\n",
              "    <tr>\n",
              "      <th>11</th>\n",
              "      <td>curricular_units_2nd_sem_(evaluations)</td>\n",
              "      <td>3.177420</td>\n",
              "    </tr>\n",
              "    <tr>\n",
              "      <th>8</th>\n",
              "      <td>curricular_units_1st_sem_(without_evaluations)</td>\n",
              "      <td>1.677744</td>\n",
              "    </tr>\n",
              "    <tr>\n",
              "      <th>2</th>\n",
              "      <td>admission_grade</td>\n",
              "      <td>1.602614</td>\n",
              "    </tr>\n",
              "    <tr>\n",
              "      <th>14</th>\n",
              "      <td>curricular_units_2nd_sem_(without_evaluations)</td>\n",
              "      <td>1.568715</td>\n",
              "    </tr>\n",
              "    <tr>\n",
              "      <th>1</th>\n",
              "      <td>previous_qualification_(grade)</td>\n",
              "      <td>1.544666</td>\n",
              "    </tr>\n",
              "    <tr>\n",
              "      <th>17</th>\n",
              "      <td>gdp</td>\n",
              "      <td>1.231894</td>\n",
              "    </tr>\n",
              "    <tr>\n",
              "      <th>15</th>\n",
              "      <td>unemployment_rate</td>\n",
              "      <td>1.190880</td>\n",
              "    </tr>\n",
              "    <tr>\n",
              "      <th>3</th>\n",
              "      <td>age_at_enrollment</td>\n",
              "      <td>1.184046</td>\n",
              "    </tr>\n",
              "    <tr>\n",
              "      <th>0</th>\n",
              "      <td>previous_qualification</td>\n",
              "      <td>1.156986</td>\n",
              "    </tr>\n",
              "    <tr>\n",
              "      <th>16</th>\n",
              "      <td>inflation_rate</td>\n",
              "      <td>1.034396</td>\n",
              "    </tr>\n",
              "  </tbody>\n",
              "</table>\n",
              "</div>\n",
              "      <button class=\"colab-df-convert\" onclick=\"convertToInteractive('df-54ff00be-9764-4999-88b6-415796682478')\"\n",
              "              title=\"Convert this dataframe to an interactive table.\"\n",
              "              style=\"display:none;\">\n",
              "        \n",
              "  <svg xmlns=\"http://www.w3.org/2000/svg\" height=\"24px\"viewBox=\"0 0 24 24\"\n",
              "       width=\"24px\">\n",
              "    <path d=\"M0 0h24v24H0V0z\" fill=\"none\"/>\n",
              "    <path d=\"M18.56 5.44l.94 2.06.94-2.06 2.06-.94-2.06-.94-.94-2.06-.94 2.06-2.06.94zm-11 1L8.5 8.5l.94-2.06 2.06-.94-2.06-.94L8.5 2.5l-.94 2.06-2.06.94zm10 10l.94 2.06.94-2.06 2.06-.94-2.06-.94-.94-2.06-.94 2.06-2.06.94z\"/><path d=\"M17.41 7.96l-1.37-1.37c-.4-.4-.92-.59-1.43-.59-.52 0-1.04.2-1.43.59L10.3 9.45l-7.72 7.72c-.78.78-.78 2.05 0 2.83L4 21.41c.39.39.9.59 1.41.59.51 0 1.02-.2 1.41-.59l7.78-7.78 2.81-2.81c.8-.78.8-2.07 0-2.86zM5.41 20L4 18.59l7.72-7.72 1.47 1.35L5.41 20z\"/>\n",
              "  </svg>\n",
              "      </button>\n",
              "      \n",
              "  <style>\n",
              "    .colab-df-container {\n",
              "      display:flex;\n",
              "      flex-wrap:wrap;\n",
              "      gap: 12px;\n",
              "    }\n",
              "\n",
              "    .colab-df-convert {\n",
              "      background-color: #E8F0FE;\n",
              "      border: none;\n",
              "      border-radius: 50%;\n",
              "      cursor: pointer;\n",
              "      display: none;\n",
              "      fill: #1967D2;\n",
              "      height: 32px;\n",
              "      padding: 0 0 0 0;\n",
              "      width: 32px;\n",
              "    }\n",
              "\n",
              "    .colab-df-convert:hover {\n",
              "      background-color: #E2EBFA;\n",
              "      box-shadow: 0px 1px 2px rgba(60, 64, 67, 0.3), 0px 1px 3px 1px rgba(60, 64, 67, 0.15);\n",
              "      fill: #174EA6;\n",
              "    }\n",
              "\n",
              "    [theme=dark] .colab-df-convert {\n",
              "      background-color: #3B4455;\n",
              "      fill: #D2E3FC;\n",
              "    }\n",
              "\n",
              "    [theme=dark] .colab-df-convert:hover {\n",
              "      background-color: #434B5C;\n",
              "      box-shadow: 0px 1px 3px 1px rgba(0, 0, 0, 0.15);\n",
              "      filter: drop-shadow(0px 1px 2px rgba(0, 0, 0, 0.3));\n",
              "      fill: #FFFFFF;\n",
              "    }\n",
              "  </style>\n",
              "\n",
              "      <script>\n",
              "        const buttonEl =\n",
              "          document.querySelector('#df-54ff00be-9764-4999-88b6-415796682478 button.colab-df-convert');\n",
              "        buttonEl.style.display =\n",
              "          google.colab.kernel.accessAllowed ? 'block' : 'none';\n",
              "\n",
              "        async function convertToInteractive(key) {\n",
              "          const element = document.querySelector('#df-54ff00be-9764-4999-88b6-415796682478');\n",
              "          const dataTable =\n",
              "            await google.colab.kernel.invokeFunction('convertToInteractive',\n",
              "                                                     [key], {});\n",
              "          if (!dataTable) return;\n",
              "\n",
              "          const docLinkHtml = 'Like what you see? Visit the ' +\n",
              "            '<a target=\"_blank\" href=https://colab.research.google.com/notebooks/data_table.ipynb>data table notebook</a>'\n",
              "            + ' to learn more about interactive tables.';\n",
              "          element.innerHTML = '';\n",
              "          dataTable['output_type'] = 'display_data';\n",
              "          await google.colab.output.renderOutput(dataTable, element);\n",
              "          const docLink = document.createElement('div');\n",
              "          docLink.innerHTML = docLinkHtml;\n",
              "          element.appendChild(docLink);\n",
              "        }\n",
              "      </script>\n",
              "    </div>\n",
              "  </div>\n",
              "  "
            ]
          },
          "metadata": {},
          "execution_count": 29
        }
      ],
      "source": [
        "considered_features.remove('curricular_units_1st_sem_(enrolled)')\n",
        "compute_vif(considered_features)\n",
        "compute_vif(considered_features).sort_values('VIF', ascending=False)"
      ]
    },
    {
      "cell_type": "code",
      "execution_count": 30,
      "id": "5935e142",
      "metadata": {
        "colab": {
          "base_uri": "https://localhost:8080/",
          "height": 0
        },
        "id": "5935e142",
        "outputId": "fd520176-deca-416a-cb25-11c2f44a550c"
      },
      "outputs": [
        {
          "output_type": "stream",
          "name": "stderr",
          "text": [
            "/usr/local/lib/python3.7/dist-packages/ipykernel_launcher.py:4: SettingWithCopyWarning: \n",
            "A value is trying to be set on a copy of a slice from a DataFrame.\n",
            "Try using .loc[row_indexer,col_indexer] = value instead\n",
            "\n",
            "See the caveats in the documentation: https://pandas.pydata.org/pandas-docs/stable/user_guide/indexing.html#returning-a-view-versus-a-copy\n",
            "  after removing the cwd from sys.path.\n"
          ]
        },
        {
          "output_type": "execute_result",
          "data": {
            "text/plain": [
              "                                          Variable       VIF\n",
              "11             curricular_units_2nd_sem_(approved)  8.773690\n",
              "5              curricular_units_1st_sem_(approved)  8.762912\n",
              "12                curricular_units_2nd_sem_(grade)  5.430531\n",
              "6                 curricular_units_1st_sem_(grade)  4.650342\n",
              "9              curricular_units_2nd_sem_(enrolled)  3.509112\n",
              "4           curricular_units_1st_sem_(evaluations)  3.285054\n",
              "8              curricular_units_2nd_sem_(credited)  3.211705\n",
              "10          curricular_units_2nd_sem_(evaluations)  3.139909\n",
              "7   curricular_units_1st_sem_(without_evaluations)  1.677152\n",
              "2                                  admission_grade  1.602561\n",
              "13  curricular_units_2nd_sem_(without_evaluations)  1.567868\n",
              "1                   previous_qualification_(grade)  1.543831\n",
              "16                                             gdp  1.231772\n",
              "14                               unemployment_rate  1.189266\n",
              "3                                age_at_enrollment  1.173691\n",
              "0                           previous_qualification  1.145658\n",
              "15                                  inflation_rate  1.033722"
            ],
            "text/html": [
              "\n",
              "  <div id=\"df-93820258-f11f-4695-b78d-ae555b35c72c\">\n",
              "    <div class=\"colab-df-container\">\n",
              "      <div>\n",
              "<style scoped>\n",
              "    .dataframe tbody tr th:only-of-type {\n",
              "        vertical-align: middle;\n",
              "    }\n",
              "\n",
              "    .dataframe tbody tr th {\n",
              "        vertical-align: top;\n",
              "    }\n",
              "\n",
              "    .dataframe thead th {\n",
              "        text-align: right;\n",
              "    }\n",
              "</style>\n",
              "<table border=\"1\" class=\"dataframe\">\n",
              "  <thead>\n",
              "    <tr style=\"text-align: right;\">\n",
              "      <th></th>\n",
              "      <th>Variable</th>\n",
              "      <th>VIF</th>\n",
              "    </tr>\n",
              "  </thead>\n",
              "  <tbody>\n",
              "    <tr>\n",
              "      <th>11</th>\n",
              "      <td>curricular_units_2nd_sem_(approved)</td>\n",
              "      <td>8.773690</td>\n",
              "    </tr>\n",
              "    <tr>\n",
              "      <th>5</th>\n",
              "      <td>curricular_units_1st_sem_(approved)</td>\n",
              "      <td>8.762912</td>\n",
              "    </tr>\n",
              "    <tr>\n",
              "      <th>12</th>\n",
              "      <td>curricular_units_2nd_sem_(grade)</td>\n",
              "      <td>5.430531</td>\n",
              "    </tr>\n",
              "    <tr>\n",
              "      <th>6</th>\n",
              "      <td>curricular_units_1st_sem_(grade)</td>\n",
              "      <td>4.650342</td>\n",
              "    </tr>\n",
              "    <tr>\n",
              "      <th>9</th>\n",
              "      <td>curricular_units_2nd_sem_(enrolled)</td>\n",
              "      <td>3.509112</td>\n",
              "    </tr>\n",
              "    <tr>\n",
              "      <th>4</th>\n",
              "      <td>curricular_units_1st_sem_(evaluations)</td>\n",
              "      <td>3.285054</td>\n",
              "    </tr>\n",
              "    <tr>\n",
              "      <th>8</th>\n",
              "      <td>curricular_units_2nd_sem_(credited)</td>\n",
              "      <td>3.211705</td>\n",
              "    </tr>\n",
              "    <tr>\n",
              "      <th>10</th>\n",
              "      <td>curricular_units_2nd_sem_(evaluations)</td>\n",
              "      <td>3.139909</td>\n",
              "    </tr>\n",
              "    <tr>\n",
              "      <th>7</th>\n",
              "      <td>curricular_units_1st_sem_(without_evaluations)</td>\n",
              "      <td>1.677152</td>\n",
              "    </tr>\n",
              "    <tr>\n",
              "      <th>2</th>\n",
              "      <td>admission_grade</td>\n",
              "      <td>1.602561</td>\n",
              "    </tr>\n",
              "    <tr>\n",
              "      <th>13</th>\n",
              "      <td>curricular_units_2nd_sem_(without_evaluations)</td>\n",
              "      <td>1.567868</td>\n",
              "    </tr>\n",
              "    <tr>\n",
              "      <th>1</th>\n",
              "      <td>previous_qualification_(grade)</td>\n",
              "      <td>1.543831</td>\n",
              "    </tr>\n",
              "    <tr>\n",
              "      <th>16</th>\n",
              "      <td>gdp</td>\n",
              "      <td>1.231772</td>\n",
              "    </tr>\n",
              "    <tr>\n",
              "      <th>14</th>\n",
              "      <td>unemployment_rate</td>\n",
              "      <td>1.189266</td>\n",
              "    </tr>\n",
              "    <tr>\n",
              "      <th>3</th>\n",
              "      <td>age_at_enrollment</td>\n",
              "      <td>1.173691</td>\n",
              "    </tr>\n",
              "    <tr>\n",
              "      <th>0</th>\n",
              "      <td>previous_qualification</td>\n",
              "      <td>1.145658</td>\n",
              "    </tr>\n",
              "    <tr>\n",
              "      <th>15</th>\n",
              "      <td>inflation_rate</td>\n",
              "      <td>1.033722</td>\n",
              "    </tr>\n",
              "  </tbody>\n",
              "</table>\n",
              "</div>\n",
              "      <button class=\"colab-df-convert\" onclick=\"convertToInteractive('df-93820258-f11f-4695-b78d-ae555b35c72c')\"\n",
              "              title=\"Convert this dataframe to an interactive table.\"\n",
              "              style=\"display:none;\">\n",
              "        \n",
              "  <svg xmlns=\"http://www.w3.org/2000/svg\" height=\"24px\"viewBox=\"0 0 24 24\"\n",
              "       width=\"24px\">\n",
              "    <path d=\"M0 0h24v24H0V0z\" fill=\"none\"/>\n",
              "    <path d=\"M18.56 5.44l.94 2.06.94-2.06 2.06-.94-2.06-.94-.94-2.06-.94 2.06-2.06.94zm-11 1L8.5 8.5l.94-2.06 2.06-.94-2.06-.94L8.5 2.5l-.94 2.06-2.06.94zm10 10l.94 2.06.94-2.06 2.06-.94-2.06-.94-.94-2.06-.94 2.06-2.06.94z\"/><path d=\"M17.41 7.96l-1.37-1.37c-.4-.4-.92-.59-1.43-.59-.52 0-1.04.2-1.43.59L10.3 9.45l-7.72 7.72c-.78.78-.78 2.05 0 2.83L4 21.41c.39.39.9.59 1.41.59.51 0 1.02-.2 1.41-.59l7.78-7.78 2.81-2.81c.8-.78.8-2.07 0-2.86zM5.41 20L4 18.59l7.72-7.72 1.47 1.35L5.41 20z\"/>\n",
              "  </svg>\n",
              "      </button>\n",
              "      \n",
              "  <style>\n",
              "    .colab-df-container {\n",
              "      display:flex;\n",
              "      flex-wrap:wrap;\n",
              "      gap: 12px;\n",
              "    }\n",
              "\n",
              "    .colab-df-convert {\n",
              "      background-color: #E8F0FE;\n",
              "      border: none;\n",
              "      border-radius: 50%;\n",
              "      cursor: pointer;\n",
              "      display: none;\n",
              "      fill: #1967D2;\n",
              "      height: 32px;\n",
              "      padding: 0 0 0 0;\n",
              "      width: 32px;\n",
              "    }\n",
              "\n",
              "    .colab-df-convert:hover {\n",
              "      background-color: #E2EBFA;\n",
              "      box-shadow: 0px 1px 2px rgba(60, 64, 67, 0.3), 0px 1px 3px 1px rgba(60, 64, 67, 0.15);\n",
              "      fill: #174EA6;\n",
              "    }\n",
              "\n",
              "    [theme=dark] .colab-df-convert {\n",
              "      background-color: #3B4455;\n",
              "      fill: #D2E3FC;\n",
              "    }\n",
              "\n",
              "    [theme=dark] .colab-df-convert:hover {\n",
              "      background-color: #434B5C;\n",
              "      box-shadow: 0px 1px 3px 1px rgba(0, 0, 0, 0.15);\n",
              "      filter: drop-shadow(0px 1px 2px rgba(0, 0, 0, 0.3));\n",
              "      fill: #FFFFFF;\n",
              "    }\n",
              "  </style>\n",
              "\n",
              "      <script>\n",
              "        const buttonEl =\n",
              "          document.querySelector('#df-93820258-f11f-4695-b78d-ae555b35c72c button.colab-df-convert');\n",
              "        buttonEl.style.display =\n",
              "          google.colab.kernel.accessAllowed ? 'block' : 'none';\n",
              "\n",
              "        async function convertToInteractive(key) {\n",
              "          const element = document.querySelector('#df-93820258-f11f-4695-b78d-ae555b35c72c');\n",
              "          const dataTable =\n",
              "            await google.colab.kernel.invokeFunction('convertToInteractive',\n",
              "                                                     [key], {});\n",
              "          if (!dataTable) return;\n",
              "\n",
              "          const docLinkHtml = 'Like what you see? Visit the ' +\n",
              "            '<a target=\"_blank\" href=https://colab.research.google.com/notebooks/data_table.ipynb>data table notebook</a>'\n",
              "            + ' to learn more about interactive tables.';\n",
              "          element.innerHTML = '';\n",
              "          dataTable['output_type'] = 'display_data';\n",
              "          await google.colab.output.renderOutput(dataTable, element);\n",
              "          const docLink = document.createElement('div');\n",
              "          docLink.innerHTML = docLinkHtml;\n",
              "          element.appendChild(docLink);\n",
              "        }\n",
              "      </script>\n",
              "    </div>\n",
              "  </div>\n",
              "  "
            ]
          },
          "metadata": {},
          "execution_count": 30
        }
      ],
      "source": [
        "considered_features.remove('curricular_units_1st_sem_(credited)')\n",
        "compute_vif(considered_features)\n",
        "compute_vif(considered_features).sort_values('VIF', ascending=False)"
      ]
    },
    {
      "cell_type": "code",
      "execution_count": 31,
      "id": "a9650908",
      "metadata": {
        "colab": {
          "base_uri": "https://localhost:8080/",
          "height": 0
        },
        "id": "a9650908",
        "outputId": "bc209667-25ab-41b6-8564-da43d42e60b0"
      },
      "outputs": [
        {
          "output_type": "stream",
          "name": "stderr",
          "text": [
            "/usr/local/lib/python3.7/dist-packages/ipykernel_launcher.py:4: SettingWithCopyWarning: \n",
            "A value is trying to be set on a copy of a slice from a DataFrame.\n",
            "Try using .loc[row_indexer,col_indexer] = value instead\n",
            "\n",
            "See the caveats in the documentation: https://pandas.pydata.org/pandas-docs/stable/user_guide/indexing.html#returning-a-view-versus-a-copy\n",
            "  after removing the cwd from sys.path.\n"
          ]
        },
        {
          "output_type": "execute_result",
          "data": {
            "text/plain": [
              "                                          Variable       VIF\n",
              "5              curricular_units_1st_sem_(approved)  5.857220\n",
              "6                 curricular_units_1st_sem_(grade)  4.525994\n",
              "11                curricular_units_2nd_sem_(grade)  3.832838\n",
              "4           curricular_units_1st_sem_(evaluations)  3.278628\n",
              "8              curricular_units_2nd_sem_(credited)  3.181203\n",
              "9              curricular_units_2nd_sem_(enrolled)  3.134100\n",
              "10          curricular_units_2nd_sem_(evaluations)  3.038389\n",
              "7   curricular_units_1st_sem_(without_evaluations)  1.676292\n",
              "2                                  admission_grade  1.599957\n",
              "12  curricular_units_2nd_sem_(without_evaluations)  1.567375\n",
              "1                   previous_qualification_(grade)  1.543337\n",
              "15                                             gdp  1.230873\n",
              "13                               unemployment_rate  1.187790\n",
              "3                                age_at_enrollment  1.157066\n",
              "0                           previous_qualification  1.140922\n",
              "14                                  inflation_rate  1.031887"
            ],
            "text/html": [
              "\n",
              "  <div id=\"df-14791593-e52b-41ff-8909-666aeef0f5ed\">\n",
              "    <div class=\"colab-df-container\">\n",
              "      <div>\n",
              "<style scoped>\n",
              "    .dataframe tbody tr th:only-of-type {\n",
              "        vertical-align: middle;\n",
              "    }\n",
              "\n",
              "    .dataframe tbody tr th {\n",
              "        vertical-align: top;\n",
              "    }\n",
              "\n",
              "    .dataframe thead th {\n",
              "        text-align: right;\n",
              "    }\n",
              "</style>\n",
              "<table border=\"1\" class=\"dataframe\">\n",
              "  <thead>\n",
              "    <tr style=\"text-align: right;\">\n",
              "      <th></th>\n",
              "      <th>Variable</th>\n",
              "      <th>VIF</th>\n",
              "    </tr>\n",
              "  </thead>\n",
              "  <tbody>\n",
              "    <tr>\n",
              "      <th>5</th>\n",
              "      <td>curricular_units_1st_sem_(approved)</td>\n",
              "      <td>5.857220</td>\n",
              "    </tr>\n",
              "    <tr>\n",
              "      <th>6</th>\n",
              "      <td>curricular_units_1st_sem_(grade)</td>\n",
              "      <td>4.525994</td>\n",
              "    </tr>\n",
              "    <tr>\n",
              "      <th>11</th>\n",
              "      <td>curricular_units_2nd_sem_(grade)</td>\n",
              "      <td>3.832838</td>\n",
              "    </tr>\n",
              "    <tr>\n",
              "      <th>4</th>\n",
              "      <td>curricular_units_1st_sem_(evaluations)</td>\n",
              "      <td>3.278628</td>\n",
              "    </tr>\n",
              "    <tr>\n",
              "      <th>8</th>\n",
              "      <td>curricular_units_2nd_sem_(credited)</td>\n",
              "      <td>3.181203</td>\n",
              "    </tr>\n",
              "    <tr>\n",
              "      <th>9</th>\n",
              "      <td>curricular_units_2nd_sem_(enrolled)</td>\n",
              "      <td>3.134100</td>\n",
              "    </tr>\n",
              "    <tr>\n",
              "      <th>10</th>\n",
              "      <td>curricular_units_2nd_sem_(evaluations)</td>\n",
              "      <td>3.038389</td>\n",
              "    </tr>\n",
              "    <tr>\n",
              "      <th>7</th>\n",
              "      <td>curricular_units_1st_sem_(without_evaluations)</td>\n",
              "      <td>1.676292</td>\n",
              "    </tr>\n",
              "    <tr>\n",
              "      <th>2</th>\n",
              "      <td>admission_grade</td>\n",
              "      <td>1.599957</td>\n",
              "    </tr>\n",
              "    <tr>\n",
              "      <th>12</th>\n",
              "      <td>curricular_units_2nd_sem_(without_evaluations)</td>\n",
              "      <td>1.567375</td>\n",
              "    </tr>\n",
              "    <tr>\n",
              "      <th>1</th>\n",
              "      <td>previous_qualification_(grade)</td>\n",
              "      <td>1.543337</td>\n",
              "    </tr>\n",
              "    <tr>\n",
              "      <th>15</th>\n",
              "      <td>gdp</td>\n",
              "      <td>1.230873</td>\n",
              "    </tr>\n",
              "    <tr>\n",
              "      <th>13</th>\n",
              "      <td>unemployment_rate</td>\n",
              "      <td>1.187790</td>\n",
              "    </tr>\n",
              "    <tr>\n",
              "      <th>3</th>\n",
              "      <td>age_at_enrollment</td>\n",
              "      <td>1.157066</td>\n",
              "    </tr>\n",
              "    <tr>\n",
              "      <th>0</th>\n",
              "      <td>previous_qualification</td>\n",
              "      <td>1.140922</td>\n",
              "    </tr>\n",
              "    <tr>\n",
              "      <th>14</th>\n",
              "      <td>inflation_rate</td>\n",
              "      <td>1.031887</td>\n",
              "    </tr>\n",
              "  </tbody>\n",
              "</table>\n",
              "</div>\n",
              "      <button class=\"colab-df-convert\" onclick=\"convertToInteractive('df-14791593-e52b-41ff-8909-666aeef0f5ed')\"\n",
              "              title=\"Convert this dataframe to an interactive table.\"\n",
              "              style=\"display:none;\">\n",
              "        \n",
              "  <svg xmlns=\"http://www.w3.org/2000/svg\" height=\"24px\"viewBox=\"0 0 24 24\"\n",
              "       width=\"24px\">\n",
              "    <path d=\"M0 0h24v24H0V0z\" fill=\"none\"/>\n",
              "    <path d=\"M18.56 5.44l.94 2.06.94-2.06 2.06-.94-2.06-.94-.94-2.06-.94 2.06-2.06.94zm-11 1L8.5 8.5l.94-2.06 2.06-.94-2.06-.94L8.5 2.5l-.94 2.06-2.06.94zm10 10l.94 2.06.94-2.06 2.06-.94-2.06-.94-.94-2.06-.94 2.06-2.06.94z\"/><path d=\"M17.41 7.96l-1.37-1.37c-.4-.4-.92-.59-1.43-.59-.52 0-1.04.2-1.43.59L10.3 9.45l-7.72 7.72c-.78.78-.78 2.05 0 2.83L4 21.41c.39.39.9.59 1.41.59.51 0 1.02-.2 1.41-.59l7.78-7.78 2.81-2.81c.8-.78.8-2.07 0-2.86zM5.41 20L4 18.59l7.72-7.72 1.47 1.35L5.41 20z\"/>\n",
              "  </svg>\n",
              "      </button>\n",
              "      \n",
              "  <style>\n",
              "    .colab-df-container {\n",
              "      display:flex;\n",
              "      flex-wrap:wrap;\n",
              "      gap: 12px;\n",
              "    }\n",
              "\n",
              "    .colab-df-convert {\n",
              "      background-color: #E8F0FE;\n",
              "      border: none;\n",
              "      border-radius: 50%;\n",
              "      cursor: pointer;\n",
              "      display: none;\n",
              "      fill: #1967D2;\n",
              "      height: 32px;\n",
              "      padding: 0 0 0 0;\n",
              "      width: 32px;\n",
              "    }\n",
              "\n",
              "    .colab-df-convert:hover {\n",
              "      background-color: #E2EBFA;\n",
              "      box-shadow: 0px 1px 2px rgba(60, 64, 67, 0.3), 0px 1px 3px 1px rgba(60, 64, 67, 0.15);\n",
              "      fill: #174EA6;\n",
              "    }\n",
              "\n",
              "    [theme=dark] .colab-df-convert {\n",
              "      background-color: #3B4455;\n",
              "      fill: #D2E3FC;\n",
              "    }\n",
              "\n",
              "    [theme=dark] .colab-df-convert:hover {\n",
              "      background-color: #434B5C;\n",
              "      box-shadow: 0px 1px 3px 1px rgba(0, 0, 0, 0.15);\n",
              "      filter: drop-shadow(0px 1px 2px rgba(0, 0, 0, 0.3));\n",
              "      fill: #FFFFFF;\n",
              "    }\n",
              "  </style>\n",
              "\n",
              "      <script>\n",
              "        const buttonEl =\n",
              "          document.querySelector('#df-14791593-e52b-41ff-8909-666aeef0f5ed button.colab-df-convert');\n",
              "        buttonEl.style.display =\n",
              "          google.colab.kernel.accessAllowed ? 'block' : 'none';\n",
              "\n",
              "        async function convertToInteractive(key) {\n",
              "          const element = document.querySelector('#df-14791593-e52b-41ff-8909-666aeef0f5ed');\n",
              "          const dataTable =\n",
              "            await google.colab.kernel.invokeFunction('convertToInteractive',\n",
              "                                                     [key], {});\n",
              "          if (!dataTable) return;\n",
              "\n",
              "          const docLinkHtml = 'Like what you see? Visit the ' +\n",
              "            '<a target=\"_blank\" href=https://colab.research.google.com/notebooks/data_table.ipynb>data table notebook</a>'\n",
              "            + ' to learn more about interactive tables.';\n",
              "          element.innerHTML = '';\n",
              "          dataTable['output_type'] = 'display_data';\n",
              "          await google.colab.output.renderOutput(dataTable, element);\n",
              "          const docLink = document.createElement('div');\n",
              "          docLink.innerHTML = docLinkHtml;\n",
              "          element.appendChild(docLink);\n",
              "        }\n",
              "      </script>\n",
              "    </div>\n",
              "  </div>\n",
              "  "
            ]
          },
          "metadata": {},
          "execution_count": 31
        }
      ],
      "source": [
        "considered_features.remove('curricular_units_2nd_sem_(approved)')\n",
        "compute_vif(considered_features)\n",
        "compute_vif(considered_features).sort_values('VIF', ascending=False)"
      ]
    },
    {
      "cell_type": "code",
      "execution_count": 32,
      "id": "a9d0debd",
      "metadata": {
        "colab": {
          "base_uri": "https://localhost:8080/",
          "height": 0
        },
        "id": "a9d0debd",
        "outputId": "148a1a73-fc6a-430a-ca13-092273fcd6b6"
      },
      "outputs": [
        {
          "output_type": "stream",
          "name": "stderr",
          "text": [
            "/usr/local/lib/python3.7/dist-packages/ipykernel_launcher.py:4: SettingWithCopyWarning: \n",
            "A value is trying to be set on a copy of a slice from a DataFrame.\n",
            "Try using .loc[row_indexer,col_indexer] = value instead\n",
            "\n",
            "See the caveats in the documentation: https://pandas.pydata.org/pandas-docs/stable/user_guide/indexing.html#returning-a-view-versus-a-copy\n",
            "  after removing the cwd from sys.path.\n"
          ]
        },
        {
          "output_type": "execute_result",
          "data": {
            "text/plain": [
              "                                          Variable       VIF\n",
              "5                 curricular_units_1st_sem_(grade)  3.767078\n",
              "10                curricular_units_2nd_sem_(grade)  3.484976\n",
              "4           curricular_units_1st_sem_(evaluations)  3.262878\n",
              "9           curricular_units_2nd_sem_(evaluations)  3.031362\n",
              "8              curricular_units_2nd_sem_(enrolled)  2.686019\n",
              "7              curricular_units_2nd_sem_(credited)  2.206704\n",
              "6   curricular_units_1st_sem_(without_evaluations)  1.675945\n",
              "2                                  admission_grade  1.599179\n",
              "11  curricular_units_2nd_sem_(without_evaluations)  1.558737\n",
              "1                   previous_qualification_(grade)  1.542052\n",
              "14                                             gdp  1.230715\n",
              "12                               unemployment_rate  1.182460\n",
              "3                                age_at_enrollment  1.145777\n",
              "0                           previous_qualification  1.131179\n",
              "13                                  inflation_rate  1.031887"
            ],
            "text/html": [
              "\n",
              "  <div id=\"df-633b89ac-fb13-4970-bf3d-811de74a4c9e\">\n",
              "    <div class=\"colab-df-container\">\n",
              "      <div>\n",
              "<style scoped>\n",
              "    .dataframe tbody tr th:only-of-type {\n",
              "        vertical-align: middle;\n",
              "    }\n",
              "\n",
              "    .dataframe tbody tr th {\n",
              "        vertical-align: top;\n",
              "    }\n",
              "\n",
              "    .dataframe thead th {\n",
              "        text-align: right;\n",
              "    }\n",
              "</style>\n",
              "<table border=\"1\" class=\"dataframe\">\n",
              "  <thead>\n",
              "    <tr style=\"text-align: right;\">\n",
              "      <th></th>\n",
              "      <th>Variable</th>\n",
              "      <th>VIF</th>\n",
              "    </tr>\n",
              "  </thead>\n",
              "  <tbody>\n",
              "    <tr>\n",
              "      <th>5</th>\n",
              "      <td>curricular_units_1st_sem_(grade)</td>\n",
              "      <td>3.767078</td>\n",
              "    </tr>\n",
              "    <tr>\n",
              "      <th>10</th>\n",
              "      <td>curricular_units_2nd_sem_(grade)</td>\n",
              "      <td>3.484976</td>\n",
              "    </tr>\n",
              "    <tr>\n",
              "      <th>4</th>\n",
              "      <td>curricular_units_1st_sem_(evaluations)</td>\n",
              "      <td>3.262878</td>\n",
              "    </tr>\n",
              "    <tr>\n",
              "      <th>9</th>\n",
              "      <td>curricular_units_2nd_sem_(evaluations)</td>\n",
              "      <td>3.031362</td>\n",
              "    </tr>\n",
              "    <tr>\n",
              "      <th>8</th>\n",
              "      <td>curricular_units_2nd_sem_(enrolled)</td>\n",
              "      <td>2.686019</td>\n",
              "    </tr>\n",
              "    <tr>\n",
              "      <th>7</th>\n",
              "      <td>curricular_units_2nd_sem_(credited)</td>\n",
              "      <td>2.206704</td>\n",
              "    </tr>\n",
              "    <tr>\n",
              "      <th>6</th>\n",
              "      <td>curricular_units_1st_sem_(without_evaluations)</td>\n",
              "      <td>1.675945</td>\n",
              "    </tr>\n",
              "    <tr>\n",
              "      <th>2</th>\n",
              "      <td>admission_grade</td>\n",
              "      <td>1.599179</td>\n",
              "    </tr>\n",
              "    <tr>\n",
              "      <th>11</th>\n",
              "      <td>curricular_units_2nd_sem_(without_evaluations)</td>\n",
              "      <td>1.558737</td>\n",
              "    </tr>\n",
              "    <tr>\n",
              "      <th>1</th>\n",
              "      <td>previous_qualification_(grade)</td>\n",
              "      <td>1.542052</td>\n",
              "    </tr>\n",
              "    <tr>\n",
              "      <th>14</th>\n",
              "      <td>gdp</td>\n",
              "      <td>1.230715</td>\n",
              "    </tr>\n",
              "    <tr>\n",
              "      <th>12</th>\n",
              "      <td>unemployment_rate</td>\n",
              "      <td>1.182460</td>\n",
              "    </tr>\n",
              "    <tr>\n",
              "      <th>3</th>\n",
              "      <td>age_at_enrollment</td>\n",
              "      <td>1.145777</td>\n",
              "    </tr>\n",
              "    <tr>\n",
              "      <th>0</th>\n",
              "      <td>previous_qualification</td>\n",
              "      <td>1.131179</td>\n",
              "    </tr>\n",
              "    <tr>\n",
              "      <th>13</th>\n",
              "      <td>inflation_rate</td>\n",
              "      <td>1.031887</td>\n",
              "    </tr>\n",
              "  </tbody>\n",
              "</table>\n",
              "</div>\n",
              "      <button class=\"colab-df-convert\" onclick=\"convertToInteractive('df-633b89ac-fb13-4970-bf3d-811de74a4c9e')\"\n",
              "              title=\"Convert this dataframe to an interactive table.\"\n",
              "              style=\"display:none;\">\n",
              "        \n",
              "  <svg xmlns=\"http://www.w3.org/2000/svg\" height=\"24px\"viewBox=\"0 0 24 24\"\n",
              "       width=\"24px\">\n",
              "    <path d=\"M0 0h24v24H0V0z\" fill=\"none\"/>\n",
              "    <path d=\"M18.56 5.44l.94 2.06.94-2.06 2.06-.94-2.06-.94-.94-2.06-.94 2.06-2.06.94zm-11 1L8.5 8.5l.94-2.06 2.06-.94-2.06-.94L8.5 2.5l-.94 2.06-2.06.94zm10 10l.94 2.06.94-2.06 2.06-.94-2.06-.94-.94-2.06-.94 2.06-2.06.94z\"/><path d=\"M17.41 7.96l-1.37-1.37c-.4-.4-.92-.59-1.43-.59-.52 0-1.04.2-1.43.59L10.3 9.45l-7.72 7.72c-.78.78-.78 2.05 0 2.83L4 21.41c.39.39.9.59 1.41.59.51 0 1.02-.2 1.41-.59l7.78-7.78 2.81-2.81c.8-.78.8-2.07 0-2.86zM5.41 20L4 18.59l7.72-7.72 1.47 1.35L5.41 20z\"/>\n",
              "  </svg>\n",
              "      </button>\n",
              "      \n",
              "  <style>\n",
              "    .colab-df-container {\n",
              "      display:flex;\n",
              "      flex-wrap:wrap;\n",
              "      gap: 12px;\n",
              "    }\n",
              "\n",
              "    .colab-df-convert {\n",
              "      background-color: #E8F0FE;\n",
              "      border: none;\n",
              "      border-radius: 50%;\n",
              "      cursor: pointer;\n",
              "      display: none;\n",
              "      fill: #1967D2;\n",
              "      height: 32px;\n",
              "      padding: 0 0 0 0;\n",
              "      width: 32px;\n",
              "    }\n",
              "\n",
              "    .colab-df-convert:hover {\n",
              "      background-color: #E2EBFA;\n",
              "      box-shadow: 0px 1px 2px rgba(60, 64, 67, 0.3), 0px 1px 3px 1px rgba(60, 64, 67, 0.15);\n",
              "      fill: #174EA6;\n",
              "    }\n",
              "\n",
              "    [theme=dark] .colab-df-convert {\n",
              "      background-color: #3B4455;\n",
              "      fill: #D2E3FC;\n",
              "    }\n",
              "\n",
              "    [theme=dark] .colab-df-convert:hover {\n",
              "      background-color: #434B5C;\n",
              "      box-shadow: 0px 1px 3px 1px rgba(0, 0, 0, 0.15);\n",
              "      filter: drop-shadow(0px 1px 2px rgba(0, 0, 0, 0.3));\n",
              "      fill: #FFFFFF;\n",
              "    }\n",
              "  </style>\n",
              "\n",
              "      <script>\n",
              "        const buttonEl =\n",
              "          document.querySelector('#df-633b89ac-fb13-4970-bf3d-811de74a4c9e button.colab-df-convert');\n",
              "        buttonEl.style.display =\n",
              "          google.colab.kernel.accessAllowed ? 'block' : 'none';\n",
              "\n",
              "        async function convertToInteractive(key) {\n",
              "          const element = document.querySelector('#df-633b89ac-fb13-4970-bf3d-811de74a4c9e');\n",
              "          const dataTable =\n",
              "            await google.colab.kernel.invokeFunction('convertToInteractive',\n",
              "                                                     [key], {});\n",
              "          if (!dataTable) return;\n",
              "\n",
              "          const docLinkHtml = 'Like what you see? Visit the ' +\n",
              "            '<a target=\"_blank\" href=https://colab.research.google.com/notebooks/data_table.ipynb>data table notebook</a>'\n",
              "            + ' to learn more about interactive tables.';\n",
              "          element.innerHTML = '';\n",
              "          dataTable['output_type'] = 'display_data';\n",
              "          await google.colab.output.renderOutput(dataTable, element);\n",
              "          const docLink = document.createElement('div');\n",
              "          docLink.innerHTML = docLinkHtml;\n",
              "          element.appendChild(docLink);\n",
              "        }\n",
              "      </script>\n",
              "    </div>\n",
              "  </div>\n",
              "  "
            ]
          },
          "metadata": {},
          "execution_count": 32
        }
      ],
      "source": [
        "considered_features.remove('curricular_units_1st_sem_(approved)')\n",
        "compute_vif(considered_features)\n",
        "compute_vif(considered_features).sort_values('VIF', ascending=False)"
      ]
    },
    {
      "cell_type": "code",
      "execution_count": 33,
      "id": "e19d1bae",
      "metadata": {
        "id": "e19d1bae"
      },
      "outputs": [],
      "source": [
        "#Drop multiculinarity from Numerical\n",
        "num=num.drop(['curricular_units_1st_sem_(enrolled)',\n",
        "             'curricular_units_1st_sem_(credited)',\n",
        "             'curricular_units_2nd_sem_(approved)',\n",
        "             'curricular_units_1st_sem_(approved)'],axis=1)"
      ]
    },
    {
      "cell_type": "markdown",
      "id": "322b5b0a",
      "metadata": {
        "id": "322b5b0a"
      },
      "source": [
        "## Removing Outliers"
      ]
    },
    {
      "cell_type": "code",
      "execution_count": 34,
      "id": "3fd2eabd",
      "metadata": {
        "scrolled": false,
        "colab": {
          "base_uri": "https://localhost:8080/",
          "height": 0
        },
        "id": "3fd2eabd",
        "outputId": "903a4204-a236-4cd5-add8-a7417fda5553"
      },
      "outputs": [
        {
          "output_type": "display_data",
          "data": {
            "text/plain": [
              "<Figure size 432x288 with 1 Axes>"
            ],
            "image/png": "[encoded data removed]"
          },
          "metadata": {
            "needs_background": "light"
          }
        },
        {
          "output_type": "display_data",
          "data": {
            "text/plain": [
              "<Figure size 432x288 with 1 Axes>"
            ],
            "image/png": "[encoded data removed]"
          },
          "metadata": {
            "needs_background": "light"
          }
        },
        {
          "output_type": "display_data",
          "data": {
            "text/plain": [
              "<Figure size 432x288 with 1 Axes>"
            ],
            "image/png": "[encoded data removed]"
          },
          "metadata": {
            "needs_background": "light"
          }
        },
        {
          "output_type": "display_data",
          "data": {
            "text/plain": [
              "<Figure size 432x288 with 1 Axes>"
            ],
            "image/png": "[encoded data removed]"
          },
          "metadata": {
            "needs_background": "light"
          }
        },
        {
          "output_type": "display_data",
          "data": {
            "text/plain": [
              "<Figure size 432x288 with 1 Axes>"
            ],
            "image/png": "[encoded data removed]"
          },
          "metadata": {
            "needs_background": "light"
          }
        },
        {
          "output_type": "display_data",
          "data": {
            "text/plain": [
              "<Figure size 432x288 with 1 Axes>"
            ],
            "image/png": "[encoded data removed]"
          },
          "metadata": {
            "needs_background": "light"
          }
        },
        {
          "output_type": "display_data",
          "data": {
            "text/plain": [
              "<Figure size 432x288 with 1 Axes>"
            ],
            "image/png": "[encoded data removed]"
          },
          "metadata": {
            "needs_background": "light"
          }
        },
        {
          "output_type": "display_data",
          "data": {
            "text/plain": [
              "<Figure size 432x288 with 1 Axes>"
            ],
            "image/png": "[encoded data removed]"
          },
          "metadata": {
            "needs_background": "light"
          }
        },
        {
          "output_type": "display_data",
          "data": {
            "text/plain": [
              "<Figure size 432x288 with 1 Axes>"
            ],
            "image/png": "[encoded data removed]"
          },
          "metadata": {
            "needs_background": "light"
          }
        },
        {
          "output_type": "display_data",
          "data": {
            "text/plain": [
              "<Figure size 432x288 with 1 Axes>"
            ],
            "image/png": "[encoded data removed]"
          },
          "metadata": {
            "needs_background": "light"
          }
        },
        {
          "output_type": "display_data",
          "data": {
            "text/plain": [
              "<Figure size 432x288 with 1 Axes>"
            ],
            "image/png": "[encoded data removed]"
          },
          "metadata": {
            "needs_background": "light"
          }
        },
        {
          "output_type": "display_data",
          "data": {
            "text/plain": [
              "<Figure size 432x288 with 1 Axes>"
            ],
            "image/png": "[encoded data removed]"
          },
          "metadata": {
            "needs_background": "light"
          }
        },
        {
          "output_type": "display_data",
          "data": {
            "text/plain": [
              "<Figure size 432x288 with 1 Axes>"
            ],
            "image/png": "[encoded data removed]"
          },
          "metadata": {
            "needs_background": "light"
          }
        },
        {
          "output_type": "display_data",
          "data": {
            "text/plain": [
              "<Figure size 432x288 with 1 Axes>"
            ],
            "image/png": "[encoded data removed]"
          },
          "metadata": {
            "needs_background": "light"
          }
        },
        {
          "output_type": "display_data",
          "data": {
            "text/plain": [
              "<Figure size 432x288 with 1 Axes>"
            ],
            "image/png": "[encoded data removed]"
          },
          "metadata": {
            "needs_background": "light"
          }
        }
      ],
      "source": [
        "def plot_num(df):\n",
        "    col=list(df.columns)\n",
        "    for i in range(len(col)):\n",
        "        sns.boxplot(x =df[col[i]], data = df) \n",
        "        plt.show()\n",
        "plot_num(num)"
      ]
    },
    {
      "cell_type": "code",
      "execution_count": 35,
      "id": "e824d4d9",
      "metadata": {
        "colab": {
          "base_uri": "https://localhost:8080/"
        },
        "id": "e824d4d9",
        "outputId": "39578328-af2c-421b-c26b-75974e97328c"
      },
      "outputs": [
        {
          "output_type": "execute_result",
          "data": {
            "text/plain": [
              "(4423, 15)"
            ]
          },
          "metadata": {},
          "execution_count": 35
        }
      ],
      "source": [
        "# Age\n",
        "num[num['age_at_enrollment']>65]['age_at_enrollment'].value_counts()\n",
        "num=num[num['age_at_enrollment']<=65]\n",
        "num.shape"
      ]
    },
    {
      "cell_type": "code",
      "execution_count": 36,
      "id": "789baaa2",
      "metadata": {
        "colab": {
          "base_uri": "https://localhost:8080/"
        },
        "id": "789baaa2",
        "outputId": "71d29a1a-8e33-4c74-c9a5-a0fb4e89631d"
      },
      "outputs": [
        {
          "output_type": "execute_result",
          "data": {
            "text/plain": [
              "Index(['previous_qualification', 'previous_qualification_(grade)',\n",
              "       'admission_grade', 'age_at_enrollment',\n",
              "       'curricular_units_1st_sem_(evaluations)',\n",
              "       'curricular_units_1st_sem_(grade)',\n",
              "       'curricular_units_1st_sem_(without_evaluations)',\n",
              "       'curricular_units_2nd_sem_(credited)',\n",
              "       'curricular_units_2nd_sem_(enrolled)',\n",
              "       'curricular_units_2nd_sem_(evaluations)',\n",
              "       'curricular_units_2nd_sem_(grade)',\n",
              "       'curricular_units_2nd_sem_(without_evaluations)', 'unemployment_rate',\n",
              "       'inflation_rate', 'gdp'],\n",
              "      dtype='object')"
            ]
          },
          "metadata": {},
          "execution_count": 36
        }
      ],
      "source": [
        "num.columns"
      ]
    },
    {
      "cell_type": "markdown",
      "id": "e880adc7",
      "metadata": {
        "id": "e880adc7"
      },
      "source": [
        "# Categorical"
      ]
    },
    {
      "cell_type": "code",
      "execution_count": 37,
      "id": "da5ad72a",
      "metadata": {
        "id": "da5ad72a"
      },
      "outputs": [],
      "source": [
        "def plot_cat(df):\n",
        "    col=list(df.columns)\n",
        "    fig,ax=plt.subplots(int(np.ceil(len(col)/2)),2 ,figsize=(15,25))\n",
        "    plt.subplots_adjust(left=0.1,\n",
        "                    bottom=0.1, \n",
        "                    right=0.9, \n",
        "                    top=0.9, \n",
        "                    wspace=0.4, \n",
        "                    hspace=0.5)\n",
        "    j=0\n",
        "    k=0\n",
        "    for i in range(len(col)):\n",
        "        chart=sns.countplot(x=df[col[i]],data=df,ax=ax[j,k])\n",
        "        chart.set_xticklabels(chart.get_xticklabels(), rotation=45)\n",
        "        k=k+1\n",
        "        if k>=2:\n",
        "            j=j+1\n",
        "            k=0"
      ]
    },
    {
      "cell_type": "code",
      "execution_count": 38,
      "id": "0132ea02",
      "metadata": {
        "colab": {
          "base_uri": "https://localhost:8080/",
          "height": 0
        },
        "id": "0132ea02",
        "outputId": "e1a83d40-aff6-4460-9970-7786df442e51"
      },
      "outputs": [
        {
          "output_type": "display_data",
          "data": {
            "text/plain": [
              "<Figure size 1080x1800 with 18 Axes>"
            ],
            "image/png": "[encoded data removed]"
          },
          "metadata": {
            "needs_background": "light"
          }
        }
      ],
      "source": [
        "plot_cat(cat)"
      ]
    },
    {
      "cell_type": "markdown",
      "id": "e77497a0",
      "metadata": {
        "id": "e77497a0"
      },
      "source": [
        "# X,Y"
      ]
    },
    {
      "cell_type": "code",
      "execution_count": 39,
      "id": "ad899212",
      "metadata": {
        "colab": {
          "base_uri": "https://localhost:8080/"
        },
        "id": "ad899212",
        "outputId": "3157e836-3698-4f7a-929d-d9e1312303b5"
      },
      "outputs": [
        {
          "output_type": "stream",
          "name": "stdout",
          "text": [
            "(4423, 18)\n",
            "(4423, 15)\n"
          ]
        }
      ],
      "source": [
        "# Removing rows in cat which we delete in numerical removing outliers\n",
        "#cat.loc[cat.index.isin(numerical.index),'HandsetPrice'] = numerical.HandsetPrice\n",
        "cols=cat.columns\n",
        "cat_df = pd.DataFrame(cat, columns=cols, index =num.index)\n",
        "num_df=num\n",
        "print(cat_df.shape)\n",
        "print(num_df.shape)"
      ]
    },
    {
      "cell_type": "code",
      "execution_count": 40,
      "id": "0208860d",
      "metadata": {
        "colab": {
          "base_uri": "https://localhost:8080/"
        },
        "id": "0208860d",
        "outputId": "5fb9b054-9bce-4a8e-afcb-779934955c56"
      },
      "outputs": [
        {
          "output_type": "execute_result",
          "data": {
            "text/plain": [
              "(4423, 32)"
            ]
          },
          "metadata": {},
          "execution_count": 40
        }
      ],
      "source": [
        "X=pd.concat([cat_df,num_df], axis=1) \n",
        "Y=X['target']\n",
        "X=X.drop('target',axis=1)\n",
        "X.shape\n"
      ]
    },
    {
      "cell_type": "markdown",
      "id": "e94a19c4",
      "metadata": {
        "id": "e94a19c4"
      },
      "source": [
        "# Train & Test Split"
      ]
    },
    {
      "cell_type": "code",
      "execution_count": 41,
      "id": "269b897d",
      "metadata": {
        "id": "269b897d"
      },
      "outputs": [],
      "source": [
        "X_train, X_test, y_train, y_test = train_test_split(X, Y, test_size=0.2, random_state=42)"
      ]
    },
    {
      "cell_type": "markdown",
      "id": "0e3e9c16",
      "metadata": {
        "id": "0e3e9c16"
      },
      "source": [
        "# Normalizing"
      ]
    },
    {
      "cell_type": "code",
      "execution_count": 42,
      "id": "97338ac4",
      "metadata": {
        "id": "97338ac4"
      },
      "outputs": [],
      "source": [
        "def normal(name,X_train,y_train,X_test,y_test):\n",
        "    \n",
        "    while ( name not in ['MinMaxScaler','PowerTransformer','StandardScaler']):\n",
        "        value = input(\"Incorrect transformer name, please enter a valid one: [1:'MinMaxScaler',2:'PowerTransformer',3:'StandardScaler']\")\n",
        "        if ( value == '1'):\n",
        "            name = \"MinMaxScaler\"\n",
        "        elif ( value == '2'):\n",
        "            name = \"PowerTransformer\"\n",
        "        elif ( value == \"3\"):\n",
        "            name = \"StandardScaler\"\n",
        "        else:\n",
        "            name = None\n",
        "    X_train_df = pd.DataFrame(X_train, columns=X.columns)\n",
        "    X_test_df  = pd.DataFrame(X_test,  columns=X.columns)\n",
        "    X_train_num = X_train_df.select_dtypes(include = np.number)\n",
        "    X_test_num  = X_test_df.select_dtypes(include = np.number)\n",
        "    X_train_cat = X_train_df.select_dtypes(include = 'object')\n",
        "    X_test_cat  = X_test_df.select_dtypes(include = 'object')  \n",
        "    encoder = OneHotEncoder(drop='first',handle_unknown='ignore')\n",
        "    encoder.fit(X_train_cat)\n",
        "    \n",
        "    X_train_cat_encoded = encoder.transform(X_train_cat).toarray()\n",
        "    cols = encoder.get_feature_names_out(input_features=X_train_cat.columns)\n",
        "    X_train_encoded_df = pd.DataFrame(X_train_cat_encoded, columns=cols, index = X_train_cat.index)\n",
        "    X_train_encoded = pd.concat([X_train_encoded_df,X_train_num], axis=1)\n",
        "    \n",
        "    X_test_cat_encoded = encoder.transform(X_test_cat).toarray()\n",
        "    X_test_cat_encoded_df = pd.DataFrame(X_test_cat_encoded,columns=cols, index = X_test_cat.index)\n",
        "    X_test_encoded = pd.concat([X_test_cat_encoded_df,X_test_num], axis=1)\n",
        "        \n",
        "    if name==\"MinMaxScaler\":\n",
        "        transformer = MinMaxScaler()\n",
        "        transformer.fit(X_train_encoded)\n",
        "    elif name==\"PowerTransformer\":\n",
        "        transformer = PowerTransformer()\n",
        "        transformer.fit(X_train_encoded)\n",
        "    elif name=='StandardScaler':\n",
        "        transformer = StandardScaler()\n",
        "        transformer.fit(X_train_encoded)\n",
        "        \n",
        "    X_train_scaled_total = transformer.transform(X_train_encoded)\n",
        "    X_train_scaled_total_df = pd.DataFrame(X_train_scaled_total, columns = X_train_encoded.columns)\n",
        "    X_test_scaled_total  = transformer.transform(X_test_encoded)\n",
        "    X_test_scaled_total_df = pd.DataFrame(X_test_scaled_total, columns= X_test_encoded.columns)\n",
        "\n",
        "    \n",
        "    return X_train_scaled_total_df, X_test_scaled_total_df"
      ]
    },
    {
      "cell_type": "code",
      "execution_count": 90,
      "id": "8b12914d",
      "metadata": {
        "colab": {
          "base_uri": "https://localhost:8080/"
        },
        "id": "8b12914d",
        "outputId": "6feeb8b5-c65b-452a-b77c-67d7e317c63f"
      },
      "outputs": [
        {
          "output_type": "stream",
          "name": "stderr",
          "text": [
            "/usr/local/lib/python3.7/dist-packages/sklearn/preprocessing/_encoders.py:174: UserWarning: Found unknown categories in columns [7, 8, 9] during transform. These unknown categories will be encoded as all zeros\n",
            "  UserWarning,\n"
          ]
        }
      ],
      "source": [
        "X_train, X_test=normal('MinMaxScaler',X_train,y_train,X_test,y_test)"
      ]
    },
    {
      "cell_type": "code",
      "execution_count": 91,
      "id": "fd0db501",
      "metadata": {
        "colab": {
          "base_uri": "https://localhost:8080/"
        },
        "id": "fd0db501",
        "outputId": "1ef2f9fd-f8d5-4d8b-b242-f62342c038e1"
      },
      "outputs": [
        {
          "output_type": "execute_result",
          "data": {
            "text/plain": [
              "0"
            ]
          },
          "metadata": {},
          "execution_count": 91
        }
      ],
      "source": [
        "sum(X_train.isna().sum())"
      ]
    },
    {
      "cell_type": "code",
      "execution_count": 92,
      "id": "d85a3b3b",
      "metadata": {
        "colab": {
          "base_uri": "https://localhost:8080/"
        },
        "id": "d85a3b3b",
        "outputId": "4d45b9f8-1541-4c8d-c653-77db5fa2705b"
      },
      "outputs": [
        {
          "output_type": "execute_result",
          "data": {
            "text/plain": [
              "0"
            ]
          },
          "metadata": {},
          "execution_count": 92
        }
      ],
      "source": [
        "y_train.isna().sum()"
      ]
    },
    {
      "cell_type": "code",
      "execution_count": 93,
      "id": "63e559ab",
      "metadata": {
        "colab": {
          "base_uri": "https://localhost:8080/"
        },
        "id": "63e559ab",
        "outputId": "7e98902d-bf3e-4199-d3e4-92b2442ae978"
      },
      "outputs": [
        {
          "output_type": "execute_result",
          "data": {
            "text/plain": [
              "(3538,)"
            ]
          },
          "metadata": {},
          "execution_count": 93
        }
      ],
      "source": [
        "y_train.shape"
      ]
    },
    {
      "cell_type": "code",
      "execution_count": 94,
      "id": "3a3930e7",
      "metadata": {
        "colab": {
          "base_uri": "https://localhost:8080/"
        },
        "id": "3a3930e7",
        "outputId": "c622c9e3-6b77-404d-dc29-32accd85c536"
      },
      "outputs": [
        {
          "output_type": "execute_result",
          "data": {
            "text/plain": [
              "(885,)"
            ]
          },
          "metadata": {},
          "execution_count": 94
        }
      ],
      "source": [
        "y_test.shape"
      ]
    },
    {
      "cell_type": "markdown",
      "id": "a01ce1f5",
      "metadata": {
        "id": "a01ce1f5"
      },
      "source": [
        "# UP Sampling"
      ]
    },
    {
      "cell_type": "code",
      "execution_count": 95,
      "id": "2bf2669c",
      "metadata": {
        "colab": {
          "base_uri": "https://localhost:8080/"
        },
        "id": "2bf2669c",
        "outputId": "4eb3fbaa-e3f3-4d29-a317-501e2f6c7a1f"
      },
      "outputs": [
        {
          "output_type": "execute_result",
          "data": {
            "text/plain": [
              "Graduate    3003\n",
              "Dropout     1421\n",
              "Name: target, dtype: int64"
            ]
          },
          "metadata": {},
          "execution_count": 95
        }
      ],
      "source": [
        "#We have Class inbalance so we are foing to do Upsampling\n",
        "data['target'].value_counts()"
      ]
    },
    {
      "cell_type": "code",
      "execution_count": 96,
      "id": "4af865cd",
      "metadata": {
        "colab": {
          "base_uri": "https://localhost:8080/"
        },
        "id": "4af865cd",
        "outputId": "b18f1ce8-1c64-4f96-dd5a-1fb2dec8bd84"
      },
      "outputs": [
        {
          "output_type": "stream",
          "name": "stdout",
          "text": [
            "(2403, 218)\n",
            "(1135, 218)\n",
            "(2403, 218)\n"
          ]
        }
      ],
      "source": [
        "trainset = pd.concat([X_train.reset_index(drop=True), y_train.reset_index(drop=True)], axis=1)\n",
        "# Manual way to Upsampling Dropout:\n",
        "category_G = trainset[trainset['target']=='Graduate']\n",
        "print(category_G.shape)\n",
        "category_D = trainset[trainset['target']== 'Dropout' ]\n",
        "print(category_D.shape)\n",
        "category_up=category_D.sample(len(trainset[trainset['target']=='Graduate']),replace=True)\n",
        "print(category_up.shape)"
      ]
    },
    {
      "cell_type": "code",
      "execution_count": 85,
      "id": "b5c4d8c2",
      "metadata": {
        "colab": {
          "base_uri": "https://localhost:8080/"
        },
        "id": "b5c4d8c2",
        "outputId": "73d19f4a-a21b-40a8-aa0d-79aee59f57b8"
      },
      "outputs": [
        {
          "output_type": "execute_result",
          "data": {
            "text/plain": [
              "0"
            ]
          },
          "metadata": {},
          "execution_count": 85
        }
      ],
      "source": [
        "sum(X_train.isna().sum())"
      ]
    },
    {
      "cell_type": "code",
      "execution_count": 97,
      "id": "721f17c1",
      "metadata": {
        "colab": {
          "base_uri": "https://localhost:8080/"
        },
        "id": "721f17c1",
        "outputId": "74155a45-7031-4bc8-a00b-0d8d05d07d90"
      },
      "outputs": [
        {
          "output_type": "stream",
          "name": "stdout",
          "text": [
            "(4806, 217)\n",
            "(885, 217)\n",
            "(4806,)\n",
            "(885,)\n"
          ]
        }
      ],
      "source": [
        "# Concatinate and Train & test Spli\n",
        "#concatinate\n",
        "trainset_new = pd.concat([category_G, category_up], axis = 0)\n",
        "trainset_new = trainset_new.sample(frac =1) #randomize the rows\n",
        "X_train_up = trainset_new.drop(['target'], axis=1)\n",
        "y_train_up = trainset_new['target']\n",
        "#data = data.reset_index(drop=True)\n",
        "print(X_train_up.shape)\n",
        "print(X_test.shape)\n",
        "print(y_train_up.shape)\n",
        "print(y_test.shape)"
      ]
    },
    {
      "cell_type": "code",
      "execution_count": 98,
      "id": "346e8a7b",
      "metadata": {
        "colab": {
          "base_uri": "https://localhost:8080/"
        },
        "id": "346e8a7b",
        "outputId": "ed7734bc-ddb4-4225-9a9c-6b1834707dba"
      },
      "outputs": [
        {
          "output_type": "execute_result",
          "data": {
            "text/plain": [
              "0"
            ]
          },
          "metadata": {},
          "execution_count": 98
        }
      ],
      "source": [
        "sum(X_train_up.isna().sum())"
      ]
    },
    {
      "cell_type": "markdown",
      "id": "f70f7bba",
      "metadata": {
        "id": "f70f7bba"
      },
      "source": [
        "# Predictions"
      ]
    },
    {
      "cell_type": "markdown",
      "id": "ce0a48e8",
      "metadata": {
        "id": "ce0a48e8"
      },
      "source": [
        "## RandomForestClassifier"
      ]
    },
    {
      "cell_type": "code",
      "execution_count": 88,
      "id": "7c519f9a",
      "metadata": {
        "colab": {
          "base_uri": "https://localhost:8080/"
        },
        "id": "7c519f9a",
        "outputId": "94c89301-f110-4078-9a0f-ae01be091171"
      },
      "outputs": [
        {
          "output_type": "execute_result",
          "data": {
            "text/plain": [
              "RandomForestClassifier(max_depth=3, max_samples=0.5, min_samples_leaf=2,\n",
              "                       min_samples_split=4, random_state=10)"
            ]
          },
          "metadata": {},
          "execution_count": 88
        }
      ],
      "source": [
        "rfc = RandomForestClassifier(max_depth=3,\n",
        "                             min_samples_split=4,\n",
        "                             min_samples_leaf =2,\n",
        "                             max_samples=0.5,\n",
        "                             random_state = 10)\n",
        "rfc.fit(X_train_up, y_train_up)\n",
        "\n"
      ]
    },
    {
      "cell_type": "code",
      "execution_count": 89,
      "id": "9b7cd878",
      "metadata": {
        "colab": {
          "base_uri": "https://localhost:8080/",
          "height": 139
        },
        "id": "9b7cd878",
        "outputId": "bd3878f7-7b0e-4ccc-eee1-57b4518b6acd"
      },
      "outputs": [
        {
          "output_type": "stream",
          "name": "stdout",
          "text": [
            "The accuracy for the Random Forest in the TRAIN set is 0.81\n",
            "The accuracy for the Random Forest in the TEST  set is 0.84\n"
          ]
        },
        {
          "output_type": "display_data",
          "data": {
            "text/plain": [
              "Graduate    600\n",
              "Dropout     285\n",
              "Name: target, dtype: int64"
            ]
          },
          "metadata": {}
        },
        {
          "output_type": "display_data",
          "data": {
            "text/plain": [
              "array([[204,  81],\n",
              "       [ 62, 538]])"
            ]
          },
          "metadata": {}
        }
      ],
      "source": [
        "print(\"The accuracy for the Random Forest in the TRAIN set is {:.2f}\".format(rfc.score(X_train_up, y_train_up)))\n",
        "print(\"The accuracy for the Random Forest in the TEST  set is {:.2f}\".format(rfc.score(X_test, y_test)))\n",
        "\n",
        "y_pred = rfc.predict(X_test)\n",
        "y_pred_train = rfc.predict(X_train_up)\n",
        "display(y_test.value_counts())\n",
        "display(confusion_matrix(y_test, y_pred))\n",
        "conf_m=confusion_matrix(y_test, y_pred)"
      ]
    },
    {
      "cell_type": "code",
      "execution_count": 90,
      "id": "e27cc41d",
      "metadata": {
        "colab": {
          "base_uri": "https://localhost:8080/",
          "height": 279
        },
        "id": "e27cc41d",
        "outputId": "bca43a87-8837-41eb-8119-8fa29aec5d3c"
      },
      "outputs": [
        {
          "output_type": "display_data",
          "data": {
            "text/plain": [
              "<Figure size 432x288 with 2 Axes>"
            ],
            "image/png": "[encoded data removed]"
          },
          "metadata": {
            "needs_background": "light"
          }
        }
      ],
      "source": [
        "cm_train = confusion_matrix(y_test,y_pred)\n",
        "cm_train\n",
        "disp = ConfusionMatrixDisplay(cm_train,display_labels=rfc.classes_);\n",
        "disp.plot()\n",
        "plt.show()"
      ]
    },
    {
      "cell_type": "markdown",
      "id": "ce030791",
      "metadata": {
        "id": "ce030791"
      },
      "source": [
        "## Grid Search"
      ]
    },
    {
      "cell_type": "code",
      "execution_count": 91,
      "id": "d01097d1",
      "metadata": {
        "id": "d01097d1"
      },
      "outputs": [],
      "source": [
        "param_grid = {\n",
        "    'n_estimators' : [100, 300],\n",
        "    'min_samples_split': [3, 5, 10], \n",
        "    'max_features': [3, 5, 10, 20],\n",
        "    'max_depth': [3, 5, 15, 25]\n",
        "}\n",
        "model = RandomForestClassifier()"
      ]
    },
    {
      "cell_type": "code",
      "source": [
        "precision_score=make_scorer(precision_score,greater_is_better=True,pos_label=\"Dropout\")\n",
        "recall_scorer = make_scorer(recall_score, greater_is_better=True,pos_label=\"Dropout\")\n",
        "kappa_scorer= make_scorer(cohen_kappa_score,greater_is_better=True)"
      ],
      "metadata": {
        "id": "9XMUfO7Ctiwv"
      },
      "id": "9XMUfO7Ctiwv",
      "execution_count": 192,
      "outputs": []
    },
    {
      "cell_type": "code",
      "execution_count": 93,
      "id": "8560ede7",
      "metadata": {
        "colab": {
          "base_uri": "https://localhost:8080/"
        },
        "id": "8560ede7",
        "outputId": "f53f46c4-9ad8-4e54-a93d-4a5273fd7348"
      },
      "outputs": [
        {
          "output_type": "stream",
          "name": "stdout",
          "text": [
            "Fitting 5 folds for each of 96 candidates, totalling 480 fits\n"
          ]
        },
        {
          "output_type": "execute_result",
          "data": {
            "text/plain": [
              "GridSearchCV(cv=5, estimator=RandomForestClassifier(), n_jobs=100,\n",
              "             param_grid={'max_depth': [3, 5, 15, 25],\n",
              "                         'max_features': [3, 5, 10, 20],\n",
              "                         'min_samples_split': [3, 5, 10],\n",
              "                         'n_estimators': [100, 300]},\n",
              "             scoring=make_scorer(recall_score, pos_label=Dropout), verbose=10)"
            ]
          },
          "metadata": {},
          "execution_count": 93
        }
      ],
      "source": [
        "grid_search = GridSearchCV(estimator = model, param_grid =param_grid , cv = 5,scoring=recall_scorer, verbose=10, refit=True,n_jobs=100)\n",
        "grid_search.fit(X_train_up.values, y_train_up.values)"
      ]
    },
    {
      "cell_type": "code",
      "source": [
        "grid_search.best_params_"
      ],
      "metadata": {
        "colab": {
          "base_uri": "https://localhost:8080/"
        },
        "id": "6sAduHQ6KrpY",
        "outputId": "60ad29f6-3ef2-4b42-b798-b27dfd1eb826"
      },
      "id": "6sAduHQ6KrpY",
      "execution_count": 94,
      "outputs": [
        {
          "output_type": "execute_result",
          "data": {
            "text/plain": [
              "{'max_depth': 25,\n",
              " 'max_features': 20,\n",
              " 'min_samples_split': 3,\n",
              " 'n_estimators': 300}"
            ]
          },
          "metadata": {},
          "execution_count": 94
        }
      ]
    },
    {
      "cell_type": "code",
      "source": [
        "rfc = RandomForestClassifier(max_depth=3,\n",
        "                             max_features= 3,\n",
        "                             min_samples_split=3,\n",
        "                             n_estimators=100,\n",
        "                             )\n",
        "rfc.fit(X_train_up, y_train_up)"
      ],
      "metadata": {
        "colab": {
          "base_uri": "https://localhost:8080/"
        },
        "id": "227dUyjRKwkg",
        "outputId": "5695507c-c3c9-4a32-e911-7ffbb871b56c"
      },
      "id": "227dUyjRKwkg",
      "execution_count": 95,
      "outputs": [
        {
          "output_type": "execute_result",
          "data": {
            "text/plain": [
              "RandomForestClassifier(max_depth=3, max_features=3, min_samples_split=3)"
            ]
          },
          "metadata": {},
          "execution_count": 95
        }
      ]
    },
    {
      "cell_type": "code",
      "source": [
        ""
      ],
      "metadata": {
        "id": "fUpZMYw2cv-B"
      },
      "id": "fUpZMYw2cv-B",
      "execution_count": null,
      "outputs": []
    },
    {
      "cell_type": "code",
      "source": [
        "y_pred = rfc.predict(X_test)\n",
        "y_pred_train = rfc.predict(X_train_up)\n",
        "display(y_test.value_counts())\n",
        "display(confusion_matrix(y_test, y_pred))\n",
        "conf_m=confusion_matrix(y_test, y_pred)"
      ],
      "metadata": {
        "colab": {
          "base_uri": "https://localhost:8080/",
          "height": 104
        },
        "id": "Xncg3d3RK2Ts",
        "outputId": "b4453a41-77be-4048-bf66-56235b6dfbb4"
      },
      "id": "Xncg3d3RK2Ts",
      "execution_count": 96,
      "outputs": [
        {
          "output_type": "display_data",
          "data": {
            "text/plain": [
              "Graduate    600\n",
              "Dropout     285\n",
              "Name: target, dtype: int64"
            ]
          },
          "metadata": {}
        },
        {
          "output_type": "display_data",
          "data": {
            "text/plain": [
              "array([[209,  76],\n",
              "       [106, 494]])"
            ]
          },
          "metadata": {}
        }
      ]
    },
    {
      "cell_type": "code",
      "source": [
        "cm_train = confusion_matrix(y_test,y_pred)\n",
        "cm_train\n",
        "disp = ConfusionMatrixDisplay(cm_train,display_labels=rfc.classes_);\n",
        "disp.plot()\n",
        "plt.show()"
      ],
      "metadata": {
        "colab": {
          "base_uri": "https://localhost:8080/",
          "height": 279
        },
        "id": "G6QWtwMZK6Z0",
        "outputId": "de23da1a-4abf-4d3e-950f-425940342e7d"
      },
      "id": "G6QWtwMZK6Z0",
      "execution_count": 97,
      "outputs": [
        {
          "output_type": "display_data",
          "data": {
            "text/plain": [
              "<Figure size 432x288 with 2 Axes>"
            ],
            "image/png": "[encoded data removed]"
          },
          "metadata": {
            "needs_background": "light"
          }
        }
      ]
    },
    {
      "cell_type": "code",
      "source": [
        "param_grid = {\n",
        "    'min_samples_split' : [2,3,4,5],\n",
        "    'min_samples_leaf': [2,3,4], \n",
        "    'max_samples': [0.25,0.5], \n",
        "    'random_state' :[5,10,20,30],\n",
        "    'max_features': [3, 5, 10, 20],\n",
        "    'max_depth': [3, 5, 15, 25]\n",
        "}\n",
        "model = RandomForestClassifier()"
      ],
      "metadata": {
        "id": "seWkOEv2Rw7g"
      },
      "id": "seWkOEv2Rw7g",
      "execution_count": 98,
      "outputs": []
    },
    {
      "cell_type": "code",
      "source": [
        "grid_search = GridSearchCV(estimator = model, param_grid =param_grid , cv = 5,scoring=recall_scorer, verbose=10, refit=True,n_jobs=12)\n",
        "grid_search.fit(X_train_up.values, y_train_up.values)"
      ],
      "metadata": {
        "colab": {
          "base_uri": "https://localhost:8080/"
        },
        "id": "fi9zhlssRzBx",
        "outputId": "4ae2e7e5-98c2-4fe4-b263-0f7b6e9e77fa"
      },
      "id": "fi9zhlssRzBx",
      "execution_count": 99,
      "outputs": [
        {
          "output_type": "stream",
          "name": "stdout",
          "text": [
            "Fitting 5 folds for each of 1536 candidates, totalling 7680 fits\n"
          ]
        },
        {
          "output_type": "execute_result",
          "data": {
            "text/plain": [
              "GridSearchCV(cv=5, estimator=RandomForestClassifier(), n_jobs=12,\n",
              "             param_grid={'max_depth': [3, 5, 15, 25],\n",
              "                         'max_features': [3, 5, 10, 20],\n",
              "                         'max_samples': [0.25, 0.5],\n",
              "                         'min_samples_leaf': [2, 3, 4],\n",
              "                         'min_samples_split': [2, 3, 4, 5],\n",
              "                         'random_state': [5, 10, 20, 30]},\n",
              "             scoring=make_scorer(recall_score, pos_label=Dropout), verbose=10)"
            ]
          },
          "metadata": {},
          "execution_count": 99
        }
      ]
    },
    {
      "cell_type": "code",
      "source": [
        "grid_search.best_params_"
      ],
      "metadata": {
        "colab": {
          "base_uri": "https://localhost:8080/"
        },
        "id": "uwFiv5GZcpBK",
        "outputId": "6a9b0075-5503-49a1-e213-d10dcf9d9df2"
      },
      "id": "uwFiv5GZcpBK",
      "execution_count": 100,
      "outputs": [
        {
          "output_type": "execute_result",
          "data": {
            "text/plain": [
              "{'max_depth': 25,\n",
              " 'max_features': 20,\n",
              " 'max_samples': 0.5,\n",
              " 'min_samples_leaf': 2,\n",
              " 'min_samples_split': 2,\n",
              " 'random_state': 5}"
            ]
          },
          "metadata": {},
          "execution_count": 100
        }
      ]
    },
    {
      "cell_type": "code",
      "source": [
        "rfc = RandomForestClassifier(max_depth= 25,\n",
        "                            max_features =20,\n",
        "                            max_samples= 0.5,\n",
        "                            min_samples_leaf =2,\n",
        "                            min_samples_split=2,\n",
        "                            random_state=5,\n",
        "                             )\n",
        "rfc.fit(X_train_up, y_train_up)"
      ],
      "metadata": {
        "colab": {
          "base_uri": "https://localhost:8080/"
        },
        "id": "JF3DjbULcxNY",
        "outputId": "6ed51f0d-cb4e-4cee-a7eb-ef5444583e10"
      },
      "id": "JF3DjbULcxNY",
      "execution_count": 101,
      "outputs": [
        {
          "output_type": "execute_result",
          "data": {
            "text/plain": [
              "RandomForestClassifier(max_depth=25, max_features=20, max_samples=0.5,\n",
              "                       min_samples_leaf=2, random_state=5)"
            ]
          },
          "metadata": {},
          "execution_count": 101
        }
      ]
    },
    {
      "cell_type": "code",
      "source": [
        "y_pred = rfc.predict(X_test)\n",
        "y_pred_train = rfc.predict(X_train_up)\n",
        "display(y_test.value_counts())\n",
        "display(confusion_matrix(y_test, y_pred))\n",
        "conf_m=confusion_matrix(y_test, y_pred)"
      ],
      "metadata": {
        "colab": {
          "base_uri": "https://localhost:8080/",
          "height": 104
        },
        "id": "Kpw_VEbrc_a3",
        "outputId": "d6029203-8301-4a7a-87f6-4674185133c6"
      },
      "id": "Kpw_VEbrc_a3",
      "execution_count": 102,
      "outputs": [
        {
          "output_type": "display_data",
          "data": {
            "text/plain": [
              "Graduate    600\n",
              "Dropout     285\n",
              "Name: target, dtype: int64"
            ]
          },
          "metadata": {}
        },
        {
          "output_type": "display_data",
          "data": {
            "text/plain": [
              "array([[215,  70],\n",
              "       [ 50, 550]])"
            ]
          },
          "metadata": {}
        }
      ]
    },
    {
      "cell_type": "code",
      "source": [
        "cm_train = confusion_matrix(y_test,y_pred)\n",
        "cm_train\n",
        "disp = ConfusionMatrixDisplay(cm_train,display_labels=rfc.classes_);\n",
        "disp.plot()\n",
        "plt.show()"
      ],
      "metadata": {
        "colab": {
          "base_uri": "https://localhost:8080/",
          "height": 279
        },
        "id": "tJVn8O8HdEyf",
        "outputId": "00787ee1-576e-4090-e6ab-014d37b18ce9"
      },
      "id": "tJVn8O8HdEyf",
      "execution_count": 103,
      "outputs": [
        {
          "output_type": "display_data",
          "data": {
            "text/plain": [
              "<Figure size 432x288 with 2 Axes>"
            ],
            "image/png": "[encoded data removed]"
          },
          "metadata": {
            "needs_background": "light"
          }
        }
      ]
    },
    {
      "cell_type": "code",
      "source": [
        "print(\"The accuracy of in the TEST  set is: {:.3f}\".format(accuracy_score(y_test, y_pred)))\n",
        "print(\"The recall_score for the DecisionTree in the Train set is  \"+ str(round(recall_score(y_test, y_pred,pos_label='Dropout'),2)))\n",
        "print(\"The kappa in of the TEST set is: {:.2f}\".format(cohen_kappa_score(y_test,y_pred)))\n",
        "print(\"The precision_score for the DecisionTree in the Train set is  \"+ str(round(precision_score(y_test,y_pred,pos_label='Dropout'),2)))"
      ],
      "metadata": {
        "colab": {
          "base_uri": "https://localhost:8080/"
        },
        "id": "pjxlYeUrdb7W",
        "outputId": "9b023d24-87bb-4123-bc3d-28ea4936a777"
      },
      "id": "pjxlYeUrdb7W",
      "execution_count": 136,
      "outputs": [
        {
          "output_type": "stream",
          "name": "stdout",
          "text": [
            "The accuracy of in the TEST  set is: 0.864\n",
            "The recall_score for the DecisionTree in the Train set is  0.75\n",
            "The kappa in of the TEST set is: 0.68\n",
            "The precision_score for the DecisionTree in the Train set is  0.81\n"
          ]
        }
      ]
    },
    {
      "cell_type": "code",
      "source": [
        ""
      ],
      "metadata": {
        "id": "nNSZfUgOz4wb"
      },
      "id": "nNSZfUgOz4wb",
      "execution_count": 195,
      "outputs": []
    },
    {
      "cell_type": "markdown",
      "source": [
        "## Important Featurs"
      ],
      "metadata": {
        "id": "nj47X4J_0Xru"
      },
      "id": "nj47X4J_0Xru"
    },
    {
      "cell_type": "code",
      "source": [
        "importances = rfc.feature_importances_\n",
        "importances"
      ],
      "metadata": {
        "colab": {
          "base_uri": "https://localhost:8080/"
        },
        "id": "pBEwWhwtqeEM",
        "outputId": "6eb28a40-92ea-4dd9-9c7b-c2845ccbdd7e"
      },
      "id": "pBEwWhwtqeEM",
      "execution_count": 158,
      "outputs": [
        {
          "output_type": "execute_result",
          "data": {
            "text/plain": [
              "array([3.46872965e-03, 0.00000000e+00, 1.00339612e-03, 2.24207684e-04,\n",
              "       8.41625951e-05, 0.00000000e+00, 3.04957061e-05, 2.70715968e-03,\n",
              "       1.14879823e-04, 6.72551404e-04, 3.64724999e-04, 5.42812457e-03,\n",
              "       1.60632963e-03, 3.77839387e-05, 3.39636281e-05, 1.06019323e-02,\n",
              "       9.03585956e-04, 3.52546207e-03, 1.55111414e-03, 1.07184176e-03,\n",
              "       5.97612415e-04, 0.00000000e+00, 5.77035380e-03, 3.71220810e-03,\n",
              "       2.51995948e-03, 2.32998381e-03, 1.01194183e-03, 1.48464028e-03,\n",
              "       0.00000000e+00, 7.08435331e-03, 1.96748734e-03, 1.60219212e-03,\n",
              "       2.14936040e-03, 2.87477539e-03, 5.41980533e-03, 4.68657862e-03,\n",
              "       3.02596278e-03, 4.50349699e-03, 3.21378619e-03, 1.17028111e-02,\n",
              "       1.34511119e-03, 2.43067598e-03, 3.68939858e-03, 5.73853310e-03,\n",
              "       2.53585688e-03, 3.41641771e-03, 0.00000000e+00, 1.18950322e-05,\n",
              "       0.00000000e+00, 0.00000000e+00, 0.00000000e+00, 0.00000000e+00,\n",
              "       0.00000000e+00, 8.89739737e-06, 0.00000000e+00, 0.00000000e+00,\n",
              "       2.04686597e-04, 0.00000000e+00, 3.36117436e-04, 0.00000000e+00,\n",
              "       1.07141063e-04, 0.00000000e+00, 2.79250224e-05, 1.21917431e-04,\n",
              "       0.00000000e+00, 0.00000000e+00, 1.00429321e-03, 3.32309580e-03,\n",
              "       4.31367252e-04, 3.40285457e-04, 1.60280907e-05, 2.32435926e-05,\n",
              "       0.00000000e+00, 9.50674103e-05, 1.09949832e-03, 0.00000000e+00,\n",
              "       4.67382755e-04, 5.21728816e-03, 0.00000000e+00, 0.00000000e+00,\n",
              "       1.18755393e-04, 0.00000000e+00, 0.00000000e+00, 3.51295961e-03,\n",
              "       0.00000000e+00, 0.00000000e+00, 5.55209229e-03, 3.43245431e-03,\n",
              "       1.31635423e-04, 5.05057388e-05, 8.68650688e-04, 0.00000000e+00,\n",
              "       2.37843181e-06, 0.00000000e+00, 7.35626022e-04, 2.30369756e-03,\n",
              "       1.01581242e-03, 1.37872677e-04, 0.00000000e+00, 6.73928119e-05,\n",
              "       0.00000000e+00, 3.46982489e-05, 4.79941242e-04, 0.00000000e+00,\n",
              "       0.00000000e+00, 3.90383717e-04, 5.32783653e-03, 1.89774937e-05,\n",
              "       1.81165921e-05, 0.00000000e+00, 0.00000000e+00, 0.00000000e+00,\n",
              "       8.52706387e-05, 3.53478655e-06, 2.22018377e-04, 3.77007498e-03,\n",
              "       0.00000000e+00, 0.00000000e+00, 5.89505062e-03, 4.94572425e-03,\n",
              "       4.50882334e-04, 2.72561451e-05, 0.00000000e+00, 0.00000000e+00,\n",
              "       3.38758724e-05, 9.15122986e-04, 2.01170496e-03, 3.67460716e-03,\n",
              "       5.03958239e-03, 4.46992375e-03, 5.69803262e-04, 1.73103270e-03,\n",
              "       1.29750955e-03, 6.23810206e-03, 2.64575503e-05, 8.61072922e-04,\n",
              "       5.58531279e-05, 0.00000000e+00, 3.43666489e-05, 0.00000000e+00,\n",
              "       0.00000000e+00, 0.00000000e+00, 0.00000000e+00, 2.30812837e-05,\n",
              "       0.00000000e+00, 0.00000000e+00, 0.00000000e+00, 0.00000000e+00,\n",
              "       0.00000000e+00, 0.00000000e+00, 3.29718139e-04, 0.00000000e+00,\n",
              "       4.50169845e-05, 1.14974998e-04, 1.51663602e-03, 2.68093938e-03,\n",
              "       4.21433233e-03, 4.68079184e-03, 3.48615423e-03, 2.07215345e-03,\n",
              "       4.04135806e-03, 2.22872803e-03, 5.32863264e-03, 2.66644161e-03,\n",
              "       1.13418081e-03, 9.25198649e-05, 0.00000000e+00, 0.00000000e+00,\n",
              "       0.00000000e+00, 0.00000000e+00, 0.00000000e+00, 0.00000000e+00,\n",
              "       2.63724821e-05, 0.00000000e+00, 0.00000000e+00, 0.00000000e+00,\n",
              "       0.00000000e+00, 0.00000000e+00, 0.00000000e+00, 1.54166356e-05,\n",
              "       0.00000000e+00, 0.00000000e+00, 0.00000000e+00, 0.00000000e+00,\n",
              "       3.02187062e-05, 9.66932605e-05, 0.00000000e+00, 0.00000000e+00,\n",
              "       0.00000000e+00, 0.00000000e+00, 1.30200050e-06, 0.00000000e+00,\n",
              "       1.83236979e-04, 2.26030792e-06, 0.00000000e+00, 7.77124496e-03,\n",
              "       7.42769806e-04, 1.84283283e-02, 7.55856836e-02, 1.95300165e-02,\n",
              "       2.39321099e-02, 9.37169271e-04, 1.02155391e-02, 3.76351134e-02,\n",
              "       3.90231264e-02, 4.99222927e-02, 4.46025942e-02, 1.02159114e-01,\n",
              "       3.62010916e-03, 5.97784795e-03, 2.64539111e-02, 6.61346349e-02,\n",
              "       1.67239953e-01, 6.05812218e-03, 2.12563026e-02, 1.87530814e-02,\n",
              "       2.13712823e-02])"
            ]
          },
          "metadata": {},
          "execution_count": 158
        }
      ]
    },
    {
      "cell_type": "code",
      "source": [
        "keys_list=list(X_test.columns)\n",
        "values_list=list(importances)\n",
        "zip_iterator = zip(keys_list, values_list)\n",
        "important = dict(zip_iterator)"
      ],
      "metadata": {
        "id": "qSFROSIbr06h"
      },
      "id": "qSFROSIbr06h",
      "execution_count": 185,
      "outputs": []
    },
    {
      "cell_type": "code",
      "source": [
        "important"
      ],
      "metadata": {
        "id": "JABTKwHpwf-d"
      },
      "id": "JABTKwHpwf-d",
      "execution_count": null,
      "outputs": []
    },
    {
      "cell_type": "code",
      "source": [
        "imoprtant_features = pd.DataFrame(important.items(), columns=['features', 'score'])"
      ],
      "metadata": {
        "id": "ZYePAySPysB6"
      },
      "id": "ZYePAySPysB6",
      "execution_count": 192,
      "outputs": []
    },
    {
      "cell_type": "code",
      "source": [
        "imoprtant_features.sort_values(by='score', ascending=False )\n",
        "imoprtant_features.to_csv('/content/drive/MyDrive/IRONHACK/Final_Project/imoprtant_features.csv')"
      ],
      "metadata": {
        "id": "ZgsdOgH7zNCD"
      },
      "id": "ZgsdOgH7zNCD",
      "execution_count": 197,
      "outputs": []
    },
    {
      "cell_type": "markdown",
      "source": [
        "## Neural Network"
      ],
      "metadata": {
        "id": "rUTwQr_VLY6x"
      },
      "id": "rUTwQr_VLY6x"
    },
    {
      "cell_type": "code",
      "source": [
        "#Because Neural network is sensetive to Scale we need to Normilize with Powertransformation"
      ],
      "metadata": {
        "id": "sJteNlcNLdoO"
      },
      "id": "sJteNlcNLdoO",
      "execution_count": 5,
      "outputs": []
    },
    {
      "cell_type": "markdown",
      "source": [
        "### Normalizing"
      ],
      "metadata": {
        "id": "U_LBNqRFRWSq"
      },
      "id": "U_LBNqRFRWSq"
    },
    {
      "cell_type": "code",
      "source": [
        "X_train_p, X_test_p=normal('PowerTransformer',X_train,y_train,X_test,y_test)"
      ],
      "metadata": {
        "colab": {
          "base_uri": "https://localhost:8080/"
        },
        "id": "DT6Q8yaTVbdr",
        "outputId": "affa2b2e-add9-4b05-f14b-b5b15b9c49ec"
      },
      "id": "DT6Q8yaTVbdr",
      "execution_count": 45,
      "outputs": [
        {
          "output_type": "stream",
          "name": "stderr",
          "text": [
            "/usr/local/lib/python3.7/dist-packages/sklearn/preprocessing/_encoders.py:174: UserWarning: Found unknown categories in columns [7, 8, 9] during transform. These unknown categories will be encoded as all zeros\n",
            "  UserWarning,\n",
            "/usr/local/lib/python3.7/dist-packages/sklearn/preprocessing/_data.py:3253: RuntimeWarning: divide by zero encountered in log\n",
            "  loglike = -n_samples / 2 * np.log(x_trans.var())\n"
          ]
        }
      ]
    },
    {
      "cell_type": "markdown",
      "source": [
        "###MLPClassifier"
      ],
      "metadata": {
        "id": "hE0WsPnIX1OT"
      },
      "id": "hE0WsPnIX1OT"
    },
    {
      "cell_type": "code",
      "source": [
        "from sklearn import preprocessing\n",
        "# Creating labelEncoder\n",
        "le = preprocessing.LabelEncoder()\n",
        "# Converting string labels into numbers.\n",
        "y_train_label=le.fit_transform(y_train)"
      ],
      "metadata": {
        "colab": {
          "base_uri": "https://localhost:8080/"
        },
        "id": "xvo4pZ_mZMFJ",
        "outputId": "12594ac6-fd80-4fc7-8b41-c41c223a08d2"
      },
      "id": "xvo4pZ_mZMFJ",
      "execution_count": 52,
      "outputs": [
        {
          "output_type": "execute_result",
          "data": {
            "text/plain": [
              "array([1, 1, 1, ..., 1, 0, 0])"
            ]
          },
          "metadata": {},
          "execution_count": 52
        }
      ]
    },
    {
      "cell_type": "code",
      "source": [
        "from sklearn.neural_network import MLPClassifier\n",
        "\n",
        "# Create model object\n",
        "clf = MLPClassifier(hidden_layer_sizes=(100,50,25,12,2),\n",
        "  activation='relu',\n",
        "  solver='adam',\n",
        "  alpha=0.0001, \n",
        "  batch_size='auto', \n",
        "  learning_rate='constant', \n",
        "  learning_rate_init=0.001,\n",
        "  power_t=0.5,\n",
        "  max_iter=200,\n",
        "  shuffle=True,\n",
        "  random_state=None,\n",
        "  tol=0.0001, \n",
        "  verbose=False,\n",
        "  warm_start=False, \n",
        "  momentum=0.9,\n",
        "  nesterovs_momentum=True,\n",
        "  early_stopping=False, validation_fraction=0.1, beta_1=0.9, beta_2=0.999, epsilon=1e-08, n_iter_no_change=10, max_fun=15000)\n",
        "# Fit data onto the model\n",
        "clf.fit(X_train,y_train)"
      ],
      "metadata": {
        "colab": {
          "base_uri": "https://localhost:8080/"
        },
        "id": "zavo0Wt_Zrld",
        "outputId": "24bf92ad-8aff-4cc5-9768-5288cf246070"
      },
      "id": "zavo0Wt_Zrld",
      "execution_count": 147,
      "outputs": [
        {
          "output_type": "stream",
          "name": "stderr",
          "text": [
            "/usr/local/lib/python3.7/dist-packages/sklearn/neural_network/_multilayer_perceptron.py:696: ConvergenceWarning: Stochastic Optimizer: Maximum iterations (200) reached and the optimization hasn't converged yet.\n",
            "  ConvergenceWarning,\n"
          ]
        },
        {
          "output_type": "execute_result",
          "data": {
            "text/plain": [
              "MLPClassifier(hidden_layer_sizes=(100, 50, 25, 12, 2))"
            ]
          },
          "metadata": {},
          "execution_count": 147
        }
      ]
    },
    {
      "cell_type": "code",
      "source": [
        "y_pred_n=clf.predict(X_test)\n",
        "print(\"The accuracy of in the TEST  set is: {:.3f}\".format(accuracy_score(y_test, y_pred_n)))\n",
        "print(\"The recall_score for in the Test set is  \"+ str(round(recall_score(y_test, y_pred_n,pos_label='Dropout'),2)))\n",
        "print(\"The kappa in of the TEST set is: {:.2f}\".format(cohen_kappa_score(y_test,y_pred_n)))\n",
        "print(\"The precision_score in the Test set is  \"+ str(round(precision_score(y_test,y_pred_n,pos_label='Dropout'),2)))"
      ],
      "metadata": {
        "colab": {
          "base_uri": "https://localhost:8080/"
        },
        "id": "QsnPYmi6aJNv",
        "outputId": "26b8a9cb-c20a-44ae-f2a5-4d4fcaf77d5d"
      },
      "id": "QsnPYmi6aJNv",
      "execution_count": 148,
      "outputs": [
        {
          "output_type": "stream",
          "name": "stdout",
          "text": [
            "The accuracy of in the TEST  set is: 0.793\n",
            "The recall_score for in the Test set is  0.78\n",
            "The kappa in of the TEST set is: 0.55\n",
            "The precision_score in the Test set is  0.65\n"
          ]
        }
      ]
    },
    {
      "cell_type": "code",
      "source": [
        "par=clf.get_params\n",
        "par"
      ],
      "metadata": {
        "colab": {
          "base_uri": "https://localhost:8080/"
        },
        "id": "aRF3ejNOczRI",
        "outputId": "f5709a3f-807d-41c9-ac3f-f730fcdbed66"
      },
      "id": "aRF3ejNOczRI",
      "execution_count": 62,
      "outputs": [
        {
          "output_type": "execute_result",
          "data": {
            "text/plain": [
              "<bound method BaseEstimator.get_params of MLPClassifier(hidden_layer_sizes=(7, 8))>"
            ]
          },
          "metadata": {},
          "execution_count": 62
        }
      ]
    },
    {
      "cell_type": "markdown",
      "source": [
        "###make_classification"
      ],
      "metadata": {
        "id": "xjGe5whOlBnw"
      },
      "id": "xjGe5whOlBnw"
    },
    {
      "cell_type": "code",
      "source": [
        "from sklearn.datasets import make_classification"
      ],
      "metadata": {
        "id": "DklNss-Uk8UN"
      },
      "id": "DklNss-Uk8UN",
      "execution_count": null,
      "outputs": []
    },
    {
      "cell_type": "code",
      "source": [
        "# Creating labelEncoder\n",
        "le = preprocessing.LabelEncoder()\n",
        "# Converting string labels into numbers.\n",
        "y_train_label=le.fit_transform(y_train_up)\n",
        "y_test_label=le.fit_transform(y_test)"
      ],
      "metadata": {
        "id": "ruulk7AJmbpF"
      },
      "id": "ruulk7AJmbpF",
      "execution_count": 244,
      "outputs": []
    },
    {
      "cell_type": "code",
      "source": [
        "pd.DataFrame(y_train_up)"
      ],
      "metadata": {
        "colab": {
          "base_uri": "https://localhost:8080/",
          "height": 424
        },
        "id": "BB9MsS6V1Q4l",
        "outputId": "f55e3cb6-f068-4b20-d0b7-d7e64b08b386"
      },
      "id": "BB9MsS6V1Q4l",
      "execution_count": 163,
      "outputs": [
        {
          "output_type": "execute_result",
          "data": {
            "text/plain": [
              "        target\n",
              "1351   Dropout\n",
              "574   Graduate\n",
              "2834  Graduate\n",
              "516    Dropout\n",
              "3291  Graduate\n",
              "...        ...\n",
              "700   Graduate\n",
              "667    Dropout\n",
              "1166   Dropout\n",
              "1970   Dropout\n",
              "259   Graduate\n",
              "\n",
              "[4806 rows x 1 columns]"
            ],
            "text/html": [
              "\n",
              "  <div id=\"df-395b1da4-cc41-4a2f-93ac-2e7f625857b2\">\n",
              "    <div class=\"colab-df-container\">\n",
              "      <div>\n",
              "<style scoped>\n",
              "    .dataframe tbody tr th:only-of-type {\n",
              "        vertical-align: middle;\n",
              "    }\n",
              "\n",
              "    .dataframe tbody tr th {\n",
              "        vertical-align: top;\n",
              "    }\n",
              "\n",
              "    .dataframe thead th {\n",
              "        text-align: right;\n",
              "    }\n",
              "</style>\n",
              "<table border=\"1\" class=\"dataframe\">\n",
              "  <thead>\n",
              "    <tr style=\"text-align: right;\">\n",
              "      <th></th>\n",
              "      <th>target</th>\n",
              "    </tr>\n",
              "  </thead>\n",
              "  <tbody>\n",
              "    <tr>\n",
              "      <th>1351</th>\n",
              "      <td>Dropout</td>\n",
              "    </tr>\n",
              "    <tr>\n",
              "      <th>574</th>\n",
              "      <td>Graduate</td>\n",
              "    </tr>\n",
              "    <tr>\n",
              "      <th>2834</th>\n",
              "      <td>Graduate</td>\n",
              "    </tr>\n",
              "    <tr>\n",
              "      <th>516</th>\n",
              "      <td>Dropout</td>\n",
              "    </tr>\n",
              "    <tr>\n",
              "      <th>3291</th>\n",
              "      <td>Graduate</td>\n",
              "    </tr>\n",
              "    <tr>\n",
              "      <th>...</th>\n",
              "      <td>...</td>\n",
              "    </tr>\n",
              "    <tr>\n",
              "      <th>700</th>\n",
              "      <td>Graduate</td>\n",
              "    </tr>\n",
              "    <tr>\n",
              "      <th>667</th>\n",
              "      <td>Dropout</td>\n",
              "    </tr>\n",
              "    <tr>\n",
              "      <th>1166</th>\n",
              "      <td>Dropout</td>\n",
              "    </tr>\n",
              "    <tr>\n",
              "      <th>1970</th>\n",
              "      <td>Dropout</td>\n",
              "    </tr>\n",
              "    <tr>\n",
              "      <th>259</th>\n",
              "      <td>Graduate</td>\n",
              "    </tr>\n",
              "  </tbody>\n",
              "</table>\n",
              "<p>4806 rows × 1 columns</p>\n",
              "</div>\n",
              "      <button class=\"colab-df-convert\" onclick=\"convertToInteractive('df-395b1da4-cc41-4a2f-93ac-2e7f625857b2')\"\n",
              "              title=\"Convert this dataframe to an interactive table.\"\n",
              "              style=\"display:none;\">\n",
              "        \n",
              "  <svg xmlns=\"http://www.w3.org/2000/svg\" height=\"24px\"viewBox=\"0 0 24 24\"\n",
              "       width=\"24px\">\n",
              "    <path d=\"M0 0h24v24H0V0z\" fill=\"none\"/>\n",
              "    <path d=\"M18.56 5.44l.94 2.06.94-2.06 2.06-.94-2.06-.94-.94-2.06-.94 2.06-2.06.94zm-11 1L8.5 8.5l.94-2.06 2.06-.94-2.06-.94L8.5 2.5l-.94 2.06-2.06.94zm10 10l.94 2.06.94-2.06 2.06-.94-2.06-.94-.94-2.06-.94 2.06-2.06.94z\"/><path d=\"M17.41 7.96l-1.37-1.37c-.4-.4-.92-.59-1.43-.59-.52 0-1.04.2-1.43.59L10.3 9.45l-7.72 7.72c-.78.78-.78 2.05 0 2.83L4 21.41c.39.39.9.59 1.41.59.51 0 1.02-.2 1.41-.59l7.78-7.78 2.81-2.81c.8-.78.8-2.07 0-2.86zM5.41 20L4 18.59l7.72-7.72 1.47 1.35L5.41 20z\"/>\n",
              "  </svg>\n",
              "      </button>\n",
              "      \n",
              "  <style>\n",
              "    .colab-df-container {\n",
              "      display:flex;\n",
              "      flex-wrap:wrap;\n",
              "      gap: 12px;\n",
              "    }\n",
              "\n",
              "    .colab-df-convert {\n",
              "      background-color: #E8F0FE;\n",
              "      border: none;\n",
              "      border-radius: 50%;\n",
              "      cursor: pointer;\n",
              "      display: none;\n",
              "      fill: #1967D2;\n",
              "      height: 32px;\n",
              "      padding: 0 0 0 0;\n",
              "      width: 32px;\n",
              "    }\n",
              "\n",
              "    .colab-df-convert:hover {\n",
              "      background-color: #E2EBFA;\n",
              "      box-shadow: 0px 1px 2px rgba(60, 64, 67, 0.3), 0px 1px 3px 1px rgba(60, 64, 67, 0.15);\n",
              "      fill: #174EA6;\n",
              "    }\n",
              "\n",
              "    [theme=dark] .colab-df-convert {\n",
              "      background-color: #3B4455;\n",
              "      fill: #D2E3FC;\n",
              "    }\n",
              "\n",
              "    [theme=dark] .colab-df-convert:hover {\n",
              "      background-color: #434B5C;\n",
              "      box-shadow: 0px 1px 3px 1px rgba(0, 0, 0, 0.15);\n",
              "      filter: drop-shadow(0px 1px 2px rgba(0, 0, 0, 0.3));\n",
              "      fill: #FFFFFF;\n",
              "    }\n",
              "  </style>\n",
              "\n",
              "      <script>\n",
              "        const buttonEl =\n",
              "          document.querySelector('#df-395b1da4-cc41-4a2f-93ac-2e7f625857b2 button.colab-df-convert');\n",
              "        buttonEl.style.display =\n",
              "          google.colab.kernel.accessAllowed ? 'block' : 'none';\n",
              "\n",
              "        async function convertToInteractive(key) {\n",
              "          const element = document.querySelector('#df-395b1da4-cc41-4a2f-93ac-2e7f625857b2');\n",
              "          const dataTable =\n",
              "            await google.colab.kernel.invokeFunction('convertToInteractive',\n",
              "                                                     [key], {});\n",
              "          if (!dataTable) return;\n",
              "\n",
              "          const docLinkHtml = 'Like what you see? Visit the ' +\n",
              "            '<a target=\"_blank\" href=https://colab.research.google.com/notebooks/data_table.ipynb>data table notebook</a>'\n",
              "            + ' to learn more about interactive tables.';\n",
              "          element.innerHTML = '';\n",
              "          dataTable['output_type'] = 'display_data';\n",
              "          await google.colab.output.renderOutput(dataTable, element);\n",
              "          const docLink = document.createElement('div');\n",
              "          docLink.innerHTML = docLinkHtml;\n",
              "          element.appendChild(docLink);\n",
              "        }\n",
              "      </script>\n",
              "    </div>\n",
              "  </div>\n",
              "  "
            ]
          },
          "metadata": {},
          "execution_count": 163
        }
      ]
    },
    {
      "cell_type": "code",
      "source": [
        "from tensorflow_addons.metrics import CohenKappa"
      ],
      "metadata": {
        "id": "bNw9lD8FznI8"
      },
      "id": "bNw9lD8FznI8",
      "execution_count": 215,
      "outputs": []
    },
    {
      "cell_type": "code",
      "source": [
        "from keras import backend as K\n",
        "def recall_m(y_true, y_pred):\n",
        "    true_positives = K.sum(K.round(K.clip(y_true * y_pred, 0, 1)))\n",
        "    possible_positives = K.sum(K.round(K.clip(y_true, 0, 1)))\n",
        "    recall = true_positives / (possible_positives + K.epsilon())\n",
        "    return recall"
      ],
      "metadata": {
        "id": "wU4CBWBn5FuD"
      },
      "id": "wU4CBWBn5FuD",
      "execution_count": 204,
      "outputs": []
    },
    {
      "cell_type": "code",
      "source": [
        "model_c1 = keras.Sequential()\n",
        "model_c1.add(Dense(units = 150,input_dim = X_train_up.shape[1],activation='relu'))\n",
        "model_c1.add(Dense(units = 80,activation='relu'))\n",
        "model_c1.add(Dense(units = 50,activation='relu'))\n",
        "model_c1.add(Dense(units = 20,activation='relu'))\n",
        "model_c1.add(Dense(units = 10, activation='sigmoid'))\n",
        "model_c1.add(Dense(units = 2, activation='sigmoid'))\n",
        "model_c1.compile(optimizer='rmsprop', \n",
        "              loss='sparse_categorical_crossentropy', \n",
        "              metrics=[recall_m] \n",
        "              )\n",
        "model_c1.summary()"
      ],
      "metadata": {
        "colab": {
          "base_uri": "https://localhost:8080/"
        },
        "id": "ZIMbJ2qZlJC5",
        "outputId": "167161b2-9102-4011-e9c1-9f95d1db5789"
      },
      "id": "ZIMbJ2qZlJC5",
      "execution_count": 287,
      "outputs": [
        {
          "output_type": "stream",
          "name": "stdout",
          "text": [
            "Model: \"sequential_34\"\n",
            "_________________________________________________________________\n",
            " Layer (type)                Output Shape              Param #   \n",
            "=================================================================\n",
            " dense_123 (Dense)           (None, 150)               32700     \n",
            "                                                                 \n",
            " dense_124 (Dense)           (None, 80)                12080     \n",
            "                                                                 \n",
            " dense_125 (Dense)           (None, 50)                4050      \n",
            "                                                                 \n",
            " dense_126 (Dense)           (None, 20)                1020      \n",
            "                                                                 \n",
            " dense_127 (Dense)           (None, 10)                210       \n",
            "                                                                 \n",
            " dense_128 (Dense)           (None, 2)                 22        \n",
            "                                                                 \n",
            "=================================================================\n",
            "Total params: 50,082\n",
            "Trainable params: 50,082\n",
            "Non-trainable params: 0\n",
            "_________________________________________________________________\n"
          ]
        }
      ]
    },
    {
      "cell_type": "code",
      "source": [
        "checkpoint_path = '/content/drive/MyDrive/IRONHACK/Final_Project/Checkpoint/cls-nn1.hdf5'\n",
        "checkpoint = ModelCheckpoint(\n",
        "    filepath=checkpoint_path,\n",
        "    save_freq='epoch',\n",
        "    save_weights_only=False,\n",
        "    verbose=1\n",
        ")"
      ],
      "metadata": {
        "id": "vpM-s5KAnTqU"
      },
      "id": "vpM-s5KAnTqU",
      "execution_count": 283,
      "outputs": []
    },
    {
      "cell_type": "code",
      "source": [
        "early_stopping = EarlyStopping(patience=5)"
      ],
      "metadata": {
        "id": "P7jmCLvzqcrf"
      },
      "id": "P7jmCLvzqcrf",
      "execution_count": 288,
      "outputs": []
    },
    {
      "cell_type": "code",
      "source": [
        "history_c1 = model_c1.fit(\n",
        "    X_train_up, \n",
        "    y_train_label, \n",
        "    epochs=60, \n",
        "    validation_split=0.20, \n",
        "    batch_size=10, \n",
        "    verbose=2,\n",
        "    callbacks=[early_stopping,checkpoint]\n",
        ")"
      ],
      "metadata": {
        "colab": {
          "base_uri": "https://localhost:8080/"
        },
        "id": "V3pKRV1FnfOd",
        "outputId": "43af60ed-6d85-4ae3-ff28-4b6578173a79"
      },
      "id": "V3pKRV1FnfOd",
      "execution_count": 289,
      "outputs": [
        {
          "output_type": "stream",
          "name": "stdout",
          "text": [
            "Epoch 1/60\n",
            "\n",
            "Epoch 1: saving model to /content/drive/MyDrive/IRONHACK/Final_Project/Checkpoint/cls-nn1.hdf5\n",
            "385/385 - 4s - loss: 0.4820 - recall_m: 0.6440 - val_loss: 0.3950 - val_recall_m: 0.7763 - 4s/epoch - 12ms/step\n",
            "Epoch 2/60\n",
            "\n",
            "Epoch 2: saving model to /content/drive/MyDrive/IRONHACK/Final_Project/Checkpoint/cls-nn1.hdf5\n",
            "385/385 - 1s - loss: 0.3886 - recall_m: 0.9012 - val_loss: 0.3665 - val_recall_m: 0.9505 - 890ms/epoch - 2ms/step\n",
            "Epoch 3/60\n",
            "\n",
            "Epoch 3: saving model to /content/drive/MyDrive/IRONHACK/Final_Project/Checkpoint/cls-nn1.hdf5\n",
            "385/385 - 1s - loss: 0.3522 - recall_m: 0.9425 - val_loss: 0.3897 - val_recall_m: 0.8227 - 947ms/epoch - 2ms/step\n",
            "Epoch 4/60\n",
            "\n",
            "Epoch 4: saving model to /content/drive/MyDrive/IRONHACK/Final_Project/Checkpoint/cls-nn1.hdf5\n",
            "385/385 - 1s - loss: 0.3120 - recall_m: 0.9433 - val_loss: 0.3372 - val_recall_m: 0.9324 - 936ms/epoch - 2ms/step\n",
            "Epoch 5/60\n",
            "\n",
            "Epoch 5: saving model to /content/drive/MyDrive/IRONHACK/Final_Project/Checkpoint/cls-nn1.hdf5\n",
            "385/385 - 1s - loss: 0.2803 - recall_m: 0.9628 - val_loss: 0.3247 - val_recall_m: 0.9609 - 931ms/epoch - 2ms/step\n",
            "Epoch 6/60\n",
            "\n",
            "Epoch 6: saving model to /content/drive/MyDrive/IRONHACK/Final_Project/Checkpoint/cls-nn1.hdf5\n",
            "385/385 - 1s - loss: 0.2467 - recall_m: 0.9738 - val_loss: 0.3288 - val_recall_m: 0.9817 - 956ms/epoch - 2ms/step\n",
            "Epoch 7/60\n",
            "\n",
            "Epoch 7: saving model to /content/drive/MyDrive/IRONHACK/Final_Project/Checkpoint/cls-nn1.hdf5\n",
            "385/385 - 1s - loss: 0.2178 - recall_m: 0.9867 - val_loss: 0.3429 - val_recall_m: 0.9888 - 934ms/epoch - 2ms/step\n",
            "Epoch 8/60\n",
            "\n",
            "Epoch 8: saving model to /content/drive/MyDrive/IRONHACK/Final_Project/Checkpoint/cls-nn1.hdf5\n",
            "385/385 - 1s - loss: 0.1980 - recall_m: 0.9906 - val_loss: 0.3004 - val_recall_m: 0.9981 - 902ms/epoch - 2ms/step\n",
            "Epoch 9/60\n",
            "\n",
            "Epoch 9: saving model to /content/drive/MyDrive/IRONHACK/Final_Project/Checkpoint/cls-nn1.hdf5\n",
            "385/385 - 1s - loss: 0.1771 - recall_m: 0.9888 - val_loss: 0.3454 - val_recall_m: 0.9910 - 900ms/epoch - 2ms/step\n",
            "Epoch 10/60\n",
            "\n",
            "Epoch 10: saving model to /content/drive/MyDrive/IRONHACK/Final_Project/Checkpoint/cls-nn1.hdf5\n",
            "385/385 - 1s - loss: 0.1577 - recall_m: 0.9960 - val_loss: 0.3337 - val_recall_m: 1.0052 - 916ms/epoch - 2ms/step\n",
            "Epoch 11/60\n",
            "\n",
            "Epoch 11: saving model to /content/drive/MyDrive/IRONHACK/Final_Project/Checkpoint/cls-nn1.hdf5\n",
            "385/385 - 1s - loss: 0.1413 - recall_m: 1.0010 - val_loss: 0.3010 - val_recall_m: 1.0068 - 929ms/epoch - 2ms/step\n",
            "Epoch 12/60\n",
            "\n",
            "Epoch 12: saving model to /content/drive/MyDrive/IRONHACK/Final_Project/Checkpoint/cls-nn1.hdf5\n",
            "385/385 - 1s - loss: 0.1207 - recall_m: 1.0001 - val_loss: 0.3394 - val_recall_m: 1.0007 - 936ms/epoch - 2ms/step\n",
            "Epoch 13/60\n",
            "\n",
            "Epoch 13: saving model to /content/drive/MyDrive/IRONHACK/Final_Project/Checkpoint/cls-nn1.hdf5\n",
            "385/385 - 1s - loss: 0.1069 - recall_m: 0.9992 - val_loss: 0.3822 - val_recall_m: 1.0000 - 905ms/epoch - 2ms/step\n"
          ]
        }
      ]
    },
    {
      "cell_type": "code",
      "source": [
        "def plot_metric(history, metric):\n",
        "    train_metrics = history.history[metric] # Get the error metric for the TRAIN set\n",
        "    val_metrics = history.history['val_'+metric] # Get the error metric for the VALIDATION set\n",
        "    epochs = range(1, len(train_metrics) + 1) # range(1,6) -> 1,2,3,4,5\n",
        "    plt.plot(epochs, train_metrics)\n",
        "    plt.plot(epochs, val_metrics)\n",
        "    plt.title('Training and validation '+ metric)\n",
        "    plt.xlabel(\"Epochs\")\n",
        "    plt.ylabel(metric)\n",
        "    plt.yscale('log')\n",
        "    plt.legend([\"train_\"+metric, 'val_'+metric])\n",
        "    plt.show()"
      ],
      "metadata": {
        "id": "Fuzw7gRi1b26"
      },
      "id": "Fuzw7gRi1b26",
      "execution_count": 236,
      "outputs": []
    },
    {
      "cell_type": "code",
      "source": [
        "plot_metric(history_c1,'loss')"
      ],
      "metadata": {
        "colab": {
          "base_uri": "https://localhost:8080/",
          "height": 295
        },
        "id": "dDvwv5kfCKv4",
        "outputId": "13fddcc9-8db4-479e-fb2e-44f390302096"
      },
      "id": "dDvwv5kfCKv4",
      "execution_count": 290,
      "outputs": [
        {
          "output_type": "display_data",
          "data": {
            "text/plain": [
              "<Figure size 432x288 with 1 Axes>"
            ],
            "image/png": "[encoded data removed]"
          },
          "metadata": {
            "needs_background": "light"
          }
        }
      ]
    },
    {
      "cell_type": "code",
      "source": [
        "def model_performance_class(y_train, y_pred_train, y_test, y_pred_test):\n",
        "\n",
        "    from sklearn.metrics import cohen_kappa_score, classification_report \n",
        "\n",
        "\n",
        "    print(\"Results obtained for the TRAIN SET\")\n",
        "    print(\"==================================\")\n",
        "    print(\"The Cohen's Kappa is: {:.2f}\".format(cohen_kappa_score(y_train, y_pred_train)))\n",
        "    print(classification_report(y_train, y_pred_train))\n",
        "    print(\"==================================\")\n",
        "    print(\"Results obtained for the TEST SET\")\n",
        "    print(\"The Cohen's Kappa is: {:.2f}\".format(cohen_kappa_score(y_test, y_pred_test)))\n",
        "    print(classification_report(y_test, y_pred_test))"
      ],
      "metadata": {
        "id": "AD0c8ipiCiL6"
      },
      "id": "AD0c8ipiCiL6",
      "execution_count": 270,
      "outputs": []
    },
    {
      "cell_type": "code",
      "source": [
        "y_pred_train_c1 = model_c1.predict(X_train_up) # This provides the probability for each class\n",
        "y_pred_test_c1  = model_c1.predict(X_test) # This provides the probability for each class\n",
        "\n",
        "# We need to extract for each row which is the class which the highest probability\n",
        "# which corresponds to the index of the sublist\n",
        "y_pred_train_c1 = np.argmax(y_pred_train_c1, axis=1).reshape(-1,1)\n",
        "y_pred_test_c1  = np.argmax(y_pred_test_c1, axis=1).reshape(-1,1)\n",
        "\n",
        "model_performance_class(y_train_label, y_pred_train_c1, y_test_label, y_pred_test_c1)"
      ],
      "metadata": {
        "colab": {
          "base_uri": "https://localhost:8080/"
        },
        "id": "oGTGMVQYCoDe",
        "outputId": "8adfd7a6-8ea2-439b-eb26-94de0cbb2dc3"
      },
      "id": "oGTGMVQYCoDe",
      "execution_count": 291,
      "outputs": [
        {
          "output_type": "stream",
          "name": "stdout",
          "text": [
            "Results obtained for the TRAIN SET\n",
            "==================================\n",
            "The Cohen's Kappa is: 0.89\n",
            "              precision    recall  f1-score   support\n",
            "\n",
            "           0       0.98      0.91      0.95      2403\n",
            "           1       0.92      0.98      0.95      2403\n",
            "\n",
            "    accuracy                           0.95      4806\n",
            "   macro avg       0.95      0.95      0.95      4806\n",
            "weighted avg       0.95      0.95      0.95      4806\n",
            "\n",
            "==================================\n",
            "Results obtained for the TEST SET\n",
            "The Cohen's Kappa is: 0.54\n",
            "              precision    recall  f1-score   support\n",
            "\n",
            "           0       0.78      0.59      0.67       285\n",
            "           1       0.82      0.92      0.87       600\n",
            "\n",
            "    accuracy                           0.81       885\n",
            "   macro avg       0.80      0.75      0.77       885\n",
            "weighted avg       0.81      0.81      0.81       885\n",
            "\n"
          ]
        }
      ]
    },
    {
      "cell_type": "code",
      "source": [
        "def create_cla_nn_model(inputs,layer_list= [100,70,50,20,10,2],\n",
        "                        activations = ['relu','relu','relu','relu','sigmoid','sigmoid'],\n",
        "                        dropouts = [0.25,0,0],\n",
        "                        regularizers = [('l1',0.01),('l2',0.01)]):\n",
        "    '''\n",
        "    This function creates a neural network with the given amount of layers, neurons,\n",
        "    activations, dropouts and regularizers.\n",
        "    Inputs: \n",
        "    inputs -> input size. It must be integer\n",
        "    activations -> a list of activation functions to be used in each layer\n",
        "    droputs -> a list of dropouts coefficients to be used in each layer except the last one\n",
        "    regularizers -> a list of regularizers to be used in the last layer. Coefficients should\n",
        "    be set to zero if no regularizers are wanted.\n",
        "    Output:\n",
        "    neural network already compiled with: 'adam' optimizer and 'mse' as the loss.\n",
        "    '''\n",
        "    \n",
        "    model = keras.Sequential()\n",
        "\n",
        "    my_list = list(zip(layer_list,activations,dropouts))\n",
        "\n",
        "    for index, elem in enumerate(my_list):\n",
        "        if ( index == 0 ):      \n",
        "            model.add(Dense(units = elem[0],input_dim = inputs,activation=elem[1]))\n",
        "            if ( elem[2] != 0 ):\n",
        "            # Adding a dropout layer with regularization parameter (it must be between [0,1) )\n",
        "                model.add(Dropout(elem[2]))\n",
        "        else:\n",
        "            model.add(Dense(units = elem[0],activation=elem[1]))\n",
        "        if ( index == len(my_list) ):\n",
        "            model.add(Dense(elem[0], activation=elem[1],\n",
        "                            activity_regularizer=\n",
        "                            regularizers.l1_l2(l1=regularizers[0][1], l2=regularizers[1][1])))\n",
        "\n",
        "    # Compile the final network\n",
        "    model.compile(optimizer='rmsprop', \n",
        "              loss='sparse_categorical_crossentropy', \n",
        "              metrics=[recall_m] \n",
        "              )\n",
        "    model.summary()\n",
        "\n",
        "    return model"
      ],
      "metadata": {
        "id": "8DyEGqkWG9m8"
      },
      "id": "8DyEGqkWG9m8",
      "execution_count": 302,
      "outputs": []
    },
    {
      "cell_type": "code",
      "source": [
        "model_c2 = create_cla_nn_model(X_train_up.shape[1])"
      ],
      "metadata": {
        "colab": {
          "base_uri": "https://localhost:8080/"
        },
        "id": "vDoOS39VH8xJ",
        "outputId": "e61ee868-05bd-4a6c-84a6-c65b19227bc3"
      },
      "id": "vDoOS39VH8xJ",
      "execution_count": 303,
      "outputs": [
        {
          "output_type": "stream",
          "name": "stdout",
          "text": [
            "Model: \"sequential_36\"\n",
            "_________________________________________________________________\n",
            " Layer (type)                Output Shape              Param #   \n",
            "=================================================================\n",
            " dense_132 (Dense)           (None, 100)               21800     \n",
            "                                                                 \n",
            " dropout_1 (Dropout)         (None, 100)               0         \n",
            "                                                                 \n",
            " dense_133 (Dense)           (None, 70)                7070      \n",
            "                                                                 \n",
            " dense_134 (Dense)           (None, 50)                3550      \n",
            "                                                                 \n",
            "=================================================================\n",
            "Total params: 32,420\n",
            "Trainable params: 32,420\n",
            "Non-trainable params: 0\n",
            "_________________________________________________________________\n"
          ]
        }
      ]
    },
    {
      "cell_type": "code",
      "source": [
        "checkpoint_path = 'cls-nn2.hdf5'\n",
        "checkpoint = ModelCheckpoint(\n",
        "    filepath=checkpoint_path,\n",
        "    save_freq='epoch',\n",
        "    save_weights_only=False,\n",
        "    verbose=1\n",
        ")"
      ],
      "metadata": {
        "id": "PTct_bVhIC3A"
      },
      "id": "PTct_bVhIC3A",
      "execution_count": 304,
      "outputs": []
    },
    {
      "cell_type": "code",
      "source": [
        "history_c2 = model_c2.fit(\n",
        "    X_train_up, \n",
        "    y_train_label, \n",
        "    epochs=60, \n",
        "    validation_split=0.20, \n",
        "    batch_size=10, \n",
        "    verbose=2,\n",
        "    callbacks=[early_stopping,checkpoint]\n",
        ")"
      ],
      "metadata": {
        "colab": {
          "base_uri": "https://localhost:8080/"
        },
        "id": "y4YripX-IDiP",
        "outputId": "5050e46d-44cb-4f9f-a29e-a5a178b0711c"
      },
      "id": "y4YripX-IDiP",
      "execution_count": 305,
      "outputs": [
        {
          "output_type": "stream",
          "name": "stdout",
          "text": [
            "Epoch 1/60\n",
            "\n",
            "Epoch 1: saving model to cls-nn2.hdf5\n",
            "385/385 - 1s - loss: 0.7750 - recall_m: 0.9002 - val_loss: 0.5207 - val_recall_m: 0.9274 - 1s/epoch - 4ms/step\n",
            "Epoch 2/60\n",
            "\n",
            "Epoch 2: saving model to cls-nn2.hdf5\n",
            "385/385 - 1s - loss: 1.0081 - recall_m: 0.5941 - val_loss: 3.5223 - val_recall_m: 0.0000e+00 - 724ms/epoch - 2ms/step\n",
            "Epoch 3/60\n",
            "\n",
            "Epoch 3: saving model to cls-nn2.hdf5\n",
            "385/385 - 1s - loss: 3.7170 - recall_m: 0.0000e+00 - val_loss: 3.3965 - val_recall_m: 0.0000e+00 - 651ms/epoch - 2ms/step\n",
            "Epoch 4/60\n",
            "\n",
            "Epoch 4: saving model to cls-nn2.hdf5\n",
            "385/385 - 1s - loss: 3.4044 - recall_m: 0.0000e+00 - val_loss: 3.4371 - val_recall_m: 0.0000e+00 - 677ms/epoch - 2ms/step\n",
            "Epoch 5/60\n",
            "\n",
            "Epoch 5: saving model to cls-nn2.hdf5\n",
            "385/385 - 1s - loss: 3.5230 - recall_m: 0.0000e+00 - val_loss: 3.6654 - val_recall_m: 0.0000e+00 - 719ms/epoch - 2ms/step\n",
            "Epoch 6/60\n",
            "\n",
            "Epoch 6: saving model to cls-nn2.hdf5\n",
            "385/385 - 1s - loss: 3.7018 - recall_m: 0.0000e+00 - val_loss: 3.6709 - val_recall_m: 0.0000e+00 - 634ms/epoch - 2ms/step\n"
          ]
        }
      ]
    },
    {
      "cell_type": "code",
      "source": [
        "plot_metric(history_c2,'loss')"
      ],
      "metadata": {
        "colab": {
          "base_uri": "https://localhost:8080/",
          "height": 295
        },
        "id": "FjvRWJGsID74",
        "outputId": "dc4431c3-fac5-4f17-b373-b65b39c94ec3"
      },
      "id": "FjvRWJGsID74",
      "execution_count": 306,
      "outputs": [
        {
          "output_type": "display_data",
          "data": {
            "text/plain": [
              "<Figure size 432x288 with 1 Axes>"
            ],
            "image/png": "[encoded data removed]"
          },
          "metadata": {
            "needs_background": "light"
          }
        }
      ]
    },
    {
      "cell_type": "code",
      "source": [
        "y_pred_train_c2 = model_c2.predict(X_train_up) # This provides the probability for each class\n",
        "y_pred_test_c2  = model_c2.predict(X_test) # This provides the probability for each class\n",
        "\n",
        "# We need to extract for each row which is the class which the highest probability\n",
        "# which corresponds to the index of the sublist\n",
        "y_pred_train_c2 = np.argmax(y_pred_train_c2, axis=1).reshape(-1,1)\n",
        "y_pred_test_c2  = np.argmax(y_pred_test_c2, axis=1).reshape(-1,1)\n",
        "\n",
        "model_performance_class(y_train_label, y_pred_train_c2, y_test_label, y_pred_test_c2)"
      ],
      "metadata": {
        "colab": {
          "base_uri": "https://localhost:8080/"
        },
        "id": "rlFBvELtIEWz",
        "outputId": "abec1332-13ee-4f1b-a1bc-465d13048590"
      },
      "id": "rlFBvELtIEWz",
      "execution_count": 307,
      "outputs": [
        {
          "output_type": "stream",
          "name": "stdout",
          "text": [
            "Results obtained for the TRAIN SET\n",
            "==================================\n",
            "The Cohen's Kappa is: 0.01\n",
            "              precision    recall  f1-score   support\n",
            "\n",
            "           0       0.50      1.00      0.67      2403\n",
            "           1       1.00      0.01      0.01      2403\n",
            "\n",
            "    accuracy                           0.50      4806\n",
            "   macro avg       0.75      0.50      0.34      4806\n",
            "weighted avg       0.75      0.50      0.34      4806\n",
            "\n",
            "==================================\n",
            "Results obtained for the TEST SET\n",
            "The Cohen's Kappa is: 0.00\n",
            "              precision    recall  f1-score   support\n",
            "\n",
            "           0       0.32      1.00      0.49       285\n",
            "           1       1.00      0.01      0.01       600\n",
            "\n",
            "    accuracy                           0.33       885\n",
            "   macro avg       0.66      0.50      0.25       885\n",
            "weighted avg       0.78      0.33      0.17       885\n",
            "\n"
          ]
        }
      ]
    }
  ],
  "metadata": {
    "kernelspec": {
      "display_name": "Python 3 (ipykernel)",
      "language": "python",
      "name": "python3"
    },
    "language_info": {
      "codemirror_mode": {
        "name": "ipython",
        "version": 3
      },
      "file_extension": ".py",
      "mimetype": "text/x-python",
      "name": "python",
      "nbconvert_exporter": "python",
      "pygments_lexer": "ipython3",
      "version": "3.9.7"
    },
    "toc": {
      "base_numbering": 1,
      "nav_menu": {},
      "number_sections": true,
      "sideBar": true,
      "skip_h1_title": false,
      "title_cell": "Table of Contents",
      "title_sidebar": "Contents",
      "toc_cell": false,
      "toc_position": {},
      "toc_section_display": true,
      "toc_window_display": true
    },
    "varInspector": {
      "cols": {
        "lenName": 16,
        "lenType": 16,
        "lenVar": 40
      },
      "kernels_config": {
        "python": {
          "delete_cmd_postfix": "",
          "delete_cmd_prefix": "del ",
          "library": "var_list.py",
          "varRefreshCmd": "print(var_dic_list())"
        },
        "r": {
          "delete_cmd_postfix": ") ",
          "delete_cmd_prefix": "rm(",
          "library": "var_list.r",
          "varRefreshCmd": "cat(var_dic_list()) "
        }
      },
      "types_to_exclude": [
        "module",
        "function",
        "builtin_function_or_method",
        "instance",
        "_Feature"
      ],
      "window_display": false
    },
    "colab": {
      "name": "Final_Project_Vr0.1.ipynb",
      "provenance": [],
      "toc_visible": true,
      "include_colab_link": true
    }
  },
  "nbformat": 4,
  "nbformat_minor": 5
}